{
  "nbformat": 4,
  "nbformat_minor": 0,
  "metadata": {
    "colab": {
      "name": "Final_Balanced_RF_Provisional",
      "provenance": [],
      "collapsed_sections": []
    },
    "kernelspec": {
      "name": "python3",
      "display_name": "Python 3"
    },
    "language_info": {
      "name": "python"
    }
  },
  "cells": [
    {
      "cell_type": "code",
      "metadata": {
        "id": "8CFbkLJ54w1M"
      },
      "source": [
        "import pandas as pd\n",
        "import numpy as np\n",
        "import matplotlib as mpl\n",
        "import matplotlib.pyplot as plt\n",
        "import graphviz\n",
        "from sklearn.metrics import plot_roc_curve\n",
        "import tensorflow as tf\n",
        "from sklearn.metrics import confusion_matrix, average_precision_score, accuracy_score\n",
        "from sklearn.metrics import classification_report\n",
        "from sklearn.metrics import cohen_kappa_score\n",
        "#Import the packages that will likely be required based on the guides followed\n",
        "%matplotlib inline"
      ],
      "execution_count": 1,
      "outputs": []
    },
    {
      "cell_type": "code",
      "metadata": {
        "id": "y25vUJqT5N1a"
      },
      "source": [
        "from sklearn.model_selection import train_test_split\n",
        "from sklearn.tree import DecisionTreeRegressor, DecisionTreeClassifier, export_graphviz\n",
        "from sklearn.ensemble import RandomForestRegressor, GradientBoostingRegressor, RandomForestClassifier\n",
        "from sklearn.metrics import confusion_matrix, mean_squared_error"
      ],
      "execution_count": 2,
      "outputs": []
    },
    {
      "cell_type": "code",
      "metadata": {
        "colab": {
          "resources": {
            "http://localhost:8080/nbextensions/google.colab/files.js": {
              "data": "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",
              "ok": true,
              "headers": [
                [
                  "content-type",
                  "application/javascript"
                ]
              ],
              "status": 200,
              "status_text": ""
            }
          },
          "base_uri": "https://localhost:8080/",
          "height": 39
        },
        "id": "eOQjSQvY5bty",
        "outputId": "37438198-1abd-41f8-92ca-cd5102cbd85e"
      },
      "source": [
        "from google.colab import files#Only needed if you are working on Colab, choose the file you are using, otherwise, ignore this block of code if you are working in a directory where the file is already present\n",
        "uploaded = files.upload()"
      ],
      "execution_count": 3,
      "outputs": [
        {
          "output_type": "display_data",
          "data": {
            "text/html": [
              "\n",
              "     <input type=\"file\" id=\"files-123024d7-f0d9-4360-bc6c-e5f81d0210f4\" name=\"files[]\" multiple disabled\n",
              "        style=\"border:none\" />\n",
              "     <output id=\"result-123024d7-f0d9-4360-bc6c-e5f81d0210f4\">\n",
              "      Upload widget is only available when the cell has been executed in the\n",
              "      current browser session. Please rerun this cell to enable.\n",
              "      </output>\n",
              "      <script src=\"/nbextensions/google.colab/files.js\"></script> "
            ],
            "text/plain": [
              "<IPython.core.display.HTML object>"
            ]
          },
          "metadata": {}
        }
      ]
    },
    {
      "cell_type": "code",
      "metadata": {
        "colab": {
          "base_uri": "https://localhost:8080/",
          "height": 342
        },
        "id": "yJQJ2JLs5N4v",
        "outputId": "de7a495f-b86b-4835-99c1-6b20c3ab9135"
      },
      "source": [
        "features = pd.read_csv('balanced.csv')#Read the file\n",
        "features.head(5)#Print the first five lines"
      ],
      "execution_count": 4,
      "outputs": [
        {
          "output_type": "execute_result",
          "data": {
            "text/html": [
              "<div>\n",
              "<style scoped>\n",
              "    .dataframe tbody tr th:only-of-type {\n",
              "        vertical-align: middle;\n",
              "    }\n",
              "\n",
              "    .dataframe tbody tr th {\n",
              "        vertical-align: top;\n",
              "    }\n",
              "\n",
              "    .dataframe thead th {\n",
              "        text-align: right;\n",
              "    }\n",
              "</style>\n",
              "<table border=\"1\" class=\"dataframe\">\n",
              "  <thead>\n",
              "    <tr style=\"text-align: right;\">\n",
              "      <th></th>\n",
              "      <th>cid</th>\n",
              "      <th>acvalue</th>\n",
              "      <th>smiles</th>\n",
              "      <th>Activity</th>\n",
              "      <th>nAcid</th>\n",
              "      <th>ALogP</th>\n",
              "      <th>ALogp2</th>\n",
              "      <th>AMR</th>\n",
              "      <th>apol</th>\n",
              "      <th>naAromAtom</th>\n",
              "      <th>nAromBond</th>\n",
              "      <th>nAtom</th>\n",
              "      <th>nHeavyAtom</th>\n",
              "      <th>nH</th>\n",
              "      <th>nB</th>\n",
              "      <th>nC</th>\n",
              "      <th>nN</th>\n",
              "      <th>nO</th>\n",
              "      <th>nS</th>\n",
              "      <th>nP</th>\n",
              "      <th>nF</th>\n",
              "      <th>nCl</th>\n",
              "      <th>nBr</th>\n",
              "      <th>nI</th>\n",
              "      <th>nX</th>\n",
              "      <th>ATS0m</th>\n",
              "      <th>ATS1m</th>\n",
              "      <th>ATS2m</th>\n",
              "      <th>ATS3m</th>\n",
              "      <th>ATS4m</th>\n",
              "      <th>ATS5m</th>\n",
              "      <th>ATS6m</th>\n",
              "      <th>ATS7m</th>\n",
              "      <th>ATS8m</th>\n",
              "      <th>ATS0v</th>\n",
              "      <th>ATS1v</th>\n",
              "      <th>ATS2v</th>\n",
              "      <th>ATS3v</th>\n",
              "      <th>ATS4v</th>\n",
              "      <th>ATS5v</th>\n",
              "      <th>...</th>\n",
              "      <th>De</th>\n",
              "      <th>L1p</th>\n",
              "      <th>L2p</th>\n",
              "      <th>L3p</th>\n",
              "      <th>P1p</th>\n",
              "      <th>P2p</th>\n",
              "      <th>E1p</th>\n",
              "      <th>E2p</th>\n",
              "      <th>E3p</th>\n",
              "      <th>Tp</th>\n",
              "      <th>Ap</th>\n",
              "      <th>Vp</th>\n",
              "      <th>Kp</th>\n",
              "      <th>Dp</th>\n",
              "      <th>L1i</th>\n",
              "      <th>L2i</th>\n",
              "      <th>L3i</th>\n",
              "      <th>P1i</th>\n",
              "      <th>P2i</th>\n",
              "      <th>E1i</th>\n",
              "      <th>E2i</th>\n",
              "      <th>E3i</th>\n",
              "      <th>Ti</th>\n",
              "      <th>Ai</th>\n",
              "      <th>Vi</th>\n",
              "      <th>Ki</th>\n",
              "      <th>Di</th>\n",
              "      <th>L1s</th>\n",
              "      <th>L2s</th>\n",
              "      <th>L3s</th>\n",
              "      <th>P1s</th>\n",
              "      <th>P2s</th>\n",
              "      <th>E1s</th>\n",
              "      <th>E2s</th>\n",
              "      <th>E3s</th>\n",
              "      <th>Ts</th>\n",
              "      <th>As</th>\n",
              "      <th>Vs</th>\n",
              "      <th>Ks</th>\n",
              "      <th>Ds</th>\n",
              "    </tr>\n",
              "  </thead>\n",
              "  <tbody>\n",
              "    <tr>\n",
              "      <th>0</th>\n",
              "      <td>225100</td>\n",
              "      <td>4.0000</td>\n",
              "      <td>O=C(O)CSc1nc2cc(Cl)c(Cl)cc2[nH]1</td>\n",
              "      <td>inactive</td>\n",
              "      <td>1</td>\n",
              "      <td>1.2172</td>\n",
              "      <td>1.481576</td>\n",
              "      <td>34.1060</td>\n",
              "      <td>30.904758</td>\n",
              "      <td>9</td>\n",
              "      <td>10</td>\n",
              "      <td>22</td>\n",
              "      <td>16</td>\n",
              "      <td>6</td>\n",
              "      <td>0</td>\n",
              "      <td>9</td>\n",
              "      <td>2</td>\n",
              "      <td>2</td>\n",
              "      <td>1</td>\n",
              "      <td>0</td>\n",
              "      <td>0.0</td>\n",
              "      <td>2.0</td>\n",
              "      <td>0.0</td>\n",
              "      <td>0.0</td>\n",
              "      <td>2.0</td>\n",
              "      <td>4866.470694</td>\n",
              "      <td>3285.911675</td>\n",
              "      <td>5125.915532</td>\n",
              "      <td>5823.261916</td>\n",
              "      <td>4023.627644</td>\n",
              "      <td>3755.414546</td>\n",
              "      <td>2366.160564</td>\n",
              "      <td>2010.701122</td>\n",
              "      <td>1851.892400</td>\n",
              "      <td>6349.023301</td>\n",
              "      <td>7253.070731</td>\n",
              "      <td>10367.565415</td>\n",
              "      <td>10340.266164</td>\n",
              "      <td>7838.209328</td>\n",
              "      <td>6365.402729</td>\n",
              "      <td>...</td>\n",
              "      <td>1.413581</td>\n",
              "      <td>11.445241</td>\n",
              "      <td>1.176596</td>\n",
              "      <td>0.258144</td>\n",
              "      <td>0.888607</td>\n",
              "      <td>0.091351</td>\n",
              "      <td>0.563188</td>\n",
              "      <td>0.284529</td>\n",
              "      <td>0.217283</td>\n",
              "      <td>12.879982</td>\n",
              "      <td>16.724678</td>\n",
              "      <td>33.080940</td>\n",
              "      <td>0.832910</td>\n",
              "      <td>1.065000</td>\n",
              "      <td>11.312779</td>\n",
              "      <td>1.437079</td>\n",
              "      <td>0.345254</td>\n",
              "      <td>0.863893</td>\n",
              "      <td>0.109742</td>\n",
              "      <td>0.548770</td>\n",
              "      <td>0.423822</td>\n",
              "      <td>0.448298</td>\n",
              "      <td>13.095112</td>\n",
              "      <td>20.659296</td>\n",
              "      <td>39.367328</td>\n",
              "      <td>0.795840</td>\n",
              "      <td>1.420891</td>\n",
              "      <td>11.688495</td>\n",
              "      <td>1.325009</td>\n",
              "      <td>0.348914</td>\n",
              "      <td>0.874729</td>\n",
              "      <td>0.099159</td>\n",
              "      <td>0.585817</td>\n",
              "      <td>0.360563</td>\n",
              "      <td>0.458213</td>\n",
              "      <td>13.362418</td>\n",
              "      <td>20.027951</td>\n",
              "      <td>38.794126</td>\n",
              "      <td>0.812094</td>\n",
              "      <td>1.404593</td>\n",
              "    </tr>\n",
              "    <tr>\n",
              "      <th>1</th>\n",
              "      <td>1825716</td>\n",
              "      <td>0.5500</td>\n",
              "      <td>Cc1ccc(OCCSc2ncccn2)c(Br)c1</td>\n",
              "      <td>inactive</td>\n",
              "      <td>0</td>\n",
              "      <td>1.9905</td>\n",
              "      <td>3.962090</td>\n",
              "      <td>32.9382</td>\n",
              "      <td>40.500309</td>\n",
              "      <td>12</td>\n",
              "      <td>12</td>\n",
              "      <td>31</td>\n",
              "      <td>18</td>\n",
              "      <td>13</td>\n",
              "      <td>0</td>\n",
              "      <td>13</td>\n",
              "      <td>2</td>\n",
              "      <td>1</td>\n",
              "      <td>1</td>\n",
              "      <td>0</td>\n",
              "      <td>0.0</td>\n",
              "      <td>0.0</td>\n",
              "      <td>1.0</td>\n",
              "      <td>0.0</td>\n",
              "      <td>1.0</td>\n",
              "      <td>9065.915841</td>\n",
              "      <td>3905.568826</td>\n",
              "      <td>5680.398994</td>\n",
              "      <td>6633.296591</td>\n",
              "      <td>5370.358053</td>\n",
              "      <td>3698.544856</td>\n",
              "      <td>3127.935587</td>\n",
              "      <td>2890.234735</td>\n",
              "      <td>4082.689219</td>\n",
              "      <td>7739.752888</td>\n",
              "      <td>9009.086446</td>\n",
              "      <td>12129.769040</td>\n",
              "      <td>12295.294407</td>\n",
              "      <td>10303.119687</td>\n",
              "      <td>8950.141038</td>\n",
              "      <td>...</td>\n",
              "      <td>1.434107</td>\n",
              "      <td>16.154816</td>\n",
              "      <td>1.937974</td>\n",
              "      <td>0.569152</td>\n",
              "      <td>0.865656</td>\n",
              "      <td>0.103846</td>\n",
              "      <td>0.482243</td>\n",
              "      <td>0.533074</td>\n",
              "      <td>0.208126</td>\n",
              "      <td>18.661941</td>\n",
              "      <td>41.605152</td>\n",
              "      <td>78.085876</td>\n",
              "      <td>0.798484</td>\n",
              "      <td>1.223443</td>\n",
              "      <td>17.856844</td>\n",
              "      <td>1.913562</td>\n",
              "      <td>0.790178</td>\n",
              "      <td>0.868499</td>\n",
              "      <td>0.093069</td>\n",
              "      <td>0.589039</td>\n",
              "      <td>0.508048</td>\n",
              "      <td>0.436256</td>\n",
              "      <td>20.560585</td>\n",
              "      <td>49.792328</td>\n",
              "      <td>97.353445</td>\n",
              "      <td>0.802748</td>\n",
              "      <td>1.533343</td>\n",
              "      <td>17.690543</td>\n",
              "      <td>1.835237</td>\n",
              "      <td>0.746796</td>\n",
              "      <td>0.872634</td>\n",
              "      <td>0.090528</td>\n",
              "      <td>0.578062</td>\n",
              "      <td>0.470886</td>\n",
              "      <td>0.395607</td>\n",
              "      <td>20.272577</td>\n",
              "      <td>47.048120</td>\n",
              "      <td>91.566431</td>\n",
              "      <td>0.808951</td>\n",
              "      <td>1.444554</td>\n",
              "    </tr>\n",
              "    <tr>\n",
              "      <th>2</th>\n",
              "      <td>11679800</td>\n",
              "      <td>0.0168</td>\n",
              "      <td>CC(C)=CCC[C@](C)(O[C@@H]1O[C@H](CO)[C@@H](O)[C...</td>\n",
              "      <td>active</td>\n",
              "      <td>1</td>\n",
              "      <td>0.5752</td>\n",
              "      <td>0.330855</td>\n",
              "      <td>29.2113</td>\n",
              "      <td>31.098344</td>\n",
              "      <td>9</td>\n",
              "      <td>10</td>\n",
              "      <td>24</td>\n",
              "      <td>16</td>\n",
              "      <td>8</td>\n",
              "      <td>0</td>\n",
              "      <td>10</td>\n",
              "      <td>2</td>\n",
              "      <td>2</td>\n",
              "      <td>0</td>\n",
              "      <td>0</td>\n",
              "      <td>0.0</td>\n",
              "      <td>2.0</td>\n",
              "      <td>0.0</td>\n",
              "      <td>0.0</td>\n",
              "      <td>2.0</td>\n",
              "      <td>4868.502822</td>\n",
              "      <td>3310.125851</td>\n",
              "      <td>5175.359948</td>\n",
              "      <td>5908.016572</td>\n",
              "      <td>4138.596092</td>\n",
              "      <td>3805.875026</td>\n",
              "      <td>2418.653172</td>\n",
              "      <td>2153.635522</td>\n",
              "      <td>1851.892400</td>\n",
              "      <td>6411.190790</td>\n",
              "      <td>7482.543964</td>\n",
              "      <td>10857.595624</td>\n",
              "      <td>11041.939075</td>\n",
              "      <td>8687.377805</td>\n",
              "      <td>6886.516683</td>\n",
              "      <td>...</td>\n",
              "      <td>1.303480</td>\n",
              "      <td>11.450959</td>\n",
              "      <td>1.168955</td>\n",
              "      <td>0.327426</td>\n",
              "      <td>0.884426</td>\n",
              "      <td>0.090285</td>\n",
              "      <td>0.619005</td>\n",
              "      <td>0.292564</td>\n",
              "      <td>0.145712</td>\n",
              "      <td>12.947340</td>\n",
              "      <td>17.517751</td>\n",
              "      <td>34.847909</td>\n",
              "      <td>0.826638</td>\n",
              "      <td>1.057281</td>\n",
              "      <td>10.717133</td>\n",
              "      <td>1.409146</td>\n",
              "      <td>0.506650</td>\n",
              "      <td>0.848349</td>\n",
              "      <td>0.111545</td>\n",
              "      <td>0.540422</td>\n",
              "      <td>0.426244</td>\n",
              "      <td>0.372027</td>\n",
              "      <td>12.632930</td>\n",
              "      <td>21.245790</td>\n",
              "      <td>41.530153</td>\n",
              "      <td>0.772523</td>\n",
              "      <td>1.338693</td>\n",
              "      <td>10.934821</td>\n",
              "      <td>1.303764</td>\n",
              "      <td>0.486393</td>\n",
              "      <td>0.859319</td>\n",
              "      <td>0.102457</td>\n",
              "      <td>0.562681</td>\n",
              "      <td>0.366310</td>\n",
              "      <td>0.342588</td>\n",
              "      <td>12.724978</td>\n",
              "      <td>20.209189</td>\n",
              "      <td>39.868393</td>\n",
              "      <td>0.788979</td>\n",
              "      <td>1.271579</td>\n",
              "    </tr>\n",
              "    <tr>\n",
              "      <th>3</th>\n",
              "      <td>14162967</td>\n",
              "      <td>0.0168</td>\n",
              "      <td>CC(C)=CCC[C@](C)(O[C@@H]1O[C@H](CO)[C@@H](O)[C...</td>\n",
              "      <td>active</td>\n",
              "      <td>0</td>\n",
              "      <td>0.8200</td>\n",
              "      <td>0.672400</td>\n",
              "      <td>134.7535</td>\n",
              "      <td>90.681236</td>\n",
              "      <td>0</td>\n",
              "      <td>0</td>\n",
              "      <td>86</td>\n",
              "      <td>34</td>\n",
              "      <td>52</td>\n",
              "      <td>0</td>\n",
              "      <td>30</td>\n",
              "      <td>0</td>\n",
              "      <td>4</td>\n",
              "      <td>0</td>\n",
              "      <td>0</td>\n",
              "      <td>0.0</td>\n",
              "      <td>0.0</td>\n",
              "      <td>0.0</td>\n",
              "      <td>0.0</td>\n",
              "      <td>0.0</td>\n",
              "      <td>5404.630962</td>\n",
              "      <td>6175.020141</td>\n",
              "      <td>10569.200499</td>\n",
              "      <td>13928.758477</td>\n",
              "      <td>13530.953189</td>\n",
              "      <td>12097.098300</td>\n",
              "      <td>10334.456402</td>\n",
              "      <td>9302.450418</td>\n",
              "      <td>8506.558222</td>\n",
              "      <td>15187.424871</td>\n",
              "      <td>21022.387874</td>\n",
              "      <td>36014.128236</td>\n",
              "      <td>51007.246921</td>\n",
              "      <td>57789.310825</td>\n",
              "      <td>54153.421222</td>\n",
              "      <td>...</td>\n",
              "      <td>1.462925</td>\n",
              "      <td>13.356831</td>\n",
              "      <td>4.713860</td>\n",
              "      <td>1.551971</td>\n",
              "      <td>0.680684</td>\n",
              "      <td>0.240225</td>\n",
              "      <td>0.480137</td>\n",
              "      <td>0.404662</td>\n",
              "      <td>0.310977</td>\n",
              "      <td>19.622663</td>\n",
              "      <td>91.007428</td>\n",
              "      <td>208.345661</td>\n",
              "      <td>0.521026</td>\n",
              "      <td>1.195776</td>\n",
              "      <td>14.202111</td>\n",
              "      <td>5.192340</td>\n",
              "      <td>1.924706</td>\n",
              "      <td>0.666167</td>\n",
              "      <td>0.243553</td>\n",
              "      <td>0.542372</td>\n",
              "      <td>0.492669</td>\n",
              "      <td>0.478277</td>\n",
              "      <td>21.319157</td>\n",
              "      <td>111.070800</td>\n",
              "      <td>274.321969</td>\n",
              "      <td>0.499250</td>\n",
              "      <td>1.513318</td>\n",
              "      <td>14.162502</td>\n",
              "      <td>5.110835</td>\n",
              "      <td>1.876100</td>\n",
              "      <td>0.669640</td>\n",
              "      <td>0.241653</td>\n",
              "      <td>0.539443</td>\n",
              "      <td>0.477526</td>\n",
              "      <td>0.454229</td>\n",
              "      <td>21.149437</td>\n",
              "      <td>108.540907</td>\n",
              "      <td>265.486570</td>\n",
              "      <td>0.504460</td>\n",
              "      <td>1.471197</td>\n",
              "    </tr>\n",
              "    <tr>\n",
              "      <th>4</th>\n",
              "      <td>14525327</td>\n",
              "      <td>3.0000</td>\n",
              "      <td>C[C@H](CC[C@@H](O)C(C)(C)O)[C@H]1CC[C@@]2(C)[C...</td>\n",
              "      <td>inactive</td>\n",
              "      <td>1</td>\n",
              "      <td>0.5720</td>\n",
              "      <td>0.327184</td>\n",
              "      <td>23.2561</td>\n",
              "      <td>66.975067</td>\n",
              "      <td>27</td>\n",
              "      <td>30</td>\n",
              "      <td>52</td>\n",
              "      <td>33</td>\n",
              "      <td>19</td>\n",
              "      <td>0</td>\n",
              "      <td>27</td>\n",
              "      <td>2</td>\n",
              "      <td>3</td>\n",
              "      <td>0</td>\n",
              "      <td>0</td>\n",
              "      <td>0.0</td>\n",
              "      <td>1.0</td>\n",
              "      <td>0.0</td>\n",
              "      <td>0.0</td>\n",
              "      <td>1.0</td>\n",
              "      <td>6331.435084</td>\n",
              "      <td>6142.860146</td>\n",
              "      <td>9234.538103</td>\n",
              "      <td>9868.519933</td>\n",
              "      <td>9714.146137</td>\n",
              "      <td>9004.759376</td>\n",
              "      <td>7164.482540</td>\n",
              "      <td>7034.156940</td>\n",
              "      <td>7315.727153</td>\n",
              "      <td>13665.319127</td>\n",
              "      <td>16934.930973</td>\n",
              "      <td>24849.027523</td>\n",
              "      <td>27613.596117</td>\n",
              "      <td>26181.310788</td>\n",
              "      <td>23695.728859</td>\n",
              "      <td>...</td>\n",
              "      <td>1.562560</td>\n",
              "      <td>32.678344</td>\n",
              "      <td>1.875418</td>\n",
              "      <td>1.309409</td>\n",
              "      <td>0.911195</td>\n",
              "      <td>0.052294</td>\n",
              "      <td>0.519289</td>\n",
              "      <td>0.277799</td>\n",
              "      <td>0.326617</td>\n",
              "      <td>35.863171</td>\n",
              "      <td>106.530578</td>\n",
              "      <td>222.641628</td>\n",
              "      <td>0.866793</td>\n",
              "      <td>1.123705</td>\n",
              "      <td>35.436934</td>\n",
              "      <td>2.242259</td>\n",
              "      <td>1.712113</td>\n",
              "      <td>0.899613</td>\n",
              "      <td>0.056923</td>\n",
              "      <td>0.609762</td>\n",
              "      <td>0.443232</td>\n",
              "      <td>0.586587</td>\n",
              "      <td>39.391306</td>\n",
              "      <td>143.969814</td>\n",
              "      <td>319.403533</td>\n",
              "      <td>0.849420</td>\n",
              "      <td>1.639581</td>\n",
              "      <td>35.140178</td>\n",
              "      <td>2.228841</td>\n",
              "      <td>1.614423</td>\n",
              "      <td>0.901413</td>\n",
              "      <td>0.057174</td>\n",
              "      <td>0.600107</td>\n",
              "      <td>0.432198</td>\n",
              "      <td>0.526542</td>\n",
              "      <td>38.983441</td>\n",
              "      <td>138.651258</td>\n",
              "      <td>304.079293</td>\n",
              "      <td>0.852119</td>\n",
              "      <td>1.558847</td>\n",
              "    </tr>\n",
              "  </tbody>\n",
              "</table>\n",
              "<p>5 rows × 1879 columns</p>\n",
              "</div>"
            ],
            "text/plain": [
              "        cid  acvalue  ...        Ks        Ds\n",
              "0    225100   4.0000  ...  0.812094  1.404593\n",
              "1   1825716   0.5500  ...  0.808951  1.444554\n",
              "2  11679800   0.0168  ...  0.788979  1.271579\n",
              "3  14162967   0.0168  ...  0.504460  1.471197\n",
              "4  14525327   3.0000  ...  0.852119  1.558847\n",
              "\n",
              "[5 rows x 1879 columns]"
            ]
          },
          "metadata": {},
          "execution_count": 4
        }
      ]
    },
    {
      "cell_type": "code",
      "metadata": {
        "colab": {
          "base_uri": "https://localhost:8080/"
        },
        "id": "SPbZBP1O5N72",
        "outputId": "3f5f79c5-ec24-4baf-b0e8-3e766c559bf6"
      },
      "source": [
        "print('The shape of our features is:', features.shape)#Dimension of the dataset"
      ],
      "execution_count": 5,
      "outputs": [
        {
          "output_type": "stream",
          "name": "stdout",
          "text": [
            "The shape of our features is: (292, 1879)\n"
          ]
        }
      ]
    },
    {
      "cell_type": "code",
      "metadata": {
        "colab": {
          "base_uri": "https://localhost:8080/",
          "height": 350
        },
        "id": "xK4Zq2wM5N-j",
        "outputId": "df4cb086-77cc-4e28-c451-26c8cf969d78"
      },
      "source": [
        "features.describe()#Equivalent to summary function on R"
      ],
      "execution_count": 6,
      "outputs": [
        {
          "output_type": "execute_result",
          "data": {
            "text/html": [
              "<div>\n",
              "<style scoped>\n",
              "    .dataframe tbody tr th:only-of-type {\n",
              "        vertical-align: middle;\n",
              "    }\n",
              "\n",
              "    .dataframe tbody tr th {\n",
              "        vertical-align: top;\n",
              "    }\n",
              "\n",
              "    .dataframe thead th {\n",
              "        text-align: right;\n",
              "    }\n",
              "</style>\n",
              "<table border=\"1\" class=\"dataframe\">\n",
              "  <thead>\n",
              "    <tr style=\"text-align: right;\">\n",
              "      <th></th>\n",
              "      <th>cid</th>\n",
              "      <th>acvalue</th>\n",
              "      <th>nAcid</th>\n",
              "      <th>ALogP</th>\n",
              "      <th>ALogp2</th>\n",
              "      <th>AMR</th>\n",
              "      <th>apol</th>\n",
              "      <th>naAromAtom</th>\n",
              "      <th>nAromBond</th>\n",
              "      <th>nAtom</th>\n",
              "      <th>nHeavyAtom</th>\n",
              "      <th>nH</th>\n",
              "      <th>nB</th>\n",
              "      <th>nC</th>\n",
              "      <th>nN</th>\n",
              "      <th>nO</th>\n",
              "      <th>nS</th>\n",
              "      <th>nP</th>\n",
              "      <th>nF</th>\n",
              "      <th>nCl</th>\n",
              "      <th>nBr</th>\n",
              "      <th>nI</th>\n",
              "      <th>nX</th>\n",
              "      <th>ATS0m</th>\n",
              "      <th>ATS1m</th>\n",
              "      <th>ATS2m</th>\n",
              "      <th>ATS3m</th>\n",
              "      <th>ATS4m</th>\n",
              "      <th>ATS5m</th>\n",
              "      <th>ATS6m</th>\n",
              "      <th>ATS7m</th>\n",
              "      <th>ATS8m</th>\n",
              "      <th>ATS0v</th>\n",
              "      <th>ATS1v</th>\n",
              "      <th>ATS2v</th>\n",
              "      <th>ATS3v</th>\n",
              "      <th>ATS4v</th>\n",
              "      <th>ATS5v</th>\n",
              "      <th>ATS6v</th>\n",
              "      <th>ATS7v</th>\n",
              "      <th>...</th>\n",
              "      <th>De</th>\n",
              "      <th>L1p</th>\n",
              "      <th>L2p</th>\n",
              "      <th>L3p</th>\n",
              "      <th>P1p</th>\n",
              "      <th>P2p</th>\n",
              "      <th>E1p</th>\n",
              "      <th>E2p</th>\n",
              "      <th>E3p</th>\n",
              "      <th>Tp</th>\n",
              "      <th>Ap</th>\n",
              "      <th>Vp</th>\n",
              "      <th>Kp</th>\n",
              "      <th>Dp</th>\n",
              "      <th>L1i</th>\n",
              "      <th>L2i</th>\n",
              "      <th>L3i</th>\n",
              "      <th>P1i</th>\n",
              "      <th>P2i</th>\n",
              "      <th>E1i</th>\n",
              "      <th>E2i</th>\n",
              "      <th>E3i</th>\n",
              "      <th>Ti</th>\n",
              "      <th>Ai</th>\n",
              "      <th>Vi</th>\n",
              "      <th>Ki</th>\n",
              "      <th>Di</th>\n",
              "      <th>L1s</th>\n",
              "      <th>L2s</th>\n",
              "      <th>L3s</th>\n",
              "      <th>P1s</th>\n",
              "      <th>P2s</th>\n",
              "      <th>E1s</th>\n",
              "      <th>E2s</th>\n",
              "      <th>E3s</th>\n",
              "      <th>Ts</th>\n",
              "      <th>As</th>\n",
              "      <th>Vs</th>\n",
              "      <th>Ks</th>\n",
              "      <th>Ds</th>\n",
              "    </tr>\n",
              "  </thead>\n",
              "  <tbody>\n",
              "    <tr>\n",
              "      <th>count</th>\n",
              "      <td>2.920000e+02</td>\n",
              "      <td>292.000000</td>\n",
              "      <td>292.000000</td>\n",
              "      <td>292.000000</td>\n",
              "      <td>292.000000</td>\n",
              "      <td>292.000000</td>\n",
              "      <td>292.000000</td>\n",
              "      <td>292.000000</td>\n",
              "      <td>292.000000</td>\n",
              "      <td>292.000000</td>\n",
              "      <td>292.000000</td>\n",
              "      <td>292.000000</td>\n",
              "      <td>292.0</td>\n",
              "      <td>292.000000</td>\n",
              "      <td>292.000000</td>\n",
              "      <td>292.000000</td>\n",
              "      <td>292.000000</td>\n",
              "      <td>292.000000</td>\n",
              "      <td>292.000000</td>\n",
              "      <td>292.000000</td>\n",
              "      <td>292.000000</td>\n",
              "      <td>292.0</td>\n",
              "      <td>292.000000</td>\n",
              "      <td>292.000000</td>\n",
              "      <td>292.000000</td>\n",
              "      <td>292.000000</td>\n",
              "      <td>292.000000</td>\n",
              "      <td>292.000000</td>\n",
              "      <td>292.000000</td>\n",
              "      <td>292.000000</td>\n",
              "      <td>292.000000</td>\n",
              "      <td>292.000000</td>\n",
              "      <td>292.000000</td>\n",
              "      <td>292.000000</td>\n",
              "      <td>292.000000</td>\n",
              "      <td>292.000000</td>\n",
              "      <td>292.000000</td>\n",
              "      <td>292.000000</td>\n",
              "      <td>292.000000</td>\n",
              "      <td>292.000000</td>\n",
              "      <td>...</td>\n",
              "      <td>292.000000</td>\n",
              "      <td>292.000000</td>\n",
              "      <td>292.000000</td>\n",
              "      <td>292.000000</td>\n",
              "      <td>292.000000</td>\n",
              "      <td>292.000000</td>\n",
              "      <td>292.000000</td>\n",
              "      <td>292.000000</td>\n",
              "      <td>292.000000</td>\n",
              "      <td>292.000000</td>\n",
              "      <td>292.000000</td>\n",
              "      <td>292.000000</td>\n",
              "      <td>292.000000</td>\n",
              "      <td>292.000000</td>\n",
              "      <td>292.000000</td>\n",
              "      <td>292.000000</td>\n",
              "      <td>292.000000</td>\n",
              "      <td>292.000000</td>\n",
              "      <td>292.000000</td>\n",
              "      <td>292.000000</td>\n",
              "      <td>292.000000</td>\n",
              "      <td>292.000000</td>\n",
              "      <td>292.000000</td>\n",
              "      <td>292.000000</td>\n",
              "      <td>292.000000</td>\n",
              "      <td>292.000000</td>\n",
              "      <td>292.000000</td>\n",
              "      <td>292.000000</td>\n",
              "      <td>292.000000</td>\n",
              "      <td>292.000000</td>\n",
              "      <td>292.000000</td>\n",
              "      <td>292.000000</td>\n",
              "      <td>292.000000</td>\n",
              "      <td>292.000000</td>\n",
              "      <td>292.000000</td>\n",
              "      <td>292.000000</td>\n",
              "      <td>292.000000</td>\n",
              "      <td>292.000000</td>\n",
              "      <td>292.000000</td>\n",
              "      <td>292.000000</td>\n",
              "    </tr>\n",
              "    <tr>\n",
              "      <th>mean</th>\n",
              "      <td>9.311034e+07</td>\n",
              "      <td>0.984303</td>\n",
              "      <td>0.780822</td>\n",
              "      <td>-0.289388</td>\n",
              "      <td>0.641622</td>\n",
              "      <td>46.318243</td>\n",
              "      <td>58.987878</td>\n",
              "      <td>15.839041</td>\n",
              "      <td>18.017123</td>\n",
              "      <td>48.907534</td>\n",
              "      <td>28.397260</td>\n",
              "      <td>20.510274</td>\n",
              "      <td>0.0</td>\n",
              "      <td>21.527397</td>\n",
              "      <td>2.212329</td>\n",
              "      <td>3.359589</td>\n",
              "      <td>0.099315</td>\n",
              "      <td>0.017123</td>\n",
              "      <td>0.393836</td>\n",
              "      <td>0.777397</td>\n",
              "      <td>0.010274</td>\n",
              "      <td>0.0</td>\n",
              "      <td>1.181507</td>\n",
              "      <td>5666.186609</td>\n",
              "      <td>5457.027849</td>\n",
              "      <td>8254.057134</td>\n",
              "      <td>9105.793340</td>\n",
              "      <td>8904.691768</td>\n",
              "      <td>7856.463294</td>\n",
              "      <td>6552.308919</td>\n",
              "      <td>6367.253225</td>\n",
              "      <td>5517.550777</td>\n",
              "      <td>11546.980381</td>\n",
              "      <td>14637.509342</td>\n",
              "      <td>22180.618490</td>\n",
              "      <td>25467.576317</td>\n",
              "      <td>25047.629760</td>\n",
              "      <td>22672.087369</td>\n",
              "      <td>19365.585506</td>\n",
              "      <td>17092.414535</td>\n",
              "      <td>...</td>\n",
              "      <td>1.349740</td>\n",
              "      <td>21.526577</td>\n",
              "      <td>2.770099</td>\n",
              "      <td>0.690189</td>\n",
              "      <td>0.842432</td>\n",
              "      <td>0.129116</td>\n",
              "      <td>0.477361</td>\n",
              "      <td>0.329190</td>\n",
              "      <td>0.189576</td>\n",
              "      <td>24.986865</td>\n",
              "      <td>76.961898</td>\n",
              "      <td>150.620850</td>\n",
              "      <td>0.763782</td>\n",
              "      <td>0.996127</td>\n",
              "      <td>23.903806</td>\n",
              "      <td>3.244504</td>\n",
              "      <td>0.902357</td>\n",
              "      <td>0.832262</td>\n",
              "      <td>0.133957</td>\n",
              "      <td>0.595462</td>\n",
              "      <td>0.465302</td>\n",
              "      <td>0.346871</td>\n",
              "      <td>28.050667</td>\n",
              "      <td>101.910759</td>\n",
              "      <td>208.587674</td>\n",
              "      <td>0.748455</td>\n",
              "      <td>1.407635</td>\n",
              "      <td>23.663358</td>\n",
              "      <td>3.175451</td>\n",
              "      <td>0.868644</td>\n",
              "      <td>0.833951</td>\n",
              "      <td>0.133095</td>\n",
              "      <td>0.580732</td>\n",
              "      <td>0.445563</td>\n",
              "      <td>0.322194</td>\n",
              "      <td>27.707453</td>\n",
              "      <td>98.381196</td>\n",
              "      <td>199.932229</td>\n",
              "      <td>0.750955</td>\n",
              "      <td>1.348489</td>\n",
              "    </tr>\n",
              "    <tr>\n",
              "      <th>std</th>\n",
              "      <td>2.845981e+07</td>\n",
              "      <td>3.903559</td>\n",
              "      <td>0.483304</td>\n",
              "      <td>0.748193</td>\n",
              "      <td>0.845010</td>\n",
              "      <td>27.640566</td>\n",
              "      <td>16.036612</td>\n",
              "      <td>4.878396</td>\n",
              "      <td>5.857094</td>\n",
              "      <td>15.879973</td>\n",
              "      <td>6.267222</td>\n",
              "      <td>10.723800</td>\n",
              "      <td>0.0</td>\n",
              "      <td>5.295002</td>\n",
              "      <td>1.436916</td>\n",
              "      <td>1.117255</td>\n",
              "      <td>0.310857</td>\n",
              "      <td>0.129954</td>\n",
              "      <td>0.844853</td>\n",
              "      <td>0.485285</td>\n",
              "      <td>0.101012</td>\n",
              "      <td>0.0</td>\n",
              "      <td>0.697024</td>\n",
              "      <td>1116.395803</td>\n",
              "      <td>1245.320145</td>\n",
              "      <td>1995.084596</td>\n",
              "      <td>2326.131285</td>\n",
              "      <td>2205.841619</td>\n",
              "      <td>2182.544570</td>\n",
              "      <td>2039.722758</td>\n",
              "      <td>1769.588229</td>\n",
              "      <td>2153.319621</td>\n",
              "      <td>2639.358789</td>\n",
              "      <td>3733.102472</td>\n",
              "      <td>6373.416796</td>\n",
              "      <td>9132.169527</td>\n",
              "      <td>10837.408959</td>\n",
              "      <td>10622.181711</td>\n",
              "      <td>9432.016513</td>\n",
              "      <td>8245.229696</td>\n",
              "      <td>...</td>\n",
              "      <td>0.094569</td>\n",
              "      <td>11.896724</td>\n",
              "      <td>1.214758</td>\n",
              "      <td>0.450827</td>\n",
              "      <td>0.069141</td>\n",
              "      <td>0.060806</td>\n",
              "      <td>0.046398</td>\n",
              "      <td>0.049309</td>\n",
              "      <td>0.078344</td>\n",
              "      <td>12.014095</td>\n",
              "      <td>54.639245</td>\n",
              "      <td>120.763363</td>\n",
              "      <td>0.103291</td>\n",
              "      <td>0.112663</td>\n",
              "      <td>12.783018</td>\n",
              "      <td>1.250567</td>\n",
              "      <td>0.526852</td>\n",
              "      <td>0.071499</td>\n",
              "      <td>0.060938</td>\n",
              "      <td>0.048223</td>\n",
              "      <td>0.044625</td>\n",
              "      <td>0.097627</td>\n",
              "      <td>12.843700</td>\n",
              "      <td>65.726037</td>\n",
              "      <td>158.474712</td>\n",
              "      <td>0.107071</td>\n",
              "      <td>0.100190</td>\n",
              "      <td>12.822015</td>\n",
              "      <td>1.250520</td>\n",
              "      <td>0.511654</td>\n",
              "      <td>0.071198</td>\n",
              "      <td>0.060875</td>\n",
              "      <td>0.043798</td>\n",
              "      <td>0.041083</td>\n",
              "      <td>0.089886</td>\n",
              "      <td>12.887248</td>\n",
              "      <td>65.155626</td>\n",
              "      <td>154.818855</td>\n",
              "      <td>0.106715</td>\n",
              "      <td>0.094307</td>\n",
              "    </tr>\n",
              "    <tr>\n",
              "      <th>min</th>\n",
              "      <td>2.251000e+05</td>\n",
              "      <td>0.000500</td>\n",
              "      <td>0.000000</td>\n",
              "      <td>-2.559900</td>\n",
              "      <td>0.000108</td>\n",
              "      <td>13.956400</td>\n",
              "      <td>30.904758</td>\n",
              "      <td>0.000000</td>\n",
              "      <td>0.000000</td>\n",
              "      <td>22.000000</td>\n",
              "      <td>16.000000</td>\n",
              "      <td>5.000000</td>\n",
              "      <td>0.0</td>\n",
              "      <td>9.000000</td>\n",
              "      <td>0.000000</td>\n",
              "      <td>1.000000</td>\n",
              "      <td>0.000000</td>\n",
              "      <td>0.000000</td>\n",
              "      <td>0.000000</td>\n",
              "      <td>0.000000</td>\n",
              "      <td>0.000000</td>\n",
              "      <td>0.0</td>\n",
              "      <td>0.000000</td>\n",
              "      <td>3336.450684</td>\n",
              "      <td>3285.911675</td>\n",
              "      <td>5125.915532</td>\n",
              "      <td>5323.657259</td>\n",
              "      <td>4023.627644</td>\n",
              "      <td>3607.608088</td>\n",
              "      <td>2366.160564</td>\n",
              "      <td>2010.701122</td>\n",
              "      <td>1504.267331</td>\n",
              "      <td>6349.023301</td>\n",
              "      <td>7253.070731</td>\n",
              "      <td>10367.565415</td>\n",
              "      <td>10340.266164</td>\n",
              "      <td>7838.209328</td>\n",
              "      <td>6365.402729</td>\n",
              "      <td>4980.517854</td>\n",
              "      <td>4055.255281</td>\n",
              "      <td>...</td>\n",
              "      <td>1.115445</td>\n",
              "      <td>7.779943</td>\n",
              "      <td>1.120482</td>\n",
              "      <td>0.057786</td>\n",
              "      <td>0.613993</td>\n",
              "      <td>0.026861</td>\n",
              "      <td>0.372552</td>\n",
              "      <td>0.204076</td>\n",
              "      <td>0.051435</td>\n",
              "      <td>10.923650</td>\n",
              "      <td>16.724678</td>\n",
              "      <td>33.080940</td>\n",
              "      <td>0.437964</td>\n",
              "      <td>0.786902</td>\n",
              "      <td>9.276769</td>\n",
              "      <td>1.361388</td>\n",
              "      <td>0.086319</td>\n",
              "      <td>0.614943</td>\n",
              "      <td>0.031909</td>\n",
              "      <td>0.407492</td>\n",
              "      <td>0.316651</td>\n",
              "      <td>0.109087</td>\n",
              "      <td>12.632930</td>\n",
              "      <td>20.659296</td>\n",
              "      <td>39.367328</td>\n",
              "      <td>0.422414</td>\n",
              "      <td>1.171669</td>\n",
              "      <td>9.103590</td>\n",
              "      <td>1.260030</td>\n",
              "      <td>0.094781</td>\n",
              "      <td>0.620699</td>\n",
              "      <td>0.032083</td>\n",
              "      <td>0.411450</td>\n",
              "      <td>0.299868</td>\n",
              "      <td>0.146048</td>\n",
              "      <td>12.724978</td>\n",
              "      <td>20.027951</td>\n",
              "      <td>38.794126</td>\n",
              "      <td>0.431048</td>\n",
              "      <td>1.102190</td>\n",
              "    </tr>\n",
              "    <tr>\n",
              "      <th>25%</th>\n",
              "      <td>8.665904e+07</td>\n",
              "      <td>0.015000</td>\n",
              "      <td>0.750000</td>\n",
              "      <td>-0.761225</td>\n",
              "      <td>0.071777</td>\n",
              "      <td>30.756950</td>\n",
              "      <td>48.472990</td>\n",
              "      <td>15.000000</td>\n",
              "      <td>17.000000</td>\n",
              "      <td>40.000000</td>\n",
              "      <td>24.000000</td>\n",
              "      <td>15.000000</td>\n",
              "      <td>0.0</td>\n",
              "      <td>18.000000</td>\n",
              "      <td>1.000000</td>\n",
              "      <td>3.000000</td>\n",
              "      <td>0.000000</td>\n",
              "      <td>0.000000</td>\n",
              "      <td>0.000000</td>\n",
              "      <td>0.000000</td>\n",
              "      <td>0.000000</td>\n",
              "      <td>0.0</td>\n",
              "      <td>1.000000</td>\n",
              "      <td>4978.077875</td>\n",
              "      <td>4579.680193</td>\n",
              "      <td>6870.508309</td>\n",
              "      <td>7477.629932</td>\n",
              "      <td>7457.813734</td>\n",
              "      <td>6350.625449</td>\n",
              "      <td>5007.395124</td>\n",
              "      <td>5116.375072</td>\n",
              "      <td>3929.164893</td>\n",
              "      <td>9777.340326</td>\n",
              "      <td>12353.690217</td>\n",
              "      <td>18379.562449</td>\n",
              "      <td>20468.355901</td>\n",
              "      <td>19529.142835</td>\n",
              "      <td>17131.392818</td>\n",
              "      <td>13916.147526</td>\n",
              "      <td>11932.597357</td>\n",
              "      <td>...</td>\n",
              "      <td>1.274539</td>\n",
              "      <td>13.994173</td>\n",
              "      <td>2.189533</td>\n",
              "      <td>0.316977</td>\n",
              "      <td>0.814032</td>\n",
              "      <td>0.090611</td>\n",
              "      <td>0.446777</td>\n",
              "      <td>0.301384</td>\n",
              "      <td>0.121147</td>\n",
              "      <td>17.289627</td>\n",
              "      <td>43.122830</td>\n",
              "      <td>74.446126</td>\n",
              "      <td>0.721049</td>\n",
              "      <td>0.897509</td>\n",
              "      <td>16.107016</td>\n",
              "      <td>2.566587</td>\n",
              "      <td>0.486731</td>\n",
              "      <td>0.807037</td>\n",
              "      <td>0.092954</td>\n",
              "      <td>0.580409</td>\n",
              "      <td>0.435962</td>\n",
              "      <td>0.278310</td>\n",
              "      <td>20.201483</td>\n",
              "      <td>63.415561</td>\n",
              "      <td>107.311028</td>\n",
              "      <td>0.710556</td>\n",
              "      <td>1.331057</td>\n",
              "      <td>15.857525</td>\n",
              "      <td>2.513344</td>\n",
              "      <td>0.450658</td>\n",
              "      <td>0.806386</td>\n",
              "      <td>0.091067</td>\n",
              "      <td>0.564869</td>\n",
              "      <td>0.417350</td>\n",
              "      <td>0.257151</td>\n",
              "      <td>19.827983</td>\n",
              "      <td>60.734670</td>\n",
              "      <td>103.438766</td>\n",
              "      <td>0.709579</td>\n",
              "      <td>1.272678</td>\n",
              "    </tr>\n",
              "    <tr>\n",
              "      <th>50%</th>\n",
              "      <td>8.669881e+07</td>\n",
              "      <td>0.064583</td>\n",
              "      <td>1.000000</td>\n",
              "      <td>-0.376200</td>\n",
              "      <td>0.386143</td>\n",
              "      <td>37.682050</td>\n",
              "      <td>53.505877</td>\n",
              "      <td>15.000000</td>\n",
              "      <td>17.000000</td>\n",
              "      <td>43.000000</td>\n",
              "      <td>26.000000</td>\n",
              "      <td>17.000000</td>\n",
              "      <td>0.0</td>\n",
              "      <td>20.000000</td>\n",
              "      <td>2.000000</td>\n",
              "      <td>3.000000</td>\n",
              "      <td>0.000000</td>\n",
              "      <td>0.000000</td>\n",
              "      <td>0.000000</td>\n",
              "      <td>1.000000</td>\n",
              "      <td>0.000000</td>\n",
              "      <td>0.0</td>\n",
              "      <td>1.000000</td>\n",
              "      <td>5380.342125</td>\n",
              "      <td>4989.771179</td>\n",
              "      <td>7492.075246</td>\n",
              "      <td>8316.575507</td>\n",
              "      <td>8444.115952</td>\n",
              "      <td>7139.723682</td>\n",
              "      <td>5914.764817</td>\n",
              "      <td>6022.623465</td>\n",
              "      <td>4880.546790</td>\n",
              "      <td>10609.529756</td>\n",
              "      <td>13339.498484</td>\n",
              "      <td>20048.003626</td>\n",
              "      <td>22632.476536</td>\n",
              "      <td>22130.409004</td>\n",
              "      <td>19424.359373</td>\n",
              "      <td>16263.713267</td>\n",
              "      <td>14228.321813</td>\n",
              "      <td>...</td>\n",
              "      <td>1.357302</td>\n",
              "      <td>16.967336</td>\n",
              "      <td>2.496470</td>\n",
              "      <td>0.570680</td>\n",
              "      <td>0.848332</td>\n",
              "      <td>0.128858</td>\n",
              "      <td>0.480153</td>\n",
              "      <td>0.327047</td>\n",
              "      <td>0.192573</td>\n",
              "      <td>20.307905</td>\n",
              "      <td>53.248613</td>\n",
              "      <td>95.343109</td>\n",
              "      <td>0.772498</td>\n",
              "      <td>1.000779</td>\n",
              "      <td>18.834049</td>\n",
              "      <td>3.026794</td>\n",
              "      <td>0.788781</td>\n",
              "      <td>0.837828</td>\n",
              "      <td>0.135188</td>\n",
              "      <td>0.605618</td>\n",
              "      <td>0.468064</td>\n",
              "      <td>0.360232</td>\n",
              "      <td>23.162845</td>\n",
              "      <td>74.232609</td>\n",
              "      <td>136.911854</td>\n",
              "      <td>0.756741</td>\n",
              "      <td>1.416045</td>\n",
              "      <td>18.542317</td>\n",
              "      <td>2.970130</td>\n",
              "      <td>0.761722</td>\n",
              "      <td>0.838338</td>\n",
              "      <td>0.135292</td>\n",
              "      <td>0.590261</td>\n",
              "      <td>0.448735</td>\n",
              "      <td>0.329968</td>\n",
              "      <td>22.838430</td>\n",
              "      <td>71.163447</td>\n",
              "      <td>129.822788</td>\n",
              "      <td>0.757507</td>\n",
              "      <td>1.359612</td>\n",
              "    </tr>\n",
              "    <tr>\n",
              "      <th>75%</th>\n",
              "      <td>1.058028e+08</td>\n",
              "      <td>0.307425</td>\n",
              "      <td>1.000000</td>\n",
              "      <td>0.084100</td>\n",
              "      <td>0.813251</td>\n",
              "      <td>49.352950</td>\n",
              "      <td>65.771834</td>\n",
              "      <td>18.000000</td>\n",
              "      <td>22.000000</td>\n",
              "      <td>53.000000</td>\n",
              "      <td>32.000000</td>\n",
              "      <td>22.000000</td>\n",
              "      <td>0.0</td>\n",
              "      <td>24.000000</td>\n",
              "      <td>3.000000</td>\n",
              "      <td>4.000000</td>\n",
              "      <td>0.000000</td>\n",
              "      <td>0.000000</td>\n",
              "      <td>0.000000</td>\n",
              "      <td>1.000000</td>\n",
              "      <td>0.000000</td>\n",
              "      <td>0.0</td>\n",
              "      <td>1.000000</td>\n",
              "      <td>6191.759869</td>\n",
              "      <td>6181.061163</td>\n",
              "      <td>9329.362456</td>\n",
              "      <td>10272.280006</td>\n",
              "      <td>10186.104543</td>\n",
              "      <td>9153.982793</td>\n",
              "      <td>7953.674047</td>\n",
              "      <td>7559.134496</td>\n",
              "      <td>7200.345412</td>\n",
              "      <td>13031.899696</td>\n",
              "      <td>16395.194780</td>\n",
              "      <td>24286.145287</td>\n",
              "      <td>27272.710831</td>\n",
              "      <td>26182.788442</td>\n",
              "      <td>23725.831642</td>\n",
              "      <td>20924.276356</td>\n",
              "      <td>19278.393937</td>\n",
              "      <td>...</td>\n",
              "      <td>1.414610</td>\n",
              "      <td>23.651355</td>\n",
              "      <td>2.818541</td>\n",
              "      <td>0.982067</td>\n",
              "      <td>0.882878</td>\n",
              "      <td>0.157473</td>\n",
              "      <td>0.503485</td>\n",
              "      <td>0.353187</td>\n",
              "      <td>0.247610</td>\n",
              "      <td>27.997867</td>\n",
              "      <td>92.762496</td>\n",
              "      <td>188.994441</td>\n",
              "      <td>0.824317</td>\n",
              "      <td>1.069114</td>\n",
              "      <td>25.871561</td>\n",
              "      <td>3.333439</td>\n",
              "      <td>1.243562</td>\n",
              "      <td>0.874059</td>\n",
              "      <td>0.165813</td>\n",
              "      <td>0.625744</td>\n",
              "      <td>0.498694</td>\n",
              "      <td>0.415126</td>\n",
              "      <td>30.870603</td>\n",
              "      <td>122.109044</td>\n",
              "      <td>261.440734</td>\n",
              "      <td>0.811089</td>\n",
              "      <td>1.475592</td>\n",
              "      <td>25.388135</td>\n",
              "      <td>3.268433</td>\n",
              "      <td>1.197608</td>\n",
              "      <td>0.875081</td>\n",
              "      <td>0.164775</td>\n",
              "      <td>0.607159</td>\n",
              "      <td>0.472702</td>\n",
              "      <td>0.386631</td>\n",
              "      <td>30.544602</td>\n",
              "      <td>116.851217</td>\n",
              "      <td>246.626872</td>\n",
              "      <td>0.812622</td>\n",
              "      <td>1.414718</td>\n",
              "    </tr>\n",
              "    <tr>\n",
              "      <th>max</th>\n",
              "      <td>1.560206e+08</td>\n",
              "      <td>50.000000</td>\n",
              "      <td>2.000000</td>\n",
              "      <td>2.009600</td>\n",
              "      <td>6.553088</td>\n",
              "      <td>154.941800</td>\n",
              "      <td>108.768787</td>\n",
              "      <td>27.000000</td>\n",
              "      <td>31.000000</td>\n",
              "      <td>101.000000</td>\n",
              "      <td>44.000000</td>\n",
              "      <td>59.000000</td>\n",
              "      <td>0.0</td>\n",
              "      <td>37.000000</td>\n",
              "      <td>7.000000</td>\n",
              "      <td>9.000000</td>\n",
              "      <td>2.000000</td>\n",
              "      <td>1.000000</td>\n",
              "      <td>4.000000</td>\n",
              "      <td>2.000000</td>\n",
              "      <td>1.000000</td>\n",
              "      <td>0.0</td>\n",
              "      <td>4.000000</td>\n",
              "      <td>10846.080710</td>\n",
              "      <td>8777.664867</td>\n",
              "      <td>14587.614916</td>\n",
              "      <td>15786.480434</td>\n",
              "      <td>15774.421866</td>\n",
              "      <td>13874.176641</td>\n",
              "      <td>11820.841218</td>\n",
              "      <td>11938.974288</td>\n",
              "      <td>11037.554492</td>\n",
              "      <td>18612.943567</td>\n",
              "      <td>25228.283994</td>\n",
              "      <td>41281.158495</td>\n",
              "      <td>56657.463128</td>\n",
              "      <td>64420.146938</td>\n",
              "      <td>61213.577501</td>\n",
              "      <td>51908.918591</td>\n",
              "      <td>43930.204381</td>\n",
              "      <td>...</td>\n",
              "      <td>1.619325</td>\n",
              "      <td>60.681105</td>\n",
              "      <td>8.145513</td>\n",
              "      <td>2.181527</td>\n",
              "      <td>0.956479</td>\n",
              "      <td>0.359456</td>\n",
              "      <td>0.689299</td>\n",
              "      <td>0.533074</td>\n",
              "      <td>0.396930</td>\n",
              "      <td>63.442154</td>\n",
              "      <td>408.944606</td>\n",
              "      <td>821.238055</td>\n",
              "      <td>0.934719</td>\n",
              "      <td>1.356281</td>\n",
              "      <td>63.569867</td>\n",
              "      <td>9.002075</td>\n",
              "      <td>2.621562</td>\n",
              "      <td>0.946882</td>\n",
              "      <td>0.345299</td>\n",
              "      <td>0.676588</td>\n",
              "      <td>0.560423</td>\n",
              "      <td>0.586587</td>\n",
              "      <td>67.135981</td>\n",
              "      <td>484.718753</td>\n",
              "      <td>1086.813285</td>\n",
              "      <td>0.920323</td>\n",
              "      <td>1.669820</td>\n",
              "      <td>64.146955</td>\n",
              "      <td>9.102828</td>\n",
              "      <td>2.551882</td>\n",
              "      <td>0.948615</td>\n",
              "      <td>0.338928</td>\n",
              "      <td>0.661202</td>\n",
              "      <td>0.544706</td>\n",
              "      <td>0.526542</td>\n",
              "      <td>67.621720</td>\n",
              "      <td>490.823229</td>\n",
              "      <td>1074.728896</td>\n",
              "      <td>0.922922</td>\n",
              "      <td>1.560919</td>\n",
              "    </tr>\n",
              "  </tbody>\n",
              "</table>\n",
              "<p>8 rows × 1877 columns</p>\n",
              "</div>"
            ],
            "text/plain": [
              "                cid     acvalue  ...          Ks          Ds\n",
              "count  2.920000e+02  292.000000  ...  292.000000  292.000000\n",
              "mean   9.311034e+07    0.984303  ...    0.750955    1.348489\n",
              "std    2.845981e+07    3.903559  ...    0.106715    0.094307\n",
              "min    2.251000e+05    0.000500  ...    0.431048    1.102190\n",
              "25%    8.665904e+07    0.015000  ...    0.709579    1.272678\n",
              "50%    8.669881e+07    0.064583  ...    0.757507    1.359612\n",
              "75%    1.058028e+08    0.307425  ...    0.812622    1.414718\n",
              "max    1.560206e+08   50.000000  ...    0.922922    1.560919\n",
              "\n",
              "[8 rows x 1877 columns]"
            ]
          },
          "metadata": {},
          "execution_count": 6
        }
      ]
    },
    {
      "cell_type": "code",
      "metadata": {
        "colab": {
          "base_uri": "https://localhost:8080/"
        },
        "id": "4YvBNsPu5OBA",
        "outputId": "6695d7f9-9b67-4efd-ae56-c00042402fe1"
      },
      "source": [
        "#checking for missing data\n",
        "total_na_count = features.isna().sum()\n",
        "print(\"TOTAL MISSING VALUE: \")\n",
        "print(total_na_count)\n"
      ],
      "execution_count": 7,
      "outputs": [
        {
          "output_type": "stream",
          "name": "stdout",
          "text": [
            "TOTAL MISSING VALUE: \n",
            "cid         0\n",
            "acvalue     0\n",
            "smiles      0\n",
            "Activity    0\n",
            "nAcid       0\n",
            "           ..\n",
            "Ts          0\n",
            "As          0\n",
            "Vs          0\n",
            "Ks          0\n",
            "Ds          0\n",
            "Length: 1879, dtype: int64\n"
          ]
        }
      ]
    },
    {
      "cell_type": "code",
      "metadata": {
        "id": "1RWp6G_g7u35"
      },
      "source": [
        "features_raw = pd.DataFrame.from_dict(features)\n",
        "#the set of molecular descriptors contains empty strings, replacing them by NaN\n",
        "features = features_raw.replace(r'^\\s*$', np.nan, regex=True)"
      ],
      "execution_count": 8,
      "outputs": []
    },
    {
      "cell_type": "code",
      "metadata": {
        "colab": {
          "base_uri": "https://localhost:8080/",
          "height": 548
        },
        "id": "uhjBkvqB7u-G",
        "outputId": "39821a0f-665f-40ac-a866-1149c48895ed"
      },
      "source": [
        "features = features.dropna()#removing NaN values\n",
        "features"
      ],
      "execution_count": 9,
      "outputs": [
        {
          "output_type": "execute_result",
          "data": {
            "text/html": [
              "<div>\n",
              "<style scoped>\n",
              "    .dataframe tbody tr th:only-of-type {\n",
              "        vertical-align: middle;\n",
              "    }\n",
              "\n",
              "    .dataframe tbody tr th {\n",
              "        vertical-align: top;\n",
              "    }\n",
              "\n",
              "    .dataframe thead th {\n",
              "        text-align: right;\n",
              "    }\n",
              "</style>\n",
              "<table border=\"1\" class=\"dataframe\">\n",
              "  <thead>\n",
              "    <tr style=\"text-align: right;\">\n",
              "      <th></th>\n",
              "      <th>cid</th>\n",
              "      <th>acvalue</th>\n",
              "      <th>smiles</th>\n",
              "      <th>Activity</th>\n",
              "      <th>nAcid</th>\n",
              "      <th>ALogP</th>\n",
              "      <th>ALogp2</th>\n",
              "      <th>AMR</th>\n",
              "      <th>apol</th>\n",
              "      <th>naAromAtom</th>\n",
              "      <th>nAromBond</th>\n",
              "      <th>nAtom</th>\n",
              "      <th>nHeavyAtom</th>\n",
              "      <th>nH</th>\n",
              "      <th>nB</th>\n",
              "      <th>nC</th>\n",
              "      <th>nN</th>\n",
              "      <th>nO</th>\n",
              "      <th>nS</th>\n",
              "      <th>nP</th>\n",
              "      <th>nF</th>\n",
              "      <th>nCl</th>\n",
              "      <th>nBr</th>\n",
              "      <th>nI</th>\n",
              "      <th>nX</th>\n",
              "      <th>ATS0m</th>\n",
              "      <th>ATS1m</th>\n",
              "      <th>ATS2m</th>\n",
              "      <th>ATS3m</th>\n",
              "      <th>ATS4m</th>\n",
              "      <th>ATS5m</th>\n",
              "      <th>ATS6m</th>\n",
              "      <th>ATS7m</th>\n",
              "      <th>ATS8m</th>\n",
              "      <th>ATS0v</th>\n",
              "      <th>ATS1v</th>\n",
              "      <th>ATS2v</th>\n",
              "      <th>ATS3v</th>\n",
              "      <th>ATS4v</th>\n",
              "      <th>ATS5v</th>\n",
              "      <th>...</th>\n",
              "      <th>De</th>\n",
              "      <th>L1p</th>\n",
              "      <th>L2p</th>\n",
              "      <th>L3p</th>\n",
              "      <th>P1p</th>\n",
              "      <th>P2p</th>\n",
              "      <th>E1p</th>\n",
              "      <th>E2p</th>\n",
              "      <th>E3p</th>\n",
              "      <th>Tp</th>\n",
              "      <th>Ap</th>\n",
              "      <th>Vp</th>\n",
              "      <th>Kp</th>\n",
              "      <th>Dp</th>\n",
              "      <th>L1i</th>\n",
              "      <th>L2i</th>\n",
              "      <th>L3i</th>\n",
              "      <th>P1i</th>\n",
              "      <th>P2i</th>\n",
              "      <th>E1i</th>\n",
              "      <th>E2i</th>\n",
              "      <th>E3i</th>\n",
              "      <th>Ti</th>\n",
              "      <th>Ai</th>\n",
              "      <th>Vi</th>\n",
              "      <th>Ki</th>\n",
              "      <th>Di</th>\n",
              "      <th>L1s</th>\n",
              "      <th>L2s</th>\n",
              "      <th>L3s</th>\n",
              "      <th>P1s</th>\n",
              "      <th>P2s</th>\n",
              "      <th>E1s</th>\n",
              "      <th>E2s</th>\n",
              "      <th>E3s</th>\n",
              "      <th>Ts</th>\n",
              "      <th>As</th>\n",
              "      <th>Vs</th>\n",
              "      <th>Ks</th>\n",
              "      <th>Ds</th>\n",
              "    </tr>\n",
              "  </thead>\n",
              "  <tbody>\n",
              "    <tr>\n",
              "      <th>0</th>\n",
              "      <td>225100</td>\n",
              "      <td>4.0000</td>\n",
              "      <td>O=C(O)CSc1nc2cc(Cl)c(Cl)cc2[nH]1</td>\n",
              "      <td>inactive</td>\n",
              "      <td>1</td>\n",
              "      <td>1.2172</td>\n",
              "      <td>1.481576</td>\n",
              "      <td>34.1060</td>\n",
              "      <td>30.904758</td>\n",
              "      <td>9</td>\n",
              "      <td>10</td>\n",
              "      <td>22</td>\n",
              "      <td>16</td>\n",
              "      <td>6</td>\n",
              "      <td>0</td>\n",
              "      <td>9</td>\n",
              "      <td>2</td>\n",
              "      <td>2</td>\n",
              "      <td>1</td>\n",
              "      <td>0</td>\n",
              "      <td>0.0</td>\n",
              "      <td>2.0</td>\n",
              "      <td>0.0</td>\n",
              "      <td>0.0</td>\n",
              "      <td>2.0</td>\n",
              "      <td>4866.470694</td>\n",
              "      <td>3285.911675</td>\n",
              "      <td>5125.915532</td>\n",
              "      <td>5823.261916</td>\n",
              "      <td>4023.627644</td>\n",
              "      <td>3755.414546</td>\n",
              "      <td>2366.160564</td>\n",
              "      <td>2010.701122</td>\n",
              "      <td>1851.892400</td>\n",
              "      <td>6349.023301</td>\n",
              "      <td>7253.070731</td>\n",
              "      <td>10367.565415</td>\n",
              "      <td>10340.266164</td>\n",
              "      <td>7838.209328</td>\n",
              "      <td>6365.402729</td>\n",
              "      <td>...</td>\n",
              "      <td>1.413581</td>\n",
              "      <td>11.445241</td>\n",
              "      <td>1.176596</td>\n",
              "      <td>0.258144</td>\n",
              "      <td>0.888607</td>\n",
              "      <td>0.091351</td>\n",
              "      <td>0.563188</td>\n",
              "      <td>0.284529</td>\n",
              "      <td>0.217283</td>\n",
              "      <td>12.879982</td>\n",
              "      <td>16.724678</td>\n",
              "      <td>33.080940</td>\n",
              "      <td>0.832910</td>\n",
              "      <td>1.065000</td>\n",
              "      <td>11.312779</td>\n",
              "      <td>1.437079</td>\n",
              "      <td>0.345254</td>\n",
              "      <td>0.863893</td>\n",
              "      <td>0.109742</td>\n",
              "      <td>0.548770</td>\n",
              "      <td>0.423822</td>\n",
              "      <td>0.448298</td>\n",
              "      <td>13.095112</td>\n",
              "      <td>20.659296</td>\n",
              "      <td>39.367328</td>\n",
              "      <td>0.795840</td>\n",
              "      <td>1.420891</td>\n",
              "      <td>11.688495</td>\n",
              "      <td>1.325009</td>\n",
              "      <td>0.348914</td>\n",
              "      <td>0.874729</td>\n",
              "      <td>0.099159</td>\n",
              "      <td>0.585817</td>\n",
              "      <td>0.360563</td>\n",
              "      <td>0.458213</td>\n",
              "      <td>13.362418</td>\n",
              "      <td>20.027951</td>\n",
              "      <td>38.794126</td>\n",
              "      <td>0.812094</td>\n",
              "      <td>1.404593</td>\n",
              "    </tr>\n",
              "    <tr>\n",
              "      <th>1</th>\n",
              "      <td>1825716</td>\n",
              "      <td>0.5500</td>\n",
              "      <td>Cc1ccc(OCCSc2ncccn2)c(Br)c1</td>\n",
              "      <td>inactive</td>\n",
              "      <td>0</td>\n",
              "      <td>1.9905</td>\n",
              "      <td>3.962090</td>\n",
              "      <td>32.9382</td>\n",
              "      <td>40.500309</td>\n",
              "      <td>12</td>\n",
              "      <td>12</td>\n",
              "      <td>31</td>\n",
              "      <td>18</td>\n",
              "      <td>13</td>\n",
              "      <td>0</td>\n",
              "      <td>13</td>\n",
              "      <td>2</td>\n",
              "      <td>1</td>\n",
              "      <td>1</td>\n",
              "      <td>0</td>\n",
              "      <td>0.0</td>\n",
              "      <td>0.0</td>\n",
              "      <td>1.0</td>\n",
              "      <td>0.0</td>\n",
              "      <td>1.0</td>\n",
              "      <td>9065.915841</td>\n",
              "      <td>3905.568826</td>\n",
              "      <td>5680.398994</td>\n",
              "      <td>6633.296591</td>\n",
              "      <td>5370.358053</td>\n",
              "      <td>3698.544856</td>\n",
              "      <td>3127.935587</td>\n",
              "      <td>2890.234735</td>\n",
              "      <td>4082.689219</td>\n",
              "      <td>7739.752888</td>\n",
              "      <td>9009.086446</td>\n",
              "      <td>12129.769040</td>\n",
              "      <td>12295.294407</td>\n",
              "      <td>10303.119687</td>\n",
              "      <td>8950.141038</td>\n",
              "      <td>...</td>\n",
              "      <td>1.434107</td>\n",
              "      <td>16.154816</td>\n",
              "      <td>1.937974</td>\n",
              "      <td>0.569152</td>\n",
              "      <td>0.865656</td>\n",
              "      <td>0.103846</td>\n",
              "      <td>0.482243</td>\n",
              "      <td>0.533074</td>\n",
              "      <td>0.208126</td>\n",
              "      <td>18.661941</td>\n",
              "      <td>41.605152</td>\n",
              "      <td>78.085876</td>\n",
              "      <td>0.798484</td>\n",
              "      <td>1.223443</td>\n",
              "      <td>17.856844</td>\n",
              "      <td>1.913562</td>\n",
              "      <td>0.790178</td>\n",
              "      <td>0.868499</td>\n",
              "      <td>0.093069</td>\n",
              "      <td>0.589039</td>\n",
              "      <td>0.508048</td>\n",
              "      <td>0.436256</td>\n",
              "      <td>20.560585</td>\n",
              "      <td>49.792328</td>\n",
              "      <td>97.353445</td>\n",
              "      <td>0.802748</td>\n",
              "      <td>1.533343</td>\n",
              "      <td>17.690543</td>\n",
              "      <td>1.835237</td>\n",
              "      <td>0.746796</td>\n",
              "      <td>0.872634</td>\n",
              "      <td>0.090528</td>\n",
              "      <td>0.578062</td>\n",
              "      <td>0.470886</td>\n",
              "      <td>0.395607</td>\n",
              "      <td>20.272577</td>\n",
              "      <td>47.048120</td>\n",
              "      <td>91.566431</td>\n",
              "      <td>0.808951</td>\n",
              "      <td>1.444554</td>\n",
              "    </tr>\n",
              "    <tr>\n",
              "      <th>2</th>\n",
              "      <td>11679800</td>\n",
              "      <td>0.0168</td>\n",
              "      <td>CC(C)=CCC[C@](C)(O[C@@H]1O[C@H](CO)[C@@H](O)[C...</td>\n",
              "      <td>active</td>\n",
              "      <td>1</td>\n",
              "      <td>0.5752</td>\n",
              "      <td>0.330855</td>\n",
              "      <td>29.2113</td>\n",
              "      <td>31.098344</td>\n",
              "      <td>9</td>\n",
              "      <td>10</td>\n",
              "      <td>24</td>\n",
              "      <td>16</td>\n",
              "      <td>8</td>\n",
              "      <td>0</td>\n",
              "      <td>10</td>\n",
              "      <td>2</td>\n",
              "      <td>2</td>\n",
              "      <td>0</td>\n",
              "      <td>0</td>\n",
              "      <td>0.0</td>\n",
              "      <td>2.0</td>\n",
              "      <td>0.0</td>\n",
              "      <td>0.0</td>\n",
              "      <td>2.0</td>\n",
              "      <td>4868.502822</td>\n",
              "      <td>3310.125851</td>\n",
              "      <td>5175.359948</td>\n",
              "      <td>5908.016572</td>\n",
              "      <td>4138.596092</td>\n",
              "      <td>3805.875026</td>\n",
              "      <td>2418.653172</td>\n",
              "      <td>2153.635522</td>\n",
              "      <td>1851.892400</td>\n",
              "      <td>6411.190790</td>\n",
              "      <td>7482.543964</td>\n",
              "      <td>10857.595624</td>\n",
              "      <td>11041.939075</td>\n",
              "      <td>8687.377805</td>\n",
              "      <td>6886.516683</td>\n",
              "      <td>...</td>\n",
              "      <td>1.303480</td>\n",
              "      <td>11.450959</td>\n",
              "      <td>1.168955</td>\n",
              "      <td>0.327426</td>\n",
              "      <td>0.884426</td>\n",
              "      <td>0.090285</td>\n",
              "      <td>0.619005</td>\n",
              "      <td>0.292564</td>\n",
              "      <td>0.145712</td>\n",
              "      <td>12.947340</td>\n",
              "      <td>17.517751</td>\n",
              "      <td>34.847909</td>\n",
              "      <td>0.826638</td>\n",
              "      <td>1.057281</td>\n",
              "      <td>10.717133</td>\n",
              "      <td>1.409146</td>\n",
              "      <td>0.506650</td>\n",
              "      <td>0.848349</td>\n",
              "      <td>0.111545</td>\n",
              "      <td>0.540422</td>\n",
              "      <td>0.426244</td>\n",
              "      <td>0.372027</td>\n",
              "      <td>12.632930</td>\n",
              "      <td>21.245790</td>\n",
              "      <td>41.530153</td>\n",
              "      <td>0.772523</td>\n",
              "      <td>1.338693</td>\n",
              "      <td>10.934821</td>\n",
              "      <td>1.303764</td>\n",
              "      <td>0.486393</td>\n",
              "      <td>0.859319</td>\n",
              "      <td>0.102457</td>\n",
              "      <td>0.562681</td>\n",
              "      <td>0.366310</td>\n",
              "      <td>0.342588</td>\n",
              "      <td>12.724978</td>\n",
              "      <td>20.209189</td>\n",
              "      <td>39.868393</td>\n",
              "      <td>0.788979</td>\n",
              "      <td>1.271579</td>\n",
              "    </tr>\n",
              "    <tr>\n",
              "      <th>3</th>\n",
              "      <td>14162967</td>\n",
              "      <td>0.0168</td>\n",
              "      <td>CC(C)=CCC[C@](C)(O[C@@H]1O[C@H](CO)[C@@H](O)[C...</td>\n",
              "      <td>active</td>\n",
              "      <td>0</td>\n",
              "      <td>0.8200</td>\n",
              "      <td>0.672400</td>\n",
              "      <td>134.7535</td>\n",
              "      <td>90.681236</td>\n",
              "      <td>0</td>\n",
              "      <td>0</td>\n",
              "      <td>86</td>\n",
              "      <td>34</td>\n",
              "      <td>52</td>\n",
              "      <td>0</td>\n",
              "      <td>30</td>\n",
              "      <td>0</td>\n",
              "      <td>4</td>\n",
              "      <td>0</td>\n",
              "      <td>0</td>\n",
              "      <td>0.0</td>\n",
              "      <td>0.0</td>\n",
              "      <td>0.0</td>\n",
              "      <td>0.0</td>\n",
              "      <td>0.0</td>\n",
              "      <td>5404.630962</td>\n",
              "      <td>6175.020141</td>\n",
              "      <td>10569.200499</td>\n",
              "      <td>13928.758477</td>\n",
              "      <td>13530.953189</td>\n",
              "      <td>12097.098300</td>\n",
              "      <td>10334.456402</td>\n",
              "      <td>9302.450418</td>\n",
              "      <td>8506.558222</td>\n",
              "      <td>15187.424871</td>\n",
              "      <td>21022.387874</td>\n",
              "      <td>36014.128236</td>\n",
              "      <td>51007.246921</td>\n",
              "      <td>57789.310825</td>\n",
              "      <td>54153.421222</td>\n",
              "      <td>...</td>\n",
              "      <td>1.462925</td>\n",
              "      <td>13.356831</td>\n",
              "      <td>4.713860</td>\n",
              "      <td>1.551971</td>\n",
              "      <td>0.680684</td>\n",
              "      <td>0.240225</td>\n",
              "      <td>0.480137</td>\n",
              "      <td>0.404662</td>\n",
              "      <td>0.310977</td>\n",
              "      <td>19.622663</td>\n",
              "      <td>91.007428</td>\n",
              "      <td>208.345661</td>\n",
              "      <td>0.521026</td>\n",
              "      <td>1.195776</td>\n",
              "      <td>14.202111</td>\n",
              "      <td>5.192340</td>\n",
              "      <td>1.924706</td>\n",
              "      <td>0.666167</td>\n",
              "      <td>0.243553</td>\n",
              "      <td>0.542372</td>\n",
              "      <td>0.492669</td>\n",
              "      <td>0.478277</td>\n",
              "      <td>21.319157</td>\n",
              "      <td>111.070800</td>\n",
              "      <td>274.321969</td>\n",
              "      <td>0.499250</td>\n",
              "      <td>1.513318</td>\n",
              "      <td>14.162502</td>\n",
              "      <td>5.110835</td>\n",
              "      <td>1.876100</td>\n",
              "      <td>0.669640</td>\n",
              "      <td>0.241653</td>\n",
              "      <td>0.539443</td>\n",
              "      <td>0.477526</td>\n",
              "      <td>0.454229</td>\n",
              "      <td>21.149437</td>\n",
              "      <td>108.540907</td>\n",
              "      <td>265.486570</td>\n",
              "      <td>0.504460</td>\n",
              "      <td>1.471197</td>\n",
              "    </tr>\n",
              "    <tr>\n",
              "      <th>4</th>\n",
              "      <td>14525327</td>\n",
              "      <td>3.0000</td>\n",
              "      <td>C[C@H](CC[C@@H](O)C(C)(C)O)[C@H]1CC[C@@]2(C)[C...</td>\n",
              "      <td>inactive</td>\n",
              "      <td>1</td>\n",
              "      <td>0.5720</td>\n",
              "      <td>0.327184</td>\n",
              "      <td>23.2561</td>\n",
              "      <td>66.975067</td>\n",
              "      <td>27</td>\n",
              "      <td>30</td>\n",
              "      <td>52</td>\n",
              "      <td>33</td>\n",
              "      <td>19</td>\n",
              "      <td>0</td>\n",
              "      <td>27</td>\n",
              "      <td>2</td>\n",
              "      <td>3</td>\n",
              "      <td>0</td>\n",
              "      <td>0</td>\n",
              "      <td>0.0</td>\n",
              "      <td>1.0</td>\n",
              "      <td>0.0</td>\n",
              "      <td>0.0</td>\n",
              "      <td>1.0</td>\n",
              "      <td>6331.435084</td>\n",
              "      <td>6142.860146</td>\n",
              "      <td>9234.538103</td>\n",
              "      <td>9868.519933</td>\n",
              "      <td>9714.146137</td>\n",
              "      <td>9004.759376</td>\n",
              "      <td>7164.482540</td>\n",
              "      <td>7034.156940</td>\n",
              "      <td>7315.727153</td>\n",
              "      <td>13665.319127</td>\n",
              "      <td>16934.930973</td>\n",
              "      <td>24849.027523</td>\n",
              "      <td>27613.596117</td>\n",
              "      <td>26181.310788</td>\n",
              "      <td>23695.728859</td>\n",
              "      <td>...</td>\n",
              "      <td>1.562560</td>\n",
              "      <td>32.678344</td>\n",
              "      <td>1.875418</td>\n",
              "      <td>1.309409</td>\n",
              "      <td>0.911195</td>\n",
              "      <td>0.052294</td>\n",
              "      <td>0.519289</td>\n",
              "      <td>0.277799</td>\n",
              "      <td>0.326617</td>\n",
              "      <td>35.863171</td>\n",
              "      <td>106.530578</td>\n",
              "      <td>222.641628</td>\n",
              "      <td>0.866793</td>\n",
              "      <td>1.123705</td>\n",
              "      <td>35.436934</td>\n",
              "      <td>2.242259</td>\n",
              "      <td>1.712113</td>\n",
              "      <td>0.899613</td>\n",
              "      <td>0.056923</td>\n",
              "      <td>0.609762</td>\n",
              "      <td>0.443232</td>\n",
              "      <td>0.586587</td>\n",
              "      <td>39.391306</td>\n",
              "      <td>143.969814</td>\n",
              "      <td>319.403533</td>\n",
              "      <td>0.849420</td>\n",
              "      <td>1.639581</td>\n",
              "      <td>35.140178</td>\n",
              "      <td>2.228841</td>\n",
              "      <td>1.614423</td>\n",
              "      <td>0.901413</td>\n",
              "      <td>0.057174</td>\n",
              "      <td>0.600107</td>\n",
              "      <td>0.432198</td>\n",
              "      <td>0.526542</td>\n",
              "      <td>38.983441</td>\n",
              "      <td>138.651258</td>\n",
              "      <td>304.079293</td>\n",
              "      <td>0.852119</td>\n",
              "      <td>1.558847</td>\n",
              "    </tr>\n",
              "    <tr>\n",
              "      <th>...</th>\n",
              "      <td>...</td>\n",
              "      <td>...</td>\n",
              "      <td>...</td>\n",
              "      <td>...</td>\n",
              "      <td>...</td>\n",
              "      <td>...</td>\n",
              "      <td>...</td>\n",
              "      <td>...</td>\n",
              "      <td>...</td>\n",
              "      <td>...</td>\n",
              "      <td>...</td>\n",
              "      <td>...</td>\n",
              "      <td>...</td>\n",
              "      <td>...</td>\n",
              "      <td>...</td>\n",
              "      <td>...</td>\n",
              "      <td>...</td>\n",
              "      <td>...</td>\n",
              "      <td>...</td>\n",
              "      <td>...</td>\n",
              "      <td>...</td>\n",
              "      <td>...</td>\n",
              "      <td>...</td>\n",
              "      <td>...</td>\n",
              "      <td>...</td>\n",
              "      <td>...</td>\n",
              "      <td>...</td>\n",
              "      <td>...</td>\n",
              "      <td>...</td>\n",
              "      <td>...</td>\n",
              "      <td>...</td>\n",
              "      <td>...</td>\n",
              "      <td>...</td>\n",
              "      <td>...</td>\n",
              "      <td>...</td>\n",
              "      <td>...</td>\n",
              "      <td>...</td>\n",
              "      <td>...</td>\n",
              "      <td>...</td>\n",
              "      <td>...</td>\n",
              "      <td>...</td>\n",
              "      <td>...</td>\n",
              "      <td>...</td>\n",
              "      <td>...</td>\n",
              "      <td>...</td>\n",
              "      <td>...</td>\n",
              "      <td>...</td>\n",
              "      <td>...</td>\n",
              "      <td>...</td>\n",
              "      <td>...</td>\n",
              "      <td>...</td>\n",
              "      <td>...</td>\n",
              "      <td>...</td>\n",
              "      <td>...</td>\n",
              "      <td>...</td>\n",
              "      <td>...</td>\n",
              "      <td>...</td>\n",
              "      <td>...</td>\n",
              "      <td>...</td>\n",
              "      <td>...</td>\n",
              "      <td>...</td>\n",
              "      <td>...</td>\n",
              "      <td>...</td>\n",
              "      <td>...</td>\n",
              "      <td>...</td>\n",
              "      <td>...</td>\n",
              "      <td>...</td>\n",
              "      <td>...</td>\n",
              "      <td>...</td>\n",
              "      <td>...</td>\n",
              "      <td>...</td>\n",
              "      <td>...</td>\n",
              "      <td>...</td>\n",
              "      <td>...</td>\n",
              "      <td>...</td>\n",
              "      <td>...</td>\n",
              "      <td>...</td>\n",
              "      <td>...</td>\n",
              "      <td>...</td>\n",
              "      <td>...</td>\n",
              "      <td>...</td>\n",
              "    </tr>\n",
              "    <tr>\n",
              "      <th>287</th>\n",
              "      <td>156018930</td>\n",
              "      <td>1.7000</td>\n",
              "      <td>C[C@H](CCCNCCc1ccc([N+](=O)[O-])cc1)[C@H]1CC[C...</td>\n",
              "      <td>inactive</td>\n",
              "      <td>0</td>\n",
              "      <td>0.7363</td>\n",
              "      <td>0.542138</td>\n",
              "      <td>127.7864</td>\n",
              "      <td>98.686029</td>\n",
              "      <td>6</td>\n",
              "      <td>6</td>\n",
              "      <td>91</td>\n",
              "      <td>38</td>\n",
              "      <td>53</td>\n",
              "      <td>0</td>\n",
              "      <td>34</td>\n",
              "      <td>1</td>\n",
              "      <td>3</td>\n",
              "      <td>0</td>\n",
              "      <td>0</td>\n",
              "      <td>0.0</td>\n",
              "      <td>0.0</td>\n",
              "      <td>0.0</td>\n",
              "      <td>0.0</td>\n",
              "      <td>0.0</td>\n",
              "      <td>5922.931558</td>\n",
              "      <td>6950.367906</td>\n",
              "      <td>11157.153391</td>\n",
              "      <td>14414.736582</td>\n",
              "      <td>14228.127822</td>\n",
              "      <td>12631.006683</td>\n",
              "      <td>10487.724915</td>\n",
              "      <td>9275.925263</td>\n",
              "      <td>8301.153826</td>\n",
              "      <td>16939.499618</td>\n",
              "      <td>23087.371488</td>\n",
              "      <td>38268.303836</td>\n",
              "      <td>52736.254334</td>\n",
              "      <td>59770.951105</td>\n",
              "      <td>56533.260945</td>\n",
              "      <td>...</td>\n",
              "      <td>1.314217</td>\n",
              "      <td>20.627196</td>\n",
              "      <td>3.429054</td>\n",
              "      <td>1.516396</td>\n",
              "      <td>0.806612</td>\n",
              "      <td>0.134091</td>\n",
              "      <td>0.415985</td>\n",
              "      <td>0.360107</td>\n",
              "      <td>0.292192</td>\n",
              "      <td>25.572646</td>\n",
              "      <td>107.210566</td>\n",
              "      <td>240.040560</td>\n",
              "      <td>0.709918</td>\n",
              "      <td>1.068284</td>\n",
              "      <td>21.229139</td>\n",
              "      <td>3.881595</td>\n",
              "      <td>1.898673</td>\n",
              "      <td>0.785991</td>\n",
              "      <td>0.143713</td>\n",
              "      <td>0.440395</td>\n",
              "      <td>0.464778</td>\n",
              "      <td>0.457896</td>\n",
              "      <td>27.009407</td>\n",
              "      <td>130.079988</td>\n",
              "      <td>313.545575</td>\n",
              "      <td>0.678986</td>\n",
              "      <td>1.363069</td>\n",
              "      <td>21.298184</td>\n",
              "      <td>3.794425</td>\n",
              "      <td>1.842945</td>\n",
              "      <td>0.790709</td>\n",
              "      <td>0.140871</td>\n",
              "      <td>0.443263</td>\n",
              "      <td>0.444497</td>\n",
              "      <td>0.431592</td>\n",
              "      <td>26.935554</td>\n",
              "      <td>127.058657</td>\n",
              "      <td>302.930616</td>\n",
              "      <td>0.686063</td>\n",
              "      <td>1.319353</td>\n",
              "    </tr>\n",
              "    <tr>\n",
              "      <th>288</th>\n",
              "      <td>156018973</td>\n",
              "      <td>4.7000</td>\n",
              "      <td>COc1ccc(NCCC[C@@H](C)[C@H]2CC[C@@]3(C)[C@@H]4C...</td>\n",
              "      <td>inactive</td>\n",
              "      <td>0</td>\n",
              "      <td>-0.8248</td>\n",
              "      <td>0.680295</td>\n",
              "      <td>81.5718</td>\n",
              "      <td>89.901548</td>\n",
              "      <td>18</td>\n",
              "      <td>18</td>\n",
              "      <td>79</td>\n",
              "      <td>43</td>\n",
              "      <td>36</td>\n",
              "      <td>0</td>\n",
              "      <td>32</td>\n",
              "      <td>5</td>\n",
              "      <td>3</td>\n",
              "      <td>0</td>\n",
              "      <td>0</td>\n",
              "      <td>3.0</td>\n",
              "      <td>0.0</td>\n",
              "      <td>0.0</td>\n",
              "      <td>0.0</td>\n",
              "      <td>3.0</td>\n",
              "      <td>7484.732396</td>\n",
              "      <td>7973.318823</td>\n",
              "      <td>12049.039459</td>\n",
              "      <td>12365.134734</td>\n",
              "      <td>11288.350680</td>\n",
              "      <td>10073.740304</td>\n",
              "      <td>9384.149246</td>\n",
              "      <td>8794.685989</td>\n",
              "      <td>9109.076491</td>\n",
              "      <td>17068.430870</td>\n",
              "      <td>21743.237526</td>\n",
              "      <td>32249.381557</td>\n",
              "      <td>37401.263486</td>\n",
              "      <td>35836.304341</td>\n",
              "      <td>33271.550031</td>\n",
              "      <td>...</td>\n",
              "      <td>1.331136</td>\n",
              "      <td>47.169932</td>\n",
              "      <td>6.349268</td>\n",
              "      <td>0.705938</td>\n",
              "      <td>0.869891</td>\n",
              "      <td>0.117091</td>\n",
              "      <td>0.565370</td>\n",
              "      <td>0.304425</td>\n",
              "      <td>0.225420</td>\n",
              "      <td>54.225137</td>\n",
              "      <td>337.275738</td>\n",
              "      <td>602.925309</td>\n",
              "      <td>0.804836</td>\n",
              "      <td>1.095215</td>\n",
              "      <td>49.700719</td>\n",
              "      <td>6.866232</td>\n",
              "      <td>0.925204</td>\n",
              "      <td>0.864478</td>\n",
              "      <td>0.119429</td>\n",
              "      <td>0.627504</td>\n",
              "      <td>0.357385</td>\n",
              "      <td>0.369978</td>\n",
              "      <td>57.492155</td>\n",
              "      <td>393.592639</td>\n",
              "      <td>766.816716</td>\n",
              "      <td>0.796717</td>\n",
              "      <td>1.354867</td>\n",
              "      <td>50.051398</td>\n",
              "      <td>6.848238</td>\n",
              "      <td>0.886532</td>\n",
              "      <td>0.866148</td>\n",
              "      <td>0.118510</td>\n",
              "      <td>0.636378</td>\n",
              "      <td>0.356244</td>\n",
              "      <td>0.340686</td>\n",
              "      <td>57.786168</td>\n",
              "      <td>393.207263</td>\n",
              "      <td>754.864745</td>\n",
              "      <td>0.799223</td>\n",
              "      <td>1.333308</td>\n",
              "    </tr>\n",
              "    <tr>\n",
              "      <th>289</th>\n",
              "      <td>156019244</td>\n",
              "      <td>0.0120</td>\n",
              "      <td>COc1ccc(CN2CCC(C(=O)Nc3ccc(C(=O)N4CCN(Cc5ccc(C...</td>\n",
              "      <td>active</td>\n",
              "      <td>0</td>\n",
              "      <td>0.7997</td>\n",
              "      <td>0.639520</td>\n",
              "      <td>125.1828</td>\n",
              "      <td>96.557236</td>\n",
              "      <td>6</td>\n",
              "      <td>6</td>\n",
              "      <td>89</td>\n",
              "      <td>37</td>\n",
              "      <td>52</td>\n",
              "      <td>0</td>\n",
              "      <td>33</td>\n",
              "      <td>2</td>\n",
              "      <td>2</td>\n",
              "      <td>0</td>\n",
              "      <td>0</td>\n",
              "      <td>0.0</td>\n",
              "      <td>0.0</td>\n",
              "      <td>0.0</td>\n",
              "      <td>0.0</td>\n",
              "      <td>0.0</td>\n",
              "      <td>5717.879421</td>\n",
              "      <td>6746.144873</td>\n",
              "      <td>10824.824477</td>\n",
              "      <td>13925.001643</td>\n",
              "      <td>13852.934424</td>\n",
              "      <td>12398.304778</td>\n",
              "      <td>10281.405582</td>\n",
              "      <td>8966.542485</td>\n",
              "      <td>7953.222796</td>\n",
              "      <td>16511.822369</td>\n",
              "      <td>22585.679728</td>\n",
              "      <td>37525.258550</td>\n",
              "      <td>51515.495405</td>\n",
              "      <td>58198.545854</td>\n",
              "      <td>55289.690146</td>\n",
              "      <td>...</td>\n",
              "      <td>1.356127</td>\n",
              "      <td>18.171180</td>\n",
              "      <td>6.262968</td>\n",
              "      <td>1.582117</td>\n",
              "      <td>0.698455</td>\n",
              "      <td>0.240733</td>\n",
              "      <td>0.412852</td>\n",
              "      <td>0.428985</td>\n",
              "      <td>0.303166</td>\n",
              "      <td>26.016265</td>\n",
              "      <td>152.463199</td>\n",
              "      <td>358.533127</td>\n",
              "      <td>0.547682</td>\n",
              "      <td>1.145003</td>\n",
              "      <td>17.815097</td>\n",
              "      <td>6.755317</td>\n",
              "      <td>1.987373</td>\n",
              "      <td>0.670805</td>\n",
              "      <td>0.254363</td>\n",
              "      <td>0.407492</td>\n",
              "      <td>0.508589</td>\n",
              "      <td>0.480472</td>\n",
              "      <td>26.557787</td>\n",
              "      <td>169.177198</td>\n",
              "      <td>434.908604</td>\n",
              "      <td>0.506208</td>\n",
              "      <td>1.396553</td>\n",
              "      <td>17.933385</td>\n",
              "      <td>6.701848</td>\n",
              "      <td>1.928593</td>\n",
              "      <td>0.675105</td>\n",
              "      <td>0.252292</td>\n",
              "      <td>0.411450</td>\n",
              "      <td>0.500250</td>\n",
              "      <td>0.452533</td>\n",
              "      <td>26.563826</td>\n",
              "      <td>167.698162</td>\n",
              "      <td>426.053461</td>\n",
              "      <td>0.512658</td>\n",
              "      <td>1.364233</td>\n",
              "    </tr>\n",
              "    <tr>\n",
              "      <th>290</th>\n",
              "      <td>156019649</td>\n",
              "      <td>1.6000</td>\n",
              "      <td>C[C@H](CCCNCc1ccccn1)[C@H]1CC[C@@]2(C)[C@@H]3C...</td>\n",
              "      <td>inactive</td>\n",
              "      <td>0</td>\n",
              "      <td>0.7997</td>\n",
              "      <td>0.639520</td>\n",
              "      <td>125.1828</td>\n",
              "      <td>97.884029</td>\n",
              "      <td>6</td>\n",
              "      <td>6</td>\n",
              "      <td>90</td>\n",
              "      <td>37</td>\n",
              "      <td>53</td>\n",
              "      <td>0</td>\n",
              "      <td>34</td>\n",
              "      <td>1</td>\n",
              "      <td>2</td>\n",
              "      <td>0</td>\n",
              "      <td>0</td>\n",
              "      <td>0.0</td>\n",
              "      <td>0.0</td>\n",
              "      <td>0.0</td>\n",
              "      <td>0.0</td>\n",
              "      <td>0.0</td>\n",
              "      <td>5666.963557</td>\n",
              "      <td>6710.304049</td>\n",
              "      <td>10775.104817</td>\n",
              "      <td>13902.359171</td>\n",
              "      <td>13855.226932</td>\n",
              "      <td>12384.446102</td>\n",
              "      <td>10267.546906</td>\n",
              "      <td>8952.683809</td>\n",
              "      <td>7917.402132</td>\n",
              "      <td>16723.108841</td>\n",
              "      <td>22905.429386</td>\n",
              "      <td>38090.021787</td>\n",
              "      <td>52182.073493</td>\n",
              "      <td>58682.631026</td>\n",
              "      <td>55624.641655</td>\n",
              "      <td>...</td>\n",
              "      <td>1.422838</td>\n",
              "      <td>17.637321</td>\n",
              "      <td>6.276343</td>\n",
              "      <td>1.598223</td>\n",
              "      <td>0.691337</td>\n",
              "      <td>0.246016</td>\n",
              "      <td>0.457469</td>\n",
              "      <td>0.426565</td>\n",
              "      <td>0.317657</td>\n",
              "      <td>25.511887</td>\n",
              "      <td>148.917238</td>\n",
              "      <td>351.348989</td>\n",
              "      <td>0.537006</td>\n",
              "      <td>1.201690</td>\n",
              "      <td>17.233243</td>\n",
              "      <td>6.794002</td>\n",
              "      <td>2.013214</td>\n",
              "      <td>0.661787</td>\n",
              "      <td>0.260902</td>\n",
              "      <td>0.449909</td>\n",
              "      <td>0.510333</td>\n",
              "      <td>0.506473</td>\n",
              "      <td>26.040459</td>\n",
              "      <td>165.454686</td>\n",
              "      <td>427.207701</td>\n",
              "      <td>0.492681</td>\n",
              "      <td>1.466716</td>\n",
              "      <td>17.356984</td>\n",
              "      <td>6.734916</td>\n",
              "      <td>1.951190</td>\n",
              "      <td>0.666472</td>\n",
              "      <td>0.258607</td>\n",
              "      <td>0.454497</td>\n",
              "      <td>0.501094</td>\n",
              "      <td>0.475708</td>\n",
              "      <td>26.043090</td>\n",
              "      <td>163.905700</td>\n",
              "      <td>418.038649</td>\n",
              "      <td>0.499708</td>\n",
              "      <td>1.431298</td>\n",
              "    </tr>\n",
              "    <tr>\n",
              "      <th>291</th>\n",
              "      <td>156020604</td>\n",
              "      <td>1.5000</td>\n",
              "      <td>C[C@H](CCCNCc1ccccc1)[C@H]1CC[C@@]2(C)[C@@H]3C...</td>\n",
              "      <td>inactive</td>\n",
              "      <td>0</td>\n",
              "      <td>0.6961</td>\n",
              "      <td>0.484555</td>\n",
              "      <td>139.8144</td>\n",
              "      <td>105.675201</td>\n",
              "      <td>6</td>\n",
              "      <td>6</td>\n",
              "      <td>98</td>\n",
              "      <td>41</td>\n",
              "      <td>57</td>\n",
              "      <td>0</td>\n",
              "      <td>36</td>\n",
              "      <td>1</td>\n",
              "      <td>4</td>\n",
              "      <td>0</td>\n",
              "      <td>0</td>\n",
              "      <td>0.0</td>\n",
              "      <td>0.0</td>\n",
              "      <td>0.0</td>\n",
              "      <td>0.0</td>\n",
              "      <td>0.0</td>\n",
              "      <td>6471.492057</td>\n",
              "      <td>7527.388357</td>\n",
              "      <td>11886.718999</td>\n",
              "      <td>15557.459580</td>\n",
              "      <td>15571.614113</td>\n",
              "      <td>13681.335864</td>\n",
              "      <td>11242.489886</td>\n",
              "      <td>9803.921441</td>\n",
              "      <td>8750.632160</td>\n",
              "      <td>18127.259177</td>\n",
              "      <td>24575.293860</td>\n",
              "      <td>40367.611383</td>\n",
              "      <td>55603.699146</td>\n",
              "      <td>63305.238582</td>\n",
              "      <td>60201.617060</td>\n",
              "      <td>...</td>\n",
              "      <td>1.409503</td>\n",
              "      <td>21.835371</td>\n",
              "      <td>6.168168</td>\n",
              "      <td>2.069154</td>\n",
              "      <td>0.726086</td>\n",
              "      <td>0.205109</td>\n",
              "      <td>0.468360</td>\n",
              "      <td>0.391420</td>\n",
              "      <td>0.341166</td>\n",
              "      <td>30.072693</td>\n",
              "      <td>192.627878</td>\n",
              "      <td>501.383040</td>\n",
              "      <td>0.589129</td>\n",
              "      <td>1.200946</td>\n",
              "      <td>22.101921</td>\n",
              "      <td>6.747712</td>\n",
              "      <td>2.501346</td>\n",
              "      <td>0.704983</td>\n",
              "      <td>0.215231</td>\n",
              "      <td>0.480729</td>\n",
              "      <td>0.473947</td>\n",
              "      <td>0.493829</td>\n",
              "      <td>31.350978</td>\n",
              "      <td>221.300286</td>\n",
              "      <td>625.695403</td>\n",
              "      <td>0.557475</td>\n",
              "      <td>1.448505</td>\n",
              "      <td>22.219176</td>\n",
              "      <td>6.661298</td>\n",
              "      <td>2.430868</td>\n",
              "      <td>0.709621</td>\n",
              "      <td>0.212744</td>\n",
              "      <td>0.485718</td>\n",
              "      <td>0.461554</td>\n",
              "      <td>0.467347</td>\n",
              "      <td>31.311343</td>\n",
              "      <td>218.213189</td>\n",
              "      <td>609.313861</td>\n",
              "      <td>0.564431</td>\n",
              "      <td>1.414618</td>\n",
              "    </tr>\n",
              "  </tbody>\n",
              "</table>\n",
              "<p>292 rows × 1879 columns</p>\n",
              "</div>"
            ],
            "text/plain": [
              "           cid  acvalue  ...        Ks        Ds\n",
              "0       225100   4.0000  ...  0.812094  1.404593\n",
              "1      1825716   0.5500  ...  0.808951  1.444554\n",
              "2     11679800   0.0168  ...  0.788979  1.271579\n",
              "3     14162967   0.0168  ...  0.504460  1.471197\n",
              "4     14525327   3.0000  ...  0.852119  1.558847\n",
              "..         ...      ...  ...       ...       ...\n",
              "287  156018930   1.7000  ...  0.686063  1.319353\n",
              "288  156018973   4.7000  ...  0.799223  1.333308\n",
              "289  156019244   0.0120  ...  0.512658  1.364233\n",
              "290  156019649   1.6000  ...  0.499708  1.431298\n",
              "291  156020604   1.5000  ...  0.564431  1.414618\n",
              "\n",
              "[292 rows x 1879 columns]"
            ]
          },
          "metadata": {},
          "execution_count": 9
        }
      ]
    },
    {
      "cell_type": "markdown",
      "source": [
        "# ALL PREDICTORS"
      ],
      "metadata": {
        "id": "BZkXkP5wPjGj"
      }
    },
    {
      "cell_type": "code",
      "metadata": {
        "id": "0o9tP8jr5ODb"
      },
      "source": [
        "X = features.drop([\"smiles\", \"acvalue\", \"Activity\", \"cid\"], axis = 1) #predictors\n",
        "y = features['Activity'] #target\n",
        "y.replace({'active':1, 'inactive':0,'Inactive':0}, inplace = True)\n",
        "y = pd.DataFrame(y)"
      ],
      "execution_count": 10,
      "outputs": []
    },
    {
      "cell_type": "code",
      "metadata": {
        "id": "p5AkAMUm5OGE"
      },
      "source": [
        "X_train, X_test, y_train, y_test = train_test_split(X, y, train_size = 0.75, random_state = 0)"
      ],
      "execution_count": 11,
      "outputs": []
    },
    {
      "cell_type": "markdown",
      "metadata": {
        "id": "_f9Pqq1hg4iD"
      },
      "source": [
        "BAGGING"
      ]
    },
    {
      "cell_type": "code",
      "metadata": {
        "id": "MXN-GsjK5OJH",
        "colab": {
          "base_uri": "https://localhost:8080/"
        },
        "outputId": "209717e7-58e4-46af-9a47-ed6fc6dc2af0"
      },
      "source": [
        "rf_features = RandomForestClassifier(max_features = 1875, random_state = 23)#Python counts from zero(hence 1875), bagging is just a case where m=p\n",
        "rf_features.fit(X_train,y_train)"
      ],
      "execution_count": 12,
      "outputs": [
        {
          "output_type": "stream",
          "name": "stderr",
          "text": [
            "/usr/local/lib/python3.7/dist-packages/ipykernel_launcher.py:2: DataConversionWarning: A column-vector y was passed when a 1d array was expected. Please change the shape of y to (n_samples,), for example using ravel().\n",
            "  \n"
          ]
        },
        {
          "output_type": "execute_result",
          "data": {
            "text/plain": [
              "RandomForestClassifier(max_features=1875, random_state=23)"
            ]
          },
          "metadata": {},
          "execution_count": 12
        }
      ]
    },
    {
      "cell_type": "code",
      "metadata": {
        "id": "dhaieHE45OL9",
        "colab": {
          "base_uri": "https://localhost:8080/"
        },
        "outputId": "16a94dc6-3361-4dc4-f9ec-e88a0ac9184c"
      },
      "source": [
        "pred1 = rf_features.predict(X_test)\n",
        "mean_squared_error(y_test, pred1)\n",
        "pd.DataFrame(pred1)\n",
        "pred1 = tf.math.round(pred1)\n",
        "pred1"
      ],
      "execution_count": 13,
      "outputs": [
        {
          "output_type": "execute_result",
          "data": {
            "text/plain": [
              "<tf.Tensor: shape=(73,), dtype=int64, numpy=\n",
              "array([1, 1, 1, 1, 0, 1, 0, 1, 1, 1, 0, 0, 0, 1, 1, 1, 0, 0, 0, 0, 1, 1,\n",
              "       0, 0, 1, 0, 0, 1, 1, 0, 1, 1, 1, 0, 1, 0, 1, 1, 0, 1, 1, 0, 0, 0,\n",
              "       1, 0, 0, 1, 0, 1, 1, 1, 0, 0, 1, 0, 1, 1, 1, 1, 0, 1, 1, 0, 1, 0,\n",
              "       0, 0, 0, 1, 1, 1, 1])>"
            ]
          },
          "metadata": {},
          "execution_count": 13
        }
      ]
    },
    {
      "cell_type": "code",
      "metadata": {
        "id": "BJp5XaRs5OO8",
        "colab": {
          "base_uri": "https://localhost:8080/"
        },
        "outputId": "26e48ed3-4474-4951-c00f-5dcd0c18c951"
      },
      "source": [
        "rf_features.score(X_train, y_train)"
      ],
      "execution_count": 14,
      "outputs": [
        {
          "output_type": "execute_result",
          "data": {
            "text/plain": [
              "0.9908675799086758"
            ]
          },
          "metadata": {},
          "execution_count": 14
        }
      ]
    },
    {
      "cell_type": "code",
      "metadata": {
        "colab": {
          "base_uri": "https://localhost:8080/"
        },
        "id": "xMr0OzCxhz4R",
        "outputId": "eba944ec-e7e9-48d0-876e-2525c3ed8b2c"
      },
      "source": [
        "print(classification_report(y_test, pred1, digits=3))\n",
        "print(f\"Average precision score: {average_precision_score(y_test, pred1):.3f}\")\n",
        "print(\"Cohen kappa score: \", cohen_kappa_score(y_test, pred1))\n",
        "print(\"Confusion matrix: \")\n",
        "print(confusion_matrix(y_test, pred1))"
      ],
      "execution_count": 15,
      "outputs": [
        {
          "output_type": "stream",
          "name": "stdout",
          "text": [
            "              precision    recall  f1-score   support\n",
            "\n",
            "           0      0.500     0.552     0.525        29\n",
            "           1      0.683     0.636     0.659        44\n",
            "\n",
            "    accuracy                          0.603        73\n",
            "   macro avg      0.591     0.594     0.592        73\n",
            "weighted avg      0.610     0.603     0.605        73\n",
            "\n",
            "Average precision score: 0.654\n",
            "Cohen kappa score:  0.18482864844050828\n",
            "Confusion matrix: \n",
            "[[16 13]\n",
            " [16 28]]\n"
          ]
        }
      ]
    },
    {
      "cell_type": "markdown",
      "metadata": {
        "id": "qD3P3sGChv8T"
      },
      "source": [
        "RANDOM FORESTS"
      ]
    },
    {
      "cell_type": "code",
      "metadata": {
        "id": "yvf8dUHQ5OSL",
        "colab": {
          "base_uri": "https://localhost:8080/"
        },
        "outputId": "46b8e6ae-6a9a-4f53-b7fe-a65a364f5dba"
      },
      "source": [
        "rf_features_rf = RandomForestClassifier(max_features = 99, random_state = 23)\n",
        "rf_features_rf.fit(X_train,y_train)"
      ],
      "execution_count": 16,
      "outputs": [
        {
          "output_type": "stream",
          "name": "stderr",
          "text": [
            "/usr/local/lib/python3.7/dist-packages/ipykernel_launcher.py:2: DataConversionWarning: A column-vector y was passed when a 1d array was expected. Please change the shape of y to (n_samples,), for example using ravel().\n",
            "  \n"
          ]
        },
        {
          "output_type": "execute_result",
          "data": {
            "text/plain": [
              "RandomForestClassifier(max_features=99, random_state=23)"
            ]
          },
          "metadata": {},
          "execution_count": 16
        }
      ]
    },
    {
      "cell_type": "code",
      "metadata": {
        "id": "rLeGomFz5OVH",
        "colab": {
          "base_uri": "https://localhost:8080/"
        },
        "outputId": "d3e19654-5164-4369-8415-ba9df9d912b9"
      },
      "source": [
        "pred2 = rf_features_rf.predict(X_test)\n",
        "mean_squared_error(y_test, pred2)\n",
        "pd.DataFrame(pred2)\n",
        "pred2 = tf.math.round(pred2)\n",
        "pred2"
      ],
      "execution_count": 17,
      "outputs": [
        {
          "output_type": "execute_result",
          "data": {
            "text/plain": [
              "<tf.Tensor: shape=(73,), dtype=int64, numpy=\n",
              "array([1, 1, 1, 1, 0, 1, 0, 1, 1, 1, 0, 0, 1, 1, 1, 1, 0, 0, 0, 0, 1, 0,\n",
              "       0, 0, 0, 1, 0, 1, 1, 0, 1, 1, 1, 0, 1, 0, 1, 0, 0, 1, 1, 0, 1, 0,\n",
              "       1, 0, 0, 1, 0, 1, 1, 1, 0, 0, 1, 0, 1, 1, 1, 1, 0, 1, 1, 0, 1, 0,\n",
              "       0, 0, 0, 1, 1, 1, 1])>"
            ]
          },
          "metadata": {},
          "execution_count": 17
        }
      ]
    },
    {
      "cell_type": "code",
      "metadata": {
        "colab": {
          "base_uri": "https://localhost:8080/"
        },
        "id": "sUK09k_T8VNf",
        "outputId": "6942ee62-3b43-49b8-8fca-126bed71d001"
      },
      "source": [
        "rf_features_rf.score(X_train, y_train)"
      ],
      "execution_count": 18,
      "outputs": [
        {
          "output_type": "execute_result",
          "data": {
            "text/plain": [
              "0.9908675799086758"
            ]
          },
          "metadata": {},
          "execution_count": 18
        }
      ]
    },
    {
      "cell_type": "code",
      "metadata": {
        "colab": {
          "base_uri": "https://localhost:8080/"
        },
        "id": "1jZmNcXFiGTC",
        "outputId": "2499911c-8dfe-4799-a090-9e385c7eb10e"
      },
      "source": [
        "print(classification_report(y_test, pred2, digits=3))\n",
        "print(f\"Average precision score: {average_precision_score(y_test, pred2):.3f}\")\n",
        "print(\"Cohen kappa score: \", cohen_kappa_score(y_test, pred2))\n",
        "print(\"Confusion matrix: \")\n",
        "print(confusion_matrix(y_test, pred2))"
      ],
      "execution_count": 19,
      "outputs": [
        {
          "output_type": "stream",
          "name": "stdout",
          "text": [
            "              precision    recall  f1-score   support\n",
            "\n",
            "           0      0.500     0.552     0.525        29\n",
            "           1      0.683     0.636     0.659        44\n",
            "\n",
            "    accuracy                          0.603        73\n",
            "   macro avg      0.591     0.594     0.592        73\n",
            "weighted avg      0.610     0.603     0.605        73\n",
            "\n",
            "Average precision score: 0.654\n",
            "Cohen kappa score:  0.18482864844050828\n",
            "Confusion matrix: \n",
            "[[16 13]\n",
            " [16 28]]\n"
          ]
        }
      ]
    },
    {
      "cell_type": "code",
      "metadata": {
        "colab": {
          "base_uri": "https://localhost:8080/",
          "height": 283
        },
        "id": "iNB4mTf-9LDv",
        "outputId": "b456493e-a905-4bc5-9317-96ed564e87fe"
      },
      "source": [
        "Importance = pd.DataFrame({'Importance':rf_features_rf.feature_importances_*100}, \n",
        "                          index = X.columns)\n",
        "\n",
        "Importance.sort_values(by = 'Importance', \n",
        "                       axis = 0, \n",
        "                       ascending = True).plot(kind = 'barh',\n",
        "                                              color = 'r', )\n",
        "\n",
        "plt.xlabel('Variable Importance')\n",
        "from matplotlib.pyplot import figure\n",
        "\n",
        "\n",
        "\n",
        "plt.gca().legend_ = None"
      ],
      "execution_count": 20,
      "outputs": [
        {
          "output_type": "display_data",
          "data": {
            "image/png": "[encoded data removed]",
            "text/plain": [
              "<Figure size 432x288 with 1 Axes>"
            ]
          },
          "metadata": {
            "needs_background": "light"
          }
        }
      ]
    },
    {
      "cell_type": "markdown",
      "source": [
        "Bagging AUC"
      ],
      "metadata": {
        "id": "JG5JN_WLGyMD"
      }
    },
    {
      "cell_type": "code",
      "source": [
        "rfc_bag = RandomForestClassifier(max_features=1875 ,random_state=42)\n",
        "rfc_bag.fit(X_train, y_train)\n"
      ],
      "metadata": {
        "colab": {
          "base_uri": "https://localhost:8080/"
        },
        "id": "GNeQtcHsGtZ8",
        "outputId": "7a52d5f8-2e01-4eae-a8fb-bcb519112fff"
      },
      "execution_count": 21,
      "outputs": [
        {
          "output_type": "stream",
          "name": "stderr",
          "text": [
            "/usr/local/lib/python3.7/dist-packages/ipykernel_launcher.py:2: DataConversionWarning: A column-vector y was passed when a 1d array was expected. Please change the shape of y to (n_samples,), for example using ravel().\n",
            "  \n"
          ]
        },
        {
          "output_type": "execute_result",
          "data": {
            "text/plain": [
              "RandomForestClassifier(max_features=1875, random_state=42)"
            ]
          },
          "metadata": {},
          "execution_count": 21
        }
      ]
    },
    {
      "cell_type": "markdown",
      "source": [
        "RF AUC"
      ],
      "metadata": {
        "id": "PgHIsYI5GyJO"
      }
    },
    {
      "cell_type": "code",
      "source": [
        "rfc_rf = RandomForestClassifier(max_features= 50,random_state=42)\n",
        "rfc_rf.fit(X_train, y_train)\n",
        "ax = plt.gca()\n",
        "rfc_disp = plot_roc_curve(rfc_rf, X_test, y_test, ax=ax, alpha=0.8)\n",
        "plt.show()"
      ],
      "metadata": {
        "colab": {
          "base_uri": "https://localhost:8080/",
          "height": 369
        },
        "id": "MyRuB0AzGtWv",
        "outputId": "f023afd6-1fd5-4d9b-a1f4-2d4b21337c6c"
      },
      "execution_count": 22,
      "outputs": [
        {
          "output_type": "stream",
          "name": "stderr",
          "text": [
            "/usr/local/lib/python3.7/dist-packages/ipykernel_launcher.py:2: DataConversionWarning: A column-vector y was passed when a 1d array was expected. Please change the shape of y to (n_samples,), for example using ravel().\n",
            "  \n",
            "/usr/local/lib/python3.7/dist-packages/sklearn/utils/deprecation.py:87: FutureWarning: Function plot_roc_curve is deprecated; Function `plot_roc_curve` is deprecated in 1.0 and will be removed in 1.2. Use one of the class methods: RocCurveDisplay.from_predictions or RocCurveDisplay.from_estimator.\n",
            "  warnings.warn(msg, category=FutureWarning)\n"
          ]
        },
        {
          "output_type": "display_data",
          "data": {
            "image/png": "[encoded data removed]",
            "text/plain": [
              "<Figure size 432x288 with 1 Axes>"
            ]
          },
          "metadata": {
            "needs_background": "light"
          }
        }
      ]
    },
    {
      "cell_type": "code",
      "source": [
        "disp1= plot_roc_curve(rfc_rf,X_test, y_test)\n",
        "plot_roc_curve(rfc_bag,X_test, y_test, ax=disp1.ax_);"
      ],
      "metadata": {
        "colab": {
          "base_uri": "https://localhost:8080/",
          "height": 369
        },
        "id": "tvOD8q3dhLq-",
        "outputId": "6c5485d7-f96e-4cfd-a814-ee678c6bbf8d"
      },
      "execution_count": 23,
      "outputs": [
        {
          "output_type": "stream",
          "name": "stderr",
          "text": [
            "/usr/local/lib/python3.7/dist-packages/sklearn/utils/deprecation.py:87: FutureWarning: Function plot_roc_curve is deprecated; Function `plot_roc_curve` is deprecated in 1.0 and will be removed in 1.2. Use one of the class methods: RocCurveDisplay.from_predictions or RocCurveDisplay.from_estimator.\n",
            "  warnings.warn(msg, category=FutureWarning)\n",
            "/usr/local/lib/python3.7/dist-packages/sklearn/utils/deprecation.py:87: FutureWarning: Function plot_roc_curve is deprecated; Function `plot_roc_curve` is deprecated in 1.0 and will be removed in 1.2. Use one of the class methods: RocCurveDisplay.from_predictions or RocCurveDisplay.from_estimator.\n",
            "  warnings.warn(msg, category=FutureWarning)\n"
          ]
        },
        {
          "output_type": "display_data",
          "data": {
            "image/png": "[encoded data removed]",
            "text/plain": [
              "<Figure size 432x288 with 1 Axes>"
            ]
          },
          "metadata": {
            "needs_background": "light"
          }
        }
      ]
    },
    {
      "cell_type": "markdown",
      "source": [
        "# BEST SUBSET TAKEN FROM LASSO"
      ],
      "metadata": {
        "id": "715gXuqbN2XX"
      }
    },
    {
      "cell_type": "code",
      "source": [
        "features_sub = features[['Activity','AATS5i', 'ATSC5p', 'GATS4m', 'GATS2i', 'nHBint6', 'nHeteroRing', 'n5HeteroRing', 'nF9HeteroRing', 'nT5HeteroRing', 'geomShape', 'RDF70m', 'P1p', 'E3s']]"
      ],
      "metadata": {
        "id": "RCgAG6j6NxBE"
      },
      "execution_count": 24,
      "outputs": []
    },
    {
      "cell_type": "code",
      "source": [
        "X1 = features_sub.iloc[:, 1:-1] #X-axis covers feature sub\n",
        "y1 = pd.DataFrame(y)"
      ],
      "metadata": {
        "id": "VLS7-Z6DNxEr"
      },
      "execution_count": 25,
      "outputs": []
    },
    {
      "cell_type": "code",
      "source": [
        "X_train, X_test, y_train, y_test = train_test_split(X1, y1, train_size = 0.75, random_state = 0)"
      ],
      "metadata": {
        "id": "mwRl7DHANxH-"
      },
      "execution_count": 26,
      "outputs": []
    },
    {
      "cell_type": "markdown",
      "source": [
        "Bagging"
      ],
      "metadata": {
        "id": "i8rScA-gPIFS"
      }
    },
    {
      "cell_type": "code",
      "source": [
        "rf_features_1 = RandomForestClassifier(max_features = 12, random_state = 23) #Python counts from zero(hence 4), bagging is just a case where m=p\n",
        "rf_features_1.fit(X_train,y_train)"
      ],
      "metadata": {
        "colab": {
          "base_uri": "https://localhost:8080/"
        },
        "id": "8FykZ0xeNxOR",
        "outputId": "56526dcd-6f3b-4050-d774-9c08ec6aba28"
      },
      "execution_count": 27,
      "outputs": [
        {
          "output_type": "stream",
          "name": "stderr",
          "text": [
            "/usr/local/lib/python3.7/dist-packages/ipykernel_launcher.py:2: DataConversionWarning: A column-vector y was passed when a 1d array was expected. Please change the shape of y to (n_samples,), for example using ravel().\n",
            "  \n"
          ]
        },
        {
          "output_type": "execute_result",
          "data": {
            "text/plain": [
              "RandomForestClassifier(max_features=12, random_state=23)"
            ]
          },
          "metadata": {},
          "execution_count": 27
        }
      ]
    },
    {
      "cell_type": "code",
      "source": [
        "print('Number of Trees used : ', rf_features_1.n_estimators)"
      ],
      "metadata": {
        "colab": {
          "base_uri": "https://localhost:8080/"
        },
        "id": "Kog3l54pR2no",
        "outputId": "d4c463d7-1fbd-48e7-d607-830c487fb645"
      },
      "execution_count": 28,
      "outputs": [
        {
          "output_type": "stream",
          "name": "stdout",
          "text": [
            "Number of Trees used :  100\n"
          ]
        }
      ]
    },
    {
      "cell_type": "code",
      "source": [
        "pred3 = rf_features_1.predict(X_test)\n",
        "mean_squared_error(y_test, pred3)\n",
        "pd.DataFrame(pred3)\n",
        "pred3 = tf.math.round(pred3)\n",
        "pred3"
      ],
      "metadata": {
        "colab": {
          "base_uri": "https://localhost:8080/"
        },
        "id": "uu3TBGdPNxRb",
        "outputId": "3f5d4bfd-41ac-4381-ea53-820ebcf5a5c4"
      },
      "execution_count": 29,
      "outputs": [
        {
          "output_type": "execute_result",
          "data": {
            "text/plain": [
              "<tf.Tensor: shape=(73,), dtype=int64, numpy=\n",
              "array([1, 0, 1, 1, 1, 1, 0, 1, 1, 0, 0, 0, 0, 1, 1, 0, 1, 0, 1, 0, 1, 0,\n",
              "       0, 0, 1, 1, 1, 1, 0, 1, 1, 1, 1, 1, 0, 0, 1, 0, 0, 1, 1, 0, 0, 0,\n",
              "       1, 0, 0, 1, 0, 0, 1, 1, 1, 0, 1, 0, 1, 1, 1, 1, 0, 1, 1, 0, 1, 1,\n",
              "       0, 0, 0, 1, 1, 1, 0])>"
            ]
          },
          "metadata": {},
          "execution_count": 29
        }
      ]
    },
    {
      "cell_type": "code",
      "source": [
        "rf_features_1.score(X_train, y_train)"
      ],
      "metadata": {
        "colab": {
          "base_uri": "https://localhost:8080/"
        },
        "id": "oJmsK1hrNxUj",
        "outputId": "5e8b3355-a68a-4465-9e28-653e5475960f"
      },
      "execution_count": 30,
      "outputs": [
        {
          "output_type": "execute_result",
          "data": {
            "text/plain": [
              "0.9908675799086758"
            ]
          },
          "metadata": {},
          "execution_count": 30
        }
      ]
    },
    {
      "cell_type": "code",
      "source": [
        "print(classification_report(y_test, pred3, digits=3))\n",
        "print(f\"Average precision score: {average_precision_score(y_test, pred3):.3f}\")\n",
        "print(\"Cohen kappa score: \", cohen_kappa_score(y_test, pred3))\n",
        "print(\"Confusion matrix: \")\n",
        "print(confusion_matrix(y_test, pred3))"
      ],
      "metadata": {
        "colab": {
          "base_uri": "https://localhost:8080/"
        },
        "id": "syyetgqPNxXl",
        "outputId": "953c797b-9e83-4506-f6ec-cd57eecf8e28"
      },
      "execution_count": 31,
      "outputs": [
        {
          "output_type": "stream",
          "name": "stdout",
          "text": [
            "              precision    recall  f1-score   support\n",
            "\n",
            "           0      0.500     0.552     0.525        29\n",
            "           1      0.683     0.636     0.659        44\n",
            "\n",
            "    accuracy                          0.603        73\n",
            "   macro avg      0.591     0.594     0.592        73\n",
            "weighted avg      0.610     0.603     0.605        73\n",
            "\n",
            "Average precision score: 0.654\n",
            "Cohen kappa score:  0.18482864844050828\n",
            "Confusion matrix: \n",
            "[[16 13]\n",
            " [16 28]]\n"
          ]
        }
      ]
    },
    {
      "cell_type": "markdown",
      "source": [
        "RANDOM FOREST"
      ],
      "metadata": {
        "id": "OR9pksDnQZfX"
      }
    },
    {
      "cell_type": "code",
      "source": [
        "rf_features_rf_1 = RandomForestClassifier(max_features =5, random_state = 23)\n",
        "rf_features_rf_1.fit(X_train,y_train)"
      ],
      "metadata": {
        "colab": {
          "base_uri": "https://localhost:8080/"
        },
        "id": "An-l_0oCNxai",
        "outputId": "c47f5437-0c8b-4ed9-f4d9-a790bb141170"
      },
      "execution_count": 32,
      "outputs": [
        {
          "output_type": "stream",
          "name": "stderr",
          "text": [
            "/usr/local/lib/python3.7/dist-packages/ipykernel_launcher.py:2: DataConversionWarning: A column-vector y was passed when a 1d array was expected. Please change the shape of y to (n_samples,), for example using ravel().\n",
            "  \n"
          ]
        },
        {
          "output_type": "execute_result",
          "data": {
            "text/plain": [
              "RandomForestClassifier(max_features=5, random_state=23)"
            ]
          },
          "metadata": {},
          "execution_count": 32
        }
      ]
    },
    {
      "cell_type": "code",
      "source": [
        "print('Number of Trees used : ', rf_features_rf_1.n_estimators)"
      ],
      "metadata": {
        "colab": {
          "base_uri": "https://localhost:8080/"
        },
        "id": "tSkf7x4L-OaJ",
        "outputId": "14dd18d2-7bb0-489f-8f44-a253458ad42d"
      },
      "execution_count": 33,
      "outputs": [
        {
          "output_type": "stream",
          "name": "stdout",
          "text": [
            "Number of Trees used :  100\n"
          ]
        }
      ]
    },
    {
      "cell_type": "code",
      "source": [
        "from sklearn.tree import plot_tree"
      ],
      "metadata": {
        "id": "CbSn-j3KvbAe"
      },
      "execution_count": 34,
      "outputs": []
    },
    {
      "cell_type": "code",
      "source": [
        "from sklearn import tree"
      ],
      "metadata": {
        "id": "G3l5IiMjAVRg"
      },
      "execution_count": 35,
      "outputs": []
    },
    {
      "cell_type": "code",
      "source": [
        "model = DecisionTreeClassifier(max_depth=5)"
      ],
      "metadata": {
        "id": "aqALCzlivhx0"
      },
      "execution_count": 36,
      "outputs": []
    },
    {
      "cell_type": "code",
      "source": [
        "model.fit(X_train,y_train)"
      ],
      "metadata": {
        "colab": {
          "base_uri": "https://localhost:8080/"
        },
        "id": "yJNs6W0J8JZ5",
        "outputId": "df26b84e-d431-41e0-8356-95e07860a1fa"
      },
      "execution_count": 37,
      "outputs": [
        {
          "output_type": "execute_result",
          "data": {
            "text/plain": [
              "DecisionTreeClassifier(max_depth=5)"
            ]
          },
          "metadata": {},
          "execution_count": 37
        }
      ]
    },
    {
      "cell_type": "code",
      "source": [
        "print('Depth of the Decision Tree :', model.get_depth())"
      ],
      "metadata": {
        "colab": {
          "base_uri": "https://localhost:8080/"
        },
        "id": "DBCxpyvC8lje",
        "outputId": "d2420be1-e984-4ae6-a7cc-6ed0e6776653"
      },
      "execution_count": 38,
      "outputs": [
        {
          "output_type": "stream",
          "name": "stdout",
          "text": [
            "Depth of the Decision Tree : 5\n"
          ]
        }
      ]
    },
    {
      "cell_type": "markdown",
      "source": [
        "# VISUALIZING THE TREE"
      ],
      "metadata": {
        "id": "_4BlCRxHCr53"
      }
    },
    {
      "cell_type": "code",
      "source": [
        "text_representation = tree.export_text(model)\n",
        "print(text_representation)"
      ],
      "metadata": {
        "colab": {
          "base_uri": "https://localhost:8080/"
        },
        "id": "vpOLHQ0PAJ6z",
        "outputId": "72a7eef5-4094-42f7-af7a-7946f94dd8a4"
      },
      "execution_count": 39,
      "outputs": [
        {
          "output_type": "stream",
          "name": "stdout",
          "text": [
            "|--- feature_2 <= 0.96\n",
            "|   |--- feature_11 <= 0.84\n",
            "|   |   |--- feature_0 <= 160.89\n",
            "|   |   |   |--- feature_11 <= 0.82\n",
            "|   |   |   |   |--- feature_3 <= 1.14\n",
            "|   |   |   |   |   |--- class: 1\n",
            "|   |   |   |   |--- feature_3 >  1.14\n",
            "|   |   |   |   |   |--- class: 0\n",
            "|   |   |   |--- feature_11 >  0.82\n",
            "|   |   |   |   |--- feature_1 <= 1.00\n",
            "|   |   |   |   |   |--- class: 0\n",
            "|   |   |   |   |--- feature_1 >  1.00\n",
            "|   |   |   |   |   |--- class: 1\n",
            "|   |   |--- feature_0 >  160.89\n",
            "|   |   |   |--- class: 0\n",
            "|   |--- feature_11 >  0.84\n",
            "|   |   |--- feature_10 <= 14.12\n",
            "|   |   |   |--- feature_9 <= 0.89\n",
            "|   |   |   |   |--- feature_10 <= 7.20\n",
            "|   |   |   |   |   |--- class: 1\n",
            "|   |   |   |   |--- feature_10 >  7.20\n",
            "|   |   |   |   |   |--- class: 0\n",
            "|   |   |   |--- feature_9 >  0.89\n",
            "|   |   |   |   |--- feature_2 <= 0.90\n",
            "|   |   |   |   |   |--- class: 1\n",
            "|   |   |   |   |--- feature_2 >  0.90\n",
            "|   |   |   |   |   |--- class: 1\n",
            "|   |   |--- feature_10 >  14.12\n",
            "|   |   |   |--- class: 0\n",
            "|--- feature_2 >  0.96\n",
            "|   |--- feature_3 <= 0.94\n",
            "|   |   |--- feature_11 <= 0.79\n",
            "|   |   |   |--- feature_10 <= 2.89\n",
            "|   |   |   |   |--- class: 1\n",
            "|   |   |   |--- feature_10 >  2.89\n",
            "|   |   |   |   |--- class: 0\n",
            "|   |   |--- feature_11 >  0.79\n",
            "|   |   |   |--- feature_4 <= 1.50\n",
            "|   |   |   |   |--- feature_10 <= 3.69\n",
            "|   |   |   |   |   |--- class: 0\n",
            "|   |   |   |   |--- feature_10 >  3.69\n",
            "|   |   |   |   |   |--- class: 1\n",
            "|   |   |   |--- feature_4 >  1.50\n",
            "|   |   |   |   |--- class: 0\n",
            "|   |--- feature_3 >  0.94\n",
            "|   |   |--- feature_0 <= 155.05\n",
            "|   |   |   |--- class: 0\n",
            "|   |   |--- feature_0 >  155.05\n",
            "|   |   |   |--- feature_4 <= 0.50\n",
            "|   |   |   |   |--- feature_0 <= 161.33\n",
            "|   |   |   |   |   |--- class: 0\n",
            "|   |   |   |   |--- feature_0 >  161.33\n",
            "|   |   |   |   |   |--- class: 1\n",
            "|   |   |   |--- feature_4 >  0.50\n",
            "|   |   |   |   |--- class: 0\n",
            "\n"
          ]
        }
      ]
    },
    {
      "cell_type": "code",
      "source": [
        "# predict the target on the train dataset\n",
        "predict_train = model.predict(X_train)\n",
        "print('Target on train data',predict_train) "
      ],
      "metadata": {
        "colab": {
          "base_uri": "https://localhost:8080/"
        },
        "id": "Tc2M-CBU81ix",
        "outputId": "6c4f5dd3-ad15-47b6-c8f2-209f89dec138"
      },
      "execution_count": 40,
      "outputs": [
        {
          "output_type": "stream",
          "name": "stdout",
          "text": [
            "Target on train data [0 0 0 1 1 1 0 1 1 1 0 0 0 1 1 0 0 1 0 0 1 1 1 1 1 0 0 0 0 1 0 1 0 0 1 0 1\n",
            " 1 1 0 0 1 0 0 0 0 0 1 0 1 1 1 1 0 0 1 1 1 1 1 0 1 1 1 1 0 1 0 0 0 1 0 0 1\n",
            " 1 0 1 1 1 0 0 1 0 1 1 0 1 0 1 1 1 0 1 1 1 1 1 1 1 0 1 1 0 1 1 0 1 1 1 0 1\n",
            " 0 1 1 0 0 0 0 0 1 1 0 1 0 1 1 0 1 0 1 0 1 0 1 0 0 1 1 1 0 0 0 0 0 0 1 0 1\n",
            " 1 0 0 1 0 1 1 0 0 1 1 0 0 0 1 0 1 0 0 0 0 1 0 0 1 1 0 0 1 0 0 0 1 0 1 1 1\n",
            " 0 0 0 0 0 0 1 0 0 0 0 1 1 1 0 1 0 1 1 1 1 1 1 0 0 0 1 0 1 0 1 1 1 1]\n"
          ]
        }
      ]
    },
    {
      "cell_type": "code",
      "source": [
        "# Accuray Score on train dataset\n",
        "accuracy_train = accuracy_score(y_train,predict_train)\n",
        "print('accuracy_score on train dataset : ', accuracy_train)"
      ],
      "metadata": {
        "colab": {
          "base_uri": "https://localhost:8080/"
        },
        "id": "3dp18Dg_8_Nb",
        "outputId": "2031040c-e6de-477c-cd10-1470d15030da"
      },
      "execution_count": 41,
      "outputs": [
        {
          "output_type": "stream",
          "name": "stdout",
          "text": [
            "accuracy_score on train dataset :  0.8082191780821918\n"
          ]
        }
      ]
    },
    {
      "cell_type": "code",
      "source": [
        "# predict the target on the test dataset\n",
        "predict_test = model.predict(X_test)\n",
        "print('Target on test data',predict_test)"
      ],
      "metadata": {
        "colab": {
          "base_uri": "https://localhost:8080/"
        },
        "id": "GPrbsPUb9IjP",
        "outputId": "66bad00b-7cfd-486e-a566-4ae0e081df7b"
      },
      "execution_count": 42,
      "outputs": [
        {
          "output_type": "stream",
          "name": "stdout",
          "text": [
            "Target on test data [1 1 1 1 1 1 0 1 0 0 0 0 0 1 1 1 1 0 1 0 1 1 0 1 0 1 1 1 1 1 1 0 1 1 0 1 1\n",
            " 0 0 1 1 0 1 0 1 0 1 1 0 0 1 1 0 0 1 0 1 1 0 0 0 1 0 0 1 1 0 0 0 1 1 1 1]\n"
          ]
        }
      ]
    },
    {
      "cell_type": "code",
      "source": [
        "# Accuracy Score on test dataset\n",
        "accuracy_test = accuracy_score(y_test,predict_test)\n",
        "print('accuracy_score on test dataset : ', accuracy_test)"
      ],
      "metadata": {
        "colab": {
          "base_uri": "https://localhost:8080/"
        },
        "id": "3NS3Y4P99Pac",
        "outputId": "23bd2651-15e2-4be2-8ec6-9e7915fef6d4"
      },
      "execution_count": 43,
      "outputs": [
        {
          "output_type": "stream",
          "name": "stdout",
          "text": [
            "accuracy_score on test dataset :  0.5753424657534246\n"
          ]
        }
      ]
    },
    {
      "cell_type": "code",
      "source": [
        "pred4 = rf_features_rf_1.predict(X_test)\n",
        "mean_squared_error(y_test, pred4)\n",
        "pd.DataFrame(pred4)\n",
        "pred4 = tf.math.round(pred4)\n",
        "pred4"
      ],
      "metadata": {
        "colab": {
          "base_uri": "https://localhost:8080/"
        },
        "id": "PKr_9CrwNxdm",
        "outputId": "051f56c4-53b1-47fe-dccd-860b4ac9360c"
      },
      "execution_count": 44,
      "outputs": [
        {
          "output_type": "execute_result",
          "data": {
            "text/plain": [
              "<tf.Tensor: shape=(73,), dtype=int64, numpy=\n",
              "array([1, 0, 1, 1, 1, 1, 0, 1, 1, 0, 0, 1, 0, 1, 1, 1, 1, 0, 1, 0, 1, 0,\n",
              "       0, 1, 0, 1, 1, 1, 0, 1, 1, 1, 1, 0, 0, 0, 1, 0, 0, 1, 1, 0, 1, 0,\n",
              "       1, 0, 0, 1, 0, 0, 1, 1, 1, 0, 1, 0, 1, 1, 1, 1, 0, 1, 1, 0, 1, 1,\n",
              "       0, 0, 0, 1, 1, 1, 0])>"
            ]
          },
          "metadata": {},
          "execution_count": 44
        }
      ]
    },
    {
      "cell_type": "code",
      "source": [
        "rf_features_rf_1.score(X_train, y_train)"
      ],
      "metadata": {
        "colab": {
          "base_uri": "https://localhost:8080/"
        },
        "id": "NCbsAH1YNxgh",
        "outputId": "66db0554-6c0b-4173-cd92-57f39e01248e"
      },
      "execution_count": 45,
      "outputs": [
        {
          "output_type": "execute_result",
          "data": {
            "text/plain": [
              "0.9908675799086758"
            ]
          },
          "metadata": {},
          "execution_count": 45
        }
      ]
    },
    {
      "cell_type": "code",
      "source": [
        "print(classification_report(y_test, pred4, digits=3))\n",
        "print(f\"Average precision score: {average_precision_score(y_test, pred4):.3f}\")\n",
        "print(\"Cohen kappa score: \", cohen_kappa_score(y_test, pred4))\n",
        "print(\"Confusion matrix: \")\n",
        "print(confusion_matrix(y_test, pred4))"
      ],
      "metadata": {
        "colab": {
          "base_uri": "https://localhost:8080/"
        },
        "id": "uOnFsK9DNxjw",
        "outputId": "e590b417-9556-47a7-9e34-66c5d2b068f4"
      },
      "execution_count": 46,
      "outputs": [
        {
          "output_type": "stream",
          "name": "stdout",
          "text": [
            "              precision    recall  f1-score   support\n",
            "\n",
            "           0      0.533     0.552     0.542        29\n",
            "           1      0.698     0.682     0.690        44\n",
            "\n",
            "    accuracy                          0.630        73\n",
            "   macro avg      0.616     0.617     0.616        73\n",
            "weighted avg      0.632     0.630     0.631        73\n",
            "\n",
            "Average precision score: 0.667\n",
            "Cohen kappa score:  0.2321776392676277\n",
            "Confusion matrix: \n",
            "[[16 13]\n",
            " [14 30]]\n"
          ]
        }
      ]
    },
    {
      "cell_type": "markdown",
      "source": [
        "Bagging AUC"
      ],
      "metadata": {
        "id": "hL_AemBxSIci"
      }
    },
    {
      "cell_type": "code",
      "source": [
        "rfc_bag_1 = RandomForestClassifier(max_features=12, random_state=42)\n",
        "rfc_bag_1.fit(X_train, y_train)"
      ],
      "metadata": {
        "colab": {
          "base_uri": "https://localhost:8080/"
        },
        "id": "IoDWc6fTNxtA",
        "outputId": "5b916bf0-9f91-4f81-be58-7988a128d7ff"
      },
      "execution_count": 47,
      "outputs": [
        {
          "output_type": "stream",
          "name": "stderr",
          "text": [
            "/usr/local/lib/python3.7/dist-packages/ipykernel_launcher.py:2: DataConversionWarning: A column-vector y was passed when a 1d array was expected. Please change the shape of y to (n_samples,), for example using ravel().\n",
            "  \n"
          ]
        },
        {
          "output_type": "execute_result",
          "data": {
            "text/plain": [
              "RandomForestClassifier(max_features=12, random_state=42)"
            ]
          },
          "metadata": {},
          "execution_count": 47
        }
      ]
    },
    {
      "cell_type": "markdown",
      "source": [
        "Random Forests AUC"
      ],
      "metadata": {
        "id": "aiUnXNvgR8Dp"
      }
    },
    {
      "cell_type": "code",
      "source": [
        "rfc_rf_1 = RandomForestClassifier(max_features=5 ,random_state=42)\n",
        "rfc_rf_1.fit(X_train, y_train)\n",
        "\n"
      ],
      "metadata": {
        "colab": {
          "base_uri": "https://localhost:8080/"
        },
        "id": "V_pkCUiiNxps",
        "outputId": "18a1a69d-88a2-471e-820d-60c98489dd0e"
      },
      "execution_count": 48,
      "outputs": [
        {
          "output_type": "stream",
          "name": "stderr",
          "text": [
            "/usr/local/lib/python3.7/dist-packages/ipykernel_launcher.py:2: DataConversionWarning: A column-vector y was passed when a 1d array was expected. Please change the shape of y to (n_samples,), for example using ravel().\n",
            "  \n"
          ]
        },
        {
          "output_type": "execute_result",
          "data": {
            "text/plain": [
              "RandomForestClassifier(max_features=5, random_state=42)"
            ]
          },
          "metadata": {},
          "execution_count": 48
        }
      ]
    },
    {
      "cell_type": "code",
      "source": [
        "disp= plot_roc_curve(rfc_rf_1,X_test, y_test)\n",
        "plot_roc_curve(rfc_bag_1,X_test, y_test, ax=disp.ax_);\n",
        "plot_roc_curve(model,X_test, y_test, ax=disp.ax_);"
      ],
      "metadata": {
        "colab": {
          "base_uri": "https://localhost:8080/",
          "height": 403
        },
        "id": "nIP629eqZALz",
        "outputId": "4a658f18-f07a-48a5-9ecb-db0614c669d5"
      },
      "execution_count": 49,
      "outputs": [
        {
          "output_type": "stream",
          "name": "stderr",
          "text": [
            "/usr/local/lib/python3.7/dist-packages/sklearn/utils/deprecation.py:87: FutureWarning: Function plot_roc_curve is deprecated; Function `plot_roc_curve` is deprecated in 1.0 and will be removed in 1.2. Use one of the class methods: RocCurveDisplay.from_predictions or RocCurveDisplay.from_estimator.\n",
            "  warnings.warn(msg, category=FutureWarning)\n",
            "/usr/local/lib/python3.7/dist-packages/sklearn/utils/deprecation.py:87: FutureWarning: Function plot_roc_curve is deprecated; Function `plot_roc_curve` is deprecated in 1.0 and will be removed in 1.2. Use one of the class methods: RocCurveDisplay.from_predictions or RocCurveDisplay.from_estimator.\n",
            "  warnings.warn(msg, category=FutureWarning)\n",
            "/usr/local/lib/python3.7/dist-packages/sklearn/utils/deprecation.py:87: FutureWarning: Function plot_roc_curve is deprecated; Function `plot_roc_curve` is deprecated in 1.0 and will be removed in 1.2. Use one of the class methods: RocCurveDisplay.from_predictions or RocCurveDisplay.from_estimator.\n",
            "  warnings.warn(msg, category=FutureWarning)\n"
          ]
        },
        {
          "output_type": "display_data",
          "data": {
            "image/png": "[encoded data removed]",
            "text/plain": [
              "<Figure size 432x288 with 1 Axes>"
            ]
          },
          "metadata": {
            "needs_background": "light"
          }
        }
      ]
    },
    {
      "cell_type": "code",
      "source": [
        ""
      ],
      "metadata": {
        "id": "OVpaDHDXaANN"
      },
      "execution_count": 49,
      "outputs": []
    }
  ]
}