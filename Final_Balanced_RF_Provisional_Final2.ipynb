{
  "cells": [
    {
      "cell_type": "code",
      "execution_count": null,
      "metadata": {
        "colab": {
          "base_uri": "https://localhost:8080/"
        },
        "id": "ut3N8Q9hNGmd",
        "outputId": "243ff13c-56b8-404f-ee63-4fc13df9ff5d"
      },
      "outputs": [
        {
          "output_type": "stream",
          "name": "stdout",
          "text": [
            "Requirement already satisfied: graphviz in /usr/local/lib/python3.7/dist-packages (0.10.1)\n"
          ]
        }
      ],
      "source": [
        "pip install graphviz"
      ]
    },
    {
      "cell_type": "code",
      "execution_count": null,
      "metadata": {
        "colab": {
          "base_uri": "https://localhost:8080/"
        },
        "id": "HMGtoAd9NGmf",
        "outputId": "5860d744-d6bb-45a2-e04e-fde61be0fa62"
      },
      "outputs": [
        {
          "output_type": "stream",
          "name": "stdout",
          "text": [
            "Requirement already satisfied: tensorflow in /usr/local/lib/python3.7/dist-packages (2.7.0)\n",
            "Requirement already satisfied: typing-extensions>=3.6.6 in /usr/local/lib/python3.7/dist-packages (from tensorflow) (3.10.0.2)\n",
            "Requirement already satisfied: wheel<1.0,>=0.32.0 in /usr/local/lib/python3.7/dist-packages (from tensorflow) (0.37.0)\n",
            "Requirement already satisfied: six>=1.12.0 in /usr/local/lib/python3.7/dist-packages (from tensorflow) (1.15.0)\n",
            "Requirement already satisfied: h5py>=2.9.0 in /usr/local/lib/python3.7/dist-packages (from tensorflow) (3.1.0)\n",
            "Requirement already satisfied: protobuf>=3.9.2 in /usr/local/lib/python3.7/dist-packages (from tensorflow) (3.17.3)\n",
            "Requirement already satisfied: astunparse>=1.6.0 in /usr/local/lib/python3.7/dist-packages (from tensorflow) (1.6.3)\n",
            "Requirement already satisfied: google-pasta>=0.1.1 in /usr/local/lib/python3.7/dist-packages (from tensorflow) (0.2.0)\n",
            "Requirement already satisfied: numpy>=1.14.5 in /usr/local/lib/python3.7/dist-packages (from tensorflow) (1.19.5)\n",
            "Requirement already satisfied: keras<2.8,>=2.7.0rc0 in /usr/local/lib/python3.7/dist-packages (from tensorflow) (2.7.0)\n",
            "Requirement already satisfied: opt-einsum>=2.3.2 in /usr/local/lib/python3.7/dist-packages (from tensorflow) (3.3.0)\n",
            "Requirement already satisfied: tensorflow-estimator<2.8,~=2.7.0rc0 in /usr/local/lib/python3.7/dist-packages (from tensorflow) (2.7.0)\n",
            "Requirement already satisfied: gast<0.5.0,>=0.2.1 in /usr/local/lib/python3.7/dist-packages (from tensorflow) (0.4.0)\n",
            "Requirement already satisfied: wrapt>=1.11.0 in /usr/local/lib/python3.7/dist-packages (from tensorflow) (1.13.3)\n",
            "Requirement already satisfied: absl-py>=0.4.0 in /usr/local/lib/python3.7/dist-packages (from tensorflow) (0.12.0)\n",
            "Requirement already satisfied: keras-preprocessing>=1.1.1 in /usr/local/lib/python3.7/dist-packages (from tensorflow) (1.1.2)\n",
            "Requirement already satisfied: libclang>=9.0.1 in /usr/local/lib/python3.7/dist-packages (from tensorflow) (12.0.0)\n",
            "Requirement already satisfied: tensorflow-io-gcs-filesystem>=0.21.0 in /usr/local/lib/python3.7/dist-packages (from tensorflow) (0.22.0)\n",
            "Requirement already satisfied: grpcio<2.0,>=1.24.3 in /usr/local/lib/python3.7/dist-packages (from tensorflow) (1.42.0)\n",
            "Requirement already satisfied: tensorboard~=2.6 in /usr/local/lib/python3.7/dist-packages (from tensorflow) (2.7.0)\n",
            "Requirement already satisfied: flatbuffers<3.0,>=1.12 in /usr/local/lib/python3.7/dist-packages (from tensorflow) (2.0)\n",
            "Requirement already satisfied: termcolor>=1.1.0 in /usr/local/lib/python3.7/dist-packages (from tensorflow) (1.1.0)\n",
            "Requirement already satisfied: cached-property in /usr/local/lib/python3.7/dist-packages (from h5py>=2.9.0->tensorflow) (1.5.2)\n",
            "Requirement already satisfied: tensorboard-plugin-wit>=1.6.0 in /usr/local/lib/python3.7/dist-packages (from tensorboard~=2.6->tensorflow) (1.8.0)\n",
            "Requirement already satisfied: werkzeug>=0.11.15 in /usr/local/lib/python3.7/dist-packages (from tensorboard~=2.6->tensorflow) (1.0.1)\n",
            "Requirement already satisfied: google-auth-oauthlib<0.5,>=0.4.1 in /usr/local/lib/python3.7/dist-packages (from tensorboard~=2.6->tensorflow) (0.4.6)\n",
            "Requirement already satisfied: requests<3,>=2.21.0 in /usr/local/lib/python3.7/dist-packages (from tensorboard~=2.6->tensorflow) (2.23.0)\n",
            "Requirement already satisfied: google-auth<3,>=1.6.3 in /usr/local/lib/python3.7/dist-packages (from tensorboard~=2.6->tensorflow) (1.35.0)\n",
            "Requirement already satisfied: setuptools>=41.0.0 in /usr/local/lib/python3.7/dist-packages (from tensorboard~=2.6->tensorflow) (57.4.0)\n",
            "Requirement already satisfied: markdown>=2.6.8 in /usr/local/lib/python3.7/dist-packages (from tensorboard~=2.6->tensorflow) (3.3.6)\n",
            "Requirement already satisfied: tensorboard-data-server<0.7.0,>=0.6.0 in /usr/local/lib/python3.7/dist-packages (from tensorboard~=2.6->tensorflow) (0.6.1)\n",
            "Requirement already satisfied: cachetools<5.0,>=2.0.0 in /usr/local/lib/python3.7/dist-packages (from google-auth<3,>=1.6.3->tensorboard~=2.6->tensorflow) (4.2.4)\n",
            "Requirement already satisfied: pyasn1-modules>=0.2.1 in /usr/local/lib/python3.7/dist-packages (from google-auth<3,>=1.6.3->tensorboard~=2.6->tensorflow) (0.2.8)\n",
            "Requirement already satisfied: rsa<5,>=3.1.4 in /usr/local/lib/python3.7/dist-packages (from google-auth<3,>=1.6.3->tensorboard~=2.6->tensorflow) (4.8)\n",
            "Requirement already satisfied: requests-oauthlib>=0.7.0 in /usr/local/lib/python3.7/dist-packages (from google-auth-oauthlib<0.5,>=0.4.1->tensorboard~=2.6->tensorflow) (1.3.0)\n",
            "Requirement already satisfied: importlib-metadata>=4.4 in /usr/local/lib/python3.7/dist-packages (from markdown>=2.6.8->tensorboard~=2.6->tensorflow) (4.8.2)\n",
            "Requirement already satisfied: zipp>=0.5 in /usr/local/lib/python3.7/dist-packages (from importlib-metadata>=4.4->markdown>=2.6.8->tensorboard~=2.6->tensorflow) (3.6.0)\n",
            "Requirement already satisfied: pyasn1<0.5.0,>=0.4.6 in /usr/local/lib/python3.7/dist-packages (from pyasn1-modules>=0.2.1->google-auth<3,>=1.6.3->tensorboard~=2.6->tensorflow) (0.4.8)\n",
            "Requirement already satisfied: certifi>=2017.4.17 in /usr/local/lib/python3.7/dist-packages (from requests<3,>=2.21.0->tensorboard~=2.6->tensorflow) (2021.10.8)\n",
            "Requirement already satisfied: chardet<4,>=3.0.2 in /usr/local/lib/python3.7/dist-packages (from requests<3,>=2.21.0->tensorboard~=2.6->tensorflow) (3.0.4)\n",
            "Requirement already satisfied: urllib3!=1.25.0,!=1.25.1,<1.26,>=1.21.1 in /usr/local/lib/python3.7/dist-packages (from requests<3,>=2.21.0->tensorboard~=2.6->tensorflow) (1.24.3)\n",
            "Requirement already satisfied: idna<3,>=2.5 in /usr/local/lib/python3.7/dist-packages (from requests<3,>=2.21.0->tensorboard~=2.6->tensorflow) (2.10)\n",
            "Requirement already satisfied: oauthlib>=3.0.0 in /usr/local/lib/python3.7/dist-packages (from requests-oauthlib>=0.7.0->google-auth-oauthlib<0.5,>=0.4.1->tensorboard~=2.6->tensorflow) (3.1.1)\n"
          ]
        }
      ],
      "source": [
        "pip install tensorflow"
      ]
    },
    {
      "cell_type": "code",
      "execution_count": null,
      "metadata": {
        "colab": {
          "base_uri": "https://localhost:8080/"
        },
        "id": "77qljgJaNGmg",
        "outputId": "51bb795a-9a9e-4076-c336-d952b239caf0"
      },
      "outputs": [
        {
          "output_type": "stream",
          "name": "stdout",
          "text": [
            "Requirement already satisfied: pandas in /usr/local/lib/python3.7/dist-packages (1.1.5)\n",
            "Requirement already satisfied: pytz>=2017.2 in /usr/local/lib/python3.7/dist-packages (from pandas) (2018.9)\n",
            "Requirement already satisfied: python-dateutil>=2.7.3 in /usr/local/lib/python3.7/dist-packages (from pandas) (2.8.2)\n",
            "Requirement already satisfied: numpy>=1.15.4 in /usr/local/lib/python3.7/dist-packages (from pandas) (1.19.5)\n",
            "Requirement already satisfied: six>=1.5 in /usr/local/lib/python3.7/dist-packages (from python-dateutil>=2.7.3->pandas) (1.15.0)\n"
          ]
        }
      ],
      "source": [
        "pip install pandas"
      ]
    },
    {
      "cell_type": "code",
      "execution_count": null,
      "metadata": {
        "colab": {
          "base_uri": "https://localhost:8080/"
        },
        "id": "3-k_BJYsNGmg",
        "outputId": "606f4da9-762d-40d6-d1dd-91dd33a02879"
      },
      "outputs": [
        {
          "output_type": "stream",
          "name": "stdout",
          "text": [
            "Requirement already satisfied: matplotlib in /usr/local/lib/python3.7/dist-packages (3.2.2)\n",
            "Requirement already satisfied: numpy>=1.11 in /usr/local/lib/python3.7/dist-packages (from matplotlib) (1.19.5)\n",
            "Requirement already satisfied: python-dateutil>=2.1 in /usr/local/lib/python3.7/dist-packages (from matplotlib) (2.8.2)\n",
            "Requirement already satisfied: kiwisolver>=1.0.1 in /usr/local/lib/python3.7/dist-packages (from matplotlib) (1.3.2)\n",
            "Requirement already satisfied: cycler>=0.10 in /usr/local/lib/python3.7/dist-packages (from matplotlib) (0.11.0)\n",
            "Requirement already satisfied: pyparsing!=2.0.4,!=2.1.2,!=2.1.6,>=2.0.1 in /usr/local/lib/python3.7/dist-packages (from matplotlib) (3.0.6)\n",
            "Requirement already satisfied: six>=1.5 in /usr/local/lib/python3.7/dist-packages (from python-dateutil>=2.1->matplotlib) (1.15.0)\n"
          ]
        }
      ],
      "source": [
        "pip install matplotlib"
      ]
    },
    {
      "cell_type": "code",
      "execution_count": null,
      "metadata": {
        "id": "8CFbkLJ54w1M"
      },
      "outputs": [],
      "source": [
        "import pandas as pd\n",
        "import numpy as np\n",
        "import matplotlib as mpl\n",
        "import matplotlib.pyplot as plt\n",
        "import graphviz\n",
        "from sklearn.metrics import plot_roc_curve\n",
        "import tensorflow as tf\n",
        "from sklearn.metrics import confusion_matrix, average_precision_score, accuracy_score\n",
        "from sklearn.metrics import classification_report\n",
        "from sklearn.model_selection import GridSearchCV\n",
        "from sklearn.metrics import cohen_kappa_score\n",
        "#Import the packages that will likely be required based on the guides followed\n",
        "%matplotlib inline"
      ]
    },
    {
      "cell_type": "code",
      "execution_count": null,
      "metadata": {
        "id": "CbSn-j3KvbAe"
      },
      "outputs": [],
      "source": [
        "from sklearn.tree import plot_tree"
      ]
    },
    {
      "cell_type": "code",
      "execution_count": null,
      "metadata": {
        "id": "G3l5IiMjAVRg"
      },
      "outputs": [],
      "source": [
        "from sklearn import tree"
      ]
    },
    {
      "cell_type": "code",
      "execution_count": null,
      "metadata": {
        "id": "y25vUJqT5N1a"
      },
      "outputs": [],
      "source": [
        "from sklearn.model_selection import train_test_split\n",
        "from sklearn.tree import DecisionTreeRegressor, DecisionTreeClassifier, export_graphviz\n",
        "from sklearn.ensemble import RandomForestRegressor, GradientBoostingRegressor, RandomForestClassifier, BaggingClassifier\n",
        "from sklearn.metrics import confusion_matrix, mean_squared_error"
      ]
    },
    {
      "cell_type": "code",
      "execution_count": null,
      "metadata": {
        "colab": {
          "base_uri": "https://localhost:8080/",
          "height": 39,
          "resources": {
            "http://localhost:8080/nbextensions/google.colab/files.js": {
              "data": "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",
              "headers": [
                [
                  "content-type",
                  "application/javascript"
                ]
              ],
              "ok": true,
              "status": 200,
              "status_text": ""
            }
          }
        },
        "id": "eOQjSQvY5bty",
        "outputId": "7e582500-ff01-4798-cb08-c8462a2258cc"
      },
      "outputs": [
        {
          "output_type": "display_data",
          "data": {
            "text/html": [
              "\n",
              "     <input type=\"file\" id=\"files-37bb241c-7e65-489f-a2c2-c8f4f199d0a4\" name=\"files[]\" multiple disabled\n",
              "        style=\"border:none\" />\n",
              "     <output id=\"result-37bb241c-7e65-489f-a2c2-c8f4f199d0a4\">\n",
              "      Upload widget is only available when the cell has been executed in the\n",
              "      current browser session. Please rerun this cell to enable.\n",
              "      </output>\n",
              "      <script src=\"/nbextensions/google.colab/files.js\"></script> "
            ],
            "text/plain": [
              "<IPython.core.display.HTML object>"
            ]
          },
          "metadata": {}
        }
      ],
      "source": [
        "from google.colab import files#Only needed if you are working on Colab, choose the file you are using, otherwise, ignore this block of code if you are working in a directory where the file is already present\n",
        "uploaded = files.upload()"
      ]
    },
    {
      "cell_type": "code",
      "execution_count": null,
      "metadata": {
        "colab": {
          "base_uri": "https://localhost:8080/",
          "height": 386
        },
        "id": "yJQJ2JLs5N4v",
        "outputId": "e7c8741c-b3f7-4bc8-d119-019933ff9835"
      },
      "outputs": [
        {
          "output_type": "execute_result",
          "data": {
            "text/html": [
              "\n",
              "  <div id=\"df-926a81f8-dc97-474a-98a5-d46ecaa50bd2\">\n",
              "    <div class=\"colab-df-container\">\n",
              "      <div>\n",
              "<style scoped>\n",
              "    .dataframe tbody tr th:only-of-type {\n",
              "        vertical-align: middle;\n",
              "    }\n",
              "\n",
              "    .dataframe tbody tr th {\n",
              "        vertical-align: top;\n",
              "    }\n",
              "\n",
              "    .dataframe thead th {\n",
              "        text-align: right;\n",
              "    }\n",
              "</style>\n",
              "<table border=\"1\" class=\"dataframe\">\n",
              "  <thead>\n",
              "    <tr style=\"text-align: right;\">\n",
              "      <th></th>\n",
              "      <th>cid</th>\n",
              "      <th>acvalue</th>\n",
              "      <th>smiles</th>\n",
              "      <th>Activity</th>\n",
              "      <th>nAcid</th>\n",
              "      <th>ALogP</th>\n",
              "      <th>ALogp2</th>\n",
              "      <th>AMR</th>\n",
              "      <th>apol</th>\n",
              "      <th>naAromAtom</th>\n",
              "      <th>nAromBond</th>\n",
              "      <th>nAtom</th>\n",
              "      <th>nHeavyAtom</th>\n",
              "      <th>nH</th>\n",
              "      <th>nB</th>\n",
              "      <th>nC</th>\n",
              "      <th>nN</th>\n",
              "      <th>nO</th>\n",
              "      <th>nS</th>\n",
              "      <th>nP</th>\n",
              "      <th>nF</th>\n",
              "      <th>nCl</th>\n",
              "      <th>nBr</th>\n",
              "      <th>nI</th>\n",
              "      <th>nX</th>\n",
              "      <th>ATS0m</th>\n",
              "      <th>ATS1m</th>\n",
              "      <th>ATS2m</th>\n",
              "      <th>ATS3m</th>\n",
              "      <th>ATS4m</th>\n",
              "      <th>ATS5m</th>\n",
              "      <th>ATS6m</th>\n",
              "      <th>ATS7m</th>\n",
              "      <th>ATS8m</th>\n",
              "      <th>ATS0v</th>\n",
              "      <th>ATS1v</th>\n",
              "      <th>ATS2v</th>\n",
              "      <th>ATS3v</th>\n",
              "      <th>ATS4v</th>\n",
              "      <th>ATS5v</th>\n",
              "      <th>...</th>\n",
              "      <th>De</th>\n",
              "      <th>L1p</th>\n",
              "      <th>L2p</th>\n",
              "      <th>L3p</th>\n",
              "      <th>P1p</th>\n",
              "      <th>P2p</th>\n",
              "      <th>E1p</th>\n",
              "      <th>E2p</th>\n",
              "      <th>E3p</th>\n",
              "      <th>Tp</th>\n",
              "      <th>Ap</th>\n",
              "      <th>Vp</th>\n",
              "      <th>Kp</th>\n",
              "      <th>Dp</th>\n",
              "      <th>L1i</th>\n",
              "      <th>L2i</th>\n",
              "      <th>L3i</th>\n",
              "      <th>P1i</th>\n",
              "      <th>P2i</th>\n",
              "      <th>E1i</th>\n",
              "      <th>E2i</th>\n",
              "      <th>E3i</th>\n",
              "      <th>Ti</th>\n",
              "      <th>Ai</th>\n",
              "      <th>Vi</th>\n",
              "      <th>Ki</th>\n",
              "      <th>Di</th>\n",
              "      <th>L1s</th>\n",
              "      <th>L2s</th>\n",
              "      <th>L3s</th>\n",
              "      <th>P1s</th>\n",
              "      <th>P2s</th>\n",
              "      <th>E1s</th>\n",
              "      <th>E2s</th>\n",
              "      <th>E3s</th>\n",
              "      <th>Ts</th>\n",
              "      <th>As</th>\n",
              "      <th>Vs</th>\n",
              "      <th>Ks</th>\n",
              "      <th>Ds</th>\n",
              "    </tr>\n",
              "  </thead>\n",
              "  <tbody>\n",
              "    <tr>\n",
              "      <th>0</th>\n",
              "      <td>225100</td>\n",
              "      <td>4.0000</td>\n",
              "      <td>O=C(O)CSc1nc2cc(Cl)c(Cl)cc2[nH]1</td>\n",
              "      <td>inactive</td>\n",
              "      <td>1</td>\n",
              "      <td>1.2172</td>\n",
              "      <td>1.481576</td>\n",
              "      <td>34.1060</td>\n",
              "      <td>30.904758</td>\n",
              "      <td>9</td>\n",
              "      <td>10</td>\n",
              "      <td>22</td>\n",
              "      <td>16</td>\n",
              "      <td>6</td>\n",
              "      <td>0</td>\n",
              "      <td>9</td>\n",
              "      <td>2</td>\n",
              "      <td>2</td>\n",
              "      <td>1</td>\n",
              "      <td>0</td>\n",
              "      <td>0.0</td>\n",
              "      <td>2.0</td>\n",
              "      <td>0.0</td>\n",
              "      <td>0.0</td>\n",
              "      <td>2.0</td>\n",
              "      <td>4866.470694</td>\n",
              "      <td>3285.911675</td>\n",
              "      <td>5125.915532</td>\n",
              "      <td>5823.261916</td>\n",
              "      <td>4023.627644</td>\n",
              "      <td>3755.414546</td>\n",
              "      <td>2366.160564</td>\n",
              "      <td>2010.701122</td>\n",
              "      <td>1851.892400</td>\n",
              "      <td>6349.023301</td>\n",
              "      <td>7253.070731</td>\n",
              "      <td>10367.565415</td>\n",
              "      <td>10340.266164</td>\n",
              "      <td>7838.209328</td>\n",
              "      <td>6365.402729</td>\n",
              "      <td>...</td>\n",
              "      <td>1.413581</td>\n",
              "      <td>11.445241</td>\n",
              "      <td>1.176596</td>\n",
              "      <td>0.258144</td>\n",
              "      <td>0.888607</td>\n",
              "      <td>0.091351</td>\n",
              "      <td>0.563188</td>\n",
              "      <td>0.284529</td>\n",
              "      <td>0.217283</td>\n",
              "      <td>12.879982</td>\n",
              "      <td>16.724678</td>\n",
              "      <td>33.080940</td>\n",
              "      <td>0.832910</td>\n",
              "      <td>1.065000</td>\n",
              "      <td>11.312779</td>\n",
              "      <td>1.437079</td>\n",
              "      <td>0.345254</td>\n",
              "      <td>0.863893</td>\n",
              "      <td>0.109742</td>\n",
              "      <td>0.548770</td>\n",
              "      <td>0.423822</td>\n",
              "      <td>0.448298</td>\n",
              "      <td>13.095112</td>\n",
              "      <td>20.659296</td>\n",
              "      <td>39.367328</td>\n",
              "      <td>0.795840</td>\n",
              "      <td>1.420891</td>\n",
              "      <td>11.688495</td>\n",
              "      <td>1.325009</td>\n",
              "      <td>0.348914</td>\n",
              "      <td>0.874729</td>\n",
              "      <td>0.099159</td>\n",
              "      <td>0.585817</td>\n",
              "      <td>0.360563</td>\n",
              "      <td>0.458213</td>\n",
              "      <td>13.362418</td>\n",
              "      <td>20.027951</td>\n",
              "      <td>38.794126</td>\n",
              "      <td>0.812094</td>\n",
              "      <td>1.404593</td>\n",
              "    </tr>\n",
              "    <tr>\n",
              "      <th>1</th>\n",
              "      <td>1825716</td>\n",
              "      <td>0.5500</td>\n",
              "      <td>Cc1ccc(OCCSc2ncccn2)c(Br)c1</td>\n",
              "      <td>inactive</td>\n",
              "      <td>0</td>\n",
              "      <td>1.9905</td>\n",
              "      <td>3.962090</td>\n",
              "      <td>32.9382</td>\n",
              "      <td>40.500309</td>\n",
              "      <td>12</td>\n",
              "      <td>12</td>\n",
              "      <td>31</td>\n",
              "      <td>18</td>\n",
              "      <td>13</td>\n",
              "      <td>0</td>\n",
              "      <td>13</td>\n",
              "      <td>2</td>\n",
              "      <td>1</td>\n",
              "      <td>1</td>\n",
              "      <td>0</td>\n",
              "      <td>0.0</td>\n",
              "      <td>0.0</td>\n",
              "      <td>1.0</td>\n",
              "      <td>0.0</td>\n",
              "      <td>1.0</td>\n",
              "      <td>9065.915841</td>\n",
              "      <td>3905.568826</td>\n",
              "      <td>5680.398994</td>\n",
              "      <td>6633.296591</td>\n",
              "      <td>5370.358053</td>\n",
              "      <td>3698.544856</td>\n",
              "      <td>3127.935587</td>\n",
              "      <td>2890.234735</td>\n",
              "      <td>4082.689219</td>\n",
              "      <td>7739.752888</td>\n",
              "      <td>9009.086446</td>\n",
              "      <td>12129.769040</td>\n",
              "      <td>12295.294407</td>\n",
              "      <td>10303.119687</td>\n",
              "      <td>8950.141038</td>\n",
              "      <td>...</td>\n",
              "      <td>1.434107</td>\n",
              "      <td>16.154816</td>\n",
              "      <td>1.937974</td>\n",
              "      <td>0.569152</td>\n",
              "      <td>0.865656</td>\n",
              "      <td>0.103846</td>\n",
              "      <td>0.482243</td>\n",
              "      <td>0.533074</td>\n",
              "      <td>0.208126</td>\n",
              "      <td>18.661941</td>\n",
              "      <td>41.605152</td>\n",
              "      <td>78.085876</td>\n",
              "      <td>0.798484</td>\n",
              "      <td>1.223443</td>\n",
              "      <td>17.856844</td>\n",
              "      <td>1.913562</td>\n",
              "      <td>0.790178</td>\n",
              "      <td>0.868499</td>\n",
              "      <td>0.093069</td>\n",
              "      <td>0.589039</td>\n",
              "      <td>0.508048</td>\n",
              "      <td>0.436256</td>\n",
              "      <td>20.560585</td>\n",
              "      <td>49.792328</td>\n",
              "      <td>97.353445</td>\n",
              "      <td>0.802748</td>\n",
              "      <td>1.533343</td>\n",
              "      <td>17.690543</td>\n",
              "      <td>1.835237</td>\n",
              "      <td>0.746796</td>\n",
              "      <td>0.872634</td>\n",
              "      <td>0.090528</td>\n",
              "      <td>0.578062</td>\n",
              "      <td>0.470886</td>\n",
              "      <td>0.395607</td>\n",
              "      <td>20.272577</td>\n",
              "      <td>47.048120</td>\n",
              "      <td>91.566431</td>\n",
              "      <td>0.808951</td>\n",
              "      <td>1.444554</td>\n",
              "    </tr>\n",
              "    <tr>\n",
              "      <th>2</th>\n",
              "      <td>11679800</td>\n",
              "      <td>0.0168</td>\n",
              "      <td>CC(C)=CCC[C@](C)(O[C@@H]1O[C@H](CO)[C@@H](O)[C...</td>\n",
              "      <td>active</td>\n",
              "      <td>1</td>\n",
              "      <td>0.5752</td>\n",
              "      <td>0.330855</td>\n",
              "      <td>29.2113</td>\n",
              "      <td>31.098344</td>\n",
              "      <td>9</td>\n",
              "      <td>10</td>\n",
              "      <td>24</td>\n",
              "      <td>16</td>\n",
              "      <td>8</td>\n",
              "      <td>0</td>\n",
              "      <td>10</td>\n",
              "      <td>2</td>\n",
              "      <td>2</td>\n",
              "      <td>0</td>\n",
              "      <td>0</td>\n",
              "      <td>0.0</td>\n",
              "      <td>2.0</td>\n",
              "      <td>0.0</td>\n",
              "      <td>0.0</td>\n",
              "      <td>2.0</td>\n",
              "      <td>4868.502822</td>\n",
              "      <td>3310.125851</td>\n",
              "      <td>5175.359948</td>\n",
              "      <td>5908.016572</td>\n",
              "      <td>4138.596092</td>\n",
              "      <td>3805.875026</td>\n",
              "      <td>2418.653172</td>\n",
              "      <td>2153.635522</td>\n",
              "      <td>1851.892400</td>\n",
              "      <td>6411.190790</td>\n",
              "      <td>7482.543964</td>\n",
              "      <td>10857.595624</td>\n",
              "      <td>11041.939075</td>\n",
              "      <td>8687.377805</td>\n",
              "      <td>6886.516683</td>\n",
              "      <td>...</td>\n",
              "      <td>1.303480</td>\n",
              "      <td>11.450959</td>\n",
              "      <td>1.168955</td>\n",
              "      <td>0.327426</td>\n",
              "      <td>0.884426</td>\n",
              "      <td>0.090285</td>\n",
              "      <td>0.619005</td>\n",
              "      <td>0.292564</td>\n",
              "      <td>0.145712</td>\n",
              "      <td>12.947340</td>\n",
              "      <td>17.517751</td>\n",
              "      <td>34.847909</td>\n",
              "      <td>0.826638</td>\n",
              "      <td>1.057281</td>\n",
              "      <td>10.717133</td>\n",
              "      <td>1.409146</td>\n",
              "      <td>0.506650</td>\n",
              "      <td>0.848349</td>\n",
              "      <td>0.111545</td>\n",
              "      <td>0.540422</td>\n",
              "      <td>0.426244</td>\n",
              "      <td>0.372027</td>\n",
              "      <td>12.632930</td>\n",
              "      <td>21.245790</td>\n",
              "      <td>41.530153</td>\n",
              "      <td>0.772523</td>\n",
              "      <td>1.338693</td>\n",
              "      <td>10.934821</td>\n",
              "      <td>1.303764</td>\n",
              "      <td>0.486393</td>\n",
              "      <td>0.859319</td>\n",
              "      <td>0.102457</td>\n",
              "      <td>0.562681</td>\n",
              "      <td>0.366310</td>\n",
              "      <td>0.342588</td>\n",
              "      <td>12.724978</td>\n",
              "      <td>20.209189</td>\n",
              "      <td>39.868393</td>\n",
              "      <td>0.788979</td>\n",
              "      <td>1.271579</td>\n",
              "    </tr>\n",
              "    <tr>\n",
              "      <th>3</th>\n",
              "      <td>14162967</td>\n",
              "      <td>0.0168</td>\n",
              "      <td>CC(C)=CCC[C@](C)(O[C@@H]1O[C@H](CO)[C@@H](O)[C...</td>\n",
              "      <td>active</td>\n",
              "      <td>0</td>\n",
              "      <td>0.8200</td>\n",
              "      <td>0.672400</td>\n",
              "      <td>134.7535</td>\n",
              "      <td>90.681236</td>\n",
              "      <td>0</td>\n",
              "      <td>0</td>\n",
              "      <td>86</td>\n",
              "      <td>34</td>\n",
              "      <td>52</td>\n",
              "      <td>0</td>\n",
              "      <td>30</td>\n",
              "      <td>0</td>\n",
              "      <td>4</td>\n",
              "      <td>0</td>\n",
              "      <td>0</td>\n",
              "      <td>0.0</td>\n",
              "      <td>0.0</td>\n",
              "      <td>0.0</td>\n",
              "      <td>0.0</td>\n",
              "      <td>0.0</td>\n",
              "      <td>5404.630962</td>\n",
              "      <td>6175.020141</td>\n",
              "      <td>10569.200499</td>\n",
              "      <td>13928.758477</td>\n",
              "      <td>13530.953189</td>\n",
              "      <td>12097.098300</td>\n",
              "      <td>10334.456402</td>\n",
              "      <td>9302.450418</td>\n",
              "      <td>8506.558222</td>\n",
              "      <td>15187.424871</td>\n",
              "      <td>21022.387874</td>\n",
              "      <td>36014.128236</td>\n",
              "      <td>51007.246921</td>\n",
              "      <td>57789.310825</td>\n",
              "      <td>54153.421222</td>\n",
              "      <td>...</td>\n",
              "      <td>1.462925</td>\n",
              "      <td>13.356831</td>\n",
              "      <td>4.713860</td>\n",
              "      <td>1.551971</td>\n",
              "      <td>0.680684</td>\n",
              "      <td>0.240225</td>\n",
              "      <td>0.480137</td>\n",
              "      <td>0.404662</td>\n",
              "      <td>0.310977</td>\n",
              "      <td>19.622663</td>\n",
              "      <td>91.007428</td>\n",
              "      <td>208.345661</td>\n",
              "      <td>0.521026</td>\n",
              "      <td>1.195776</td>\n",
              "      <td>14.202111</td>\n",
              "      <td>5.192340</td>\n",
              "      <td>1.924706</td>\n",
              "      <td>0.666167</td>\n",
              "      <td>0.243553</td>\n",
              "      <td>0.542372</td>\n",
              "      <td>0.492669</td>\n",
              "      <td>0.478277</td>\n",
              "      <td>21.319157</td>\n",
              "      <td>111.070800</td>\n",
              "      <td>274.321969</td>\n",
              "      <td>0.499250</td>\n",
              "      <td>1.513318</td>\n",
              "      <td>14.162502</td>\n",
              "      <td>5.110835</td>\n",
              "      <td>1.876100</td>\n",
              "      <td>0.669640</td>\n",
              "      <td>0.241653</td>\n",
              "      <td>0.539443</td>\n",
              "      <td>0.477526</td>\n",
              "      <td>0.454229</td>\n",
              "      <td>21.149437</td>\n",
              "      <td>108.540907</td>\n",
              "      <td>265.486570</td>\n",
              "      <td>0.504460</td>\n",
              "      <td>1.471197</td>\n",
              "    </tr>\n",
              "    <tr>\n",
              "      <th>4</th>\n",
              "      <td>14525327</td>\n",
              "      <td>3.0000</td>\n",
              "      <td>C[C@H](CC[C@@H](O)C(C)(C)O)[C@H]1CC[C@@]2(C)[C...</td>\n",
              "      <td>inactive</td>\n",
              "      <td>1</td>\n",
              "      <td>0.5720</td>\n",
              "      <td>0.327184</td>\n",
              "      <td>23.2561</td>\n",
              "      <td>66.975067</td>\n",
              "      <td>27</td>\n",
              "      <td>30</td>\n",
              "      <td>52</td>\n",
              "      <td>33</td>\n",
              "      <td>19</td>\n",
              "      <td>0</td>\n",
              "      <td>27</td>\n",
              "      <td>2</td>\n",
              "      <td>3</td>\n",
              "      <td>0</td>\n",
              "      <td>0</td>\n",
              "      <td>0.0</td>\n",
              "      <td>1.0</td>\n",
              "      <td>0.0</td>\n",
              "      <td>0.0</td>\n",
              "      <td>1.0</td>\n",
              "      <td>6331.435084</td>\n",
              "      <td>6142.860146</td>\n",
              "      <td>9234.538103</td>\n",
              "      <td>9868.519933</td>\n",
              "      <td>9714.146137</td>\n",
              "      <td>9004.759376</td>\n",
              "      <td>7164.482540</td>\n",
              "      <td>7034.156940</td>\n",
              "      <td>7315.727153</td>\n",
              "      <td>13665.319127</td>\n",
              "      <td>16934.930973</td>\n",
              "      <td>24849.027523</td>\n",
              "      <td>27613.596117</td>\n",
              "      <td>26181.310788</td>\n",
              "      <td>23695.728859</td>\n",
              "      <td>...</td>\n",
              "      <td>1.562560</td>\n",
              "      <td>32.678344</td>\n",
              "      <td>1.875418</td>\n",
              "      <td>1.309409</td>\n",
              "      <td>0.911195</td>\n",
              "      <td>0.052294</td>\n",
              "      <td>0.519289</td>\n",
              "      <td>0.277799</td>\n",
              "      <td>0.326617</td>\n",
              "      <td>35.863171</td>\n",
              "      <td>106.530578</td>\n",
              "      <td>222.641628</td>\n",
              "      <td>0.866793</td>\n",
              "      <td>1.123705</td>\n",
              "      <td>35.436934</td>\n",
              "      <td>2.242259</td>\n",
              "      <td>1.712113</td>\n",
              "      <td>0.899613</td>\n",
              "      <td>0.056923</td>\n",
              "      <td>0.609762</td>\n",
              "      <td>0.443232</td>\n",
              "      <td>0.586587</td>\n",
              "      <td>39.391306</td>\n",
              "      <td>143.969814</td>\n",
              "      <td>319.403533</td>\n",
              "      <td>0.849420</td>\n",
              "      <td>1.639581</td>\n",
              "      <td>35.140178</td>\n",
              "      <td>2.228841</td>\n",
              "      <td>1.614423</td>\n",
              "      <td>0.901413</td>\n",
              "      <td>0.057174</td>\n",
              "      <td>0.600107</td>\n",
              "      <td>0.432198</td>\n",
              "      <td>0.526542</td>\n",
              "      <td>38.983441</td>\n",
              "      <td>138.651258</td>\n",
              "      <td>304.079293</td>\n",
              "      <td>0.852119</td>\n",
              "      <td>1.558847</td>\n",
              "    </tr>\n",
              "  </tbody>\n",
              "</table>\n",
              "<p>5 rows × 1879 columns</p>\n",
              "</div>\n",
              "      <button class=\"colab-df-convert\" onclick=\"convertToInteractive('df-926a81f8-dc97-474a-98a5-d46ecaa50bd2')\"\n",
              "              title=\"Convert this dataframe to an interactive table.\"\n",
              "              style=\"display:none;\">\n",
              "        \n",
              "  <svg xmlns=\"http://www.w3.org/2000/svg\" height=\"24px\"viewBox=\"0 0 24 24\"\n",
              "       width=\"24px\">\n",
              "    <path d=\"M0 0h24v24H0V0z\" fill=\"none\"/>\n",
              "    <path d=\"M18.56 5.44l.94 2.06.94-2.06 2.06-.94-2.06-.94-.94-2.06-.94 2.06-2.06.94zm-11 1L8.5 8.5l.94-2.06 2.06-.94-2.06-.94L8.5 2.5l-.94 2.06-2.06.94zm10 10l.94 2.06.94-2.06 2.06-.94-2.06-.94-.94-2.06-.94 2.06-2.06.94z\"/><path d=\"M17.41 7.96l-1.37-1.37c-.4-.4-.92-.59-1.43-.59-.52 0-1.04.2-1.43.59L10.3 9.45l-7.72 7.72c-.78.78-.78 2.05 0 2.83L4 21.41c.39.39.9.59 1.41.59.51 0 1.02-.2 1.41-.59l7.78-7.78 2.81-2.81c.8-.78.8-2.07 0-2.86zM5.41 20L4 18.59l7.72-7.72 1.47 1.35L5.41 20z\"/>\n",
              "  </svg>\n",
              "      </button>\n",
              "      \n",
              "  <style>\n",
              "    .colab-df-container {\n",
              "      display:flex;\n",
              "      flex-wrap:wrap;\n",
              "      gap: 12px;\n",
              "    }\n",
              "\n",
              "    .colab-df-convert {\n",
              "      background-color: #E8F0FE;\n",
              "      border: none;\n",
              "      border-radius: 50%;\n",
              "      cursor: pointer;\n",
              "      display: none;\n",
              "      fill: #1967D2;\n",
              "      height: 32px;\n",
              "      padding: 0 0 0 0;\n",
              "      width: 32px;\n",
              "    }\n",
              "\n",
              "    .colab-df-convert:hover {\n",
              "      background-color: #E2EBFA;\n",
              "      box-shadow: 0px 1px 2px rgba(60, 64, 67, 0.3), 0px 1px 3px 1px rgba(60, 64, 67, 0.15);\n",
              "      fill: #174EA6;\n",
              "    }\n",
              "\n",
              "    [theme=dark] .colab-df-convert {\n",
              "      background-color: #3B4455;\n",
              "      fill: #D2E3FC;\n",
              "    }\n",
              "\n",
              "    [theme=dark] .colab-df-convert:hover {\n",
              "      background-color: #434B5C;\n",
              "      box-shadow: 0px 1px 3px 1px rgba(0, 0, 0, 0.15);\n",
              "      filter: drop-shadow(0px 1px 2px rgba(0, 0, 0, 0.3));\n",
              "      fill: #FFFFFF;\n",
              "    }\n",
              "  </style>\n",
              "\n",
              "      <script>\n",
              "        const buttonEl =\n",
              "          document.querySelector('#df-926a81f8-dc97-474a-98a5-d46ecaa50bd2 button.colab-df-convert');\n",
              "        buttonEl.style.display =\n",
              "          google.colab.kernel.accessAllowed ? 'block' : 'none';\n",
              "\n",
              "        async function convertToInteractive(key) {\n",
              "          const element = document.querySelector('#df-926a81f8-dc97-474a-98a5-d46ecaa50bd2');\n",
              "          const dataTable =\n",
              "            await google.colab.kernel.invokeFunction('convertToInteractive',\n",
              "                                                     [key], {});\n",
              "          if (!dataTable) return;\n",
              "\n",
              "          const docLinkHtml = 'Like what you see? Visit the ' +\n",
              "            '<a target=\"_blank\" href=https://colab.research.google.com/notebooks/data_table.ipynb>data table notebook</a>'\n",
              "            + ' to learn more about interactive tables.';\n",
              "          element.innerHTML = '';\n",
              "          dataTable['output_type'] = 'display_data';\n",
              "          await google.colab.output.renderOutput(dataTable, element);\n",
              "          const docLink = document.createElement('div');\n",
              "          docLink.innerHTML = docLinkHtml;\n",
              "          element.appendChild(docLink);\n",
              "        }\n",
              "      </script>\n",
              "    </div>\n",
              "  </div>\n",
              "  "
            ],
            "text/plain": [
              "        cid  acvalue  ...        Ks        Ds\n",
              "0    225100   4.0000  ...  0.812094  1.404593\n",
              "1   1825716   0.5500  ...  0.808951  1.444554\n",
              "2  11679800   0.0168  ...  0.788979  1.271579\n",
              "3  14162967   0.0168  ...  0.504460  1.471197\n",
              "4  14525327   3.0000  ...  0.852119  1.558847\n",
              "\n",
              "[5 rows x 1879 columns]"
            ]
          },
          "metadata": {},
          "execution_count": 4
        }
      ],
      "source": [
        "features = pd.read_csv('balanced.csv')#Read the file\n",
        "features.head(5)#Print the first five lines"
      ]
    },
    {
      "cell_type": "code",
      "execution_count": null,
      "metadata": {
        "colab": {
          "base_uri": "https://localhost:8080/"
        },
        "id": "SPbZBP1O5N72",
        "outputId": "d4aa79b0-60a9-4536-ec5c-f733f92d4348"
      },
      "outputs": [
        {
          "output_type": "stream",
          "name": "stdout",
          "text": [
            "The shape of our features is: (292, 1879)\n"
          ]
        }
      ],
      "source": [
        "print('The shape of our features is:', features.shape)#Dimension of the dataset"
      ]
    },
    {
      "cell_type": "code",
      "execution_count": null,
      "metadata": {
        "colab": {
          "base_uri": "https://localhost:8080/",
          "height": 394
        },
        "id": "xK4Zq2wM5N-j",
        "outputId": "d1b1d12d-bca6-4047-ed68-7eb7e12eddc3"
      },
      "outputs": [
        {
          "output_type": "execute_result",
          "data": {
            "text/html": [
              "\n",
              "  <div id=\"df-ca532955-2333-46f4-b0f4-8df6a1f99adf\">\n",
              "    <div class=\"colab-df-container\">\n",
              "      <div>\n",
              "<style scoped>\n",
              "    .dataframe tbody tr th:only-of-type {\n",
              "        vertical-align: middle;\n",
              "    }\n",
              "\n",
              "    .dataframe tbody tr th {\n",
              "        vertical-align: top;\n",
              "    }\n",
              "\n",
              "    .dataframe thead th {\n",
              "        text-align: right;\n",
              "    }\n",
              "</style>\n",
              "<table border=\"1\" class=\"dataframe\">\n",
              "  <thead>\n",
              "    <tr style=\"text-align: right;\">\n",
              "      <th></th>\n",
              "      <th>cid</th>\n",
              "      <th>acvalue</th>\n",
              "      <th>nAcid</th>\n",
              "      <th>ALogP</th>\n",
              "      <th>ALogp2</th>\n",
              "      <th>AMR</th>\n",
              "      <th>apol</th>\n",
              "      <th>naAromAtom</th>\n",
              "      <th>nAromBond</th>\n",
              "      <th>nAtom</th>\n",
              "      <th>nHeavyAtom</th>\n",
              "      <th>nH</th>\n",
              "      <th>nB</th>\n",
              "      <th>nC</th>\n",
              "      <th>nN</th>\n",
              "      <th>nO</th>\n",
              "      <th>nS</th>\n",
              "      <th>nP</th>\n",
              "      <th>nF</th>\n",
              "      <th>nCl</th>\n",
              "      <th>nBr</th>\n",
              "      <th>nI</th>\n",
              "      <th>nX</th>\n",
              "      <th>ATS0m</th>\n",
              "      <th>ATS1m</th>\n",
              "      <th>ATS2m</th>\n",
              "      <th>ATS3m</th>\n",
              "      <th>ATS4m</th>\n",
              "      <th>ATS5m</th>\n",
              "      <th>ATS6m</th>\n",
              "      <th>ATS7m</th>\n",
              "      <th>ATS8m</th>\n",
              "      <th>ATS0v</th>\n",
              "      <th>ATS1v</th>\n",
              "      <th>ATS2v</th>\n",
              "      <th>ATS3v</th>\n",
              "      <th>ATS4v</th>\n",
              "      <th>ATS5v</th>\n",
              "      <th>ATS6v</th>\n",
              "      <th>ATS7v</th>\n",
              "      <th>...</th>\n",
              "      <th>De</th>\n",
              "      <th>L1p</th>\n",
              "      <th>L2p</th>\n",
              "      <th>L3p</th>\n",
              "      <th>P1p</th>\n",
              "      <th>P2p</th>\n",
              "      <th>E1p</th>\n",
              "      <th>E2p</th>\n",
              "      <th>E3p</th>\n",
              "      <th>Tp</th>\n",
              "      <th>Ap</th>\n",
              "      <th>Vp</th>\n",
              "      <th>Kp</th>\n",
              "      <th>Dp</th>\n",
              "      <th>L1i</th>\n",
              "      <th>L2i</th>\n",
              "      <th>L3i</th>\n",
              "      <th>P1i</th>\n",
              "      <th>P2i</th>\n",
              "      <th>E1i</th>\n",
              "      <th>E2i</th>\n",
              "      <th>E3i</th>\n",
              "      <th>Ti</th>\n",
              "      <th>Ai</th>\n",
              "      <th>Vi</th>\n",
              "      <th>Ki</th>\n",
              "      <th>Di</th>\n",
              "      <th>L1s</th>\n",
              "      <th>L2s</th>\n",
              "      <th>L3s</th>\n",
              "      <th>P1s</th>\n",
              "      <th>P2s</th>\n",
              "      <th>E1s</th>\n",
              "      <th>E2s</th>\n",
              "      <th>E3s</th>\n",
              "      <th>Ts</th>\n",
              "      <th>As</th>\n",
              "      <th>Vs</th>\n",
              "      <th>Ks</th>\n",
              "      <th>Ds</th>\n",
              "    </tr>\n",
              "  </thead>\n",
              "  <tbody>\n",
              "    <tr>\n",
              "      <th>count</th>\n",
              "      <td>2.920000e+02</td>\n",
              "      <td>292.000000</td>\n",
              "      <td>292.000000</td>\n",
              "      <td>292.000000</td>\n",
              "      <td>292.000000</td>\n",
              "      <td>292.000000</td>\n",
              "      <td>292.000000</td>\n",
              "      <td>292.000000</td>\n",
              "      <td>292.000000</td>\n",
              "      <td>292.000000</td>\n",
              "      <td>292.000000</td>\n",
              "      <td>292.000000</td>\n",
              "      <td>292.0</td>\n",
              "      <td>292.000000</td>\n",
              "      <td>292.000000</td>\n",
              "      <td>292.000000</td>\n",
              "      <td>292.000000</td>\n",
              "      <td>292.000000</td>\n",
              "      <td>292.000000</td>\n",
              "      <td>292.000000</td>\n",
              "      <td>292.000000</td>\n",
              "      <td>292.0</td>\n",
              "      <td>292.000000</td>\n",
              "      <td>292.000000</td>\n",
              "      <td>292.000000</td>\n",
              "      <td>292.000000</td>\n",
              "      <td>292.000000</td>\n",
              "      <td>292.000000</td>\n",
              "      <td>292.000000</td>\n",
              "      <td>292.000000</td>\n",
              "      <td>292.000000</td>\n",
              "      <td>292.000000</td>\n",
              "      <td>292.000000</td>\n",
              "      <td>292.000000</td>\n",
              "      <td>292.000000</td>\n",
              "      <td>292.000000</td>\n",
              "      <td>292.000000</td>\n",
              "      <td>292.000000</td>\n",
              "      <td>292.000000</td>\n",
              "      <td>292.000000</td>\n",
              "      <td>...</td>\n",
              "      <td>292.000000</td>\n",
              "      <td>292.000000</td>\n",
              "      <td>292.000000</td>\n",
              "      <td>292.000000</td>\n",
              "      <td>292.000000</td>\n",
              "      <td>292.000000</td>\n",
              "      <td>292.000000</td>\n",
              "      <td>292.000000</td>\n",
              "      <td>292.000000</td>\n",
              "      <td>292.000000</td>\n",
              "      <td>292.000000</td>\n",
              "      <td>292.000000</td>\n",
              "      <td>292.000000</td>\n",
              "      <td>292.000000</td>\n",
              "      <td>292.000000</td>\n",
              "      <td>292.000000</td>\n",
              "      <td>292.000000</td>\n",
              "      <td>292.000000</td>\n",
              "      <td>292.000000</td>\n",
              "      <td>292.000000</td>\n",
              "      <td>292.000000</td>\n",
              "      <td>292.000000</td>\n",
              "      <td>292.000000</td>\n",
              "      <td>292.000000</td>\n",
              "      <td>292.000000</td>\n",
              "      <td>292.000000</td>\n",
              "      <td>292.000000</td>\n",
              "      <td>292.000000</td>\n",
              "      <td>292.000000</td>\n",
              "      <td>292.000000</td>\n",
              "      <td>292.000000</td>\n",
              "      <td>292.000000</td>\n",
              "      <td>292.000000</td>\n",
              "      <td>292.000000</td>\n",
              "      <td>292.000000</td>\n",
              "      <td>292.000000</td>\n",
              "      <td>292.000000</td>\n",
              "      <td>292.000000</td>\n",
              "      <td>292.000000</td>\n",
              "      <td>292.000000</td>\n",
              "    </tr>\n",
              "    <tr>\n",
              "      <th>mean</th>\n",
              "      <td>9.311034e+07</td>\n",
              "      <td>0.984303</td>\n",
              "      <td>0.780822</td>\n",
              "      <td>-0.289388</td>\n",
              "      <td>0.641622</td>\n",
              "      <td>46.318243</td>\n",
              "      <td>58.987878</td>\n",
              "      <td>15.839041</td>\n",
              "      <td>18.017123</td>\n",
              "      <td>48.907534</td>\n",
              "      <td>28.397260</td>\n",
              "      <td>20.510274</td>\n",
              "      <td>0.0</td>\n",
              "      <td>21.527397</td>\n",
              "      <td>2.212329</td>\n",
              "      <td>3.359589</td>\n",
              "      <td>0.099315</td>\n",
              "      <td>0.017123</td>\n",
              "      <td>0.393836</td>\n",
              "      <td>0.777397</td>\n",
              "      <td>0.010274</td>\n",
              "      <td>0.0</td>\n",
              "      <td>1.181507</td>\n",
              "      <td>5666.186609</td>\n",
              "      <td>5457.027849</td>\n",
              "      <td>8254.057134</td>\n",
              "      <td>9105.793340</td>\n",
              "      <td>8904.691768</td>\n",
              "      <td>7856.463294</td>\n",
              "      <td>6552.308919</td>\n",
              "      <td>6367.253225</td>\n",
              "      <td>5517.550777</td>\n",
              "      <td>11546.980381</td>\n",
              "      <td>14637.509342</td>\n",
              "      <td>22180.618490</td>\n",
              "      <td>25467.576317</td>\n",
              "      <td>25047.629760</td>\n",
              "      <td>22672.087369</td>\n",
              "      <td>19365.585506</td>\n",
              "      <td>17092.414535</td>\n",
              "      <td>...</td>\n",
              "      <td>1.349740</td>\n",
              "      <td>21.526577</td>\n",
              "      <td>2.770099</td>\n",
              "      <td>0.690189</td>\n",
              "      <td>0.842432</td>\n",
              "      <td>0.129116</td>\n",
              "      <td>0.477361</td>\n",
              "      <td>0.329190</td>\n",
              "      <td>0.189576</td>\n",
              "      <td>24.986865</td>\n",
              "      <td>76.961898</td>\n",
              "      <td>150.620850</td>\n",
              "      <td>0.763782</td>\n",
              "      <td>0.996127</td>\n",
              "      <td>23.903806</td>\n",
              "      <td>3.244504</td>\n",
              "      <td>0.902357</td>\n",
              "      <td>0.832262</td>\n",
              "      <td>0.133957</td>\n",
              "      <td>0.595462</td>\n",
              "      <td>0.465302</td>\n",
              "      <td>0.346871</td>\n",
              "      <td>28.050667</td>\n",
              "      <td>101.910759</td>\n",
              "      <td>208.587674</td>\n",
              "      <td>0.748455</td>\n",
              "      <td>1.407635</td>\n",
              "      <td>23.663358</td>\n",
              "      <td>3.175451</td>\n",
              "      <td>0.868644</td>\n",
              "      <td>0.833951</td>\n",
              "      <td>0.133095</td>\n",
              "      <td>0.580732</td>\n",
              "      <td>0.445563</td>\n",
              "      <td>0.322194</td>\n",
              "      <td>27.707453</td>\n",
              "      <td>98.381196</td>\n",
              "      <td>199.932229</td>\n",
              "      <td>0.750955</td>\n",
              "      <td>1.348489</td>\n",
              "    </tr>\n",
              "    <tr>\n",
              "      <th>std</th>\n",
              "      <td>2.845981e+07</td>\n",
              "      <td>3.903559</td>\n",
              "      <td>0.483304</td>\n",
              "      <td>0.748193</td>\n",
              "      <td>0.845010</td>\n",
              "      <td>27.640566</td>\n",
              "      <td>16.036612</td>\n",
              "      <td>4.878396</td>\n",
              "      <td>5.857094</td>\n",
              "      <td>15.879973</td>\n",
              "      <td>6.267222</td>\n",
              "      <td>10.723800</td>\n",
              "      <td>0.0</td>\n",
              "      <td>5.295002</td>\n",
              "      <td>1.436916</td>\n",
              "      <td>1.117255</td>\n",
              "      <td>0.310857</td>\n",
              "      <td>0.129954</td>\n",
              "      <td>0.844853</td>\n",
              "      <td>0.485285</td>\n",
              "      <td>0.101012</td>\n",
              "      <td>0.0</td>\n",
              "      <td>0.697024</td>\n",
              "      <td>1116.395803</td>\n",
              "      <td>1245.320145</td>\n",
              "      <td>1995.084596</td>\n",
              "      <td>2326.131285</td>\n",
              "      <td>2205.841619</td>\n",
              "      <td>2182.544570</td>\n",
              "      <td>2039.722758</td>\n",
              "      <td>1769.588229</td>\n",
              "      <td>2153.319621</td>\n",
              "      <td>2639.358789</td>\n",
              "      <td>3733.102472</td>\n",
              "      <td>6373.416796</td>\n",
              "      <td>9132.169527</td>\n",
              "      <td>10837.408959</td>\n",
              "      <td>10622.181711</td>\n",
              "      <td>9432.016513</td>\n",
              "      <td>8245.229696</td>\n",
              "      <td>...</td>\n",
              "      <td>0.094569</td>\n",
              "      <td>11.896724</td>\n",
              "      <td>1.214758</td>\n",
              "      <td>0.450827</td>\n",
              "      <td>0.069141</td>\n",
              "      <td>0.060806</td>\n",
              "      <td>0.046398</td>\n",
              "      <td>0.049309</td>\n",
              "      <td>0.078344</td>\n",
              "      <td>12.014095</td>\n",
              "      <td>54.639245</td>\n",
              "      <td>120.763363</td>\n",
              "      <td>0.103291</td>\n",
              "      <td>0.112663</td>\n",
              "      <td>12.783018</td>\n",
              "      <td>1.250567</td>\n",
              "      <td>0.526852</td>\n",
              "      <td>0.071499</td>\n",
              "      <td>0.060938</td>\n",
              "      <td>0.048223</td>\n",
              "      <td>0.044625</td>\n",
              "      <td>0.097627</td>\n",
              "      <td>12.843700</td>\n",
              "      <td>65.726037</td>\n",
              "      <td>158.474712</td>\n",
              "      <td>0.107071</td>\n",
              "      <td>0.100190</td>\n",
              "      <td>12.822015</td>\n",
              "      <td>1.250520</td>\n",
              "      <td>0.511654</td>\n",
              "      <td>0.071198</td>\n",
              "      <td>0.060875</td>\n",
              "      <td>0.043798</td>\n",
              "      <td>0.041083</td>\n",
              "      <td>0.089886</td>\n",
              "      <td>12.887248</td>\n",
              "      <td>65.155626</td>\n",
              "      <td>154.818855</td>\n",
              "      <td>0.106715</td>\n",
              "      <td>0.094307</td>\n",
              "    </tr>\n",
              "    <tr>\n",
              "      <th>min</th>\n",
              "      <td>2.251000e+05</td>\n",
              "      <td>0.000500</td>\n",
              "      <td>0.000000</td>\n",
              "      <td>-2.559900</td>\n",
              "      <td>0.000108</td>\n",
              "      <td>13.956400</td>\n",
              "      <td>30.904758</td>\n",
              "      <td>0.000000</td>\n",
              "      <td>0.000000</td>\n",
              "      <td>22.000000</td>\n",
              "      <td>16.000000</td>\n",
              "      <td>5.000000</td>\n",
              "      <td>0.0</td>\n",
              "      <td>9.000000</td>\n",
              "      <td>0.000000</td>\n",
              "      <td>1.000000</td>\n",
              "      <td>0.000000</td>\n",
              "      <td>0.000000</td>\n",
              "      <td>0.000000</td>\n",
              "      <td>0.000000</td>\n",
              "      <td>0.000000</td>\n",
              "      <td>0.0</td>\n",
              "      <td>0.000000</td>\n",
              "      <td>3336.450684</td>\n",
              "      <td>3285.911675</td>\n",
              "      <td>5125.915532</td>\n",
              "      <td>5323.657259</td>\n",
              "      <td>4023.627644</td>\n",
              "      <td>3607.608088</td>\n",
              "      <td>2366.160564</td>\n",
              "      <td>2010.701122</td>\n",
              "      <td>1504.267331</td>\n",
              "      <td>6349.023301</td>\n",
              "      <td>7253.070731</td>\n",
              "      <td>10367.565415</td>\n",
              "      <td>10340.266164</td>\n",
              "      <td>7838.209328</td>\n",
              "      <td>6365.402729</td>\n",
              "      <td>4980.517854</td>\n",
              "      <td>4055.255281</td>\n",
              "      <td>...</td>\n",
              "      <td>1.115445</td>\n",
              "      <td>7.779943</td>\n",
              "      <td>1.120482</td>\n",
              "      <td>0.057786</td>\n",
              "      <td>0.613993</td>\n",
              "      <td>0.026861</td>\n",
              "      <td>0.372552</td>\n",
              "      <td>0.204076</td>\n",
              "      <td>0.051435</td>\n",
              "      <td>10.923650</td>\n",
              "      <td>16.724678</td>\n",
              "      <td>33.080940</td>\n",
              "      <td>0.437964</td>\n",
              "      <td>0.786902</td>\n",
              "      <td>9.276769</td>\n",
              "      <td>1.361388</td>\n",
              "      <td>0.086319</td>\n",
              "      <td>0.614943</td>\n",
              "      <td>0.031909</td>\n",
              "      <td>0.407492</td>\n",
              "      <td>0.316651</td>\n",
              "      <td>0.109087</td>\n",
              "      <td>12.632930</td>\n",
              "      <td>20.659296</td>\n",
              "      <td>39.367328</td>\n",
              "      <td>0.422414</td>\n",
              "      <td>1.171669</td>\n",
              "      <td>9.103590</td>\n",
              "      <td>1.260030</td>\n",
              "      <td>0.094781</td>\n",
              "      <td>0.620699</td>\n",
              "      <td>0.032083</td>\n",
              "      <td>0.411450</td>\n",
              "      <td>0.299868</td>\n",
              "      <td>0.146048</td>\n",
              "      <td>12.724978</td>\n",
              "      <td>20.027951</td>\n",
              "      <td>38.794126</td>\n",
              "      <td>0.431048</td>\n",
              "      <td>1.102190</td>\n",
              "    </tr>\n",
              "    <tr>\n",
              "      <th>25%</th>\n",
              "      <td>8.665904e+07</td>\n",
              "      <td>0.015000</td>\n",
              "      <td>0.750000</td>\n",
              "      <td>-0.761225</td>\n",
              "      <td>0.071777</td>\n",
              "      <td>30.756950</td>\n",
              "      <td>48.472990</td>\n",
              "      <td>15.000000</td>\n",
              "      <td>17.000000</td>\n",
              "      <td>40.000000</td>\n",
              "      <td>24.000000</td>\n",
              "      <td>15.000000</td>\n",
              "      <td>0.0</td>\n",
              "      <td>18.000000</td>\n",
              "      <td>1.000000</td>\n",
              "      <td>3.000000</td>\n",
              "      <td>0.000000</td>\n",
              "      <td>0.000000</td>\n",
              "      <td>0.000000</td>\n",
              "      <td>0.000000</td>\n",
              "      <td>0.000000</td>\n",
              "      <td>0.0</td>\n",
              "      <td>1.000000</td>\n",
              "      <td>4978.077875</td>\n",
              "      <td>4579.680193</td>\n",
              "      <td>6870.508309</td>\n",
              "      <td>7477.629932</td>\n",
              "      <td>7457.813734</td>\n",
              "      <td>6350.625449</td>\n",
              "      <td>5007.395124</td>\n",
              "      <td>5116.375072</td>\n",
              "      <td>3929.164893</td>\n",
              "      <td>9777.340326</td>\n",
              "      <td>12353.690217</td>\n",
              "      <td>18379.562449</td>\n",
              "      <td>20468.355901</td>\n",
              "      <td>19529.142835</td>\n",
              "      <td>17131.392818</td>\n",
              "      <td>13916.147526</td>\n",
              "      <td>11932.597357</td>\n",
              "      <td>...</td>\n",
              "      <td>1.274539</td>\n",
              "      <td>13.994173</td>\n",
              "      <td>2.189533</td>\n",
              "      <td>0.316977</td>\n",
              "      <td>0.814032</td>\n",
              "      <td>0.090611</td>\n",
              "      <td>0.446777</td>\n",
              "      <td>0.301384</td>\n",
              "      <td>0.121147</td>\n",
              "      <td>17.289627</td>\n",
              "      <td>43.122830</td>\n",
              "      <td>74.446126</td>\n",
              "      <td>0.721049</td>\n",
              "      <td>0.897509</td>\n",
              "      <td>16.107016</td>\n",
              "      <td>2.566587</td>\n",
              "      <td>0.486731</td>\n",
              "      <td>0.807037</td>\n",
              "      <td>0.092954</td>\n",
              "      <td>0.580409</td>\n",
              "      <td>0.435962</td>\n",
              "      <td>0.278310</td>\n",
              "      <td>20.201483</td>\n",
              "      <td>63.415561</td>\n",
              "      <td>107.311028</td>\n",
              "      <td>0.710556</td>\n",
              "      <td>1.331057</td>\n",
              "      <td>15.857525</td>\n",
              "      <td>2.513344</td>\n",
              "      <td>0.450658</td>\n",
              "      <td>0.806386</td>\n",
              "      <td>0.091067</td>\n",
              "      <td>0.564869</td>\n",
              "      <td>0.417350</td>\n",
              "      <td>0.257151</td>\n",
              "      <td>19.827983</td>\n",
              "      <td>60.734670</td>\n",
              "      <td>103.438766</td>\n",
              "      <td>0.709579</td>\n",
              "      <td>1.272678</td>\n",
              "    </tr>\n",
              "    <tr>\n",
              "      <th>50%</th>\n",
              "      <td>8.669881e+07</td>\n",
              "      <td>0.064583</td>\n",
              "      <td>1.000000</td>\n",
              "      <td>-0.376200</td>\n",
              "      <td>0.386143</td>\n",
              "      <td>37.682050</td>\n",
              "      <td>53.505877</td>\n",
              "      <td>15.000000</td>\n",
              "      <td>17.000000</td>\n",
              "      <td>43.000000</td>\n",
              "      <td>26.000000</td>\n",
              "      <td>17.000000</td>\n",
              "      <td>0.0</td>\n",
              "      <td>20.000000</td>\n",
              "      <td>2.000000</td>\n",
              "      <td>3.000000</td>\n",
              "      <td>0.000000</td>\n",
              "      <td>0.000000</td>\n",
              "      <td>0.000000</td>\n",
              "      <td>1.000000</td>\n",
              "      <td>0.000000</td>\n",
              "      <td>0.0</td>\n",
              "      <td>1.000000</td>\n",
              "      <td>5380.342125</td>\n",
              "      <td>4989.771179</td>\n",
              "      <td>7492.075246</td>\n",
              "      <td>8316.575507</td>\n",
              "      <td>8444.115952</td>\n",
              "      <td>7139.723682</td>\n",
              "      <td>5914.764817</td>\n",
              "      <td>6022.623465</td>\n",
              "      <td>4880.546790</td>\n",
              "      <td>10609.529756</td>\n",
              "      <td>13339.498484</td>\n",
              "      <td>20048.003626</td>\n",
              "      <td>22632.476536</td>\n",
              "      <td>22130.409004</td>\n",
              "      <td>19424.359373</td>\n",
              "      <td>16263.713267</td>\n",
              "      <td>14228.321813</td>\n",
              "      <td>...</td>\n",
              "      <td>1.357302</td>\n",
              "      <td>16.967336</td>\n",
              "      <td>2.496470</td>\n",
              "      <td>0.570680</td>\n",
              "      <td>0.848332</td>\n",
              "      <td>0.128858</td>\n",
              "      <td>0.480153</td>\n",
              "      <td>0.327047</td>\n",
              "      <td>0.192573</td>\n",
              "      <td>20.307905</td>\n",
              "      <td>53.248613</td>\n",
              "      <td>95.343109</td>\n",
              "      <td>0.772498</td>\n",
              "      <td>1.000779</td>\n",
              "      <td>18.834049</td>\n",
              "      <td>3.026794</td>\n",
              "      <td>0.788781</td>\n",
              "      <td>0.837828</td>\n",
              "      <td>0.135188</td>\n",
              "      <td>0.605618</td>\n",
              "      <td>0.468064</td>\n",
              "      <td>0.360232</td>\n",
              "      <td>23.162845</td>\n",
              "      <td>74.232609</td>\n",
              "      <td>136.911854</td>\n",
              "      <td>0.756741</td>\n",
              "      <td>1.416045</td>\n",
              "      <td>18.542317</td>\n",
              "      <td>2.970130</td>\n",
              "      <td>0.761722</td>\n",
              "      <td>0.838338</td>\n",
              "      <td>0.135292</td>\n",
              "      <td>0.590261</td>\n",
              "      <td>0.448735</td>\n",
              "      <td>0.329968</td>\n",
              "      <td>22.838430</td>\n",
              "      <td>71.163447</td>\n",
              "      <td>129.822788</td>\n",
              "      <td>0.757507</td>\n",
              "      <td>1.359612</td>\n",
              "    </tr>\n",
              "    <tr>\n",
              "      <th>75%</th>\n",
              "      <td>1.058028e+08</td>\n",
              "      <td>0.307425</td>\n",
              "      <td>1.000000</td>\n",
              "      <td>0.084100</td>\n",
              "      <td>0.813251</td>\n",
              "      <td>49.352950</td>\n",
              "      <td>65.771834</td>\n",
              "      <td>18.000000</td>\n",
              "      <td>22.000000</td>\n",
              "      <td>53.000000</td>\n",
              "      <td>32.000000</td>\n",
              "      <td>22.000000</td>\n",
              "      <td>0.0</td>\n",
              "      <td>24.000000</td>\n",
              "      <td>3.000000</td>\n",
              "      <td>4.000000</td>\n",
              "      <td>0.000000</td>\n",
              "      <td>0.000000</td>\n",
              "      <td>0.000000</td>\n",
              "      <td>1.000000</td>\n",
              "      <td>0.000000</td>\n",
              "      <td>0.0</td>\n",
              "      <td>1.000000</td>\n",
              "      <td>6191.759869</td>\n",
              "      <td>6181.061163</td>\n",
              "      <td>9329.362456</td>\n",
              "      <td>10272.280006</td>\n",
              "      <td>10186.104543</td>\n",
              "      <td>9153.982793</td>\n",
              "      <td>7953.674047</td>\n",
              "      <td>7559.134496</td>\n",
              "      <td>7200.345412</td>\n",
              "      <td>13031.899696</td>\n",
              "      <td>16395.194780</td>\n",
              "      <td>24286.145287</td>\n",
              "      <td>27272.710831</td>\n",
              "      <td>26182.788442</td>\n",
              "      <td>23725.831642</td>\n",
              "      <td>20924.276356</td>\n",
              "      <td>19278.393937</td>\n",
              "      <td>...</td>\n",
              "      <td>1.414610</td>\n",
              "      <td>23.651355</td>\n",
              "      <td>2.818541</td>\n",
              "      <td>0.982067</td>\n",
              "      <td>0.882878</td>\n",
              "      <td>0.157473</td>\n",
              "      <td>0.503485</td>\n",
              "      <td>0.353187</td>\n",
              "      <td>0.247610</td>\n",
              "      <td>27.997867</td>\n",
              "      <td>92.762496</td>\n",
              "      <td>188.994441</td>\n",
              "      <td>0.824317</td>\n",
              "      <td>1.069114</td>\n",
              "      <td>25.871561</td>\n",
              "      <td>3.333439</td>\n",
              "      <td>1.243562</td>\n",
              "      <td>0.874059</td>\n",
              "      <td>0.165813</td>\n",
              "      <td>0.625744</td>\n",
              "      <td>0.498694</td>\n",
              "      <td>0.415126</td>\n",
              "      <td>30.870603</td>\n",
              "      <td>122.109044</td>\n",
              "      <td>261.440734</td>\n",
              "      <td>0.811089</td>\n",
              "      <td>1.475592</td>\n",
              "      <td>25.388135</td>\n",
              "      <td>3.268433</td>\n",
              "      <td>1.197608</td>\n",
              "      <td>0.875081</td>\n",
              "      <td>0.164775</td>\n",
              "      <td>0.607159</td>\n",
              "      <td>0.472702</td>\n",
              "      <td>0.386631</td>\n",
              "      <td>30.544602</td>\n",
              "      <td>116.851217</td>\n",
              "      <td>246.626872</td>\n",
              "      <td>0.812622</td>\n",
              "      <td>1.414718</td>\n",
              "    </tr>\n",
              "    <tr>\n",
              "      <th>max</th>\n",
              "      <td>1.560206e+08</td>\n",
              "      <td>50.000000</td>\n",
              "      <td>2.000000</td>\n",
              "      <td>2.009600</td>\n",
              "      <td>6.553088</td>\n",
              "      <td>154.941800</td>\n",
              "      <td>108.768787</td>\n",
              "      <td>27.000000</td>\n",
              "      <td>31.000000</td>\n",
              "      <td>101.000000</td>\n",
              "      <td>44.000000</td>\n",
              "      <td>59.000000</td>\n",
              "      <td>0.0</td>\n",
              "      <td>37.000000</td>\n",
              "      <td>7.000000</td>\n",
              "      <td>9.000000</td>\n",
              "      <td>2.000000</td>\n",
              "      <td>1.000000</td>\n",
              "      <td>4.000000</td>\n",
              "      <td>2.000000</td>\n",
              "      <td>1.000000</td>\n",
              "      <td>0.0</td>\n",
              "      <td>4.000000</td>\n",
              "      <td>10846.080710</td>\n",
              "      <td>8777.664867</td>\n",
              "      <td>14587.614916</td>\n",
              "      <td>15786.480434</td>\n",
              "      <td>15774.421866</td>\n",
              "      <td>13874.176641</td>\n",
              "      <td>11820.841218</td>\n",
              "      <td>11938.974288</td>\n",
              "      <td>11037.554492</td>\n",
              "      <td>18612.943567</td>\n",
              "      <td>25228.283994</td>\n",
              "      <td>41281.158495</td>\n",
              "      <td>56657.463128</td>\n",
              "      <td>64420.146938</td>\n",
              "      <td>61213.577501</td>\n",
              "      <td>51908.918591</td>\n",
              "      <td>43930.204381</td>\n",
              "      <td>...</td>\n",
              "      <td>1.619325</td>\n",
              "      <td>60.681105</td>\n",
              "      <td>8.145513</td>\n",
              "      <td>2.181527</td>\n",
              "      <td>0.956479</td>\n",
              "      <td>0.359456</td>\n",
              "      <td>0.689299</td>\n",
              "      <td>0.533074</td>\n",
              "      <td>0.396930</td>\n",
              "      <td>63.442154</td>\n",
              "      <td>408.944606</td>\n",
              "      <td>821.238055</td>\n",
              "      <td>0.934719</td>\n",
              "      <td>1.356281</td>\n",
              "      <td>63.569867</td>\n",
              "      <td>9.002075</td>\n",
              "      <td>2.621562</td>\n",
              "      <td>0.946882</td>\n",
              "      <td>0.345299</td>\n",
              "      <td>0.676588</td>\n",
              "      <td>0.560423</td>\n",
              "      <td>0.586587</td>\n",
              "      <td>67.135981</td>\n",
              "      <td>484.718753</td>\n",
              "      <td>1086.813285</td>\n",
              "      <td>0.920323</td>\n",
              "      <td>1.669820</td>\n",
              "      <td>64.146955</td>\n",
              "      <td>9.102828</td>\n",
              "      <td>2.551882</td>\n",
              "      <td>0.948615</td>\n",
              "      <td>0.338928</td>\n",
              "      <td>0.661202</td>\n",
              "      <td>0.544706</td>\n",
              "      <td>0.526542</td>\n",
              "      <td>67.621720</td>\n",
              "      <td>490.823229</td>\n",
              "      <td>1074.728896</td>\n",
              "      <td>0.922922</td>\n",
              "      <td>1.560919</td>\n",
              "    </tr>\n",
              "  </tbody>\n",
              "</table>\n",
              "<p>8 rows × 1877 columns</p>\n",
              "</div>\n",
              "      <button class=\"colab-df-convert\" onclick=\"convertToInteractive('df-ca532955-2333-46f4-b0f4-8df6a1f99adf')\"\n",
              "              title=\"Convert this dataframe to an interactive table.\"\n",
              "              style=\"display:none;\">\n",
              "        \n",
              "  <svg xmlns=\"http://www.w3.org/2000/svg\" height=\"24px\"viewBox=\"0 0 24 24\"\n",
              "       width=\"24px\">\n",
              "    <path d=\"M0 0h24v24H0V0z\" fill=\"none\"/>\n",
              "    <path d=\"M18.56 5.44l.94 2.06.94-2.06 2.06-.94-2.06-.94-.94-2.06-.94 2.06-2.06.94zm-11 1L8.5 8.5l.94-2.06 2.06-.94-2.06-.94L8.5 2.5l-.94 2.06-2.06.94zm10 10l.94 2.06.94-2.06 2.06-.94-2.06-.94-.94-2.06-.94 2.06-2.06.94z\"/><path d=\"M17.41 7.96l-1.37-1.37c-.4-.4-.92-.59-1.43-.59-.52 0-1.04.2-1.43.59L10.3 9.45l-7.72 7.72c-.78.78-.78 2.05 0 2.83L4 21.41c.39.39.9.59 1.41.59.51 0 1.02-.2 1.41-.59l7.78-7.78 2.81-2.81c.8-.78.8-2.07 0-2.86zM5.41 20L4 18.59l7.72-7.72 1.47 1.35L5.41 20z\"/>\n",
              "  </svg>\n",
              "      </button>\n",
              "      \n",
              "  <style>\n",
              "    .colab-df-container {\n",
              "      display:flex;\n",
              "      flex-wrap:wrap;\n",
              "      gap: 12px;\n",
              "    }\n",
              "\n",
              "    .colab-df-convert {\n",
              "      background-color: #E8F0FE;\n",
              "      border: none;\n",
              "      border-radius: 50%;\n",
              "      cursor: pointer;\n",
              "      display: none;\n",
              "      fill: #1967D2;\n",
              "      height: 32px;\n",
              "      padding: 0 0 0 0;\n",
              "      width: 32px;\n",
              "    }\n",
              "\n",
              "    .colab-df-convert:hover {\n",
              "      background-color: #E2EBFA;\n",
              "      box-shadow: 0px 1px 2px rgba(60, 64, 67, 0.3), 0px 1px 3px 1px rgba(60, 64, 67, 0.15);\n",
              "      fill: #174EA6;\n",
              "    }\n",
              "\n",
              "    [theme=dark] .colab-df-convert {\n",
              "      background-color: #3B4455;\n",
              "      fill: #D2E3FC;\n",
              "    }\n",
              "\n",
              "    [theme=dark] .colab-df-convert:hover {\n",
              "      background-color: #434B5C;\n",
              "      box-shadow: 0px 1px 3px 1px rgba(0, 0, 0, 0.15);\n",
              "      filter: drop-shadow(0px 1px 2px rgba(0, 0, 0, 0.3));\n",
              "      fill: #FFFFFF;\n",
              "    }\n",
              "  </style>\n",
              "\n",
              "      <script>\n",
              "        const buttonEl =\n",
              "          document.querySelector('#df-ca532955-2333-46f4-b0f4-8df6a1f99adf button.colab-df-convert');\n",
              "        buttonEl.style.display =\n",
              "          google.colab.kernel.accessAllowed ? 'block' : 'none';\n",
              "\n",
              "        async function convertToInteractive(key) {\n",
              "          const element = document.querySelector('#df-ca532955-2333-46f4-b0f4-8df6a1f99adf');\n",
              "          const dataTable =\n",
              "            await google.colab.kernel.invokeFunction('convertToInteractive',\n",
              "                                                     [key], {});\n",
              "          if (!dataTable) return;\n",
              "\n",
              "          const docLinkHtml = 'Like what you see? Visit the ' +\n",
              "            '<a target=\"_blank\" href=https://colab.research.google.com/notebooks/data_table.ipynb>data table notebook</a>'\n",
              "            + ' to learn more about interactive tables.';\n",
              "          element.innerHTML = '';\n",
              "          dataTable['output_type'] = 'display_data';\n",
              "          await google.colab.output.renderOutput(dataTable, element);\n",
              "          const docLink = document.createElement('div');\n",
              "          docLink.innerHTML = docLinkHtml;\n",
              "          element.appendChild(docLink);\n",
              "        }\n",
              "      </script>\n",
              "    </div>\n",
              "  </div>\n",
              "  "
            ],
            "text/plain": [
              "                cid     acvalue  ...          Ks          Ds\n",
              "count  2.920000e+02  292.000000  ...  292.000000  292.000000\n",
              "mean   9.311034e+07    0.984303  ...    0.750955    1.348489\n",
              "std    2.845981e+07    3.903559  ...    0.106715    0.094307\n",
              "min    2.251000e+05    0.000500  ...    0.431048    1.102190\n",
              "25%    8.665904e+07    0.015000  ...    0.709579    1.272678\n",
              "50%    8.669881e+07    0.064583  ...    0.757507    1.359612\n",
              "75%    1.058028e+08    0.307425  ...    0.812622    1.414718\n",
              "max    1.560206e+08   50.000000  ...    0.922922    1.560919\n",
              "\n",
              "[8 rows x 1877 columns]"
            ]
          },
          "metadata": {},
          "execution_count": 6
        }
      ],
      "source": [
        "features.describe()#Equivalent to summary function on R"
      ]
    },
    {
      "cell_type": "code",
      "execution_count": null,
      "metadata": {
        "colab": {
          "base_uri": "https://localhost:8080/"
        },
        "id": "4YvBNsPu5OBA",
        "outputId": "3fa965bf-eb21-4ecf-c691-80ecf129ee4a"
      },
      "outputs": [
        {
          "output_type": "stream",
          "name": "stdout",
          "text": [
            "TOTAL MISSING VALUE: \n",
            "cid         0\n",
            "acvalue     0\n",
            "smiles      0\n",
            "Activity    0\n",
            "nAcid       0\n",
            "           ..\n",
            "Ts          0\n",
            "As          0\n",
            "Vs          0\n",
            "Ks          0\n",
            "Ds          0\n",
            "Length: 1879, dtype: int64\n"
          ]
        }
      ],
      "source": [
        "#checking for missing data\n",
        "total_na_count = features.isna().sum()\n",
        "print(\"TOTAL MISSING VALUE: \")\n",
        "print(total_na_count)"
      ]
    },
    {
      "cell_type": "code",
      "execution_count": null,
      "metadata": {
        "id": "1RWp6G_g7u35"
      },
      "outputs": [],
      "source": [
        "features_raw = pd.DataFrame.from_dict(features)\n",
        "#the set of molecular descriptors contains empty strings, replacing them by NaN\n",
        "features = features_raw.replace(r'^\\s*$', np.nan, regex=True)"
      ]
    },
    {
      "cell_type": "code",
      "execution_count": null,
      "metadata": {
        "colab": {
          "base_uri": "https://localhost:8080/",
          "height": 592
        },
        "id": "uhjBkvqB7u-G",
        "outputId": "6d403f0e-de3f-48f3-ec98-a4475ac35442"
      },
      "outputs": [
        {
          "output_type": "execute_result",
          "data": {
            "text/html": [
              "\n",
              "  <div id=\"df-b796400e-34c7-440e-8340-1eec08ad6c61\">\n",
              "    <div class=\"colab-df-container\">\n",
              "      <div>\n",
              "<style scoped>\n",
              "    .dataframe tbody tr th:only-of-type {\n",
              "        vertical-align: middle;\n",
              "    }\n",
              "\n",
              "    .dataframe tbody tr th {\n",
              "        vertical-align: top;\n",
              "    }\n",
              "\n",
              "    .dataframe thead th {\n",
              "        text-align: right;\n",
              "    }\n",
              "</style>\n",
              "<table border=\"1\" class=\"dataframe\">\n",
              "  <thead>\n",
              "    <tr style=\"text-align: right;\">\n",
              "      <th></th>\n",
              "      <th>cid</th>\n",
              "      <th>acvalue</th>\n",
              "      <th>smiles</th>\n",
              "      <th>Activity</th>\n",
              "      <th>nAcid</th>\n",
              "      <th>ALogP</th>\n",
              "      <th>ALogp2</th>\n",
              "      <th>AMR</th>\n",
              "      <th>apol</th>\n",
              "      <th>naAromAtom</th>\n",
              "      <th>nAromBond</th>\n",
              "      <th>nAtom</th>\n",
              "      <th>nHeavyAtom</th>\n",
              "      <th>nH</th>\n",
              "      <th>nB</th>\n",
              "      <th>nC</th>\n",
              "      <th>nN</th>\n",
              "      <th>nO</th>\n",
              "      <th>nS</th>\n",
              "      <th>nP</th>\n",
              "      <th>nF</th>\n",
              "      <th>nCl</th>\n",
              "      <th>nBr</th>\n",
              "      <th>nI</th>\n",
              "      <th>nX</th>\n",
              "      <th>ATS0m</th>\n",
              "      <th>ATS1m</th>\n",
              "      <th>ATS2m</th>\n",
              "      <th>ATS3m</th>\n",
              "      <th>ATS4m</th>\n",
              "      <th>ATS5m</th>\n",
              "      <th>ATS6m</th>\n",
              "      <th>ATS7m</th>\n",
              "      <th>ATS8m</th>\n",
              "      <th>ATS0v</th>\n",
              "      <th>ATS1v</th>\n",
              "      <th>ATS2v</th>\n",
              "      <th>ATS3v</th>\n",
              "      <th>ATS4v</th>\n",
              "      <th>ATS5v</th>\n",
              "      <th>...</th>\n",
              "      <th>De</th>\n",
              "      <th>L1p</th>\n",
              "      <th>L2p</th>\n",
              "      <th>L3p</th>\n",
              "      <th>P1p</th>\n",
              "      <th>P2p</th>\n",
              "      <th>E1p</th>\n",
              "      <th>E2p</th>\n",
              "      <th>E3p</th>\n",
              "      <th>Tp</th>\n",
              "      <th>Ap</th>\n",
              "      <th>Vp</th>\n",
              "      <th>Kp</th>\n",
              "      <th>Dp</th>\n",
              "      <th>L1i</th>\n",
              "      <th>L2i</th>\n",
              "      <th>L3i</th>\n",
              "      <th>P1i</th>\n",
              "      <th>P2i</th>\n",
              "      <th>E1i</th>\n",
              "      <th>E2i</th>\n",
              "      <th>E3i</th>\n",
              "      <th>Ti</th>\n",
              "      <th>Ai</th>\n",
              "      <th>Vi</th>\n",
              "      <th>Ki</th>\n",
              "      <th>Di</th>\n",
              "      <th>L1s</th>\n",
              "      <th>L2s</th>\n",
              "      <th>L3s</th>\n",
              "      <th>P1s</th>\n",
              "      <th>P2s</th>\n",
              "      <th>E1s</th>\n",
              "      <th>E2s</th>\n",
              "      <th>E3s</th>\n",
              "      <th>Ts</th>\n",
              "      <th>As</th>\n",
              "      <th>Vs</th>\n",
              "      <th>Ks</th>\n",
              "      <th>Ds</th>\n",
              "    </tr>\n",
              "  </thead>\n",
              "  <tbody>\n",
              "    <tr>\n",
              "      <th>0</th>\n",
              "      <td>225100</td>\n",
              "      <td>4.0000</td>\n",
              "      <td>O=C(O)CSc1nc2cc(Cl)c(Cl)cc2[nH]1</td>\n",
              "      <td>inactive</td>\n",
              "      <td>1</td>\n",
              "      <td>1.2172</td>\n",
              "      <td>1.481576</td>\n",
              "      <td>34.1060</td>\n",
              "      <td>30.904758</td>\n",
              "      <td>9</td>\n",
              "      <td>10</td>\n",
              "      <td>22</td>\n",
              "      <td>16</td>\n",
              "      <td>6</td>\n",
              "      <td>0</td>\n",
              "      <td>9</td>\n",
              "      <td>2</td>\n",
              "      <td>2</td>\n",
              "      <td>1</td>\n",
              "      <td>0</td>\n",
              "      <td>0.0</td>\n",
              "      <td>2.0</td>\n",
              "      <td>0.0</td>\n",
              "      <td>0.0</td>\n",
              "      <td>2.0</td>\n",
              "      <td>4866.470694</td>\n",
              "      <td>3285.911675</td>\n",
              "      <td>5125.915532</td>\n",
              "      <td>5823.261916</td>\n",
              "      <td>4023.627644</td>\n",
              "      <td>3755.414546</td>\n",
              "      <td>2366.160564</td>\n",
              "      <td>2010.701122</td>\n",
              "      <td>1851.892400</td>\n",
              "      <td>6349.023301</td>\n",
              "      <td>7253.070731</td>\n",
              "      <td>10367.565415</td>\n",
              "      <td>10340.266164</td>\n",
              "      <td>7838.209328</td>\n",
              "      <td>6365.402729</td>\n",
              "      <td>...</td>\n",
              "      <td>1.413581</td>\n",
              "      <td>11.445241</td>\n",
              "      <td>1.176596</td>\n",
              "      <td>0.258144</td>\n",
              "      <td>0.888607</td>\n",
              "      <td>0.091351</td>\n",
              "      <td>0.563188</td>\n",
              "      <td>0.284529</td>\n",
              "      <td>0.217283</td>\n",
              "      <td>12.879982</td>\n",
              "      <td>16.724678</td>\n",
              "      <td>33.080940</td>\n",
              "      <td>0.832910</td>\n",
              "      <td>1.065000</td>\n",
              "      <td>11.312779</td>\n",
              "      <td>1.437079</td>\n",
              "      <td>0.345254</td>\n",
              "      <td>0.863893</td>\n",
              "      <td>0.109742</td>\n",
              "      <td>0.548770</td>\n",
              "      <td>0.423822</td>\n",
              "      <td>0.448298</td>\n",
              "      <td>13.095112</td>\n",
              "      <td>20.659296</td>\n",
              "      <td>39.367328</td>\n",
              "      <td>0.795840</td>\n",
              "      <td>1.420891</td>\n",
              "      <td>11.688495</td>\n",
              "      <td>1.325009</td>\n",
              "      <td>0.348914</td>\n",
              "      <td>0.874729</td>\n",
              "      <td>0.099159</td>\n",
              "      <td>0.585817</td>\n",
              "      <td>0.360563</td>\n",
              "      <td>0.458213</td>\n",
              "      <td>13.362418</td>\n",
              "      <td>20.027951</td>\n",
              "      <td>38.794126</td>\n",
              "      <td>0.812094</td>\n",
              "      <td>1.404593</td>\n",
              "    </tr>\n",
              "    <tr>\n",
              "      <th>1</th>\n",
              "      <td>1825716</td>\n",
              "      <td>0.5500</td>\n",
              "      <td>Cc1ccc(OCCSc2ncccn2)c(Br)c1</td>\n",
              "      <td>inactive</td>\n",
              "      <td>0</td>\n",
              "      <td>1.9905</td>\n",
              "      <td>3.962090</td>\n",
              "      <td>32.9382</td>\n",
              "      <td>40.500309</td>\n",
              "      <td>12</td>\n",
              "      <td>12</td>\n",
              "      <td>31</td>\n",
              "      <td>18</td>\n",
              "      <td>13</td>\n",
              "      <td>0</td>\n",
              "      <td>13</td>\n",
              "      <td>2</td>\n",
              "      <td>1</td>\n",
              "      <td>1</td>\n",
              "      <td>0</td>\n",
              "      <td>0.0</td>\n",
              "      <td>0.0</td>\n",
              "      <td>1.0</td>\n",
              "      <td>0.0</td>\n",
              "      <td>1.0</td>\n",
              "      <td>9065.915841</td>\n",
              "      <td>3905.568826</td>\n",
              "      <td>5680.398994</td>\n",
              "      <td>6633.296591</td>\n",
              "      <td>5370.358053</td>\n",
              "      <td>3698.544856</td>\n",
              "      <td>3127.935587</td>\n",
              "      <td>2890.234735</td>\n",
              "      <td>4082.689219</td>\n",
              "      <td>7739.752888</td>\n",
              "      <td>9009.086446</td>\n",
              "      <td>12129.769040</td>\n",
              "      <td>12295.294407</td>\n",
              "      <td>10303.119687</td>\n",
              "      <td>8950.141038</td>\n",
              "      <td>...</td>\n",
              "      <td>1.434107</td>\n",
              "      <td>16.154816</td>\n",
              "      <td>1.937974</td>\n",
              "      <td>0.569152</td>\n",
              "      <td>0.865656</td>\n",
              "      <td>0.103846</td>\n",
              "      <td>0.482243</td>\n",
              "      <td>0.533074</td>\n",
              "      <td>0.208126</td>\n",
              "      <td>18.661941</td>\n",
              "      <td>41.605152</td>\n",
              "      <td>78.085876</td>\n",
              "      <td>0.798484</td>\n",
              "      <td>1.223443</td>\n",
              "      <td>17.856844</td>\n",
              "      <td>1.913562</td>\n",
              "      <td>0.790178</td>\n",
              "      <td>0.868499</td>\n",
              "      <td>0.093069</td>\n",
              "      <td>0.589039</td>\n",
              "      <td>0.508048</td>\n",
              "      <td>0.436256</td>\n",
              "      <td>20.560585</td>\n",
              "      <td>49.792328</td>\n",
              "      <td>97.353445</td>\n",
              "      <td>0.802748</td>\n",
              "      <td>1.533343</td>\n",
              "      <td>17.690543</td>\n",
              "      <td>1.835237</td>\n",
              "      <td>0.746796</td>\n",
              "      <td>0.872634</td>\n",
              "      <td>0.090528</td>\n",
              "      <td>0.578062</td>\n",
              "      <td>0.470886</td>\n",
              "      <td>0.395607</td>\n",
              "      <td>20.272577</td>\n",
              "      <td>47.048120</td>\n",
              "      <td>91.566431</td>\n",
              "      <td>0.808951</td>\n",
              "      <td>1.444554</td>\n",
              "    </tr>\n",
              "    <tr>\n",
              "      <th>2</th>\n",
              "      <td>11679800</td>\n",
              "      <td>0.0168</td>\n",
              "      <td>CC(C)=CCC[C@](C)(O[C@@H]1O[C@H](CO)[C@@H](O)[C...</td>\n",
              "      <td>active</td>\n",
              "      <td>1</td>\n",
              "      <td>0.5752</td>\n",
              "      <td>0.330855</td>\n",
              "      <td>29.2113</td>\n",
              "      <td>31.098344</td>\n",
              "      <td>9</td>\n",
              "      <td>10</td>\n",
              "      <td>24</td>\n",
              "      <td>16</td>\n",
              "      <td>8</td>\n",
              "      <td>0</td>\n",
              "      <td>10</td>\n",
              "      <td>2</td>\n",
              "      <td>2</td>\n",
              "      <td>0</td>\n",
              "      <td>0</td>\n",
              "      <td>0.0</td>\n",
              "      <td>2.0</td>\n",
              "      <td>0.0</td>\n",
              "      <td>0.0</td>\n",
              "      <td>2.0</td>\n",
              "      <td>4868.502822</td>\n",
              "      <td>3310.125851</td>\n",
              "      <td>5175.359948</td>\n",
              "      <td>5908.016572</td>\n",
              "      <td>4138.596092</td>\n",
              "      <td>3805.875026</td>\n",
              "      <td>2418.653172</td>\n",
              "      <td>2153.635522</td>\n",
              "      <td>1851.892400</td>\n",
              "      <td>6411.190790</td>\n",
              "      <td>7482.543964</td>\n",
              "      <td>10857.595624</td>\n",
              "      <td>11041.939075</td>\n",
              "      <td>8687.377805</td>\n",
              "      <td>6886.516683</td>\n",
              "      <td>...</td>\n",
              "      <td>1.303480</td>\n",
              "      <td>11.450959</td>\n",
              "      <td>1.168955</td>\n",
              "      <td>0.327426</td>\n",
              "      <td>0.884426</td>\n",
              "      <td>0.090285</td>\n",
              "      <td>0.619005</td>\n",
              "      <td>0.292564</td>\n",
              "      <td>0.145712</td>\n",
              "      <td>12.947340</td>\n",
              "      <td>17.517751</td>\n",
              "      <td>34.847909</td>\n",
              "      <td>0.826638</td>\n",
              "      <td>1.057281</td>\n",
              "      <td>10.717133</td>\n",
              "      <td>1.409146</td>\n",
              "      <td>0.506650</td>\n",
              "      <td>0.848349</td>\n",
              "      <td>0.111545</td>\n",
              "      <td>0.540422</td>\n",
              "      <td>0.426244</td>\n",
              "      <td>0.372027</td>\n",
              "      <td>12.632930</td>\n",
              "      <td>21.245790</td>\n",
              "      <td>41.530153</td>\n",
              "      <td>0.772523</td>\n",
              "      <td>1.338693</td>\n",
              "      <td>10.934821</td>\n",
              "      <td>1.303764</td>\n",
              "      <td>0.486393</td>\n",
              "      <td>0.859319</td>\n",
              "      <td>0.102457</td>\n",
              "      <td>0.562681</td>\n",
              "      <td>0.366310</td>\n",
              "      <td>0.342588</td>\n",
              "      <td>12.724978</td>\n",
              "      <td>20.209189</td>\n",
              "      <td>39.868393</td>\n",
              "      <td>0.788979</td>\n",
              "      <td>1.271579</td>\n",
              "    </tr>\n",
              "    <tr>\n",
              "      <th>3</th>\n",
              "      <td>14162967</td>\n",
              "      <td>0.0168</td>\n",
              "      <td>CC(C)=CCC[C@](C)(O[C@@H]1O[C@H](CO)[C@@H](O)[C...</td>\n",
              "      <td>active</td>\n",
              "      <td>0</td>\n",
              "      <td>0.8200</td>\n",
              "      <td>0.672400</td>\n",
              "      <td>134.7535</td>\n",
              "      <td>90.681236</td>\n",
              "      <td>0</td>\n",
              "      <td>0</td>\n",
              "      <td>86</td>\n",
              "      <td>34</td>\n",
              "      <td>52</td>\n",
              "      <td>0</td>\n",
              "      <td>30</td>\n",
              "      <td>0</td>\n",
              "      <td>4</td>\n",
              "      <td>0</td>\n",
              "      <td>0</td>\n",
              "      <td>0.0</td>\n",
              "      <td>0.0</td>\n",
              "      <td>0.0</td>\n",
              "      <td>0.0</td>\n",
              "      <td>0.0</td>\n",
              "      <td>5404.630962</td>\n",
              "      <td>6175.020141</td>\n",
              "      <td>10569.200499</td>\n",
              "      <td>13928.758477</td>\n",
              "      <td>13530.953189</td>\n",
              "      <td>12097.098300</td>\n",
              "      <td>10334.456402</td>\n",
              "      <td>9302.450418</td>\n",
              "      <td>8506.558222</td>\n",
              "      <td>15187.424871</td>\n",
              "      <td>21022.387874</td>\n",
              "      <td>36014.128236</td>\n",
              "      <td>51007.246921</td>\n",
              "      <td>57789.310825</td>\n",
              "      <td>54153.421222</td>\n",
              "      <td>...</td>\n",
              "      <td>1.462925</td>\n",
              "      <td>13.356831</td>\n",
              "      <td>4.713860</td>\n",
              "      <td>1.551971</td>\n",
              "      <td>0.680684</td>\n",
              "      <td>0.240225</td>\n",
              "      <td>0.480137</td>\n",
              "      <td>0.404662</td>\n",
              "      <td>0.310977</td>\n",
              "      <td>19.622663</td>\n",
              "      <td>91.007428</td>\n",
              "      <td>208.345661</td>\n",
              "      <td>0.521026</td>\n",
              "      <td>1.195776</td>\n",
              "      <td>14.202111</td>\n",
              "      <td>5.192340</td>\n",
              "      <td>1.924706</td>\n",
              "      <td>0.666167</td>\n",
              "      <td>0.243553</td>\n",
              "      <td>0.542372</td>\n",
              "      <td>0.492669</td>\n",
              "      <td>0.478277</td>\n",
              "      <td>21.319157</td>\n",
              "      <td>111.070800</td>\n",
              "      <td>274.321969</td>\n",
              "      <td>0.499250</td>\n",
              "      <td>1.513318</td>\n",
              "      <td>14.162502</td>\n",
              "      <td>5.110835</td>\n",
              "      <td>1.876100</td>\n",
              "      <td>0.669640</td>\n",
              "      <td>0.241653</td>\n",
              "      <td>0.539443</td>\n",
              "      <td>0.477526</td>\n",
              "      <td>0.454229</td>\n",
              "      <td>21.149437</td>\n",
              "      <td>108.540907</td>\n",
              "      <td>265.486570</td>\n",
              "      <td>0.504460</td>\n",
              "      <td>1.471197</td>\n",
              "    </tr>\n",
              "    <tr>\n",
              "      <th>4</th>\n",
              "      <td>14525327</td>\n",
              "      <td>3.0000</td>\n",
              "      <td>C[C@H](CC[C@@H](O)C(C)(C)O)[C@H]1CC[C@@]2(C)[C...</td>\n",
              "      <td>inactive</td>\n",
              "      <td>1</td>\n",
              "      <td>0.5720</td>\n",
              "      <td>0.327184</td>\n",
              "      <td>23.2561</td>\n",
              "      <td>66.975067</td>\n",
              "      <td>27</td>\n",
              "      <td>30</td>\n",
              "      <td>52</td>\n",
              "      <td>33</td>\n",
              "      <td>19</td>\n",
              "      <td>0</td>\n",
              "      <td>27</td>\n",
              "      <td>2</td>\n",
              "      <td>3</td>\n",
              "      <td>0</td>\n",
              "      <td>0</td>\n",
              "      <td>0.0</td>\n",
              "      <td>1.0</td>\n",
              "      <td>0.0</td>\n",
              "      <td>0.0</td>\n",
              "      <td>1.0</td>\n",
              "      <td>6331.435084</td>\n",
              "      <td>6142.860146</td>\n",
              "      <td>9234.538103</td>\n",
              "      <td>9868.519933</td>\n",
              "      <td>9714.146137</td>\n",
              "      <td>9004.759376</td>\n",
              "      <td>7164.482540</td>\n",
              "      <td>7034.156940</td>\n",
              "      <td>7315.727153</td>\n",
              "      <td>13665.319127</td>\n",
              "      <td>16934.930973</td>\n",
              "      <td>24849.027523</td>\n",
              "      <td>27613.596117</td>\n",
              "      <td>26181.310788</td>\n",
              "      <td>23695.728859</td>\n",
              "      <td>...</td>\n",
              "      <td>1.562560</td>\n",
              "      <td>32.678344</td>\n",
              "      <td>1.875418</td>\n",
              "      <td>1.309409</td>\n",
              "      <td>0.911195</td>\n",
              "      <td>0.052294</td>\n",
              "      <td>0.519289</td>\n",
              "      <td>0.277799</td>\n",
              "      <td>0.326617</td>\n",
              "      <td>35.863171</td>\n",
              "      <td>106.530578</td>\n",
              "      <td>222.641628</td>\n",
              "      <td>0.866793</td>\n",
              "      <td>1.123705</td>\n",
              "      <td>35.436934</td>\n",
              "      <td>2.242259</td>\n",
              "      <td>1.712113</td>\n",
              "      <td>0.899613</td>\n",
              "      <td>0.056923</td>\n",
              "      <td>0.609762</td>\n",
              "      <td>0.443232</td>\n",
              "      <td>0.586587</td>\n",
              "      <td>39.391306</td>\n",
              "      <td>143.969814</td>\n",
              "      <td>319.403533</td>\n",
              "      <td>0.849420</td>\n",
              "      <td>1.639581</td>\n",
              "      <td>35.140178</td>\n",
              "      <td>2.228841</td>\n",
              "      <td>1.614423</td>\n",
              "      <td>0.901413</td>\n",
              "      <td>0.057174</td>\n",
              "      <td>0.600107</td>\n",
              "      <td>0.432198</td>\n",
              "      <td>0.526542</td>\n",
              "      <td>38.983441</td>\n",
              "      <td>138.651258</td>\n",
              "      <td>304.079293</td>\n",
              "      <td>0.852119</td>\n",
              "      <td>1.558847</td>\n",
              "    </tr>\n",
              "    <tr>\n",
              "      <th>...</th>\n",
              "      <td>...</td>\n",
              "      <td>...</td>\n",
              "      <td>...</td>\n",
              "      <td>...</td>\n",
              "      <td>...</td>\n",
              "      <td>...</td>\n",
              "      <td>...</td>\n",
              "      <td>...</td>\n",
              "      <td>...</td>\n",
              "      <td>...</td>\n",
              "      <td>...</td>\n",
              "      <td>...</td>\n",
              "      <td>...</td>\n",
              "      <td>...</td>\n",
              "      <td>...</td>\n",
              "      <td>...</td>\n",
              "      <td>...</td>\n",
              "      <td>...</td>\n",
              "      <td>...</td>\n",
              "      <td>...</td>\n",
              "      <td>...</td>\n",
              "      <td>...</td>\n",
              "      <td>...</td>\n",
              "      <td>...</td>\n",
              "      <td>...</td>\n",
              "      <td>...</td>\n",
              "      <td>...</td>\n",
              "      <td>...</td>\n",
              "      <td>...</td>\n",
              "      <td>...</td>\n",
              "      <td>...</td>\n",
              "      <td>...</td>\n",
              "      <td>...</td>\n",
              "      <td>...</td>\n",
              "      <td>...</td>\n",
              "      <td>...</td>\n",
              "      <td>...</td>\n",
              "      <td>...</td>\n",
              "      <td>...</td>\n",
              "      <td>...</td>\n",
              "      <td>...</td>\n",
              "      <td>...</td>\n",
              "      <td>...</td>\n",
              "      <td>...</td>\n",
              "      <td>...</td>\n",
              "      <td>...</td>\n",
              "      <td>...</td>\n",
              "      <td>...</td>\n",
              "      <td>...</td>\n",
              "      <td>...</td>\n",
              "      <td>...</td>\n",
              "      <td>...</td>\n",
              "      <td>...</td>\n",
              "      <td>...</td>\n",
              "      <td>...</td>\n",
              "      <td>...</td>\n",
              "      <td>...</td>\n",
              "      <td>...</td>\n",
              "      <td>...</td>\n",
              "      <td>...</td>\n",
              "      <td>...</td>\n",
              "      <td>...</td>\n",
              "      <td>...</td>\n",
              "      <td>...</td>\n",
              "      <td>...</td>\n",
              "      <td>...</td>\n",
              "      <td>...</td>\n",
              "      <td>...</td>\n",
              "      <td>...</td>\n",
              "      <td>...</td>\n",
              "      <td>...</td>\n",
              "      <td>...</td>\n",
              "      <td>...</td>\n",
              "      <td>...</td>\n",
              "      <td>...</td>\n",
              "      <td>...</td>\n",
              "      <td>...</td>\n",
              "      <td>...</td>\n",
              "      <td>...</td>\n",
              "      <td>...</td>\n",
              "      <td>...</td>\n",
              "    </tr>\n",
              "    <tr>\n",
              "      <th>287</th>\n",
              "      <td>156018930</td>\n",
              "      <td>1.7000</td>\n",
              "      <td>C[C@H](CCCNCCc1ccc([N+](=O)[O-])cc1)[C@H]1CC[C...</td>\n",
              "      <td>inactive</td>\n",
              "      <td>0</td>\n",
              "      <td>0.7363</td>\n",
              "      <td>0.542138</td>\n",
              "      <td>127.7864</td>\n",
              "      <td>98.686029</td>\n",
              "      <td>6</td>\n",
              "      <td>6</td>\n",
              "      <td>91</td>\n",
              "      <td>38</td>\n",
              "      <td>53</td>\n",
              "      <td>0</td>\n",
              "      <td>34</td>\n",
              "      <td>1</td>\n",
              "      <td>3</td>\n",
              "      <td>0</td>\n",
              "      <td>0</td>\n",
              "      <td>0.0</td>\n",
              "      <td>0.0</td>\n",
              "      <td>0.0</td>\n",
              "      <td>0.0</td>\n",
              "      <td>0.0</td>\n",
              "      <td>5922.931558</td>\n",
              "      <td>6950.367906</td>\n",
              "      <td>11157.153391</td>\n",
              "      <td>14414.736582</td>\n",
              "      <td>14228.127822</td>\n",
              "      <td>12631.006683</td>\n",
              "      <td>10487.724915</td>\n",
              "      <td>9275.925263</td>\n",
              "      <td>8301.153826</td>\n",
              "      <td>16939.499618</td>\n",
              "      <td>23087.371488</td>\n",
              "      <td>38268.303836</td>\n",
              "      <td>52736.254334</td>\n",
              "      <td>59770.951105</td>\n",
              "      <td>56533.260945</td>\n",
              "      <td>...</td>\n",
              "      <td>1.314217</td>\n",
              "      <td>20.627196</td>\n",
              "      <td>3.429054</td>\n",
              "      <td>1.516396</td>\n",
              "      <td>0.806612</td>\n",
              "      <td>0.134091</td>\n",
              "      <td>0.415985</td>\n",
              "      <td>0.360107</td>\n",
              "      <td>0.292192</td>\n",
              "      <td>25.572646</td>\n",
              "      <td>107.210566</td>\n",
              "      <td>240.040560</td>\n",
              "      <td>0.709918</td>\n",
              "      <td>1.068284</td>\n",
              "      <td>21.229139</td>\n",
              "      <td>3.881595</td>\n",
              "      <td>1.898673</td>\n",
              "      <td>0.785991</td>\n",
              "      <td>0.143713</td>\n",
              "      <td>0.440395</td>\n",
              "      <td>0.464778</td>\n",
              "      <td>0.457896</td>\n",
              "      <td>27.009407</td>\n",
              "      <td>130.079988</td>\n",
              "      <td>313.545575</td>\n",
              "      <td>0.678986</td>\n",
              "      <td>1.363069</td>\n",
              "      <td>21.298184</td>\n",
              "      <td>3.794425</td>\n",
              "      <td>1.842945</td>\n",
              "      <td>0.790709</td>\n",
              "      <td>0.140871</td>\n",
              "      <td>0.443263</td>\n",
              "      <td>0.444497</td>\n",
              "      <td>0.431592</td>\n",
              "      <td>26.935554</td>\n",
              "      <td>127.058657</td>\n",
              "      <td>302.930616</td>\n",
              "      <td>0.686063</td>\n",
              "      <td>1.319353</td>\n",
              "    </tr>\n",
              "    <tr>\n",
              "      <th>288</th>\n",
              "      <td>156018973</td>\n",
              "      <td>4.7000</td>\n",
              "      <td>COc1ccc(NCCC[C@@H](C)[C@H]2CC[C@@]3(C)[C@@H]4C...</td>\n",
              "      <td>inactive</td>\n",
              "      <td>0</td>\n",
              "      <td>-0.8248</td>\n",
              "      <td>0.680295</td>\n",
              "      <td>81.5718</td>\n",
              "      <td>89.901548</td>\n",
              "      <td>18</td>\n",
              "      <td>18</td>\n",
              "      <td>79</td>\n",
              "      <td>43</td>\n",
              "      <td>36</td>\n",
              "      <td>0</td>\n",
              "      <td>32</td>\n",
              "      <td>5</td>\n",
              "      <td>3</td>\n",
              "      <td>0</td>\n",
              "      <td>0</td>\n",
              "      <td>3.0</td>\n",
              "      <td>0.0</td>\n",
              "      <td>0.0</td>\n",
              "      <td>0.0</td>\n",
              "      <td>3.0</td>\n",
              "      <td>7484.732396</td>\n",
              "      <td>7973.318823</td>\n",
              "      <td>12049.039459</td>\n",
              "      <td>12365.134734</td>\n",
              "      <td>11288.350680</td>\n",
              "      <td>10073.740304</td>\n",
              "      <td>9384.149246</td>\n",
              "      <td>8794.685989</td>\n",
              "      <td>9109.076491</td>\n",
              "      <td>17068.430870</td>\n",
              "      <td>21743.237526</td>\n",
              "      <td>32249.381557</td>\n",
              "      <td>37401.263486</td>\n",
              "      <td>35836.304341</td>\n",
              "      <td>33271.550031</td>\n",
              "      <td>...</td>\n",
              "      <td>1.331136</td>\n",
              "      <td>47.169932</td>\n",
              "      <td>6.349268</td>\n",
              "      <td>0.705938</td>\n",
              "      <td>0.869891</td>\n",
              "      <td>0.117091</td>\n",
              "      <td>0.565370</td>\n",
              "      <td>0.304425</td>\n",
              "      <td>0.225420</td>\n",
              "      <td>54.225137</td>\n",
              "      <td>337.275738</td>\n",
              "      <td>602.925309</td>\n",
              "      <td>0.804836</td>\n",
              "      <td>1.095215</td>\n",
              "      <td>49.700719</td>\n",
              "      <td>6.866232</td>\n",
              "      <td>0.925204</td>\n",
              "      <td>0.864478</td>\n",
              "      <td>0.119429</td>\n",
              "      <td>0.627504</td>\n",
              "      <td>0.357385</td>\n",
              "      <td>0.369978</td>\n",
              "      <td>57.492155</td>\n",
              "      <td>393.592639</td>\n",
              "      <td>766.816716</td>\n",
              "      <td>0.796717</td>\n",
              "      <td>1.354867</td>\n",
              "      <td>50.051398</td>\n",
              "      <td>6.848238</td>\n",
              "      <td>0.886532</td>\n",
              "      <td>0.866148</td>\n",
              "      <td>0.118510</td>\n",
              "      <td>0.636378</td>\n",
              "      <td>0.356244</td>\n",
              "      <td>0.340686</td>\n",
              "      <td>57.786168</td>\n",
              "      <td>393.207263</td>\n",
              "      <td>754.864745</td>\n",
              "      <td>0.799223</td>\n",
              "      <td>1.333308</td>\n",
              "    </tr>\n",
              "    <tr>\n",
              "      <th>289</th>\n",
              "      <td>156019244</td>\n",
              "      <td>0.0120</td>\n",
              "      <td>COc1ccc(CN2CCC(C(=O)Nc3ccc(C(=O)N4CCN(Cc5ccc(C...</td>\n",
              "      <td>active</td>\n",
              "      <td>0</td>\n",
              "      <td>0.7997</td>\n",
              "      <td>0.639520</td>\n",
              "      <td>125.1828</td>\n",
              "      <td>96.557236</td>\n",
              "      <td>6</td>\n",
              "      <td>6</td>\n",
              "      <td>89</td>\n",
              "      <td>37</td>\n",
              "      <td>52</td>\n",
              "      <td>0</td>\n",
              "      <td>33</td>\n",
              "      <td>2</td>\n",
              "      <td>2</td>\n",
              "      <td>0</td>\n",
              "      <td>0</td>\n",
              "      <td>0.0</td>\n",
              "      <td>0.0</td>\n",
              "      <td>0.0</td>\n",
              "      <td>0.0</td>\n",
              "      <td>0.0</td>\n",
              "      <td>5717.879421</td>\n",
              "      <td>6746.144873</td>\n",
              "      <td>10824.824477</td>\n",
              "      <td>13925.001643</td>\n",
              "      <td>13852.934424</td>\n",
              "      <td>12398.304778</td>\n",
              "      <td>10281.405582</td>\n",
              "      <td>8966.542485</td>\n",
              "      <td>7953.222796</td>\n",
              "      <td>16511.822369</td>\n",
              "      <td>22585.679728</td>\n",
              "      <td>37525.258550</td>\n",
              "      <td>51515.495405</td>\n",
              "      <td>58198.545854</td>\n",
              "      <td>55289.690146</td>\n",
              "      <td>...</td>\n",
              "      <td>1.356127</td>\n",
              "      <td>18.171180</td>\n",
              "      <td>6.262968</td>\n",
              "      <td>1.582117</td>\n",
              "      <td>0.698455</td>\n",
              "      <td>0.240733</td>\n",
              "      <td>0.412852</td>\n",
              "      <td>0.428985</td>\n",
              "      <td>0.303166</td>\n",
              "      <td>26.016265</td>\n",
              "      <td>152.463199</td>\n",
              "      <td>358.533127</td>\n",
              "      <td>0.547682</td>\n",
              "      <td>1.145003</td>\n",
              "      <td>17.815097</td>\n",
              "      <td>6.755317</td>\n",
              "      <td>1.987373</td>\n",
              "      <td>0.670805</td>\n",
              "      <td>0.254363</td>\n",
              "      <td>0.407492</td>\n",
              "      <td>0.508589</td>\n",
              "      <td>0.480472</td>\n",
              "      <td>26.557787</td>\n",
              "      <td>169.177198</td>\n",
              "      <td>434.908604</td>\n",
              "      <td>0.506208</td>\n",
              "      <td>1.396553</td>\n",
              "      <td>17.933385</td>\n",
              "      <td>6.701848</td>\n",
              "      <td>1.928593</td>\n",
              "      <td>0.675105</td>\n",
              "      <td>0.252292</td>\n",
              "      <td>0.411450</td>\n",
              "      <td>0.500250</td>\n",
              "      <td>0.452533</td>\n",
              "      <td>26.563826</td>\n",
              "      <td>167.698162</td>\n",
              "      <td>426.053461</td>\n",
              "      <td>0.512658</td>\n",
              "      <td>1.364233</td>\n",
              "    </tr>\n",
              "    <tr>\n",
              "      <th>290</th>\n",
              "      <td>156019649</td>\n",
              "      <td>1.6000</td>\n",
              "      <td>C[C@H](CCCNCc1ccccn1)[C@H]1CC[C@@]2(C)[C@@H]3C...</td>\n",
              "      <td>inactive</td>\n",
              "      <td>0</td>\n",
              "      <td>0.7997</td>\n",
              "      <td>0.639520</td>\n",
              "      <td>125.1828</td>\n",
              "      <td>97.884029</td>\n",
              "      <td>6</td>\n",
              "      <td>6</td>\n",
              "      <td>90</td>\n",
              "      <td>37</td>\n",
              "      <td>53</td>\n",
              "      <td>0</td>\n",
              "      <td>34</td>\n",
              "      <td>1</td>\n",
              "      <td>2</td>\n",
              "      <td>0</td>\n",
              "      <td>0</td>\n",
              "      <td>0.0</td>\n",
              "      <td>0.0</td>\n",
              "      <td>0.0</td>\n",
              "      <td>0.0</td>\n",
              "      <td>0.0</td>\n",
              "      <td>5666.963557</td>\n",
              "      <td>6710.304049</td>\n",
              "      <td>10775.104817</td>\n",
              "      <td>13902.359171</td>\n",
              "      <td>13855.226932</td>\n",
              "      <td>12384.446102</td>\n",
              "      <td>10267.546906</td>\n",
              "      <td>8952.683809</td>\n",
              "      <td>7917.402132</td>\n",
              "      <td>16723.108841</td>\n",
              "      <td>22905.429386</td>\n",
              "      <td>38090.021787</td>\n",
              "      <td>52182.073493</td>\n",
              "      <td>58682.631026</td>\n",
              "      <td>55624.641655</td>\n",
              "      <td>...</td>\n",
              "      <td>1.422838</td>\n",
              "      <td>17.637321</td>\n",
              "      <td>6.276343</td>\n",
              "      <td>1.598223</td>\n",
              "      <td>0.691337</td>\n",
              "      <td>0.246016</td>\n",
              "      <td>0.457469</td>\n",
              "      <td>0.426565</td>\n",
              "      <td>0.317657</td>\n",
              "      <td>25.511887</td>\n",
              "      <td>148.917238</td>\n",
              "      <td>351.348989</td>\n",
              "      <td>0.537006</td>\n",
              "      <td>1.201690</td>\n",
              "      <td>17.233243</td>\n",
              "      <td>6.794002</td>\n",
              "      <td>2.013214</td>\n",
              "      <td>0.661787</td>\n",
              "      <td>0.260902</td>\n",
              "      <td>0.449909</td>\n",
              "      <td>0.510333</td>\n",
              "      <td>0.506473</td>\n",
              "      <td>26.040459</td>\n",
              "      <td>165.454686</td>\n",
              "      <td>427.207701</td>\n",
              "      <td>0.492681</td>\n",
              "      <td>1.466716</td>\n",
              "      <td>17.356984</td>\n",
              "      <td>6.734916</td>\n",
              "      <td>1.951190</td>\n",
              "      <td>0.666472</td>\n",
              "      <td>0.258607</td>\n",
              "      <td>0.454497</td>\n",
              "      <td>0.501094</td>\n",
              "      <td>0.475708</td>\n",
              "      <td>26.043090</td>\n",
              "      <td>163.905700</td>\n",
              "      <td>418.038649</td>\n",
              "      <td>0.499708</td>\n",
              "      <td>1.431298</td>\n",
              "    </tr>\n",
              "    <tr>\n",
              "      <th>291</th>\n",
              "      <td>156020604</td>\n",
              "      <td>1.5000</td>\n",
              "      <td>C[C@H](CCCNCc1ccccc1)[C@H]1CC[C@@]2(C)[C@@H]3C...</td>\n",
              "      <td>inactive</td>\n",
              "      <td>0</td>\n",
              "      <td>0.6961</td>\n",
              "      <td>0.484555</td>\n",
              "      <td>139.8144</td>\n",
              "      <td>105.675201</td>\n",
              "      <td>6</td>\n",
              "      <td>6</td>\n",
              "      <td>98</td>\n",
              "      <td>41</td>\n",
              "      <td>57</td>\n",
              "      <td>0</td>\n",
              "      <td>36</td>\n",
              "      <td>1</td>\n",
              "      <td>4</td>\n",
              "      <td>0</td>\n",
              "      <td>0</td>\n",
              "      <td>0.0</td>\n",
              "      <td>0.0</td>\n",
              "      <td>0.0</td>\n",
              "      <td>0.0</td>\n",
              "      <td>0.0</td>\n",
              "      <td>6471.492057</td>\n",
              "      <td>7527.388357</td>\n",
              "      <td>11886.718999</td>\n",
              "      <td>15557.459580</td>\n",
              "      <td>15571.614113</td>\n",
              "      <td>13681.335864</td>\n",
              "      <td>11242.489886</td>\n",
              "      <td>9803.921441</td>\n",
              "      <td>8750.632160</td>\n",
              "      <td>18127.259177</td>\n",
              "      <td>24575.293860</td>\n",
              "      <td>40367.611383</td>\n",
              "      <td>55603.699146</td>\n",
              "      <td>63305.238582</td>\n",
              "      <td>60201.617060</td>\n",
              "      <td>...</td>\n",
              "      <td>1.409503</td>\n",
              "      <td>21.835371</td>\n",
              "      <td>6.168168</td>\n",
              "      <td>2.069154</td>\n",
              "      <td>0.726086</td>\n",
              "      <td>0.205109</td>\n",
              "      <td>0.468360</td>\n",
              "      <td>0.391420</td>\n",
              "      <td>0.341166</td>\n",
              "      <td>30.072693</td>\n",
              "      <td>192.627878</td>\n",
              "      <td>501.383040</td>\n",
              "      <td>0.589129</td>\n",
              "      <td>1.200946</td>\n",
              "      <td>22.101921</td>\n",
              "      <td>6.747712</td>\n",
              "      <td>2.501346</td>\n",
              "      <td>0.704983</td>\n",
              "      <td>0.215231</td>\n",
              "      <td>0.480729</td>\n",
              "      <td>0.473947</td>\n",
              "      <td>0.493829</td>\n",
              "      <td>31.350978</td>\n",
              "      <td>221.300286</td>\n",
              "      <td>625.695403</td>\n",
              "      <td>0.557475</td>\n",
              "      <td>1.448505</td>\n",
              "      <td>22.219176</td>\n",
              "      <td>6.661298</td>\n",
              "      <td>2.430868</td>\n",
              "      <td>0.709621</td>\n",
              "      <td>0.212744</td>\n",
              "      <td>0.485718</td>\n",
              "      <td>0.461554</td>\n",
              "      <td>0.467347</td>\n",
              "      <td>31.311343</td>\n",
              "      <td>218.213189</td>\n",
              "      <td>609.313861</td>\n",
              "      <td>0.564431</td>\n",
              "      <td>1.414618</td>\n",
              "    </tr>\n",
              "  </tbody>\n",
              "</table>\n",
              "<p>292 rows × 1879 columns</p>\n",
              "</div>\n",
              "      <button class=\"colab-df-convert\" onclick=\"convertToInteractive('df-b796400e-34c7-440e-8340-1eec08ad6c61')\"\n",
              "              title=\"Convert this dataframe to an interactive table.\"\n",
              "              style=\"display:none;\">\n",
              "        \n",
              "  <svg xmlns=\"http://www.w3.org/2000/svg\" height=\"24px\"viewBox=\"0 0 24 24\"\n",
              "       width=\"24px\">\n",
              "    <path d=\"M0 0h24v24H0V0z\" fill=\"none\"/>\n",
              "    <path d=\"M18.56 5.44l.94 2.06.94-2.06 2.06-.94-2.06-.94-.94-2.06-.94 2.06-2.06.94zm-11 1L8.5 8.5l.94-2.06 2.06-.94-2.06-.94L8.5 2.5l-.94 2.06-2.06.94zm10 10l.94 2.06.94-2.06 2.06-.94-2.06-.94-.94-2.06-.94 2.06-2.06.94z\"/><path d=\"M17.41 7.96l-1.37-1.37c-.4-.4-.92-.59-1.43-.59-.52 0-1.04.2-1.43.59L10.3 9.45l-7.72 7.72c-.78.78-.78 2.05 0 2.83L4 21.41c.39.39.9.59 1.41.59.51 0 1.02-.2 1.41-.59l7.78-7.78 2.81-2.81c.8-.78.8-2.07 0-2.86zM5.41 20L4 18.59l7.72-7.72 1.47 1.35L5.41 20z\"/>\n",
              "  </svg>\n",
              "      </button>\n",
              "      \n",
              "  <style>\n",
              "    .colab-df-container {\n",
              "      display:flex;\n",
              "      flex-wrap:wrap;\n",
              "      gap: 12px;\n",
              "    }\n",
              "\n",
              "    .colab-df-convert {\n",
              "      background-color: #E8F0FE;\n",
              "      border: none;\n",
              "      border-radius: 50%;\n",
              "      cursor: pointer;\n",
              "      display: none;\n",
              "      fill: #1967D2;\n",
              "      height: 32px;\n",
              "      padding: 0 0 0 0;\n",
              "      width: 32px;\n",
              "    }\n",
              "\n",
              "    .colab-df-convert:hover {\n",
              "      background-color: #E2EBFA;\n",
              "      box-shadow: 0px 1px 2px rgba(60, 64, 67, 0.3), 0px 1px 3px 1px rgba(60, 64, 67, 0.15);\n",
              "      fill: #174EA6;\n",
              "    }\n",
              "\n",
              "    [theme=dark] .colab-df-convert {\n",
              "      background-color: #3B4455;\n",
              "      fill: #D2E3FC;\n",
              "    }\n",
              "\n",
              "    [theme=dark] .colab-df-convert:hover {\n",
              "      background-color: #434B5C;\n",
              "      box-shadow: 0px 1px 3px 1px rgba(0, 0, 0, 0.15);\n",
              "      filter: drop-shadow(0px 1px 2px rgba(0, 0, 0, 0.3));\n",
              "      fill: #FFFFFF;\n",
              "    }\n",
              "  </style>\n",
              "\n",
              "      <script>\n",
              "        const buttonEl =\n",
              "          document.querySelector('#df-b796400e-34c7-440e-8340-1eec08ad6c61 button.colab-df-convert');\n",
              "        buttonEl.style.display =\n",
              "          google.colab.kernel.accessAllowed ? 'block' : 'none';\n",
              "\n",
              "        async function convertToInteractive(key) {\n",
              "          const element = document.querySelector('#df-b796400e-34c7-440e-8340-1eec08ad6c61');\n",
              "          const dataTable =\n",
              "            await google.colab.kernel.invokeFunction('convertToInteractive',\n",
              "                                                     [key], {});\n",
              "          if (!dataTable) return;\n",
              "\n",
              "          const docLinkHtml = 'Like what you see? Visit the ' +\n",
              "            '<a target=\"_blank\" href=https://colab.research.google.com/notebooks/data_table.ipynb>data table notebook</a>'\n",
              "            + ' to learn more about interactive tables.';\n",
              "          element.innerHTML = '';\n",
              "          dataTable['output_type'] = 'display_data';\n",
              "          await google.colab.output.renderOutput(dataTable, element);\n",
              "          const docLink = document.createElement('div');\n",
              "          docLink.innerHTML = docLinkHtml;\n",
              "          element.appendChild(docLink);\n",
              "        }\n",
              "      </script>\n",
              "    </div>\n",
              "  </div>\n",
              "  "
            ],
            "text/plain": [
              "           cid  acvalue  ...        Ks        Ds\n",
              "0       225100   4.0000  ...  0.812094  1.404593\n",
              "1      1825716   0.5500  ...  0.808951  1.444554\n",
              "2     11679800   0.0168  ...  0.788979  1.271579\n",
              "3     14162967   0.0168  ...  0.504460  1.471197\n",
              "4     14525327   3.0000  ...  0.852119  1.558847\n",
              "..         ...      ...  ...       ...       ...\n",
              "287  156018930   1.7000  ...  0.686063  1.319353\n",
              "288  156018973   4.7000  ...  0.799223  1.333308\n",
              "289  156019244   0.0120  ...  0.512658  1.364233\n",
              "290  156019649   1.6000  ...  0.499708  1.431298\n",
              "291  156020604   1.5000  ...  0.564431  1.414618\n",
              "\n",
              "[292 rows x 1879 columns]"
            ]
          },
          "metadata": {},
          "execution_count": 9
        }
      ],
      "source": [
        "features = features.dropna()#removing NaN values\n",
        "features"
      ]
    },
    {
      "cell_type": "markdown",
      "metadata": {
        "id": "BZkXkP5wPjGj"
      },
      "source": [
        "# ALL PREDICTORS"
      ]
    },
    {
      "cell_type": "code",
      "execution_count": null,
      "metadata": {
        "id": "0o9tP8jr5ODb"
      },
      "outputs": [],
      "source": [
        "X = features.drop([\"smiles\", \"acvalue\", \"Activity\", \"cid\"], axis = 1) #predictors\n",
        "y = features['Activity'] #target\n",
        "y.replace({'active':1, 'inactive':0,'Inactive':0}, inplace = True)\n",
        "y = pd.DataFrame(y)"
      ]
    },
    {
      "cell_type": "code",
      "execution_count": null,
      "metadata": {
        "id": "p5AkAMUm5OGE"
      },
      "outputs": [],
      "source": [
        "X_train, X_test, y_train, y_test = train_test_split(X, y, train_size = 0.75, random_state =42)"
      ]
    },
    {
      "cell_type": "markdown",
      "metadata": {
        "id": "_f9Pqq1hg4iD"
      },
      "source": [
        "BAGGING"
      ]
    },
    {
      "cell_type": "code",
      "execution_count": null,
      "metadata": {
        "colab": {
          "base_uri": "https://localhost:8080/"
        },
        "id": "MXN-GsjK5OJH",
        "outputId": "35a873de-4f13-4111-a349-b41c9ed1268b"
      },
      "outputs": [
        {
          "output_type": "stream",
          "name": "stderr",
          "text": [
            "/usr/local/lib/python3.7/dist-packages/sklearn/ensemble/_bagging.py:719: DataConversionWarning: A column-vector y was passed when a 1d array was expected. Please change the shape of y to (n_samples, ), for example using ravel().\n",
            "  y = column_or_1d(y, warn=True)\n"
          ]
        },
        {
          "output_type": "execute_result",
          "data": {
            "text/plain": [
              "BaggingClassifier(random_state=42)"
            ]
          },
          "metadata": {},
          "execution_count": 12
        }
      ],
      "source": [
        "rf_features = BaggingClassifier(random_state = 42)#Python counts from zero(hence 1875), bagging is just a case where m=p\n",
        "rf_features.fit(X_train,y_train)"
      ]
    },
    {
      "cell_type": "code",
      "execution_count": null,
      "metadata": {
        "colab": {
          "base_uri": "https://localhost:8080/"
        },
        "id": "dhaieHE45OL9",
        "outputId": "4be4a24f-c08a-4b50-caca-b75b4f4fce7c"
      },
      "outputs": [
        {
          "output_type": "execute_result",
          "data": {
            "text/plain": [
              "<tf.Tensor: shape=(73,), dtype=int64, numpy=\n",
              "array([0, 0, 1, 1, 0, 0, 0, 1, 0, 0, 1, 0, 1, 0, 1, 0, 1, 1, 1, 1, 1, 1,\n",
              "       0, 0, 1, 0, 0, 1, 1, 1, 1, 1, 0, 0, 0, 1, 0, 1, 1, 1, 0, 1, 0, 1,\n",
              "       1, 0, 0, 0, 0, 1, 1, 0, 0, 1, 1, 0, 1, 1, 1, 1, 1, 1, 1, 0, 0, 1,\n",
              "       1, 0, 0, 1, 0, 0, 1])>"
            ]
          },
          "metadata": {},
          "execution_count": 13
        }
      ],
      "source": [
        "pred1 = rf_features.predict(X_test)\n",
        "mean_squared_error(y_test, pred1)\n",
        "pd.DataFrame(pred1)\n",
        "pred1 = tf.math.round(pred1)\n",
        "pred1"
      ]
    },
    {
      "cell_type": "code",
      "execution_count": null,
      "metadata": {
        "colab": {
          "base_uri": "https://localhost:8080/"
        },
        "id": "BJp5XaRs5OO8",
        "outputId": "5cdea224-7331-41af-88a8-2db121b1a83b"
      },
      "outputs": [
        {
          "output_type": "execute_result",
          "data": {
            "text/plain": [
              "0.9726027397260274"
            ]
          },
          "metadata": {},
          "execution_count": 14
        }
      ],
      "source": [
        "rf_features.score(X_train, y_train)"
      ]
    },
    {
      "cell_type": "code",
      "execution_count": null,
      "metadata": {
        "colab": {
          "base_uri": "https://localhost:8080/"
        },
        "id": "Qxs0n_L6NGmo",
        "outputId": "1ff5cf40-bd55-4018-8982-2224e3503687"
      },
      "outputs": [
        {
          "output_type": "stream",
          "name": "stdout",
          "text": [
            "accuracy_score on test dataset :  0.547945205479452\n"
          ]
        }
      ],
      "source": [
        "pred_test = accuracy_score(y_test,pred1)\n",
        "print('accuracy_score on test dataset : ', pred_test)"
      ]
    },
    {
      "cell_type": "code",
      "execution_count": null,
      "metadata": {
        "colab": {
          "base_uri": "https://localhost:8080/"
        },
        "id": "xMr0OzCxhz4R",
        "outputId": "589ff422-769d-4dd5-9937-2ed6de78c2be"
      },
      "outputs": [
        {
          "output_type": "stream",
          "name": "stdout",
          "text": [
            "              precision    recall  f1-score   support\n",
            "\n",
            "           0      0.515     0.500     0.507        34\n",
            "           1      0.575     0.590     0.582        39\n",
            "\n",
            "    accuracy                          0.548        73\n",
            "   macro avg      0.545     0.545     0.545        73\n",
            "weighted avg      0.547     0.548     0.547        73\n",
            "\n",
            "Average precision score: 0.558\n",
            "Cohen kappa score:  0.08991310918020401\n",
            "Confusion matrix: \n",
            "[[17 17]\n",
            " [16 23]]\n"
          ]
        }
      ],
      "source": [
        "print(classification_report(y_test, pred1, digits=3))\n",
        "print(f\"Average precision score: {average_precision_score(y_test, pred1):.3f}\")\n",
        "print(\"Cohen kappa score: \", cohen_kappa_score(y_test, pred1))\n",
        "print(\"Confusion matrix: \")\n",
        "print(confusion_matrix(y_test, pred1))"
      ]
    },
    {
      "cell_type": "code",
      "execution_count": null,
      "metadata": {
        "id": "9wIhSIqqNGmp"
      },
      "outputs": [],
      "source": [
        "parameters = {'max_features':range(1,1875)}"
      ]
    },
    {
      "cell_type": "code",
      "execution_count": null,
      "metadata": {
        "id": "T_6K_M6zNGmp",
        "outputId": "84df5d62-1b2d-46a6-85b0-06e69b71163c"
      },
      "outputs": [
        {
          "name": "stderr",
          "output_type": "stream",
          "text": [
            "/home/r0772183/anaconda3/lib/python3.9/site-packages/sklearn/model_selection/_validation.py:598: DataConversionWarning: A column-vector y was passed when a 1d array was expected. Please change the shape of y to (n_samples,), for example using ravel().\n",
            "  estimator.fit(X_train, y_train, **fit_params)\n",
            "/home/r0772183/anaconda3/lib/python3.9/site-packages/sklearn/model_selection/_validation.py:598: DataConversionWarning: A column-vector y was passed when a 1d array was expected. Please change the shape of y to (n_samples,), for example using ravel().\n",
            "  estimator.fit(X_train, y_train, **fit_params)\n",
            "/home/r0772183/anaconda3/lib/python3.9/site-packages/sklearn/model_selection/_validation.py:598: DataConversionWarning: A column-vector y was passed when a 1d array was expected. Please change the shape of y to (n_samples,), for example using ravel().\n",
            "  estimator.fit(X_train, y_train, **fit_params)\n",
            "/home/r0772183/anaconda3/lib/python3.9/site-packages/sklearn/model_selection/_validation.py:598: DataConversionWarning: A column-vector y was passed when a 1d array was expected. Please change the shape of y to (n_samples,), for example using ravel().\n",
            "  estimator.fit(X_train, y_train, **fit_params)\n",
            "/home/r0772183/anaconda3/lib/python3.9/site-packages/sklearn/model_selection/_validation.py:598: DataConversionWarning: A column-vector y was passed when a 1d array was expected. Please change the shape of y to (n_samples,), for example using ravel().\n",
            "  estimator.fit(X_train, y_train, **fit_params)\n",
            "/home/r0772183/anaconda3/lib/python3.9/site-packages/sklearn/model_selection/_validation.py:598: DataConversionWarning: A column-vector y was passed when a 1d array was expected. Please change the shape of y to (n_samples,), for example using ravel().\n",
            "  estimator.fit(X_train, y_train, **fit_params)\n",
            "/home/r0772183/anaconda3/lib/python3.9/site-packages/sklearn/model_selection/_validation.py:598: DataConversionWarning: A column-vector y was passed when a 1d array was expected. Please change the shape of y to (n_samples,), for example using ravel().\n",
            "  estimator.fit(X_train, y_train, **fit_params)\n",
            "/home/r0772183/anaconda3/lib/python3.9/site-packages/sklearn/model_selection/_validation.py:598: DataConversionWarning: A column-vector y was passed when a 1d array was expected. Please change the shape of y to (n_samples,), for example using ravel().\n",
            "  estimator.fit(X_train, y_train, **fit_params)\n",
            "/home/r0772183/anaconda3/lib/python3.9/site-packages/sklearn/model_selection/_validation.py:598: DataConversionWarning: A column-vector y was passed when a 1d array was expected. Please change the shape of y to (n_samples,), for example using ravel().\n",
            "  estimator.fit(X_train, y_train, **fit_params)\n",
            "/home/r0772183/anaconda3/lib/python3.9/site-packages/sklearn/model_selection/_validation.py:598: DataConversionWarning: A column-vector y was passed when a 1d array was expected. Please change the shape of y to (n_samples,), for example using ravel().\n",
            "  estimator.fit(X_train, y_train, **fit_params)\n",
            "/home/r0772183/anaconda3/lib/python3.9/site-packages/sklearn/model_selection/_validation.py:598: DataConversionWarning: A column-vector y was passed when a 1d array was expected. Please change the shape of y to (n_samples,), for example using ravel().\n",
            "  estimator.fit(X_train, y_train, **fit_params)\n",
            "/home/r0772183/anaconda3/lib/python3.9/site-packages/sklearn/model_selection/_validation.py:598: DataConversionWarning: A column-vector y was passed when a 1d array was expected. Please change the shape of y to (n_samples,), for example using ravel().\n",
            "  estimator.fit(X_train, y_train, **fit_params)\n",
            "/home/r0772183/anaconda3/lib/python3.9/site-packages/sklearn/model_selection/_validation.py:598: DataConversionWarning: A column-vector y was passed when a 1d array was expected. Please change the shape of y to (n_samples,), for example using ravel().\n",
            "  estimator.fit(X_train, y_train, **fit_params)\n",
            "/home/r0772183/anaconda3/lib/python3.9/site-packages/sklearn/model_selection/_validation.py:598: DataConversionWarning: A column-vector y was passed when a 1d array was expected. Please change the shape of y to (n_samples,), for example using ravel().\n",
            "  estimator.fit(X_train, y_train, **fit_params)\n",
            "/home/r0772183/anaconda3/lib/python3.9/site-packages/sklearn/model_selection/_validation.py:598: DataConversionWarning: A column-vector y was passed when a 1d array was expected. Please change the shape of y to (n_samples,), for example using ravel().\n",
            "  estimator.fit(X_train, y_train, **fit_params)\n",
            "/home/r0772183/anaconda3/lib/python3.9/site-packages/sklearn/model_selection/_validation.py:598: DataConversionWarning: A column-vector y was passed when a 1d array was expected. Please change the shape of y to (n_samples,), for example using ravel().\n",
            "  estimator.fit(X_train, y_train, **fit_params)\n",
            "/home/r0772183/anaconda3/lib/python3.9/site-packages/sklearn/model_selection/_validation.py:598: DataConversionWarning: A column-vector y was passed when a 1d array was expected. Please change the shape of y to (n_samples,), for example using ravel().\n",
            "  estimator.fit(X_train, y_train, **fit_params)\n",
            "/home/r0772183/anaconda3/lib/python3.9/site-packages/sklearn/model_selection/_validation.py:598: DataConversionWarning: A column-vector y was passed when a 1d array was expected. Please change the shape of y to (n_samples,), for example using ravel().\n",
            "  estimator.fit(X_train, y_train, **fit_params)\n",
            "/home/r0772183/anaconda3/lib/python3.9/site-packages/sklearn/model_selection/_validation.py:598: DataConversionWarning: A column-vector y was passed when a 1d array was expected. Please change the shape of y to (n_samples,), for example using ravel().\n",
            "  estimator.fit(X_train, y_train, **fit_params)\n",
            "/home/r0772183/anaconda3/lib/python3.9/site-packages/sklearn/model_selection/_validation.py:598: DataConversionWarning: A column-vector y was passed when a 1d array was expected. Please change the shape of y to (n_samples,), for example using ravel().\n",
            "  estimator.fit(X_train, y_train, **fit_params)\n",
            "/home/r0772183/anaconda3/lib/python3.9/site-packages/sklearn/model_selection/_validation.py:598: DataConversionWarning: A column-vector y was passed when a 1d array was expected. Please change the shape of y to (n_samples,), for example using ravel().\n",
            "  estimator.fit(X_train, y_train, **fit_params)\n",
            "/home/r0772183/anaconda3/lib/python3.9/site-packages/sklearn/model_selection/_validation.py:598: DataConversionWarning: A column-vector y was passed when a 1d array was expected. Please change the shape of y to (n_samples,), for example using ravel().\n",
            "  estimator.fit(X_train, y_train, **fit_params)\n",
            "/home/r0772183/anaconda3/lib/python3.9/site-packages/sklearn/model_selection/_validation.py:598: DataConversionWarning: A column-vector y was passed when a 1d array was expected. Please change the shape of y to (n_samples,), for example using ravel().\n",
            "  estimator.fit(X_train, y_train, **fit_params)\n",
            "/home/r0772183/anaconda3/lib/python3.9/site-packages/sklearn/model_selection/_validation.py:598: DataConversionWarning: A column-vector y was passed when a 1d array was expected. Please change the shape of y to (n_samples,), for example using ravel().\n",
            "  estimator.fit(X_train, y_train, **fit_params)\n",
            "/home/r0772183/anaconda3/lib/python3.9/site-packages/sklearn/model_selection/_validation.py:598: DataConversionWarning: A column-vector y was passed when a 1d array was expected. Please change the shape of y to (n_samples,), for example using ravel().\n",
            "  estimator.fit(X_train, y_train, **fit_params)\n",
            "/home/r0772183/anaconda3/lib/python3.9/site-packages/sklearn/model_selection/_validation.py:598: DataConversionWarning: A column-vector y was passed when a 1d array was expected. Please change the shape of y to (n_samples,), for example using ravel().\n",
            "  estimator.fit(X_train, y_train, **fit_params)\n",
            "/home/r0772183/anaconda3/lib/python3.9/site-packages/sklearn/model_selection/_validation.py:598: DataConversionWarning: A column-vector y was passed when a 1d array was expected. Please change the shape of y to (n_samples,), for example using ravel().\n",
            "  estimator.fit(X_train, y_train, **fit_params)\n",
            "/home/r0772183/anaconda3/lib/python3.9/site-packages/sklearn/model_selection/_validation.py:598: DataConversionWarning: A column-vector y was passed when a 1d array was expected. Please change the shape of y to (n_samples,), for example using ravel().\n",
            "  estimator.fit(X_train, y_train, **fit_params)\n",
            "/home/r0772183/anaconda3/lib/python3.9/site-packages/sklearn/model_selection/_validation.py:598: DataConversionWarning: A column-vector y was passed when a 1d array was expected. Please change the shape of y to (n_samples,), for example using ravel().\n",
            "  estimator.fit(X_train, y_train, **fit_params)\n",
            "/home/r0772183/anaconda3/lib/python3.9/site-packages/sklearn/model_selection/_validation.py:598: DataConversionWarning: A column-vector y was passed when a 1d array was expected. Please change the shape of y to (n_samples,), for example using ravel().\n",
            "  estimator.fit(X_train, y_train, **fit_params)\n",
            "/home/r0772183/anaconda3/lib/python3.9/site-packages/sklearn/model_selection/_validation.py:598: DataConversionWarning: A column-vector y was passed when a 1d array was expected. Please change the shape of y to (n_samples,), for example using ravel().\n",
            "  estimator.fit(X_train, y_train, **fit_params)\n",
            "/home/r0772183/anaconda3/lib/python3.9/site-packages/sklearn/model_selection/_validation.py:598: DataConversionWarning: A column-vector y was passed when a 1d array was expected. Please change the shape of y to (n_samples,), for example using ravel().\n",
            "  estimator.fit(X_train, y_train, **fit_params)\n"
          ]
        },
        {
          "name": "stderr",
          "output_type": "stream",
          "text": [
            "/home/r0772183/anaconda3/lib/python3.9/site-packages/sklearn/model_selection/_validation.py:598: DataConversionWarning: A column-vector y was passed when a 1d array was expected. Please change the shape of y to (n_samples,), for example using ravel().\n",
            "  estimator.fit(X_train, y_train, **fit_params)\n",
            "/home/r0772183/anaconda3/lib/python3.9/site-packages/sklearn/model_selection/_validation.py:598: DataConversionWarning: A column-vector y was passed when a 1d array was expected. Please change the shape of y to (n_samples,), for example using ravel().\n",
            "  estimator.fit(X_train, y_train, **fit_params)\n",
            "/home/r0772183/anaconda3/lib/python3.9/site-packages/sklearn/model_selection/_validation.py:598: DataConversionWarning: A column-vector y was passed when a 1d array was expected. Please change the shape of y to (n_samples,), for example using ravel().\n",
            "  estimator.fit(X_train, y_train, **fit_params)\n",
            "/home/r0772183/anaconda3/lib/python3.9/site-packages/sklearn/model_selection/_validation.py:598: DataConversionWarning: A column-vector y was passed when a 1d array was expected. Please change the shape of y to (n_samples,), for example using ravel().\n",
            "  estimator.fit(X_train, y_train, **fit_params)\n",
            "/home/r0772183/anaconda3/lib/python3.9/site-packages/sklearn/model_selection/_validation.py:598: DataConversionWarning: A column-vector y was passed when a 1d array was expected. Please change the shape of y to (n_samples,), for example using ravel().\n",
            "  estimator.fit(X_train, y_train, **fit_params)\n",
            "/home/r0772183/anaconda3/lib/python3.9/site-packages/sklearn/model_selection/_validation.py:598: DataConversionWarning: A column-vector y was passed when a 1d array was expected. Please change the shape of y to (n_samples,), for example using ravel().\n",
            "  estimator.fit(X_train, y_train, **fit_params)\n",
            "/home/r0772183/anaconda3/lib/python3.9/site-packages/sklearn/model_selection/_validation.py:598: DataConversionWarning: A column-vector y was passed when a 1d array was expected. Please change the shape of y to (n_samples,), for example using ravel().\n",
            "  estimator.fit(X_train, y_train, **fit_params)\n",
            "/home/r0772183/anaconda3/lib/python3.9/site-packages/sklearn/model_selection/_validation.py:598: DataConversionWarning: A column-vector y was passed when a 1d array was expected. Please change the shape of y to (n_samples,), for example using ravel().\n",
            "  estimator.fit(X_train, y_train, **fit_params)\n",
            "/home/r0772183/anaconda3/lib/python3.9/site-packages/sklearn/model_selection/_validation.py:598: DataConversionWarning: A column-vector y was passed when a 1d array was expected. Please change the shape of y to (n_samples,), for example using ravel().\n",
            "  estimator.fit(X_train, y_train, **fit_params)\n",
            "/home/r0772183/anaconda3/lib/python3.9/site-packages/sklearn/model_selection/_validation.py:598: DataConversionWarning: A column-vector y was passed when a 1d array was expected. Please change the shape of y to (n_samples,), for example using ravel().\n",
            "  estimator.fit(X_train, y_train, **fit_params)\n",
            "/home/r0772183/anaconda3/lib/python3.9/site-packages/sklearn/model_selection/_validation.py:598: DataConversionWarning: A column-vector y was passed when a 1d array was expected. Please change the shape of y to (n_samples,), for example using ravel().\n",
            "  estimator.fit(X_train, y_train, **fit_params)\n",
            "/home/r0772183/anaconda3/lib/python3.9/site-packages/sklearn/model_selection/_validation.py:598: DataConversionWarning: A column-vector y was passed when a 1d array was expected. Please change the shape of y to (n_samples,), for example using ravel().\n",
            "  estimator.fit(X_train, y_train, **fit_params)\n",
            "/home/r0772183/anaconda3/lib/python3.9/site-packages/sklearn/model_selection/_validation.py:598: DataConversionWarning: A column-vector y was passed when a 1d array was expected. Please change the shape of y to (n_samples,), for example using ravel().\n",
            "  estimator.fit(X_train, y_train, **fit_params)\n",
            "/home/r0772183/anaconda3/lib/python3.9/site-packages/sklearn/model_selection/_validation.py:598: DataConversionWarning: A column-vector y was passed when a 1d array was expected. Please change the shape of y to (n_samples,), for example using ravel().\n",
            "  estimator.fit(X_train, y_train, **fit_params)\n",
            "/home/r0772183/anaconda3/lib/python3.9/site-packages/sklearn/model_selection/_validation.py:598: DataConversionWarning: A column-vector y was passed when a 1d array was expected. Please change the shape of y to (n_samples,), for example using ravel().\n",
            "  estimator.fit(X_train, y_train, **fit_params)\n",
            "/home/r0772183/anaconda3/lib/python3.9/site-packages/sklearn/model_selection/_validation.py:598: DataConversionWarning: A column-vector y was passed when a 1d array was expected. Please change the shape of y to (n_samples,), for example using ravel().\n",
            "  estimator.fit(X_train, y_train, **fit_params)\n",
            "/home/r0772183/anaconda3/lib/python3.9/site-packages/sklearn/model_selection/_validation.py:598: DataConversionWarning: A column-vector y was passed when a 1d array was expected. Please change the shape of y to (n_samples,), for example using ravel().\n",
            "  estimator.fit(X_train, y_train, **fit_params)\n",
            "/home/r0772183/anaconda3/lib/python3.9/site-packages/sklearn/model_selection/_validation.py:598: DataConversionWarning: A column-vector y was passed when a 1d array was expected. Please change the shape of y to (n_samples,), for example using ravel().\n",
            "  estimator.fit(X_train, y_train, **fit_params)\n",
            "/home/r0772183/anaconda3/lib/python3.9/site-packages/sklearn/model_selection/_validation.py:598: DataConversionWarning: A column-vector y was passed when a 1d array was expected. Please change the shape of y to (n_samples,), for example using ravel().\n",
            "  estimator.fit(X_train, y_train, **fit_params)\n",
            "/home/r0772183/anaconda3/lib/python3.9/site-packages/sklearn/model_selection/_validation.py:598: DataConversionWarning: A column-vector y was passed when a 1d array was expected. Please change the shape of y to (n_samples,), for example using ravel().\n",
            "  estimator.fit(X_train, y_train, **fit_params)\n",
            "/home/r0772183/anaconda3/lib/python3.9/site-packages/sklearn/model_selection/_validation.py:598: DataConversionWarning: A column-vector y was passed when a 1d array was expected. Please change the shape of y to (n_samples,), for example using ravel().\n",
            "  estimator.fit(X_train, y_train, **fit_params)\n",
            "/home/r0772183/anaconda3/lib/python3.9/site-packages/sklearn/model_selection/_validation.py:598: DataConversionWarning: A column-vector y was passed when a 1d array was expected. Please change the shape of y to (n_samples,), for example using ravel().\n",
            "  estimator.fit(X_train, y_train, **fit_params)\n",
            "/home/r0772183/anaconda3/lib/python3.9/site-packages/sklearn/model_selection/_validation.py:598: DataConversionWarning: A column-vector y was passed when a 1d array was expected. Please change the shape of y to (n_samples,), for example using ravel().\n",
            "  estimator.fit(X_train, y_train, **fit_params)\n",
            "/home/r0772183/anaconda3/lib/python3.9/site-packages/sklearn/model_selection/_validation.py:598: DataConversionWarning: A column-vector y was passed when a 1d array was expected. Please change the shape of y to (n_samples,), for example using ravel().\n",
            "  estimator.fit(X_train, y_train, **fit_params)\n",
            "/home/r0772183/anaconda3/lib/python3.9/site-packages/sklearn/model_selection/_validation.py:598: DataConversionWarning: A column-vector y was passed when a 1d array was expected. Please change the shape of y to (n_samples,), for example using ravel().\n",
            "  estimator.fit(X_train, y_train, **fit_params)\n",
            "/home/r0772183/anaconda3/lib/python3.9/site-packages/sklearn/model_selection/_validation.py:598: DataConversionWarning: A column-vector y was passed when a 1d array was expected. Please change the shape of y to (n_samples,), for example using ravel().\n",
            "  estimator.fit(X_train, y_train, **fit_params)\n",
            "/home/r0772183/anaconda3/lib/python3.9/site-packages/sklearn/model_selection/_validation.py:598: DataConversionWarning: A column-vector y was passed when a 1d array was expected. Please change the shape of y to (n_samples,), for example using ravel().\n",
            "  estimator.fit(X_train, y_train, **fit_params)\n",
            "/home/r0772183/anaconda3/lib/python3.9/site-packages/sklearn/model_selection/_validation.py:598: DataConversionWarning: A column-vector y was passed when a 1d array was expected. Please change the shape of y to (n_samples,), for example using ravel().\n",
            "  estimator.fit(X_train, y_train, **fit_params)\n",
            "/home/r0772183/anaconda3/lib/python3.9/site-packages/sklearn/model_selection/_validation.py:598: DataConversionWarning: A column-vector y was passed when a 1d array was expected. Please change the shape of y to (n_samples,), for example using ravel().\n",
            "  estimator.fit(X_train, y_train, **fit_params)\n",
            "/home/r0772183/anaconda3/lib/python3.9/site-packages/sklearn/model_selection/_validation.py:598: DataConversionWarning: A column-vector y was passed when a 1d array was expected. Please change the shape of y to (n_samples,), for example using ravel().\n",
            "  estimator.fit(X_train, y_train, **fit_params)\n",
            "/home/r0772183/anaconda3/lib/python3.9/site-packages/sklearn/model_selection/_validation.py:598: DataConversionWarning: A column-vector y was passed when a 1d array was expected. Please change the shape of y to (n_samples,), for example using ravel().\n",
            "  estimator.fit(X_train, y_train, **fit_params)\n",
            "/home/r0772183/anaconda3/lib/python3.9/site-packages/sklearn/model_selection/_validation.py:598: DataConversionWarning: A column-vector y was passed when a 1d array was expected. Please change the shape of y to (n_samples,), for example using ravel().\n",
            "  estimator.fit(X_train, y_train, **fit_params)\n"
          ]
        },
        {
          "name": "stderr",
          "output_type": "stream",
          "text": [
            "/home/r0772183/anaconda3/lib/python3.9/site-packages/sklearn/model_selection/_validation.py:598: DataConversionWarning: A column-vector y was passed when a 1d array was expected. Please change the shape of y to (n_samples,), for example using ravel().\n",
            "  estimator.fit(X_train, y_train, **fit_params)\n",
            "/home/r0772183/anaconda3/lib/python3.9/site-packages/sklearn/model_selection/_validation.py:598: DataConversionWarning: A column-vector y was passed when a 1d array was expected. Please change the shape of y to (n_samples,), for example using ravel().\n",
            "  estimator.fit(X_train, y_train, **fit_params)\n",
            "/home/r0772183/anaconda3/lib/python3.9/site-packages/sklearn/model_selection/_validation.py:598: DataConversionWarning: A column-vector y was passed when a 1d array was expected. Please change the shape of y to (n_samples,), for example using ravel().\n",
            "  estimator.fit(X_train, y_train, **fit_params)\n",
            "/home/r0772183/anaconda3/lib/python3.9/site-packages/sklearn/model_selection/_validation.py:598: DataConversionWarning: A column-vector y was passed when a 1d array was expected. Please change the shape of y to (n_samples,), for example using ravel().\n",
            "  estimator.fit(X_train, y_train, **fit_params)\n",
            "/home/r0772183/anaconda3/lib/python3.9/site-packages/sklearn/model_selection/_validation.py:598: DataConversionWarning: A column-vector y was passed when a 1d array was expected. Please change the shape of y to (n_samples,), for example using ravel().\n",
            "  estimator.fit(X_train, y_train, **fit_params)\n",
            "/home/r0772183/anaconda3/lib/python3.9/site-packages/sklearn/model_selection/_validation.py:598: DataConversionWarning: A column-vector y was passed when a 1d array was expected. Please change the shape of y to (n_samples,), for example using ravel().\n",
            "  estimator.fit(X_train, y_train, **fit_params)\n",
            "/home/r0772183/anaconda3/lib/python3.9/site-packages/sklearn/model_selection/_validation.py:598: DataConversionWarning: A column-vector y was passed when a 1d array was expected. Please change the shape of y to (n_samples,), for example using ravel().\n",
            "  estimator.fit(X_train, y_train, **fit_params)\n",
            "/home/r0772183/anaconda3/lib/python3.9/site-packages/sklearn/model_selection/_validation.py:598: DataConversionWarning: A column-vector y was passed when a 1d array was expected. Please change the shape of y to (n_samples,), for example using ravel().\n",
            "  estimator.fit(X_train, y_train, **fit_params)\n",
            "/home/r0772183/anaconda3/lib/python3.9/site-packages/sklearn/model_selection/_validation.py:598: DataConversionWarning: A column-vector y was passed when a 1d array was expected. Please change the shape of y to (n_samples,), for example using ravel().\n",
            "  estimator.fit(X_train, y_train, **fit_params)\n",
            "/home/r0772183/anaconda3/lib/python3.9/site-packages/sklearn/model_selection/_validation.py:598: DataConversionWarning: A column-vector y was passed when a 1d array was expected. Please change the shape of y to (n_samples,), for example using ravel().\n",
            "  estimator.fit(X_train, y_train, **fit_params)\n",
            "/home/r0772183/anaconda3/lib/python3.9/site-packages/sklearn/model_selection/_validation.py:598: DataConversionWarning: A column-vector y was passed when a 1d array was expected. Please change the shape of y to (n_samples,), for example using ravel().\n",
            "  estimator.fit(X_train, y_train, **fit_params)\n",
            "/home/r0772183/anaconda3/lib/python3.9/site-packages/sklearn/model_selection/_validation.py:598: DataConversionWarning: A column-vector y was passed when a 1d array was expected. Please change the shape of y to (n_samples,), for example using ravel().\n",
            "  estimator.fit(X_train, y_train, **fit_params)\n",
            "/home/r0772183/anaconda3/lib/python3.9/site-packages/sklearn/model_selection/_validation.py:598: DataConversionWarning: A column-vector y was passed when a 1d array was expected. Please change the shape of y to (n_samples,), for example using ravel().\n",
            "  estimator.fit(X_train, y_train, **fit_params)\n",
            "/home/r0772183/anaconda3/lib/python3.9/site-packages/sklearn/model_selection/_validation.py:598: DataConversionWarning: A column-vector y was passed when a 1d array was expected. Please change the shape of y to (n_samples,), for example using ravel().\n",
            "  estimator.fit(X_train, y_train, **fit_params)\n",
            "/home/r0772183/anaconda3/lib/python3.9/site-packages/sklearn/model_selection/_validation.py:598: DataConversionWarning: A column-vector y was passed when a 1d array was expected. Please change the shape of y to (n_samples,), for example using ravel().\n",
            "  estimator.fit(X_train, y_train, **fit_params)\n",
            "/home/r0772183/anaconda3/lib/python3.9/site-packages/sklearn/model_selection/_validation.py:598: DataConversionWarning: A column-vector y was passed when a 1d array was expected. Please change the shape of y to (n_samples,), for example using ravel().\n",
            "  estimator.fit(X_train, y_train, **fit_params)\n",
            "/home/r0772183/anaconda3/lib/python3.9/site-packages/sklearn/model_selection/_validation.py:598: DataConversionWarning: A column-vector y was passed when a 1d array was expected. Please change the shape of y to (n_samples,), for example using ravel().\n",
            "  estimator.fit(X_train, y_train, **fit_params)\n",
            "/home/r0772183/anaconda3/lib/python3.9/site-packages/sklearn/model_selection/_validation.py:598: DataConversionWarning: A column-vector y was passed when a 1d array was expected. Please change the shape of y to (n_samples,), for example using ravel().\n",
            "  estimator.fit(X_train, y_train, **fit_params)\n",
            "/home/r0772183/anaconda3/lib/python3.9/site-packages/sklearn/model_selection/_validation.py:598: DataConversionWarning: A column-vector y was passed when a 1d array was expected. Please change the shape of y to (n_samples,), for example using ravel().\n",
            "  estimator.fit(X_train, y_train, **fit_params)\n",
            "/home/r0772183/anaconda3/lib/python3.9/site-packages/sklearn/model_selection/_validation.py:598: DataConversionWarning: A column-vector y was passed when a 1d array was expected. Please change the shape of y to (n_samples,), for example using ravel().\n",
            "  estimator.fit(X_train, y_train, **fit_params)\n",
            "/home/r0772183/anaconda3/lib/python3.9/site-packages/sklearn/model_selection/_validation.py:598: DataConversionWarning: A column-vector y was passed when a 1d array was expected. Please change the shape of y to (n_samples,), for example using ravel().\n",
            "  estimator.fit(X_train, y_train, **fit_params)\n",
            "/home/r0772183/anaconda3/lib/python3.9/site-packages/sklearn/model_selection/_validation.py:598: DataConversionWarning: A column-vector y was passed when a 1d array was expected. Please change the shape of y to (n_samples,), for example using ravel().\n",
            "  estimator.fit(X_train, y_train, **fit_params)\n",
            "/home/r0772183/anaconda3/lib/python3.9/site-packages/sklearn/model_selection/_validation.py:598: DataConversionWarning: A column-vector y was passed when a 1d array was expected. Please change the shape of y to (n_samples,), for example using ravel().\n",
            "  estimator.fit(X_train, y_train, **fit_params)\n",
            "/home/r0772183/anaconda3/lib/python3.9/site-packages/sklearn/model_selection/_validation.py:598: DataConversionWarning: A column-vector y was passed when a 1d array was expected. Please change the shape of y to (n_samples,), for example using ravel().\n",
            "  estimator.fit(X_train, y_train, **fit_params)\n",
            "/home/r0772183/anaconda3/lib/python3.9/site-packages/sklearn/model_selection/_validation.py:598: DataConversionWarning: A column-vector y was passed when a 1d array was expected. Please change the shape of y to (n_samples,), for example using ravel().\n",
            "  estimator.fit(X_train, y_train, **fit_params)\n",
            "/home/r0772183/anaconda3/lib/python3.9/site-packages/sklearn/model_selection/_validation.py:598: DataConversionWarning: A column-vector y was passed when a 1d array was expected. Please change the shape of y to (n_samples,), for example using ravel().\n",
            "  estimator.fit(X_train, y_train, **fit_params)\n",
            "/home/r0772183/anaconda3/lib/python3.9/site-packages/sklearn/model_selection/_validation.py:598: DataConversionWarning: A column-vector y was passed when a 1d array was expected. Please change the shape of y to (n_samples,), for example using ravel().\n",
            "  estimator.fit(X_train, y_train, **fit_params)\n",
            "/home/r0772183/anaconda3/lib/python3.9/site-packages/sklearn/model_selection/_validation.py:598: DataConversionWarning: A column-vector y was passed when a 1d array was expected. Please change the shape of y to (n_samples,), for example using ravel().\n",
            "  estimator.fit(X_train, y_train, **fit_params)\n",
            "/home/r0772183/anaconda3/lib/python3.9/site-packages/sklearn/model_selection/_validation.py:598: DataConversionWarning: A column-vector y was passed when a 1d array was expected. Please change the shape of y to (n_samples,), for example using ravel().\n",
            "  estimator.fit(X_train, y_train, **fit_params)\n",
            "/home/r0772183/anaconda3/lib/python3.9/site-packages/sklearn/model_selection/_validation.py:598: DataConversionWarning: A column-vector y was passed when a 1d array was expected. Please change the shape of y to (n_samples,), for example using ravel().\n",
            "  estimator.fit(X_train, y_train, **fit_params)\n",
            "/home/r0772183/anaconda3/lib/python3.9/site-packages/sklearn/model_selection/_validation.py:598: DataConversionWarning: A column-vector y was passed when a 1d array was expected. Please change the shape of y to (n_samples,), for example using ravel().\n",
            "  estimator.fit(X_train, y_train, **fit_params)\n"
          ]
        },
        {
          "name": "stderr",
          "output_type": "stream",
          "text": [
            "/home/r0772183/anaconda3/lib/python3.9/site-packages/sklearn/model_selection/_validation.py:598: DataConversionWarning: A column-vector y was passed when a 1d array was expected. Please change the shape of y to (n_samples,), for example using ravel().\n",
            "  estimator.fit(X_train, y_train, **fit_params)\n",
            "/home/r0772183/anaconda3/lib/python3.9/site-packages/sklearn/model_selection/_validation.py:598: DataConversionWarning: A column-vector y was passed when a 1d array was expected. Please change the shape of y to (n_samples,), for example using ravel().\n",
            "  estimator.fit(X_train, y_train, **fit_params)\n",
            "/home/r0772183/anaconda3/lib/python3.9/site-packages/sklearn/model_selection/_validation.py:598: DataConversionWarning: A column-vector y was passed when a 1d array was expected. Please change the shape of y to (n_samples,), for example using ravel().\n",
            "  estimator.fit(X_train, y_train, **fit_params)\n",
            "/home/r0772183/anaconda3/lib/python3.9/site-packages/sklearn/model_selection/_validation.py:598: DataConversionWarning: A column-vector y was passed when a 1d array was expected. Please change the shape of y to (n_samples,), for example using ravel().\n",
            "  estimator.fit(X_train, y_train, **fit_params)\n",
            "/home/r0772183/anaconda3/lib/python3.9/site-packages/sklearn/model_selection/_validation.py:598: DataConversionWarning: A column-vector y was passed when a 1d array was expected. Please change the shape of y to (n_samples,), for example using ravel().\n",
            "  estimator.fit(X_train, y_train, **fit_params)\n",
            "/home/r0772183/anaconda3/lib/python3.9/site-packages/sklearn/model_selection/_validation.py:598: DataConversionWarning: A column-vector y was passed when a 1d array was expected. Please change the shape of y to (n_samples,), for example using ravel().\n",
            "  estimator.fit(X_train, y_train, **fit_params)\n",
            "/home/r0772183/anaconda3/lib/python3.9/site-packages/sklearn/model_selection/_validation.py:598: DataConversionWarning: A column-vector y was passed when a 1d array was expected. Please change the shape of y to (n_samples,), for example using ravel().\n",
            "  estimator.fit(X_train, y_train, **fit_params)\n",
            "/home/r0772183/anaconda3/lib/python3.9/site-packages/sklearn/model_selection/_validation.py:598: DataConversionWarning: A column-vector y was passed when a 1d array was expected. Please change the shape of y to (n_samples,), for example using ravel().\n",
            "  estimator.fit(X_train, y_train, **fit_params)\n",
            "/home/r0772183/anaconda3/lib/python3.9/site-packages/sklearn/model_selection/_validation.py:598: DataConversionWarning: A column-vector y was passed when a 1d array was expected. Please change the shape of y to (n_samples,), for example using ravel().\n",
            "  estimator.fit(X_train, y_train, **fit_params)\n",
            "/home/r0772183/anaconda3/lib/python3.9/site-packages/sklearn/model_selection/_validation.py:598: DataConversionWarning: A column-vector y was passed when a 1d array was expected. Please change the shape of y to (n_samples,), for example using ravel().\n",
            "  estimator.fit(X_train, y_train, **fit_params)\n",
            "/home/r0772183/anaconda3/lib/python3.9/site-packages/sklearn/model_selection/_validation.py:598: DataConversionWarning: A column-vector y was passed when a 1d array was expected. Please change the shape of y to (n_samples,), for example using ravel().\n",
            "  estimator.fit(X_train, y_train, **fit_params)\n",
            "/home/r0772183/anaconda3/lib/python3.9/site-packages/sklearn/model_selection/_validation.py:598: DataConversionWarning: A column-vector y was passed when a 1d array was expected. Please change the shape of y to (n_samples,), for example using ravel().\n",
            "  estimator.fit(X_train, y_train, **fit_params)\n",
            "/home/r0772183/anaconda3/lib/python3.9/site-packages/sklearn/model_selection/_validation.py:598: DataConversionWarning: A column-vector y was passed when a 1d array was expected. Please change the shape of y to (n_samples,), for example using ravel().\n",
            "  estimator.fit(X_train, y_train, **fit_params)\n",
            "/home/r0772183/anaconda3/lib/python3.9/site-packages/sklearn/model_selection/_validation.py:598: DataConversionWarning: A column-vector y was passed when a 1d array was expected. Please change the shape of y to (n_samples,), for example using ravel().\n",
            "  estimator.fit(X_train, y_train, **fit_params)\n",
            "/home/r0772183/anaconda3/lib/python3.9/site-packages/sklearn/model_selection/_validation.py:598: DataConversionWarning: A column-vector y was passed when a 1d array was expected. Please change the shape of y to (n_samples,), for example using ravel().\n",
            "  estimator.fit(X_train, y_train, **fit_params)\n",
            "/home/r0772183/anaconda3/lib/python3.9/site-packages/sklearn/model_selection/_validation.py:598: DataConversionWarning: A column-vector y was passed when a 1d array was expected. Please change the shape of y to (n_samples,), for example using ravel().\n",
            "  estimator.fit(X_train, y_train, **fit_params)\n"
          ]
        },
        {
          "ename": "KeyboardInterrupt",
          "evalue": "",
          "output_type": "error",
          "traceback": [
            "\u001b[0;31m---------------------------------------------------------------------------\u001b[0m",
            "\u001b[0;31mKeyboardInterrupt\u001b[0m                         Traceback (most recent call last)",
            "\u001b[0;32m/tmp/ipykernel_45532/2438924130.py\u001b[0m in \u001b[0;36m<module>\u001b[0;34m\u001b[0m\n\u001b[1;32m      1\u001b[0m \u001b[0mclf\u001b[0m \u001b[0;34m=\u001b[0m \u001b[0mGridSearchCV\u001b[0m\u001b[0;34m(\u001b[0m\u001b[0mRandomForestClassifier\u001b[0m\u001b[0;34m(\u001b[0m\u001b[0;34m)\u001b[0m\u001b[0;34m,\u001b[0m \u001b[0mparameters\u001b[0m\u001b[0;34m,\u001b[0m \u001b[0mn_jobs\u001b[0m\u001b[0;34m=\u001b[0m\u001b[0;34m-\u001b[0m\u001b[0;36m1\u001b[0m\u001b[0;34m)\u001b[0m\u001b[0;34m\u001b[0m\u001b[0;34m\u001b[0m\u001b[0m\n\u001b[0;32m----> 2\u001b[0;31m \u001b[0mclf\u001b[0m\u001b[0;34m.\u001b[0m\u001b[0mfit\u001b[0m\u001b[0;34m(\u001b[0m\u001b[0mX_train\u001b[0m\u001b[0;34m,\u001b[0m \u001b[0my_train\u001b[0m\u001b[0;34m)\u001b[0m\u001b[0;34m\u001b[0m\u001b[0;34m\u001b[0m\u001b[0m\n\u001b[0m\u001b[1;32m      3\u001b[0m \u001b[0mClassifer\u001b[0m \u001b[0;34m=\u001b[0m \u001b[0mclf\u001b[0m\u001b[0;34m.\u001b[0m\u001b[0mbest_estimator_\u001b[0m\u001b[0;34m\u001b[0m\u001b[0;34m\u001b[0m\u001b[0m\n\u001b[1;32m      4\u001b[0m \u001b[0mprint\u001b[0m \u001b[0;34m(\u001b[0m\u001b[0mclf\u001b[0m\u001b[0;34m.\u001b[0m\u001b[0mbest_score_\u001b[0m\u001b[0;34m,\u001b[0m \u001b[0mclf\u001b[0m\u001b[0;34m.\u001b[0m\u001b[0mbest_params_\u001b[0m\u001b[0;34m)\u001b[0m \u001b[0;31m#Task takes minimum five hours, dont rerun unless you have time, take the parameter that I have chosen\u001b[0m\u001b[0;34m\u001b[0m\u001b[0;34m\u001b[0m\u001b[0m\n",
            "\u001b[0;32m~/anaconda3/lib/python3.9/site-packages/sklearn/utils/validation.py\u001b[0m in \u001b[0;36minner_f\u001b[0;34m(*args, **kwargs)\u001b[0m\n\u001b[1;32m     61\u001b[0m             \u001b[0mextra_args\u001b[0m \u001b[0;34m=\u001b[0m \u001b[0mlen\u001b[0m\u001b[0;34m(\u001b[0m\u001b[0margs\u001b[0m\u001b[0;34m)\u001b[0m \u001b[0;34m-\u001b[0m \u001b[0mlen\u001b[0m\u001b[0;34m(\u001b[0m\u001b[0mall_args\u001b[0m\u001b[0;34m)\u001b[0m\u001b[0;34m\u001b[0m\u001b[0;34m\u001b[0m\u001b[0m\n\u001b[1;32m     62\u001b[0m             \u001b[0;32mif\u001b[0m \u001b[0mextra_args\u001b[0m \u001b[0;34m<=\u001b[0m \u001b[0;36m0\u001b[0m\u001b[0;34m:\u001b[0m\u001b[0;34m\u001b[0m\u001b[0;34m\u001b[0m\u001b[0m\n\u001b[0;32m---> 63\u001b[0;31m                 \u001b[0;32mreturn\u001b[0m \u001b[0mf\u001b[0m\u001b[0;34m(\u001b[0m\u001b[0;34m*\u001b[0m\u001b[0margs\u001b[0m\u001b[0;34m,\u001b[0m \u001b[0;34m**\u001b[0m\u001b[0mkwargs\u001b[0m\u001b[0;34m)\u001b[0m\u001b[0;34m\u001b[0m\u001b[0;34m\u001b[0m\u001b[0m\n\u001b[0m\u001b[1;32m     64\u001b[0m \u001b[0;34m\u001b[0m\u001b[0m\n\u001b[1;32m     65\u001b[0m             \u001b[0;31m# extra_args > 0\u001b[0m\u001b[0;34m\u001b[0m\u001b[0;34m\u001b[0m\u001b[0m\n",
            "\u001b[0;32m~/anaconda3/lib/python3.9/site-packages/sklearn/model_selection/_search.py\u001b[0m in \u001b[0;36mfit\u001b[0;34m(self, X, y, groups, **fit_params)\u001b[0m\n\u001b[1;32m    839\u001b[0m                 \u001b[0;32mreturn\u001b[0m \u001b[0mresults\u001b[0m\u001b[0;34m\u001b[0m\u001b[0;34m\u001b[0m\u001b[0m\n\u001b[1;32m    840\u001b[0m \u001b[0;34m\u001b[0m\u001b[0m\n\u001b[0;32m--> 841\u001b[0;31m             \u001b[0mself\u001b[0m\u001b[0;34m.\u001b[0m\u001b[0m_run_search\u001b[0m\u001b[0;34m(\u001b[0m\u001b[0mevaluate_candidates\u001b[0m\u001b[0;34m)\u001b[0m\u001b[0;34m\u001b[0m\u001b[0;34m\u001b[0m\u001b[0m\n\u001b[0m\u001b[1;32m    842\u001b[0m \u001b[0;34m\u001b[0m\u001b[0m\n\u001b[1;32m    843\u001b[0m             \u001b[0;31m# multimetric is determined here because in the case of a callable\u001b[0m\u001b[0;34m\u001b[0m\u001b[0;34m\u001b[0m\u001b[0m\n",
            "\u001b[0;32m~/anaconda3/lib/python3.9/site-packages/sklearn/model_selection/_search.py\u001b[0m in \u001b[0;36m_run_search\u001b[0;34m(self, evaluate_candidates)\u001b[0m\n\u001b[1;32m   1294\u001b[0m     \u001b[0;32mdef\u001b[0m \u001b[0m_run_search\u001b[0m\u001b[0;34m(\u001b[0m\u001b[0mself\u001b[0m\u001b[0;34m,\u001b[0m \u001b[0mevaluate_candidates\u001b[0m\u001b[0;34m)\u001b[0m\u001b[0;34m:\u001b[0m\u001b[0;34m\u001b[0m\u001b[0;34m\u001b[0m\u001b[0m\n\u001b[1;32m   1295\u001b[0m         \u001b[0;34m\"\"\"Search all candidates in param_grid\"\"\"\u001b[0m\u001b[0;34m\u001b[0m\u001b[0;34m\u001b[0m\u001b[0m\n\u001b[0;32m-> 1296\u001b[0;31m         \u001b[0mevaluate_candidates\u001b[0m\u001b[0;34m(\u001b[0m\u001b[0mParameterGrid\u001b[0m\u001b[0;34m(\u001b[0m\u001b[0mself\u001b[0m\u001b[0;34m.\u001b[0m\u001b[0mparam_grid\u001b[0m\u001b[0;34m)\u001b[0m\u001b[0;34m)\u001b[0m\u001b[0;34m\u001b[0m\u001b[0;34m\u001b[0m\u001b[0m\n\u001b[0m\u001b[1;32m   1297\u001b[0m \u001b[0;34m\u001b[0m\u001b[0m\n\u001b[1;32m   1298\u001b[0m \u001b[0;34m\u001b[0m\u001b[0m\n",
            "\u001b[0;32m~/anaconda3/lib/python3.9/site-packages/sklearn/model_selection/_search.py\u001b[0m in \u001b[0;36mevaluate_candidates\u001b[0;34m(candidate_params, cv, more_results)\u001b[0m\n\u001b[1;32m    793\u001b[0m                               n_splits, n_candidates, n_candidates * n_splits))\n\u001b[1;32m    794\u001b[0m \u001b[0;34m\u001b[0m\u001b[0m\n\u001b[0;32m--> 795\u001b[0;31m                 out = parallel(delayed(_fit_and_score)(clone(base_estimator),\n\u001b[0m\u001b[1;32m    796\u001b[0m                                                        \u001b[0mX\u001b[0m\u001b[0;34m,\u001b[0m \u001b[0my\u001b[0m\u001b[0;34m,\u001b[0m\u001b[0;34m\u001b[0m\u001b[0;34m\u001b[0m\u001b[0m\n\u001b[1;32m    797\u001b[0m                                                        \u001b[0mtrain\u001b[0m\u001b[0;34m=\u001b[0m\u001b[0mtrain\u001b[0m\u001b[0;34m,\u001b[0m \u001b[0mtest\u001b[0m\u001b[0;34m=\u001b[0m\u001b[0mtest\u001b[0m\u001b[0;34m,\u001b[0m\u001b[0;34m\u001b[0m\u001b[0;34m\u001b[0m\u001b[0m\n",
            "\u001b[0;32m~/anaconda3/lib/python3.9/site-packages/joblib/parallel.py\u001b[0m in \u001b[0;36m__call__\u001b[0;34m(self, iterable)\u001b[0m\n\u001b[1;32m   1054\u001b[0m \u001b[0;34m\u001b[0m\u001b[0m\n\u001b[1;32m   1055\u001b[0m             \u001b[0;32mwith\u001b[0m \u001b[0mself\u001b[0m\u001b[0;34m.\u001b[0m\u001b[0m_backend\u001b[0m\u001b[0;34m.\u001b[0m\u001b[0mretrieval_context\u001b[0m\u001b[0;34m(\u001b[0m\u001b[0;34m)\u001b[0m\u001b[0;34m:\u001b[0m\u001b[0;34m\u001b[0m\u001b[0;34m\u001b[0m\u001b[0m\n\u001b[0;32m-> 1056\u001b[0;31m                 \u001b[0mself\u001b[0m\u001b[0;34m.\u001b[0m\u001b[0mretrieve\u001b[0m\u001b[0;34m(\u001b[0m\u001b[0;34m)\u001b[0m\u001b[0;34m\u001b[0m\u001b[0;34m\u001b[0m\u001b[0m\n\u001b[0m\u001b[1;32m   1057\u001b[0m             \u001b[0;31m# Make sure that we get a last message telling us we are done\u001b[0m\u001b[0;34m\u001b[0m\u001b[0;34m\u001b[0m\u001b[0m\n\u001b[1;32m   1058\u001b[0m             \u001b[0melapsed_time\u001b[0m \u001b[0;34m=\u001b[0m \u001b[0mtime\u001b[0m\u001b[0;34m.\u001b[0m\u001b[0mtime\u001b[0m\u001b[0;34m(\u001b[0m\u001b[0;34m)\u001b[0m \u001b[0;34m-\u001b[0m \u001b[0mself\u001b[0m\u001b[0;34m.\u001b[0m\u001b[0m_start_time\u001b[0m\u001b[0;34m\u001b[0m\u001b[0;34m\u001b[0m\u001b[0m\n",
            "\u001b[0;32m~/anaconda3/lib/python3.9/site-packages/joblib/parallel.py\u001b[0m in \u001b[0;36mretrieve\u001b[0;34m(self)\u001b[0m\n\u001b[1;32m    933\u001b[0m             \u001b[0;32mtry\u001b[0m\u001b[0;34m:\u001b[0m\u001b[0;34m\u001b[0m\u001b[0;34m\u001b[0m\u001b[0m\n\u001b[1;32m    934\u001b[0m                 \u001b[0;32mif\u001b[0m \u001b[0mgetattr\u001b[0m\u001b[0;34m(\u001b[0m\u001b[0mself\u001b[0m\u001b[0;34m.\u001b[0m\u001b[0m_backend\u001b[0m\u001b[0;34m,\u001b[0m \u001b[0;34m'supports_timeout'\u001b[0m\u001b[0;34m,\u001b[0m \u001b[0;32mFalse\u001b[0m\u001b[0;34m)\u001b[0m\u001b[0;34m:\u001b[0m\u001b[0;34m\u001b[0m\u001b[0;34m\u001b[0m\u001b[0m\n\u001b[0;32m--> 935\u001b[0;31m                     \u001b[0mself\u001b[0m\u001b[0;34m.\u001b[0m\u001b[0m_output\u001b[0m\u001b[0;34m.\u001b[0m\u001b[0mextend\u001b[0m\u001b[0;34m(\u001b[0m\u001b[0mjob\u001b[0m\u001b[0;34m.\u001b[0m\u001b[0mget\u001b[0m\u001b[0;34m(\u001b[0m\u001b[0mtimeout\u001b[0m\u001b[0;34m=\u001b[0m\u001b[0mself\u001b[0m\u001b[0;34m.\u001b[0m\u001b[0mtimeout\u001b[0m\u001b[0;34m)\u001b[0m\u001b[0;34m)\u001b[0m\u001b[0;34m\u001b[0m\u001b[0;34m\u001b[0m\u001b[0m\n\u001b[0m\u001b[1;32m    936\u001b[0m                 \u001b[0;32melse\u001b[0m\u001b[0;34m:\u001b[0m\u001b[0;34m\u001b[0m\u001b[0;34m\u001b[0m\u001b[0m\n\u001b[1;32m    937\u001b[0m                     \u001b[0mself\u001b[0m\u001b[0;34m.\u001b[0m\u001b[0m_output\u001b[0m\u001b[0;34m.\u001b[0m\u001b[0mextend\u001b[0m\u001b[0;34m(\u001b[0m\u001b[0mjob\u001b[0m\u001b[0;34m.\u001b[0m\u001b[0mget\u001b[0m\u001b[0;34m(\u001b[0m\u001b[0;34m)\u001b[0m\u001b[0;34m)\u001b[0m\u001b[0;34m\u001b[0m\u001b[0;34m\u001b[0m\u001b[0m\n",
            "\u001b[0;32m~/anaconda3/lib/python3.9/site-packages/joblib/_parallel_backends.py\u001b[0m in \u001b[0;36mwrap_future_result\u001b[0;34m(future, timeout)\u001b[0m\n\u001b[1;32m    540\u001b[0m         AsyncResults.get from multiprocessing.\"\"\"\n\u001b[1;32m    541\u001b[0m         \u001b[0;32mtry\u001b[0m\u001b[0;34m:\u001b[0m\u001b[0;34m\u001b[0m\u001b[0;34m\u001b[0m\u001b[0m\n\u001b[0;32m--> 542\u001b[0;31m             \u001b[0;32mreturn\u001b[0m \u001b[0mfuture\u001b[0m\u001b[0;34m.\u001b[0m\u001b[0mresult\u001b[0m\u001b[0;34m(\u001b[0m\u001b[0mtimeout\u001b[0m\u001b[0;34m=\u001b[0m\u001b[0mtimeout\u001b[0m\u001b[0;34m)\u001b[0m\u001b[0;34m\u001b[0m\u001b[0;34m\u001b[0m\u001b[0m\n\u001b[0m\u001b[1;32m    543\u001b[0m         \u001b[0;32mexcept\u001b[0m \u001b[0mCfTimeoutError\u001b[0m \u001b[0;32mas\u001b[0m \u001b[0me\u001b[0m\u001b[0;34m:\u001b[0m\u001b[0;34m\u001b[0m\u001b[0;34m\u001b[0m\u001b[0m\n\u001b[1;32m    544\u001b[0m             \u001b[0;32mraise\u001b[0m \u001b[0mTimeoutError\u001b[0m \u001b[0;32mfrom\u001b[0m \u001b[0me\u001b[0m\u001b[0;34m\u001b[0m\u001b[0;34m\u001b[0m\u001b[0m\n",
            "\u001b[0;32m~/anaconda3/lib/python3.9/concurrent/futures/_base.py\u001b[0m in \u001b[0;36mresult\u001b[0;34m(self, timeout)\u001b[0m\n\u001b[1;32m    438\u001b[0m                     \u001b[0;32mreturn\u001b[0m \u001b[0mself\u001b[0m\u001b[0;34m.\u001b[0m\u001b[0m__get_result\u001b[0m\u001b[0;34m(\u001b[0m\u001b[0;34m)\u001b[0m\u001b[0;34m\u001b[0m\u001b[0;34m\u001b[0m\u001b[0m\n\u001b[1;32m    439\u001b[0m \u001b[0;34m\u001b[0m\u001b[0m\n\u001b[0;32m--> 440\u001b[0;31m                 \u001b[0mself\u001b[0m\u001b[0;34m.\u001b[0m\u001b[0m_condition\u001b[0m\u001b[0;34m.\u001b[0m\u001b[0mwait\u001b[0m\u001b[0;34m(\u001b[0m\u001b[0mtimeout\u001b[0m\u001b[0;34m)\u001b[0m\u001b[0;34m\u001b[0m\u001b[0;34m\u001b[0m\u001b[0m\n\u001b[0m\u001b[1;32m    441\u001b[0m \u001b[0;34m\u001b[0m\u001b[0m\n\u001b[1;32m    442\u001b[0m                 \u001b[0;32mif\u001b[0m \u001b[0mself\u001b[0m\u001b[0;34m.\u001b[0m\u001b[0m_state\u001b[0m \u001b[0;32min\u001b[0m \u001b[0;34m[\u001b[0m\u001b[0mCANCELLED\u001b[0m\u001b[0;34m,\u001b[0m \u001b[0mCANCELLED_AND_NOTIFIED\u001b[0m\u001b[0;34m]\u001b[0m\u001b[0;34m:\u001b[0m\u001b[0;34m\u001b[0m\u001b[0;34m\u001b[0m\u001b[0m\n",
            "\u001b[0;32m~/anaconda3/lib/python3.9/threading.py\u001b[0m in \u001b[0;36mwait\u001b[0;34m(self, timeout)\u001b[0m\n\u001b[1;32m    310\u001b[0m         \u001b[0;32mtry\u001b[0m\u001b[0;34m:\u001b[0m    \u001b[0;31m# restore state no matter what (e.g., KeyboardInterrupt)\u001b[0m\u001b[0;34m\u001b[0m\u001b[0;34m\u001b[0m\u001b[0m\n\u001b[1;32m    311\u001b[0m             \u001b[0;32mif\u001b[0m \u001b[0mtimeout\u001b[0m \u001b[0;32mis\u001b[0m \u001b[0;32mNone\u001b[0m\u001b[0;34m:\u001b[0m\u001b[0;34m\u001b[0m\u001b[0;34m\u001b[0m\u001b[0m\n\u001b[0;32m--> 312\u001b[0;31m                 \u001b[0mwaiter\u001b[0m\u001b[0;34m.\u001b[0m\u001b[0macquire\u001b[0m\u001b[0;34m(\u001b[0m\u001b[0;34m)\u001b[0m\u001b[0;34m\u001b[0m\u001b[0;34m\u001b[0m\u001b[0m\n\u001b[0m\u001b[1;32m    313\u001b[0m                 \u001b[0mgotit\u001b[0m \u001b[0;34m=\u001b[0m \u001b[0;32mTrue\u001b[0m\u001b[0;34m\u001b[0m\u001b[0;34m\u001b[0m\u001b[0m\n\u001b[1;32m    314\u001b[0m             \u001b[0;32melse\u001b[0m\u001b[0;34m:\u001b[0m\u001b[0;34m\u001b[0m\u001b[0;34m\u001b[0m\u001b[0m\n",
            "\u001b[0;31mKeyboardInterrupt\u001b[0m: "
          ]
        }
      ],
      "source": [
        "clf = GridSearchCV(RandomForestClassifier(), parameters, n_jobs=-1)\n",
        "clf.fit(X_train, y_train)\n",
        "Classifer = clf.best_estimator_\n",
        "print (clf.best_score_, clf.best_params_) #Task takes minimum five hours, dont rerun unless you have time, take the parameter that I have chosen"
      ]
    },
    {
      "cell_type": "markdown",
      "metadata": {
        "id": "qD3P3sGChv8T"
      },
      "source": [
        "RANDOM FORESTS"
      ]
    },
    {
      "cell_type": "code",
      "execution_count": null,
      "metadata": {
        "colab": {
          "base_uri": "https://localhost:8080/"
        },
        "id": "yvf8dUHQ5OSL",
        "outputId": "79e819c7-86d6-42d9-9588-323869d5b7da"
      },
      "outputs": [
        {
          "output_type": "stream",
          "name": "stderr",
          "text": [
            "/usr/local/lib/python3.7/dist-packages/ipykernel_launcher.py:2: DataConversionWarning: A column-vector y was passed when a 1d array was expected. Please change the shape of y to (n_samples,), for example using ravel().\n",
            "  \n"
          ]
        },
        {
          "output_type": "execute_result",
          "data": {
            "text/plain": [
              "RandomForestClassifier(max_features=637, random_state=42)"
            ]
          },
          "metadata": {},
          "execution_count": 17
        }
      ],
      "source": [
        "rf_features_rf = RandomForestClassifier(max_features =637, random_state = 42)\n",
        "rf_features_rf.fit(X_train,y_train)"
      ]
    },
    {
      "cell_type": "code",
      "execution_count": null,
      "metadata": {
        "colab": {
          "base_uri": "https://localhost:8080/"
        },
        "id": "rLeGomFz5OVH",
        "outputId": "92289cf4-1ea6-42e6-e11f-63c5c9fc553d"
      },
      "outputs": [
        {
          "output_type": "execute_result",
          "data": {
            "text/plain": [
              "<tf.Tensor: shape=(73,), dtype=int64, numpy=\n",
              "array([1, 0, 1, 1, 0, 1, 1, 1, 0, 1, 1, 0, 1, 0, 1, 1, 1, 1, 1, 1, 1, 1,\n",
              "       0, 0, 1, 0, 0, 1, 1, 1, 1, 1, 0, 1, 1, 1, 0, 1, 1, 1, 0, 1, 0, 1,\n",
              "       1, 0, 0, 0, 0, 1, 1, 1, 0, 1, 1, 1, 1, 1, 1, 1, 1, 1, 1, 0, 0, 1,\n",
              "       1, 1, 1, 0, 0, 0, 1])>"
            ]
          },
          "metadata": {},
          "execution_count": 18
        }
      ],
      "source": [
        "pred2 = rf_features_rf.predict(X_test)\n",
        "mean_squared_error(y_test, pred2)\n",
        "pd.DataFrame(pred2)\n",
        "pred2 = tf.math.round(pred2)\n",
        "pred2"
      ]
    },
    {
      "cell_type": "code",
      "execution_count": null,
      "metadata": {
        "colab": {
          "base_uri": "https://localhost:8080/"
        },
        "id": "sUK09k_T8VNf",
        "outputId": "cc916fa8-423b-4efe-a088-6db9a67a9618"
      },
      "outputs": [
        {
          "output_type": "execute_result",
          "data": {
            "text/plain": [
              "0.9863013698630136"
            ]
          },
          "metadata": {},
          "execution_count": 19
        }
      ],
      "source": [
        "rf_features_rf.score(X_train, y_train)"
      ]
    },
    {
      "cell_type": "code",
      "execution_count": null,
      "metadata": {
        "colab": {
          "base_uri": "https://localhost:8080/"
        },
        "id": "fEI35PyANGmr",
        "outputId": "1c217899-00dd-4d04-af66-d47acf29310d"
      },
      "outputs": [
        {
          "output_type": "stream",
          "name": "stdout",
          "text": [
            "accuracy_score on test dataset :  0.547945205479452\n"
          ]
        }
      ],
      "source": [
        "pred_test2 = accuracy_score(y_test,pred2)\n",
        "print('accuracy_score on test dataset : ', pred_test2)"
      ]
    },
    {
      "cell_type": "code",
      "execution_count": null,
      "metadata": {
        "colab": {
          "base_uri": "https://localhost:8080/"
        },
        "id": "1jZmNcXFiGTC",
        "outputId": "d49a3217-197b-45bd-acf1-7e143219c444"
      },
      "outputs": [
        {
          "output_type": "stream",
          "name": "stdout",
          "text": [
            "              precision    recall  f1-score   support\n",
            "\n",
            "           0      0.522     0.353     0.421        34\n",
            "           1      0.560     0.718     0.629        39\n",
            "\n",
            "    accuracy                          0.548        73\n",
            "   macro avg      0.541     0.535     0.525        73\n",
            "weighted avg      0.542     0.548     0.532        73\n",
            "\n",
            "Average precision score: 0.553\n",
            "Cohen kappa score:  0.072391220639199\n",
            "Confusion matrix: \n",
            "[[12 22]\n",
            " [11 28]]\n"
          ]
        }
      ],
      "source": [
        "print(classification_report(y_test, pred2, digits=3))\n",
        "print(f\"Average precision score: {average_precision_score(y_test, pred2):.3f}\")\n",
        "print(\"Cohen kappa score: \", cohen_kappa_score(y_test, pred2))\n",
        "print(\"Confusion matrix: \")\n",
        "print(confusion_matrix(y_test, pred2))"
      ]
    },
    {
      "cell_type": "code",
      "execution_count": null,
      "metadata": {
        "colab": {
          "base_uri": "https://localhost:8080/",
          "height": 283
        },
        "id": "iNB4mTf-9LDv",
        "outputId": "c7e44e29-5e70-42ee-edcd-9c6707702b84"
      },
      "outputs": [
        {
          "output_type": "display_data",
          "data": {
            "image/png": "[encoded data removed]",
            "text/plain": [
              "<Figure size 432x288 with 1 Axes>"
            ]
          },
          "metadata": {
            "needs_background": "light"
          }
        }
      ],
      "source": [
        "Importance = pd.DataFrame({'Importance':rf_features_rf.feature_importances_*100}, \n",
        "                          index = X.columns)\n",
        "\n",
        "Importance.sort_values(by = 'Importance', \n",
        "                       axis = 0, \n",
        "                       ascending = True).plot(kind = 'barh',\n",
        "                                              color = 'r', )\n",
        "\n",
        "plt.xlabel('Variable Importance')\n",
        "from matplotlib.pyplot import figure\n",
        "\n",
        "\n",
        "\n",
        "plt.gca().legend_ = None"
      ]
    },
    {
      "cell_type": "markdown",
      "metadata": {
        "id": "JG5JN_WLGyMD"
      },
      "source": [
        "Bagging AUC"
      ]
    },
    {
      "cell_type": "markdown",
      "metadata": {
        "id": "PgHIsYI5GyJO"
      },
      "source": [
        "RF AUC"
      ]
    },
    {
      "cell_type": "code",
      "execution_count": null,
      "metadata": {
        "colab": {
          "base_uri": "https://localhost:8080/",
          "height": 334
        },
        "id": "MyRuB0AzGtWv",
        "outputId": "f3eefb12-43da-4b1e-d31b-f4ec045e04fa"
      },
      "outputs": [
        {
          "output_type": "stream",
          "name": "stderr",
          "text": [
            "/usr/local/lib/python3.7/dist-packages/sklearn/utils/deprecation.py:87: FutureWarning: Function plot_roc_curve is deprecated; Function `plot_roc_curve` is deprecated in 1.0 and will be removed in 1.2. Use one of the class methods: RocCurveDisplay.from_predictions or RocCurveDisplay.from_estimator.\n",
            "  warnings.warn(msg, category=FutureWarning)\n"
          ]
        },
        {
          "output_type": "display_data",
          "data": {
            "image/png": "[encoded data removed]",
            "text/plain": [
              "<Figure size 432x288 with 1 Axes>"
            ]
          },
          "metadata": {
            "needs_background": "light"
          }
        }
      ],
      "source": [
        "ax = plt.gca()# Plotted to make sure the two are distinguishable\n",
        "rfc_disp = plot_roc_curve(rf_features_rf, X_test, y_test, ax=ax, alpha=0.8)\n",
        "plt.show()"
      ]
    },
    {
      "cell_type": "code",
      "execution_count": null,
      "metadata": {
        "colab": {
          "base_uri": "https://localhost:8080/",
          "height": 369
        },
        "id": "tvOD8q3dhLq-",
        "outputId": "3ed3c282-e657-44f6-c82d-43b7c5c383b8"
      },
      "outputs": [
        {
          "output_type": "stream",
          "name": "stderr",
          "text": [
            "/usr/local/lib/python3.7/dist-packages/sklearn/utils/deprecation.py:87: FutureWarning: Function plot_roc_curve is deprecated; Function `plot_roc_curve` is deprecated in 1.0 and will be removed in 1.2. Use one of the class methods: RocCurveDisplay.from_predictions or RocCurveDisplay.from_estimator.\n",
            "  warnings.warn(msg, category=FutureWarning)\n",
            "/usr/local/lib/python3.7/dist-packages/sklearn/utils/deprecation.py:87: FutureWarning: Function plot_roc_curve is deprecated; Function `plot_roc_curve` is deprecated in 1.0 and will be removed in 1.2. Use one of the class methods: RocCurveDisplay.from_predictions or RocCurveDisplay.from_estimator.\n",
            "  warnings.warn(msg, category=FutureWarning)\n"
          ]
        },
        {
          "output_type": "display_data",
          "data": {
            "image/png": "[encoded data removed]",
            "text/plain": [
              "<Figure size 432x288 with 1 Axes>"
            ]
          },
          "metadata": {
            "needs_background": "light"
          }
        }
      ],
      "source": [
        "disp1= plot_roc_curve(rf_features_rf,X_test, y_test)\n",
        "plot_roc_curve(rf_features,X_test, y_test, ax=disp1.ax_);"
      ]
    },
    {
      "cell_type": "markdown",
      "metadata": {
        "id": "715gXuqbN2XX"
      },
      "source": [
        "# BEST SUBSET TAKEN FROM LASSO"
      ]
    },
    {
      "cell_type": "code",
      "execution_count": null,
      "metadata": {
        "id": "RCgAG6j6NxBE"
      },
      "outputs": [],
      "source": [
        "features_sub = features[['Activity','AATS5i', 'ATSC5p', 'GATS4m', 'GATS2i', 'nHBint6', 'nHeteroRing', 'n5HeteroRing', 'nF9HeteroRing', 'nT5HeteroRing', 'geomShape', 'RDF70m', 'P1p', 'E3s']]"
      ]
    },
    {
      "cell_type": "code",
      "execution_count": null,
      "metadata": {
        "id": "VLS7-Z6DNxEr"
      },
      "outputs": [],
      "source": [
        "X1 = features_sub.iloc[:, 1:] #X-axis covers feature sub\n",
        "y1 = pd.DataFrame(y)"
      ]
    },
    {
      "cell_type": "code",
      "execution_count": null,
      "metadata": {
        "id": "mwRl7DHANxH-"
      },
      "outputs": [],
      "source": [
        "X_train, X_test, y_train, y_test = train_test_split(X1, y1, train_size = 0.75, random_state =42)"
      ]
    },
    {
      "cell_type": "markdown",
      "metadata": {
        "id": "i8rScA-gPIFS"
      },
      "source": [
        "Bagging"
      ]
    },
    {
      "cell_type": "code",
      "execution_count": null,
      "metadata": {
        "colab": {
          "base_uri": "https://localhost:8080/"
        },
        "id": "8FykZ0xeNxOR",
        "outputId": "c3eac262-10ee-463c-ff48-98e72b0a6a5d"
      },
      "outputs": [
        {
          "output_type": "stream",
          "name": "stderr",
          "text": [
            "/usr/local/lib/python3.7/dist-packages/sklearn/ensemble/_bagging.py:719: DataConversionWarning: A column-vector y was passed when a 1d array was expected. Please change the shape of y to (n_samples, ), for example using ravel().\n",
            "  y = column_or_1d(y, warn=True)\n"
          ]
        },
        {
          "output_type": "execute_result",
          "data": {
            "text/plain": [
              "BaggingClassifier(max_features=12, random_state=42)"
            ]
          },
          "metadata": {},
          "execution_count": 28
        }
      ],
      "source": [
        "rf_features_1 = BaggingClassifier(max_features = 12, random_state = 42) #Python counts from zero(hence 12), bagging is just a case where m=p\n",
        "rf_features_1.fit(X_train,y_train)"
      ]
    },
    {
      "cell_type": "code",
      "execution_count": null,
      "metadata": {
        "colab": {
          "base_uri": "https://localhost:8080/"
        },
        "id": "uu3TBGdPNxRb",
        "outputId": "08288778-dd28-4e27-eb87-67bc9d147607"
      },
      "outputs": [
        {
          "output_type": "execute_result",
          "data": {
            "text/plain": [
              "<tf.Tensor: shape=(73,), dtype=int64, numpy=\n",
              "array([0, 0, 0, 1, 1, 1, 1, 1, 1, 0, 1, 0, 0, 0, 1, 1, 1, 0, 1, 1, 1, 1,\n",
              "       0, 0, 1, 0, 0, 1, 1, 1, 1, 1, 0, 0, 1, 1, 0, 1, 1, 1, 1, 0, 1, 1,\n",
              "       1, 0, 0, 0, 0, 1, 1, 0, 0, 1, 1, 0, 1, 1, 0, 1, 1, 1, 1, 0, 0, 1,\n",
              "       0, 0, 0, 0, 0, 0, 1])>"
            ]
          },
          "metadata": {},
          "execution_count": 29
        }
      ],
      "source": [
        "pred3 = rf_features_1.predict(X_test)\n",
        "mean_squared_error(y_test, pred3)\n",
        "pd.DataFrame(pred3)\n",
        "pred3 = tf.math.round(pred3)\n",
        "pred3"
      ]
    },
    {
      "cell_type": "code",
      "execution_count": null,
      "metadata": {
        "colab": {
          "base_uri": "https://localhost:8080/"
        },
        "id": "oJmsK1hrNxUj",
        "outputId": "8eb70317-f888-4f73-9762-aa1f598060fe"
      },
      "outputs": [
        {
          "output_type": "execute_result",
          "data": {
            "text/plain": [
              "0.958904109589041"
            ]
          },
          "metadata": {},
          "execution_count": 30
        }
      ],
      "source": [
        "rf_features_1.score(X_train, y_train)"
      ]
    },
    {
      "cell_type": "code",
      "execution_count": null,
      "metadata": {
        "id": "UIFIxKtYNGmu"
      },
      "outputs": [],
      "source": [
        "predict_test3 = rf_features_1.predict(X_test)"
      ]
    },
    {
      "cell_type": "code",
      "execution_count": null,
      "metadata": {
        "colab": {
          "base_uri": "https://localhost:8080/"
        },
        "id": "SsgmVWS2NGmu",
        "outputId": "ea9ee9b0-4d29-4abc-8f77-524a595f23ea"
      },
      "outputs": [
        {
          "output_type": "stream",
          "name": "stdout",
          "text": [
            "accuracy_score on test dataset :  0.5068493150684932\n"
          ]
        }
      ],
      "source": [
        "# Accuracy Score of bagging on test dataset\n",
        "accuracy_test3 = accuracy_score(y_test,predict_test3)\n",
        "print('accuracy_score on test dataset : ', accuracy_test3)"
      ]
    },
    {
      "cell_type": "code",
      "execution_count": null,
      "metadata": {
        "colab": {
          "base_uri": "https://localhost:8080/"
        },
        "id": "syyetgqPNxXl",
        "outputId": "1eaa6da1-a68b-4d07-f5d9-5e0142982adf"
      },
      "outputs": [
        {
          "output_type": "stream",
          "name": "stdout",
          "text": [
            "              precision    recall  f1-score   support\n",
            "\n",
            "           0      0.469     0.441     0.455        34\n",
            "           1      0.537     0.564     0.550        39\n",
            "\n",
            "    accuracy                          0.507        73\n",
            "   macro avg      0.503     0.503     0.502        73\n",
            "weighted avg      0.505     0.507     0.506        73\n",
            "\n",
            "Average precision score: 0.536\n",
            "Cohen kappa score:  0.005299015897047732\n",
            "Confusion matrix: \n",
            "[[15 19]\n",
            " [17 22]]\n"
          ]
        }
      ],
      "source": [
        "print(classification_report(y_test, pred3, digits=3))\n",
        "print(f\"Average precision score: {average_precision_score(y_test, pred3):.3f}\")\n",
        "print(\"Cohen kappa score: \", cohen_kappa_score(y_test, pred3))\n",
        "print(\"Confusion matrix: \")\n",
        "print(confusion_matrix(y_test, pred3))"
      ]
    },
    {
      "cell_type": "markdown",
      "metadata": {
        "id": "_4BlCRxHCr53"
      },
      "source": [
        "# VISUALIZING A DECISION TREE"
      ]
    },
    {
      "cell_type": "code",
      "execution_count": null,
      "metadata": {
        "id": "ZnOgJMwINGmv"
      },
      "outputs": [],
      "source": [
        "parameters2 = {'max_features':range(1,13),'max_depth':range(1,13)}#Parameters to find the best tree on a grid search CV"
      ]
    },
    {
      "cell_type": "code",
      "execution_count": null,
      "metadata": {
        "id": "Ar-YQ2RnNGmv",
        "outputId": "bb3a6225-4e9f-410c-8133-86ed0d959fdd",
        "colab": {
          "base_uri": "https://localhost:8080/"
        }
      },
      "outputs": [
        {
          "output_type": "stream",
          "name": "stdout",
          "text": [
            "0.6486257928118393 {'max_depth': 4, 'max_features': 1}\n"
          ]
        }
      ],
      "source": [
        "clf2 = GridSearchCV(tree.DecisionTreeClassifier(), parameters2, n_jobs=-1)\n",
        "clf2.fit(X_train, y_train)\n",
        "DT_Classifer = clf2.best_estimator_\n",
        "print (clf2.best_score_, clf2.best_params_) "
      ]
    },
    {
      "cell_type": "code",
      "execution_count": null,
      "metadata": {
        "id": "aqALCzlivhx0"
      },
      "outputs": [],
      "source": [
        "model = DecisionTreeClassifier()#Fully grown tree"
      ]
    },
    {
      "cell_type": "code",
      "execution_count": null,
      "metadata": {
        "id": "_vj7iaYZNGmw"
      },
      "outputs": [],
      "source": [
        "model2 = DecisionTreeClassifier(max_depth=4,max_features=1)# Optimized tree"
      ]
    },
    {
      "cell_type": "code",
      "execution_count": null,
      "metadata": {
        "colab": {
          "base_uri": "https://localhost:8080/"
        },
        "id": "yJNs6W0J8JZ5",
        "outputId": "a64914a7-156e-4a93-8eb3-fa663f782a15"
      },
      "outputs": [
        {
          "output_type": "execute_result",
          "data": {
            "text/plain": [
              "DecisionTreeClassifier()"
            ]
          },
          "metadata": {},
          "execution_count": 40
        }
      ],
      "source": [
        "model.fit(X_train,y_train)"
      ]
    },
    {
      "cell_type": "code",
      "execution_count": null,
      "metadata": {
        "id": "zA9GOdUMNGmw",
        "outputId": "92487286-6655-4f37-d697-9429faa1628e",
        "colab": {
          "base_uri": "https://localhost:8080/"
        }
      },
      "outputs": [
        {
          "output_type": "execute_result",
          "data": {
            "text/plain": [
              "DecisionTreeClassifier(max_depth=4, max_features=1)"
            ]
          },
          "metadata": {},
          "execution_count": 41
        }
      ],
      "source": [
        "model2.fit(X_train,y_train)"
      ]
    },
    {
      "cell_type": "code",
      "execution_count": null,
      "metadata": {
        "colab": {
          "base_uri": "https://localhost:8080/"
        },
        "id": "DBCxpyvC8lje",
        "outputId": "37852895-b6c5-4e42-cf83-e914cad982c9"
      },
      "outputs": [
        {
          "output_type": "stream",
          "name": "stdout",
          "text": [
            "Depth of the Decision Tree : 14\n"
          ]
        }
      ],
      "source": [
        "print('Depth of the Decision Tree :', model.get_depth())"
      ]
    },
    {
      "cell_type": "code",
      "execution_count": null,
      "metadata": {
        "colab": {
          "base_uri": "https://localhost:8080/"
        },
        "id": "vpOLHQ0PAJ6z",
        "outputId": "b2bc8c15-607f-4f91-c5df-db3b47650c07"
      },
      "outputs": [
        {
          "output_type": "stream",
          "name": "stdout",
          "text": [
            "|--- feature_1 <= -0.08\n",
            "|   |--- feature_3 <= 0.96\n",
            "|   |   |--- feature_12 <= 0.31\n",
            "|   |   |   |--- feature_11 <= 0.86\n",
            "|   |   |   |   |--- class: 1\n",
            "|   |   |   |--- feature_11 >  0.86\n",
            "|   |   |   |   |--- class: 0\n",
            "|   |   |--- feature_12 >  0.31\n",
            "|   |   |   |--- feature_10 <= 4.31\n",
            "|   |   |   |   |--- class: 0\n",
            "|   |   |   |--- feature_10 >  4.31\n",
            "|   |   |   |   |--- feature_9 <= 0.84\n",
            "|   |   |   |   |   |--- class: 0\n",
            "|   |   |   |   |--- feature_9 >  0.84\n",
            "|   |   |   |   |   |--- class: 1\n",
            "|   |--- feature_3 >  0.96\n",
            "|   |   |--- feature_2 <= 0.97\n",
            "|   |   |   |--- feature_0 <= 158.41\n",
            "|   |   |   |   |--- feature_10 <= 5.45\n",
            "|   |   |   |   |   |--- feature_2 <= 0.91\n",
            "|   |   |   |   |   |   |--- class: 0\n",
            "|   |   |   |   |   |--- feature_2 >  0.91\n",
            "|   |   |   |   |   |   |--- feature_10 <= 4.19\n",
            "|   |   |   |   |   |   |   |--- class: 1\n",
            "|   |   |   |   |   |   |--- feature_10 >  4.19\n",
            "|   |   |   |   |   |   |   |--- feature_11 <= 0.84\n",
            "|   |   |   |   |   |   |   |   |--- class: 0\n",
            "|   |   |   |   |   |   |   |--- feature_11 >  0.84\n",
            "|   |   |   |   |   |   |   |   |--- class: 0\n",
            "|   |   |   |   |--- feature_10 >  5.45\n",
            "|   |   |   |   |   |--- class: 1\n",
            "|   |   |   |--- feature_0 >  158.41\n",
            "|   |   |   |   |--- class: 0\n",
            "|   |   |--- feature_2 >  0.97\n",
            "|   |   |   |--- feature_0 <= 163.77\n",
            "|   |   |   |   |--- feature_11 <= 0.91\n",
            "|   |   |   |   |   |--- feature_5 <= 1.50\n",
            "|   |   |   |   |   |   |--- feature_0 <= 163.61\n",
            "|   |   |   |   |   |   |   |--- feature_12 <= 0.30\n",
            "|   |   |   |   |   |   |   |   |--- feature_11 <= 0.83\n",
            "|   |   |   |   |   |   |   |   |   |--- class: 1\n",
            "|   |   |   |   |   |   |   |   |--- feature_11 >  0.83\n",
            "|   |   |   |   |   |   |   |   |   |--- class: 0\n",
            "|   |   |   |   |   |   |   |--- feature_12 >  0.30\n",
            "|   |   |   |   |   |   |   |   |--- class: 0\n",
            "|   |   |   |   |   |   |--- feature_0 >  163.61\n",
            "|   |   |   |   |   |   |   |--- feature_11 <= 0.70\n",
            "|   |   |   |   |   |   |   |   |--- class: 0\n",
            "|   |   |   |   |   |   |   |--- feature_11 >  0.70\n",
            "|   |   |   |   |   |   |   |   |--- class: 1\n",
            "|   |   |   |   |   |--- feature_5 >  1.50\n",
            "|   |   |   |   |   |   |--- feature_11 <= 0.83\n",
            "|   |   |   |   |   |   |   |--- class: 1\n",
            "|   |   |   |   |   |   |--- feature_11 >  0.83\n",
            "|   |   |   |   |   |   |   |--- feature_11 <= 0.86\n",
            "|   |   |   |   |   |   |   |   |--- class: 0\n",
            "|   |   |   |   |   |   |   |--- feature_11 >  0.86\n",
            "|   |   |   |   |   |   |   |   |--- class: 0\n",
            "|   |   |   |   |--- feature_11 >  0.91\n",
            "|   |   |   |   |   |--- class: 1\n",
            "|   |   |   |--- feature_0 >  163.77\n",
            "|   |   |   |   |--- feature_3 <= 1.10\n",
            "|   |   |   |   |   |--- class: 1\n",
            "|   |   |   |   |--- feature_3 >  1.10\n",
            "|   |   |   |   |   |--- class: 0\n",
            "|--- feature_1 >  -0.08\n",
            "|   |--- feature_11 <= 0.79\n",
            "|   |   |--- feature_12 <= 0.25\n",
            "|   |   |   |--- feature_10 <= 2.89\n",
            "|   |   |   |   |--- class: 0\n",
            "|   |   |   |--- feature_10 >  2.89\n",
            "|   |   |   |   |--- class: 1\n",
            "|   |   |--- feature_12 >  0.25\n",
            "|   |   |   |--- feature_9 <= 0.73\n",
            "|   |   |   |   |--- class: 1\n",
            "|   |   |   |--- feature_9 >  0.73\n",
            "|   |   |   |   |--- class: 0\n",
            "|   |--- feature_11 >  0.79\n",
            "|   |   |--- feature_10 <= 12.22\n",
            "|   |   |   |--- feature_3 <= 1.15\n",
            "|   |   |   |   |--- feature_11 <= 0.86\n",
            "|   |   |   |   |   |--- feature_12 <= 0.40\n",
            "|   |   |   |   |   |   |--- feature_1 <= 0.79\n",
            "|   |   |   |   |   |   |   |--- feature_3 <= 0.99\n",
            "|   |   |   |   |   |   |   |   |--- feature_10 <= 8.07\n",
            "|   |   |   |   |   |   |   |   |   |--- class: 0\n",
            "|   |   |   |   |   |   |   |   |--- feature_10 >  8.07\n",
            "|   |   |   |   |   |   |   |   |   |--- feature_2 <= 0.89\n",
            "|   |   |   |   |   |   |   |   |   |   |--- class: 0\n",
            "|   |   |   |   |   |   |   |   |   |--- feature_2 >  0.89\n",
            "|   |   |   |   |   |   |   |   |   |   |--- class: 1\n",
            "|   |   |   |   |   |   |   |--- feature_3 >  0.99\n",
            "|   |   |   |   |   |   |   |   |--- feature_9 <= 0.98\n",
            "|   |   |   |   |   |   |   |   |   |--- feature_0 <= 160.08\n",
            "|   |   |   |   |   |   |   |   |   |   |--- class: 1\n",
            "|   |   |   |   |   |   |   |   |   |--- feature_0 >  160.08\n",
            "|   |   |   |   |   |   |   |   |   |   |--- class: 0\n",
            "|   |   |   |   |   |   |   |   |--- feature_9 >  0.98\n",
            "|   |   |   |   |   |   |   |   |   |--- class: 0\n",
            "|   |   |   |   |   |   |--- feature_1 >  0.79\n",
            "|   |   |   |   |   |   |   |--- feature_3 <= 1.01\n",
            "|   |   |   |   |   |   |   |   |--- class: 1\n",
            "|   |   |   |   |   |   |   |--- feature_3 >  1.01\n",
            "|   |   |   |   |   |   |   |   |--- feature_9 <= 0.97\n",
            "|   |   |   |   |   |   |   |   |   |--- feature_0 <= 157.52\n",
            "|   |   |   |   |   |   |   |   |   |   |--- feature_2 <= 0.97\n",
            "|   |   |   |   |   |   |   |   |   |   |   |--- class: 0\n",
            "|   |   |   |   |   |   |   |   |   |   |--- feature_2 >  0.97\n",
            "|   |   |   |   |   |   |   |   |   |   |   |--- class: 1\n",
            "|   |   |   |   |   |   |   |   |   |--- feature_0 >  157.52\n",
            "|   |   |   |   |   |   |   |   |   |   |--- class: 1\n",
            "|   |   |   |   |   |   |   |   |--- feature_9 >  0.97\n",
            "|   |   |   |   |   |   |   |   |   |--- class: 0\n",
            "|   |   |   |   |   |--- feature_12 >  0.40\n",
            "|   |   |   |   |   |   |--- class: 0\n",
            "|   |   |   |   |--- feature_11 >  0.86\n",
            "|   |   |   |   |   |--- feature_9 <= 0.79\n",
            "|   |   |   |   |   |   |--- class: 0\n",
            "|   |   |   |   |   |--- feature_9 >  0.79\n",
            "|   |   |   |   |   |   |--- feature_12 <= 0.49\n",
            "|   |   |   |   |   |   |   |--- feature_1 <= 0.72\n",
            "|   |   |   |   |   |   |   |   |--- class: 1\n",
            "|   |   |   |   |   |   |   |--- feature_1 >  0.72\n",
            "|   |   |   |   |   |   |   |   |--- feature_12 <= 0.33\n",
            "|   |   |   |   |   |   |   |   |   |--- feature_9 <= 0.96\n",
            "|   |   |   |   |   |   |   |   |   |   |--- feature_9 <= 0.93\n",
            "|   |   |   |   |   |   |   |   |   |   |   |--- truncated branch of depth 4\n",
            "|   |   |   |   |   |   |   |   |   |   |--- feature_9 >  0.93\n",
            "|   |   |   |   |   |   |   |   |   |   |   |--- class: 1\n",
            "|   |   |   |   |   |   |   |   |   |--- feature_9 >  0.96\n",
            "|   |   |   |   |   |   |   |   |   |   |--- class: 0\n",
            "|   |   |   |   |   |   |   |   |--- feature_12 >  0.33\n",
            "|   |   |   |   |   |   |   |   |   |--- feature_9 <= 0.83\n",
            "|   |   |   |   |   |   |   |   |   |   |--- feature_9 <= 0.81\n",
            "|   |   |   |   |   |   |   |   |   |   |   |--- class: 1\n",
            "|   |   |   |   |   |   |   |   |   |   |--- feature_9 >  0.81\n",
            "|   |   |   |   |   |   |   |   |   |   |   |--- class: 0\n",
            "|   |   |   |   |   |   |   |   |   |--- feature_9 >  0.83\n",
            "|   |   |   |   |   |   |   |   |   |   |--- feature_2 <= 1.02\n",
            "|   |   |   |   |   |   |   |   |   |   |   |--- class: 1\n",
            "|   |   |   |   |   |   |   |   |   |   |--- feature_2 >  1.02\n",
            "|   |   |   |   |   |   |   |   |   |   |   |--- truncated branch of depth 2\n",
            "|   |   |   |   |   |   |--- feature_12 >  0.49\n",
            "|   |   |   |   |   |   |   |--- class: 0\n",
            "|   |   |   |--- feature_3 >  1.15\n",
            "|   |   |   |   |--- feature_2 <= 0.96\n",
            "|   |   |   |   |   |--- class: 1\n",
            "|   |   |   |   |--- feature_2 >  0.96\n",
            "|   |   |   |   |   |--- class: 0\n",
            "|   |   |--- feature_10 >  12.22\n",
            "|   |   |   |--- feature_5 <= 3.50\n",
            "|   |   |   |   |--- class: 0\n",
            "|   |   |   |--- feature_5 >  3.50\n",
            "|   |   |   |   |--- class: 1\n",
            "\n"
          ]
        }
      ],
      "source": [
        "text_representation = tree.export_text(model)\n",
        "print(text_representation)"
      ]
    },
    {
      "cell_type": "code",
      "source": [
        "print('Depth of the Decision Tree :', model2.get_depth())"
      ],
      "metadata": {
        "colab": {
          "base_uri": "https://localhost:8080/"
        },
        "id": "U4pBnULrReYZ",
        "outputId": "4ea95c52-fb9f-4252-edbd-0fd859fa6b75"
      },
      "execution_count": null,
      "outputs": [
        {
          "output_type": "stream",
          "name": "stdout",
          "text": [
            "Depth of the Decision Tree : 4\n"
          ]
        }
      ]
    },
    {
      "cell_type": "code",
      "execution_count": null,
      "metadata": {
        "id": "QeUqZREaNGmx",
        "outputId": "591a2868-862b-437d-e62b-d190f97e8b03",
        "colab": {
          "base_uri": "https://localhost:8080/"
        }
      },
      "outputs": [
        {
          "output_type": "stream",
          "name": "stdout",
          "text": [
            "|--- feature_7 <= 0.50\n",
            "|   |--- feature_10 <= 6.75\n",
            "|   |   |--- feature_9 <= 0.84\n",
            "|   |   |   |--- class: 1\n",
            "|   |   |--- feature_9 >  0.84\n",
            "|   |   |   |--- feature_11 <= 0.84\n",
            "|   |   |   |   |--- class: 1\n",
            "|   |   |   |--- feature_11 >  0.84\n",
            "|   |   |   |   |--- class: 0\n",
            "|   |--- feature_10 >  6.75\n",
            "|   |   |--- feature_12 <= 0.49\n",
            "|   |   |   |--- feature_12 <= 0.45\n",
            "|   |   |   |   |--- class: 0\n",
            "|   |   |   |--- feature_12 >  0.45\n",
            "|   |   |   |   |--- class: 0\n",
            "|   |   |--- feature_12 >  0.49\n",
            "|   |   |   |--- class: 1\n",
            "|--- feature_7 >  0.50\n",
            "|   |--- feature_7 <= 1.50\n",
            "|   |   |--- feature_8 <= 2.50\n",
            "|   |   |   |--- feature_0 <= 162.57\n",
            "|   |   |   |   |--- class: 1\n",
            "|   |   |   |--- feature_0 >  162.57\n",
            "|   |   |   |   |--- class: 1\n",
            "|   |   |--- feature_8 >  2.50\n",
            "|   |   |   |--- feature_11 <= 0.94\n",
            "|   |   |   |   |--- class: 1\n",
            "|   |   |   |--- feature_11 >  0.94\n",
            "|   |   |   |   |--- class: 1\n",
            "|   |--- feature_7 >  1.50\n",
            "|   |   |--- feature_8 <= 2.50\n",
            "|   |   |   |--- feature_5 <= 3.50\n",
            "|   |   |   |   |--- class: 1\n",
            "|   |   |   |--- feature_5 >  3.50\n",
            "|   |   |   |   |--- class: 1\n",
            "|   |   |--- feature_8 >  2.50\n",
            "|   |   |   |--- class: 1\n",
            "\n"
          ]
        }
      ],
      "source": [
        "text_representation2 = tree.export_text(model2)\n",
        "print(text_representation2)"
      ]
    },
    {
      "cell_type": "code",
      "execution_count": null,
      "metadata": {
        "id": "9xG7L16-NGmx",
        "outputId": "b342e4ad-3ac1-4e24-a3ed-5a2ad211933d",
        "colab": {
          "base_uri": "https://localhost:8080/",
          "height": 1000
        }
      },
      "outputs": [
        {
          "output_type": "execute_result",
          "data": {
            "text/plain": [
              "<graphviz.files.Source at 0x7f341a3a9890>"
            ],
            "image/svg+xml": "<?xml version=\"1.0\" encoding=\"UTF-8\" standalone=\"no\"?>\n<!DOCTYPE svg PUBLIC \"-//W3C//DTD SVG 1.1//EN\"\n \"http://www.w3.org/Graphics/SVG/1.1/DTD/svg11.dtd\">\n<!-- Generated by graphviz version 2.40.1 (20161225.0304)\n -->\n<!-- Title: Tree Pages: 1 -->\n<svg width=\"2913pt\" height=\"1742pt\"\n viewBox=\"0.00 0.00 2912.50 1742.00\" xmlns=\"http://www.w3.org/2000/svg\" xmlns:xlink=\"http://www.w3.org/1999/xlink\">\n<g id=\"graph0\" class=\"graph\" transform=\"scale(1 1) rotate(0) translate(4 1738)\">\n<title>Tree</title>\n<polygon fill=\"#ffffff\" stroke=\"transparent\" points=\"-4,4 -4,-1738 2908.5,-1738 2908.5,4 -4,4\"/>\n<!-- 0 -->\n<g id=\"node1\" class=\"node\">\n<title>0</title>\n<polygon fill=\"#c1e0f7\" stroke=\"#000000\" points=\"1379.5,-1734 1242.5,-1734 1242.5,-1651 1379.5,-1651 1379.5,-1734\"/>\n<text text-anchor=\"middle\" x=\"1311\" y=\"-1718.8\" font-family=\"Helvetica,sans-Serif\" font-size=\"14.00\" fill=\"#000000\">ATSC5p &lt;= &#45;0.081</text>\n<text text-anchor=\"middle\" x=\"1311\" y=\"-1703.8\" font-family=\"Helvetica,sans-Serif\" font-size=\"14.00\" fill=\"#000000\">gini = 0.482</text>\n<text text-anchor=\"middle\" x=\"1311\" y=\"-1688.8\" font-family=\"Helvetica,sans-Serif\" font-size=\"14.00\" fill=\"#000000\">samples = 219</text>\n<text text-anchor=\"middle\" x=\"1311\" y=\"-1673.8\" font-family=\"Helvetica,sans-Serif\" font-size=\"14.00\" fill=\"#000000\">value = [89, 130]</text>\n<text text-anchor=\"middle\" x=\"1311\" y=\"-1658.8\" font-family=\"Helvetica,sans-Serif\" font-size=\"14.00\" fill=\"#000000\">class = Inactive</text>\n</g>\n<!-- 1 -->\n<g id=\"node2\" class=\"node\">\n<title>1</title>\n<polygon fill=\"#f5cfb4\" stroke=\"#000000\" points=\"1078,-1615 950,-1615 950,-1532 1078,-1532 1078,-1615\"/>\n<text text-anchor=\"middle\" x=\"1014\" y=\"-1599.8\" font-family=\"Helvetica,sans-Serif\" font-size=\"14.00\" fill=\"#000000\">GATS2i &lt;= 0.962</text>\n<text text-anchor=\"middle\" x=\"1014\" y=\"-1584.8\" font-family=\"Helvetica,sans-Serif\" font-size=\"14.00\" fill=\"#000000\">gini = 0.472</text>\n<text text-anchor=\"middle\" x=\"1014\" y=\"-1569.8\" font-family=\"Helvetica,sans-Serif\" font-size=\"14.00\" fill=\"#000000\">samples = 68</text>\n<text text-anchor=\"middle\" x=\"1014\" y=\"-1554.8\" font-family=\"Helvetica,sans-Serif\" font-size=\"14.00\" fill=\"#000000\">value = [42, 26]</text>\n<text text-anchor=\"middle\" x=\"1014\" y=\"-1539.8\" font-family=\"Helvetica,sans-Serif\" font-size=\"14.00\" fill=\"#000000\">class = Active</text>\n</g>\n<!-- 0&#45;&gt;1 -->\n<g id=\"edge1\" class=\"edge\">\n<title>0&#45;&gt;1</title>\n<path fill=\"none\" stroke=\"#000000\" d=\"M1242.4893,-1665.0496C1196.0747,-1646.4525 1134.8,-1621.9014 1087.3897,-1602.9053\"/>\n<polygon fill=\"#000000\" stroke=\"#000000\" points=\"1088.6854,-1599.654 1078.101,-1599.1836 1086.0819,-1606.1519 1088.6854,-1599.654\"/>\n<text text-anchor=\"middle\" x=\"1087.9357\" y=\"-1618.4679\" font-family=\"Helvetica,sans-Serif\" font-size=\"14.00\" fill=\"#000000\">True</text>\n</g>\n<!-- 44 -->\n<g id=\"node45\" class=\"node\">\n<title>44</title>\n<polygon fill=\"#92c9f1\" stroke=\"#000000\" points=\"1690,-1615 1566,-1615 1566,-1532 1690,-1532 1690,-1615\"/>\n<text text-anchor=\"middle\" x=\"1628\" y=\"-1599.8\" font-family=\"Helvetica,sans-Serif\" font-size=\"14.00\" fill=\"#000000\">P1p &lt;= 0.787</text>\n<text text-anchor=\"middle\" x=\"1628\" y=\"-1584.8\" font-family=\"Helvetica,sans-Serif\" font-size=\"14.00\" fill=\"#000000\">gini = 0.429</text>\n<text text-anchor=\"middle\" x=\"1628\" y=\"-1569.8\" font-family=\"Helvetica,sans-Serif\" font-size=\"14.00\" fill=\"#000000\">samples = 151</text>\n<text text-anchor=\"middle\" x=\"1628\" y=\"-1554.8\" font-family=\"Helvetica,sans-Serif\" font-size=\"14.00\" fill=\"#000000\">value = [47, 104]</text>\n<text text-anchor=\"middle\" x=\"1628\" y=\"-1539.8\" font-family=\"Helvetica,sans-Serif\" font-size=\"14.00\" fill=\"#000000\">class = Inactive</text>\n</g>\n<!-- 0&#45;&gt;44 -->\n<g id=\"edge44\" class=\"edge\">\n<title>0&#45;&gt;44</title>\n<path fill=\"none\" stroke=\"#000000\" d=\"M1379.7843,-1666.6788C1431.8974,-1647.1158 1503.3038,-1620.3103 1556.1531,-1600.4709\"/>\n<polygon fill=\"#000000\" stroke=\"#000000\" points=\"1557.6645,-1603.6421 1565.7965,-1596.8509 1555.2043,-1597.0887 1557.6645,-1603.6421\"/>\n<text text-anchor=\"middle\" x=\"1555.4592\" y=\"-1615.9136\" font-family=\"Helvetica,sans-Serif\" font-size=\"14.00\" fill=\"#000000\">False</text>\n</g>\n<!-- 2 -->\n<g id=\"node3\" class=\"node\">\n<title>2</title>\n<polygon fill=\"#9ccef2\" stroke=\"#000000\" points=\"453,-1496 337,-1496 337,-1413 453,-1413 453,-1496\"/>\n<text text-anchor=\"middle\" x=\"395\" y=\"-1480.8\" font-family=\"Helvetica,sans-Serif\" font-size=\"14.00\" fill=\"#000000\">E3s &lt;= 0.307</text>\n<text text-anchor=\"middle\" x=\"395\" y=\"-1465.8\" font-family=\"Helvetica,sans-Serif\" font-size=\"14.00\" fill=\"#000000\">gini = 0.444</text>\n<text text-anchor=\"middle\" x=\"395\" y=\"-1450.8\" font-family=\"Helvetica,sans-Serif\" font-size=\"14.00\" fill=\"#000000\">samples = 18</text>\n<text text-anchor=\"middle\" x=\"395\" y=\"-1435.8\" font-family=\"Helvetica,sans-Serif\" font-size=\"14.00\" fill=\"#000000\">value = [6, 12]</text>\n<text text-anchor=\"middle\" x=\"395\" y=\"-1420.8\" font-family=\"Helvetica,sans-Serif\" font-size=\"14.00\" fill=\"#000000\">class = Inactive</text>\n</g>\n<!-- 1&#45;&gt;2 -->\n<g id=\"edge2\" class=\"edge\">\n<title>1&#45;&gt;2</title>\n<path fill=\"none\" stroke=\"#000000\" d=\"M949.798,-1561.1575C832.1788,-1538.5457 583.1896,-1490.6786 462.886,-1467.5508\"/>\n<polygon fill=\"#000000\" stroke=\"#000000\" points=\"463.5318,-1464.1109 453.0508,-1465.66 462.2102,-1470.985 463.5318,-1464.1109\"/>\n</g>\n<!-- 11 -->\n<g id=\"node12\" class=\"node\">\n<title>11</title>\n<polygon fill=\"#efb286\" stroke=\"#000000\" points=\"1082.5,-1496 945.5,-1496 945.5,-1413 1082.5,-1413 1082.5,-1496\"/>\n<text text-anchor=\"middle\" x=\"1014\" y=\"-1480.8\" font-family=\"Helvetica,sans-Serif\" font-size=\"14.00\" fill=\"#000000\">GATS4m &lt;= 0.972</text>\n<text text-anchor=\"middle\" x=\"1014\" y=\"-1465.8\" font-family=\"Helvetica,sans-Serif\" font-size=\"14.00\" fill=\"#000000\">gini = 0.403</text>\n<text text-anchor=\"middle\" x=\"1014\" y=\"-1450.8\" font-family=\"Helvetica,sans-Serif\" font-size=\"14.00\" fill=\"#000000\">samples = 50</text>\n<text text-anchor=\"middle\" x=\"1014\" y=\"-1435.8\" font-family=\"Helvetica,sans-Serif\" font-size=\"14.00\" fill=\"#000000\">value = [36, 14]</text>\n<text text-anchor=\"middle\" x=\"1014\" y=\"-1420.8\" font-family=\"Helvetica,sans-Serif\" font-size=\"14.00\" fill=\"#000000\">class = Active</text>\n</g>\n<!-- 1&#45;&gt;11 -->\n<g id=\"edge11\" class=\"edge\">\n<title>1&#45;&gt;11</title>\n<path fill=\"none\" stroke=\"#000000\" d=\"M1014,-1531.8796C1014,-1523.6838 1014,-1514.9891 1014,-1506.5013\"/>\n<polygon fill=\"#000000\" stroke=\"#000000\" points=\"1017.5001,-1506.298 1014,-1496.2981 1010.5001,-1506.2981 1017.5001,-1506.298\"/>\n</g>\n<!-- 3 -->\n<g id=\"node4\" class=\"node\">\n<title>3</title>\n<polygon fill=\"#4fa8e8\" stroke=\"#000000\" points=\"245,-1377 129,-1377 129,-1294 245,-1294 245,-1377\"/>\n<text text-anchor=\"middle\" x=\"187\" y=\"-1361.8\" font-family=\"Helvetica,sans-Serif\" font-size=\"14.00\" fill=\"#000000\">P1p &lt;= 0.858</text>\n<text text-anchor=\"middle\" x=\"187\" y=\"-1346.8\" font-family=\"Helvetica,sans-Serif\" font-size=\"14.00\" fill=\"#000000\">gini = 0.18</text>\n<text text-anchor=\"middle\" x=\"187\" y=\"-1331.8\" font-family=\"Helvetica,sans-Serif\" font-size=\"14.00\" fill=\"#000000\">samples = 10</text>\n<text text-anchor=\"middle\" x=\"187\" y=\"-1316.8\" font-family=\"Helvetica,sans-Serif\" font-size=\"14.00\" fill=\"#000000\">value = [1, 9]</text>\n<text text-anchor=\"middle\" x=\"187\" y=\"-1301.8\" font-family=\"Helvetica,sans-Serif\" font-size=\"14.00\" fill=\"#000000\">class = Inactive</text>\n</g>\n<!-- 2&#45;&gt;3 -->\n<g id=\"edge3\" class=\"edge\">\n<title>2&#45;&gt;3</title>\n<path fill=\"none\" stroke=\"#000000\" d=\"M336.7838,-1421.1936C311.0853,-1406.4911 280.727,-1389.1226 254.0833,-1373.8794\"/>\n<polygon fill=\"#000000\" stroke=\"#000000\" points=\"255.6201,-1370.7263 245.2021,-1368.7983 252.1439,-1376.8022 255.6201,-1370.7263\"/>\n</g>\n<!-- 6 -->\n<g id=\"node7\" class=\"node\">\n<title>6</title>\n<polygon fill=\"#f5cdb0\" stroke=\"#000000\" points=\"463,-1377 327,-1377 327,-1294 463,-1294 463,-1377\"/>\n<text text-anchor=\"middle\" x=\"395\" y=\"-1361.8\" font-family=\"Helvetica,sans-Serif\" font-size=\"14.00\" fill=\"#000000\">RDF70m &lt;= 4.312</text>\n<text text-anchor=\"middle\" x=\"395\" y=\"-1346.8\" font-family=\"Helvetica,sans-Serif\" font-size=\"14.00\" fill=\"#000000\">gini = 0.469</text>\n<text text-anchor=\"middle\" x=\"395\" y=\"-1331.8\" font-family=\"Helvetica,sans-Serif\" font-size=\"14.00\" fill=\"#000000\">samples = 8</text>\n<text text-anchor=\"middle\" x=\"395\" y=\"-1316.8\" font-family=\"Helvetica,sans-Serif\" font-size=\"14.00\" fill=\"#000000\">value = [5, 3]</text>\n<text text-anchor=\"middle\" x=\"395\" y=\"-1301.8\" font-family=\"Helvetica,sans-Serif\" font-size=\"14.00\" fill=\"#000000\">class = Active</text>\n</g>\n<!-- 2&#45;&gt;6 -->\n<g id=\"edge6\" class=\"edge\">\n<title>2&#45;&gt;6</title>\n<path fill=\"none\" stroke=\"#000000\" d=\"M395,-1412.8796C395,-1404.6838 395,-1395.9891 395,-1387.5013\"/>\n<polygon fill=\"#000000\" stroke=\"#000000\" points=\"398.5001,-1387.298 395,-1377.2981 391.5001,-1387.2981 398.5001,-1387.298\"/>\n</g>\n<!-- 4 -->\n<g id=\"node5\" class=\"node\">\n<title>4</title>\n<polygon fill=\"#399de5\" stroke=\"#000000\" points=\"116,-1250.5 0,-1250.5 0,-1182.5 116,-1182.5 116,-1250.5\"/>\n<text text-anchor=\"middle\" x=\"58\" y=\"-1235.3\" font-family=\"Helvetica,sans-Serif\" font-size=\"14.00\" fill=\"#000000\">gini = 0.0</text>\n<text text-anchor=\"middle\" x=\"58\" y=\"-1220.3\" font-family=\"Helvetica,sans-Serif\" font-size=\"14.00\" fill=\"#000000\">samples = 9</text>\n<text text-anchor=\"middle\" x=\"58\" y=\"-1205.3\" font-family=\"Helvetica,sans-Serif\" font-size=\"14.00\" fill=\"#000000\">value = [0, 9]</text>\n<text text-anchor=\"middle\" x=\"58\" y=\"-1190.3\" font-family=\"Helvetica,sans-Serif\" font-size=\"14.00\" fill=\"#000000\">class = Inactive</text>\n</g>\n<!-- 3&#45;&gt;4 -->\n<g id=\"edge4\" class=\"edge\">\n<title>3&#45;&gt;4</title>\n<path fill=\"none\" stroke=\"#000000\" d=\"M141.8821,-1293.8796C129.2467,-1282.2237 115.5174,-1269.5587 102.895,-1257.9148\"/>\n<polygon fill=\"#000000\" stroke=\"#000000\" points=\"104.922,-1255.0228 95.1985,-1250.8149 100.1756,-1260.168 104.922,-1255.0228\"/>\n</g>\n<!-- 5 -->\n<g id=\"node6\" class=\"node\">\n<title>5</title>\n<polygon fill=\"#e58139\" stroke=\"#000000\" points=\"239.5,-1250.5 134.5,-1250.5 134.5,-1182.5 239.5,-1182.5 239.5,-1250.5\"/>\n<text text-anchor=\"middle\" x=\"187\" y=\"-1235.3\" font-family=\"Helvetica,sans-Serif\" font-size=\"14.00\" fill=\"#000000\">gini = 0.0</text>\n<text text-anchor=\"middle\" x=\"187\" y=\"-1220.3\" font-family=\"Helvetica,sans-Serif\" font-size=\"14.00\" fill=\"#000000\">samples = 1</text>\n<text text-anchor=\"middle\" x=\"187\" y=\"-1205.3\" font-family=\"Helvetica,sans-Serif\" font-size=\"14.00\" fill=\"#000000\">value = [1, 0]</text>\n<text text-anchor=\"middle\" x=\"187\" y=\"-1190.3\" font-family=\"Helvetica,sans-Serif\" font-size=\"14.00\" fill=\"#000000\">class = Active</text>\n</g>\n<!-- 3&#45;&gt;5 -->\n<g id=\"edge5\" class=\"edge\">\n<title>3&#45;&gt;5</title>\n<path fill=\"none\" stroke=\"#000000\" d=\"M187,-1293.8796C187,-1283.2134 187,-1271.7021 187,-1260.9015\"/>\n<polygon fill=\"#000000\" stroke=\"#000000\" points=\"190.5001,-1260.8149 187,-1250.8149 183.5001,-1260.815 190.5001,-1260.8149\"/>\n</g>\n<!-- 7 -->\n<g id=\"node8\" class=\"node\">\n<title>7</title>\n<polygon fill=\"#e58139\" stroke=\"#000000\" points=\"362.5,-1250.5 257.5,-1250.5 257.5,-1182.5 362.5,-1182.5 362.5,-1250.5\"/>\n<text text-anchor=\"middle\" x=\"310\" y=\"-1235.3\" font-family=\"Helvetica,sans-Serif\" font-size=\"14.00\" fill=\"#000000\">gini = 0.0</text>\n<text text-anchor=\"middle\" x=\"310\" y=\"-1220.3\" font-family=\"Helvetica,sans-Serif\" font-size=\"14.00\" fill=\"#000000\">samples = 4</text>\n<text text-anchor=\"middle\" x=\"310\" y=\"-1205.3\" font-family=\"Helvetica,sans-Serif\" font-size=\"14.00\" fill=\"#000000\">value = [4, 0]</text>\n<text text-anchor=\"middle\" x=\"310\" y=\"-1190.3\" font-family=\"Helvetica,sans-Serif\" font-size=\"14.00\" fill=\"#000000\">class = Active</text>\n</g>\n<!-- 6&#45;&gt;7 -->\n<g id=\"edge7\" class=\"edge\">\n<title>6&#45;&gt;7</title>\n<path fill=\"none\" stroke=\"#000000\" d=\"M365.2711,-1293.8796C357.2597,-1282.6636 348.5808,-1270.5131 340.5266,-1259.2372\"/>\n<polygon fill=\"#000000\" stroke=\"#000000\" points=\"343.1712,-1256.9179 334.5107,-1250.8149 337.475,-1260.9866 343.1712,-1256.9179\"/>\n</g>\n<!-- 8 -->\n<g id=\"node9\" class=\"node\">\n<title>8</title>\n<polygon fill=\"#7bbeee\" stroke=\"#000000\" points=\"537.5,-1258 380.5,-1258 380.5,-1175 537.5,-1175 537.5,-1258\"/>\n<text text-anchor=\"middle\" x=\"459\" y=\"-1242.8\" font-family=\"Helvetica,sans-Serif\" font-size=\"14.00\" fill=\"#000000\">geomShape &lt;= 0.843</text>\n<text text-anchor=\"middle\" x=\"459\" y=\"-1227.8\" font-family=\"Helvetica,sans-Serif\" font-size=\"14.00\" fill=\"#000000\">gini = 0.375</text>\n<text text-anchor=\"middle\" x=\"459\" y=\"-1212.8\" font-family=\"Helvetica,sans-Serif\" font-size=\"14.00\" fill=\"#000000\">samples = 4</text>\n<text text-anchor=\"middle\" x=\"459\" y=\"-1197.8\" font-family=\"Helvetica,sans-Serif\" font-size=\"14.00\" fill=\"#000000\">value = [1, 3]</text>\n<text text-anchor=\"middle\" x=\"459\" y=\"-1182.8\" font-family=\"Helvetica,sans-Serif\" font-size=\"14.00\" fill=\"#000000\">class = Inactive</text>\n</g>\n<!-- 6&#45;&gt;8 -->\n<g id=\"edge8\" class=\"edge\">\n<title>6&#45;&gt;8</title>\n<path fill=\"none\" stroke=\"#000000\" d=\"M417.3841,-1293.8796C421.9856,-1285.3236 426.8796,-1276.2238 431.6342,-1267.3833\"/>\n<polygon fill=\"#000000\" stroke=\"#000000\" points=\"434.8662,-1268.763 436.5204,-1258.2981 428.7012,-1265.4473 434.8662,-1268.763\"/>\n</g>\n<!-- 9 -->\n<g id=\"node10\" class=\"node\">\n<title>9</title>\n<polygon fill=\"#e58139\" stroke=\"#000000\" points=\"382.5,-1131.5 277.5,-1131.5 277.5,-1063.5 382.5,-1063.5 382.5,-1131.5\"/>\n<text text-anchor=\"middle\" x=\"330\" y=\"-1116.3\" font-family=\"Helvetica,sans-Serif\" font-size=\"14.00\" fill=\"#000000\">gini = 0.0</text>\n<text text-anchor=\"middle\" x=\"330\" y=\"-1101.3\" font-family=\"Helvetica,sans-Serif\" font-size=\"14.00\" fill=\"#000000\">samples = 1</text>\n<text text-anchor=\"middle\" x=\"330\" y=\"-1086.3\" font-family=\"Helvetica,sans-Serif\" font-size=\"14.00\" fill=\"#000000\">value = [1, 0]</text>\n<text text-anchor=\"middle\" x=\"330\" y=\"-1071.3\" font-family=\"Helvetica,sans-Serif\" font-size=\"14.00\" fill=\"#000000\">class = Active</text>\n</g>\n<!-- 8&#45;&gt;9 -->\n<g id=\"edge9\" class=\"edge\">\n<title>8&#45;&gt;9</title>\n<path fill=\"none\" stroke=\"#000000\" d=\"M413.8821,-1174.8796C401.2467,-1163.2237 387.5174,-1150.5587 374.895,-1138.9148\"/>\n<polygon fill=\"#000000\" stroke=\"#000000\" points=\"376.922,-1136.0228 367.1985,-1131.8149 372.1756,-1141.168 376.922,-1136.0228\"/>\n</g>\n<!-- 10 -->\n<g id=\"node11\" class=\"node\">\n<title>10</title>\n<polygon fill=\"#399de5\" stroke=\"#000000\" points=\"517,-1131.5 401,-1131.5 401,-1063.5 517,-1063.5 517,-1131.5\"/>\n<text text-anchor=\"middle\" x=\"459\" y=\"-1116.3\" font-family=\"Helvetica,sans-Serif\" font-size=\"14.00\" fill=\"#000000\">gini = 0.0</text>\n<text text-anchor=\"middle\" x=\"459\" y=\"-1101.3\" font-family=\"Helvetica,sans-Serif\" font-size=\"14.00\" fill=\"#000000\">samples = 3</text>\n<text text-anchor=\"middle\" x=\"459\" y=\"-1086.3\" font-family=\"Helvetica,sans-Serif\" font-size=\"14.00\" fill=\"#000000\">value = [0, 3]</text>\n<text text-anchor=\"middle\" x=\"459\" y=\"-1071.3\" font-family=\"Helvetica,sans-Serif\" font-size=\"14.00\" fill=\"#000000\">class = Inactive</text>\n</g>\n<!-- 8&#45;&gt;10 -->\n<g id=\"edge10\" class=\"edge\">\n<title>8&#45;&gt;10</title>\n<path fill=\"none\" stroke=\"#000000\" d=\"M459,-1174.8796C459,-1164.2134 459,-1152.7021 459,-1141.9015\"/>\n<polygon fill=\"#000000\" stroke=\"#000000\" points=\"462.5001,-1141.8149 459,-1131.8149 455.5001,-1141.815 462.5001,-1141.8149\"/>\n</g>\n<!-- 12 -->\n<g id=\"node13\" class=\"node\">\n<title>12</title>\n<polygon fill=\"#ffffff\" stroke=\"#000000\" points=\"1003.5,-1377 860.5,-1377 860.5,-1294 1003.5,-1294 1003.5,-1377\"/>\n<text text-anchor=\"middle\" x=\"932\" y=\"-1361.8\" font-family=\"Helvetica,sans-Serif\" font-size=\"14.00\" fill=\"#000000\">AATS5i &lt;= 158.412</text>\n<text text-anchor=\"middle\" x=\"932\" y=\"-1346.8\" font-family=\"Helvetica,sans-Serif\" font-size=\"14.00\" fill=\"#000000\">gini = 0.5</text>\n<text text-anchor=\"middle\" x=\"932\" y=\"-1331.8\" font-family=\"Helvetica,sans-Serif\" font-size=\"14.00\" fill=\"#000000\">samples = 14</text>\n<text text-anchor=\"middle\" x=\"932\" y=\"-1316.8\" font-family=\"Helvetica,sans-Serif\" font-size=\"14.00\" fill=\"#000000\">value = [7, 7]</text>\n<text text-anchor=\"middle\" x=\"932\" y=\"-1301.8\" font-family=\"Helvetica,sans-Serif\" font-size=\"14.00\" fill=\"#000000\">class = Active</text>\n</g>\n<!-- 11&#45;&gt;12 -->\n<g id=\"edge12\" class=\"edge\">\n<title>11&#45;&gt;12</title>\n<path fill=\"none\" stroke=\"#000000\" d=\"M985.3204,-1412.8796C979.2385,-1404.0534 972.7578,-1394.6485 966.4859,-1385.5466\"/>\n<polygon fill=\"#000000\" stroke=\"#000000\" points=\"969.3582,-1383.5465 960.802,-1377.2981 963.5941,-1387.5184 969.3582,-1383.5465\"/>\n</g>\n<!-- 23 -->\n<g id=\"node24\" class=\"node\">\n<title>23</title>\n<polygon fill=\"#eb9f69\" stroke=\"#000000\" points=\"1168.5,-1377 1025.5,-1377 1025.5,-1294 1168.5,-1294 1168.5,-1377\"/>\n<text text-anchor=\"middle\" x=\"1097\" y=\"-1361.8\" font-family=\"Helvetica,sans-Serif\" font-size=\"14.00\" fill=\"#000000\">AATS5i &lt;= 163.773</text>\n<text text-anchor=\"middle\" x=\"1097\" y=\"-1346.8\" font-family=\"Helvetica,sans-Serif\" font-size=\"14.00\" fill=\"#000000\">gini = 0.313</text>\n<text text-anchor=\"middle\" x=\"1097\" y=\"-1331.8\" font-family=\"Helvetica,sans-Serif\" font-size=\"14.00\" fill=\"#000000\">samples = 36</text>\n<text text-anchor=\"middle\" x=\"1097\" y=\"-1316.8\" font-family=\"Helvetica,sans-Serif\" font-size=\"14.00\" fill=\"#000000\">value = [29, 7]</text>\n<text text-anchor=\"middle\" x=\"1097\" y=\"-1301.8\" font-family=\"Helvetica,sans-Serif\" font-size=\"14.00\" fill=\"#000000\">class = Active</text>\n</g>\n<!-- 11&#45;&gt;23 -->\n<g id=\"edge23\" class=\"edge\">\n<title>11&#45;&gt;23</title>\n<path fill=\"none\" stroke=\"#000000\" d=\"M1043.0294,-1412.8796C1049.1855,-1404.0534 1055.7451,-1394.6485 1062.0936,-1385.5466\"/>\n<polygon fill=\"#000000\" stroke=\"#000000\" points=\"1064.9967,-1387.5024 1067.8467,-1377.2981 1059.2552,-1383.4978 1064.9967,-1387.5024\"/>\n</g>\n<!-- 13 -->\n<g id=\"node14\" class=\"node\">\n<title>13</title>\n<polygon fill=\"#aad5f4\" stroke=\"#000000\" points=\"846,-1258 710,-1258 710,-1175 846,-1175 846,-1258\"/>\n<text text-anchor=\"middle\" x=\"778\" y=\"-1242.8\" font-family=\"Helvetica,sans-Serif\" font-size=\"14.00\" fill=\"#000000\">RDF70m &lt;= 5.447</text>\n<text text-anchor=\"middle\" x=\"778\" y=\"-1227.8\" font-family=\"Helvetica,sans-Serif\" font-size=\"14.00\" fill=\"#000000\">gini = 0.463</text>\n<text text-anchor=\"middle\" x=\"778\" y=\"-1212.8\" font-family=\"Helvetica,sans-Serif\" font-size=\"14.00\" fill=\"#000000\">samples = 11</text>\n<text text-anchor=\"middle\" x=\"778\" y=\"-1197.8\" font-family=\"Helvetica,sans-Serif\" font-size=\"14.00\" fill=\"#000000\">value = [4, 7]</text>\n<text text-anchor=\"middle\" x=\"778\" y=\"-1182.8\" font-family=\"Helvetica,sans-Serif\" font-size=\"14.00\" fill=\"#000000\">class = Inactive</text>\n</g>\n<!-- 12&#45;&gt;13 -->\n<g id=\"edge13\" class=\"edge\">\n<title>12&#45;&gt;13</title>\n<path fill=\"none\" stroke=\"#000000\" d=\"M878.1383,-1293.8796C865.8291,-1284.368 852.6503,-1274.1843 840.0296,-1264.432\"/>\n<polygon fill=\"#000000\" stroke=\"#000000\" points=\"841.8843,-1261.4419 831.8313,-1258.0969 837.6041,-1266.9809 841.8843,-1261.4419\"/>\n</g>\n<!-- 22 -->\n<g id=\"node23\" class=\"node\">\n<title>22</title>\n<polygon fill=\"#e58139\" stroke=\"#000000\" points=\"984.5,-1250.5 879.5,-1250.5 879.5,-1182.5 984.5,-1182.5 984.5,-1250.5\"/>\n<text text-anchor=\"middle\" x=\"932\" y=\"-1235.3\" font-family=\"Helvetica,sans-Serif\" font-size=\"14.00\" fill=\"#000000\">gini = 0.0</text>\n<text text-anchor=\"middle\" x=\"932\" y=\"-1220.3\" font-family=\"Helvetica,sans-Serif\" font-size=\"14.00\" fill=\"#000000\">samples = 3</text>\n<text text-anchor=\"middle\" x=\"932\" y=\"-1205.3\" font-family=\"Helvetica,sans-Serif\" font-size=\"14.00\" fill=\"#000000\">value = [3, 0]</text>\n<text text-anchor=\"middle\" x=\"932\" y=\"-1190.3\" font-family=\"Helvetica,sans-Serif\" font-size=\"14.00\" fill=\"#000000\">class = Active</text>\n</g>\n<!-- 12&#45;&gt;22 -->\n<g id=\"edge22\" class=\"edge\">\n<title>12&#45;&gt;22</title>\n<path fill=\"none\" stroke=\"#000000\" d=\"M932,-1293.8796C932,-1283.2134 932,-1271.7021 932,-1260.9015\"/>\n<polygon fill=\"#000000\" stroke=\"#000000\" points=\"935.5001,-1260.8149 932,-1250.8149 928.5001,-1260.815 935.5001,-1260.8149\"/>\n</g>\n<!-- 14 -->\n<g id=\"node15\" class=\"node\">\n<title>14</title>\n<polygon fill=\"#ffffff\" stroke=\"#000000\" points=\"672.5,-1139 535.5,-1139 535.5,-1056 672.5,-1056 672.5,-1139\"/>\n<text text-anchor=\"middle\" x=\"604\" y=\"-1123.8\" font-family=\"Helvetica,sans-Serif\" font-size=\"14.00\" fill=\"#000000\">GATS4m &lt;= 0.906</text>\n<text text-anchor=\"middle\" x=\"604\" y=\"-1108.8\" font-family=\"Helvetica,sans-Serif\" font-size=\"14.00\" fill=\"#000000\">gini = 0.5</text>\n<text text-anchor=\"middle\" x=\"604\" y=\"-1093.8\" font-family=\"Helvetica,sans-Serif\" font-size=\"14.00\" fill=\"#000000\">samples = 8</text>\n<text text-anchor=\"middle\" x=\"604\" y=\"-1078.8\" font-family=\"Helvetica,sans-Serif\" font-size=\"14.00\" fill=\"#000000\">value = [4, 4]</text>\n<text text-anchor=\"middle\" x=\"604\" y=\"-1063.8\" font-family=\"Helvetica,sans-Serif\" font-size=\"14.00\" fill=\"#000000\">class = Active</text>\n</g>\n<!-- 13&#45;&gt;14 -->\n<g id=\"edge14\" class=\"edge\">\n<title>13&#45;&gt;14</title>\n<path fill=\"none\" stroke=\"#000000\" d=\"M717.1432,-1174.8796C702.9706,-1165.1868 687.7775,-1154.7961 673.2712,-1144.8752\"/>\n<polygon fill=\"#000000\" stroke=\"#000000\" points=\"675.0525,-1141.8531 664.8224,-1139.0969 671.1008,-1147.6311 675.0525,-1141.8531\"/>\n</g>\n<!-- 21 -->\n<g id=\"node22\" class=\"node\">\n<title>21</title>\n<polygon fill=\"#399de5\" stroke=\"#000000\" points=\"836,-1131.5 720,-1131.5 720,-1063.5 836,-1063.5 836,-1131.5\"/>\n<text text-anchor=\"middle\" x=\"778\" y=\"-1116.3\" font-family=\"Helvetica,sans-Serif\" font-size=\"14.00\" fill=\"#000000\">gini = 0.0</text>\n<text text-anchor=\"middle\" x=\"778\" y=\"-1101.3\" font-family=\"Helvetica,sans-Serif\" font-size=\"14.00\" fill=\"#000000\">samples = 3</text>\n<text text-anchor=\"middle\" x=\"778\" y=\"-1086.3\" font-family=\"Helvetica,sans-Serif\" font-size=\"14.00\" fill=\"#000000\">value = [0, 3]</text>\n<text text-anchor=\"middle\" x=\"778\" y=\"-1071.3\" font-family=\"Helvetica,sans-Serif\" font-size=\"14.00\" fill=\"#000000\">class = Inactive</text>\n</g>\n<!-- 13&#45;&gt;21 -->\n<g id=\"edge21\" class=\"edge\">\n<title>13&#45;&gt;21</title>\n<path fill=\"none\" stroke=\"#000000\" d=\"M778,-1174.8796C778,-1164.2134 778,-1152.7021 778,-1141.9015\"/>\n<polygon fill=\"#000000\" stroke=\"#000000\" points=\"781.5001,-1141.8149 778,-1131.8149 774.5001,-1141.815 781.5001,-1141.8149\"/>\n</g>\n<!-- 15 -->\n<g id=\"node16\" class=\"node\">\n<title>15</title>\n<polygon fill=\"#e58139\" stroke=\"#000000\" points=\"519.5,-1012.5 414.5,-1012.5 414.5,-944.5 519.5,-944.5 519.5,-1012.5\"/>\n<text text-anchor=\"middle\" x=\"467\" y=\"-997.3\" font-family=\"Helvetica,sans-Serif\" font-size=\"14.00\" fill=\"#000000\">gini = 0.0</text>\n<text text-anchor=\"middle\" x=\"467\" y=\"-982.3\" font-family=\"Helvetica,sans-Serif\" font-size=\"14.00\" fill=\"#000000\">samples = 2</text>\n<text text-anchor=\"middle\" x=\"467\" y=\"-967.3\" font-family=\"Helvetica,sans-Serif\" font-size=\"14.00\" fill=\"#000000\">value = [2, 0]</text>\n<text text-anchor=\"middle\" x=\"467\" y=\"-952.3\" font-family=\"Helvetica,sans-Serif\" font-size=\"14.00\" fill=\"#000000\">class = Active</text>\n</g>\n<!-- 14&#45;&gt;15 -->\n<g id=\"edge15\" class=\"edge\">\n<title>14&#45;&gt;15</title>\n<path fill=\"none\" stroke=\"#000000\" d=\"M556.084,-1055.8796C542.5385,-1044.1138 527.8092,-1031.3197 514.3002,-1019.5855\"/>\n<polygon fill=\"#000000\" stroke=\"#000000\" points=\"516.3503,-1016.7303 506.5054,-1012.8149 511.7599,-1022.015 516.3503,-1016.7303\"/>\n</g>\n<!-- 16 -->\n<g id=\"node17\" class=\"node\">\n<title>16</title>\n<polygon fill=\"#9ccef2\" stroke=\"#000000\" points=\"666,-1020 538,-1020 538,-937 666,-937 666,-1020\"/>\n<text text-anchor=\"middle\" x=\"602\" y=\"-1004.8\" font-family=\"Helvetica,sans-Serif\" font-size=\"14.00\" fill=\"#000000\">RDF70m &lt;= 4.19</text>\n<text text-anchor=\"middle\" x=\"602\" y=\"-989.8\" font-family=\"Helvetica,sans-Serif\" font-size=\"14.00\" fill=\"#000000\">gini = 0.444</text>\n<text text-anchor=\"middle\" x=\"602\" y=\"-974.8\" font-family=\"Helvetica,sans-Serif\" font-size=\"14.00\" fill=\"#000000\">samples = 6</text>\n<text text-anchor=\"middle\" x=\"602\" y=\"-959.8\" font-family=\"Helvetica,sans-Serif\" font-size=\"14.00\" fill=\"#000000\">value = [2, 4]</text>\n<text text-anchor=\"middle\" x=\"602\" y=\"-944.8\" font-family=\"Helvetica,sans-Serif\" font-size=\"14.00\" fill=\"#000000\">class = Inactive</text>\n</g>\n<!-- 14&#45;&gt;16 -->\n<g id=\"edge16\" class=\"edge\">\n<title>14&#45;&gt;16</title>\n<path fill=\"none\" stroke=\"#000000\" d=\"M603.3005,-1055.8796C603.1628,-1047.6838 603.0166,-1038.9891 602.874,-1030.5013\"/>\n<polygon fill=\"#000000\" stroke=\"#000000\" points=\"606.3701,-1030.2378 602.7025,-1020.2981 599.3711,-1030.3555 606.3701,-1030.2378\"/>\n</g>\n<!-- 17 -->\n<g id=\"node18\" class=\"node\">\n<title>17</title>\n<polygon fill=\"#399de5\" stroke=\"#000000\" points=\"530,-893.5 414,-893.5 414,-825.5 530,-825.5 530,-893.5\"/>\n<text text-anchor=\"middle\" x=\"472\" y=\"-878.3\" font-family=\"Helvetica,sans-Serif\" font-size=\"14.00\" fill=\"#000000\">gini = 0.0</text>\n<text text-anchor=\"middle\" x=\"472\" y=\"-863.3\" font-family=\"Helvetica,sans-Serif\" font-size=\"14.00\" fill=\"#000000\">samples = 3</text>\n<text text-anchor=\"middle\" x=\"472\" y=\"-848.3\" font-family=\"Helvetica,sans-Serif\" font-size=\"14.00\" fill=\"#000000\">value = [0, 3]</text>\n<text text-anchor=\"middle\" x=\"472\" y=\"-833.3\" font-family=\"Helvetica,sans-Serif\" font-size=\"14.00\" fill=\"#000000\">class = Inactive</text>\n</g>\n<!-- 16&#45;&gt;17 -->\n<g id=\"edge17\" class=\"edge\">\n<title>16&#45;&gt;17</title>\n<path fill=\"none\" stroke=\"#000000\" d=\"M556.5323,-936.8796C543.6789,-925.1138 529.7021,-912.3197 516.8834,-900.5855\"/>\n<polygon fill=\"#000000\" stroke=\"#000000\" points=\"519.2264,-897.9854 509.4869,-893.8149 514.4999,-903.1488 519.2264,-897.9854\"/>\n</g>\n<!-- 18 -->\n<g id=\"node19\" class=\"node\">\n<title>18</title>\n<polygon fill=\"#f2c09c\" stroke=\"#000000\" points=\"653.5,-901 548.5,-901 548.5,-818 653.5,-818 653.5,-901\"/>\n<text text-anchor=\"middle\" x=\"601\" y=\"-885.8\" font-family=\"Helvetica,sans-Serif\" font-size=\"14.00\" fill=\"#000000\">P1p &lt;= 0.84</text>\n<text text-anchor=\"middle\" x=\"601\" y=\"-870.8\" font-family=\"Helvetica,sans-Serif\" font-size=\"14.00\" fill=\"#000000\">gini = 0.444</text>\n<text text-anchor=\"middle\" x=\"601\" y=\"-855.8\" font-family=\"Helvetica,sans-Serif\" font-size=\"14.00\" fill=\"#000000\">samples = 3</text>\n<text text-anchor=\"middle\" x=\"601\" y=\"-840.8\" font-family=\"Helvetica,sans-Serif\" font-size=\"14.00\" fill=\"#000000\">value = [2, 1]</text>\n<text text-anchor=\"middle\" x=\"601\" y=\"-825.8\" font-family=\"Helvetica,sans-Serif\" font-size=\"14.00\" fill=\"#000000\">class = Active</text>\n</g>\n<!-- 16&#45;&gt;18 -->\n<g id=\"edge18\" class=\"edge\">\n<title>16&#45;&gt;18</title>\n<path fill=\"none\" stroke=\"#000000\" d=\"M601.6502,-936.8796C601.5814,-928.6838 601.5083,-919.9891 601.437,-911.5013\"/>\n<polygon fill=\"#000000\" stroke=\"#000000\" points=\"604.9352,-911.2683 601.3512,-901.2981 597.9355,-911.3272 604.9352,-911.2683\"/>\n</g>\n<!-- 19 -->\n<g id=\"node20\" class=\"node\">\n<title>19</title>\n<polygon fill=\"#ffffff\" stroke=\"#000000\" points=\"530.5,-774.5 425.5,-774.5 425.5,-706.5 530.5,-706.5 530.5,-774.5\"/>\n<text text-anchor=\"middle\" x=\"478\" y=\"-759.3\" font-family=\"Helvetica,sans-Serif\" font-size=\"14.00\" fill=\"#000000\">gini = 0.5</text>\n<text text-anchor=\"middle\" x=\"478\" y=\"-744.3\" font-family=\"Helvetica,sans-Serif\" font-size=\"14.00\" fill=\"#000000\">samples = 2</text>\n<text text-anchor=\"middle\" x=\"478\" y=\"-729.3\" font-family=\"Helvetica,sans-Serif\" font-size=\"14.00\" fill=\"#000000\">value = [1, 1]</text>\n<text text-anchor=\"middle\" x=\"478\" y=\"-714.3\" font-family=\"Helvetica,sans-Serif\" font-size=\"14.00\" fill=\"#000000\">class = Active</text>\n</g>\n<!-- 18&#45;&gt;19 -->\n<g id=\"edge19\" class=\"edge\">\n<title>18&#45;&gt;19</title>\n<path fill=\"none\" stroke=\"#000000\" d=\"M557.9806,-817.8796C545.9329,-806.2237 532.8422,-793.5587 520.8069,-781.9148\"/>\n<polygon fill=\"#000000\" stroke=\"#000000\" points=\"523.089,-779.2528 513.4684,-774.8149 518.2217,-784.2837 523.089,-779.2528\"/>\n</g>\n<!-- 20 -->\n<g id=\"node21\" class=\"node\">\n<title>20</title>\n<polygon fill=\"#e58139\" stroke=\"#000000\" points=\"653.5,-774.5 548.5,-774.5 548.5,-706.5 653.5,-706.5 653.5,-774.5\"/>\n<text text-anchor=\"middle\" x=\"601\" y=\"-759.3\" font-family=\"Helvetica,sans-Serif\" font-size=\"14.00\" fill=\"#000000\">gini = 0.0</text>\n<text text-anchor=\"middle\" x=\"601\" y=\"-744.3\" font-family=\"Helvetica,sans-Serif\" font-size=\"14.00\" fill=\"#000000\">samples = 1</text>\n<text text-anchor=\"middle\" x=\"601\" y=\"-729.3\" font-family=\"Helvetica,sans-Serif\" font-size=\"14.00\" fill=\"#000000\">value = [1, 0]</text>\n<text text-anchor=\"middle\" x=\"601\" y=\"-714.3\" font-family=\"Helvetica,sans-Serif\" font-size=\"14.00\" fill=\"#000000\">class = Active</text>\n</g>\n<!-- 18&#45;&gt;20 -->\n<g id=\"edge20\" class=\"edge\">\n<title>18&#45;&gt;20</title>\n<path fill=\"none\" stroke=\"#000000\" d=\"M601,-817.8796C601,-807.2134 601,-795.7021 601,-784.9015\"/>\n<polygon fill=\"#000000\" stroke=\"#000000\" points=\"604.5001,-784.8149 601,-774.8149 597.5001,-784.815 604.5001,-784.8149\"/>\n</g>\n<!-- 24 -->\n<g id=\"node25\" class=\"node\">\n<title>24</title>\n<polygon fill=\"#ea985c\" stroke=\"#000000\" points=\"1150.5,-1258 1043.5,-1258 1043.5,-1175 1150.5,-1175 1150.5,-1258\"/>\n<text text-anchor=\"middle\" x=\"1097\" y=\"-1242.8\" font-family=\"Helvetica,sans-Serif\" font-size=\"14.00\" fill=\"#000000\">P1p &lt;= 0.911</text>\n<text text-anchor=\"middle\" x=\"1097\" y=\"-1227.8\" font-family=\"Helvetica,sans-Serif\" font-size=\"14.00\" fill=\"#000000\">gini = 0.257</text>\n<text text-anchor=\"middle\" x=\"1097\" y=\"-1212.8\" font-family=\"Helvetica,sans-Serif\" font-size=\"14.00\" fill=\"#000000\">samples = 33</text>\n<text text-anchor=\"middle\" x=\"1097\" y=\"-1197.8\" font-family=\"Helvetica,sans-Serif\" font-size=\"14.00\" fill=\"#000000\">value = [28, 5]</text>\n<text text-anchor=\"middle\" x=\"1097\" y=\"-1182.8\" font-family=\"Helvetica,sans-Serif\" font-size=\"14.00\" fill=\"#000000\">class = Active</text>\n</g>\n<!-- 23&#45;&gt;24 -->\n<g id=\"edge24\" class=\"edge\">\n<title>23&#45;&gt;24</title>\n<path fill=\"none\" stroke=\"#000000\" d=\"M1097,-1293.8796C1097,-1285.6838 1097,-1276.9891 1097,-1268.5013\"/>\n<polygon fill=\"#000000\" stroke=\"#000000\" points=\"1100.5001,-1268.298 1097,-1258.2981 1093.5001,-1268.2981 1100.5001,-1268.298\"/>\n</g>\n<!-- 41 -->\n<g id=\"node42\" class=\"node\">\n<title>41</title>\n<polygon fill=\"#9ccef2\" stroke=\"#000000\" points=\"1298,-1258 1170,-1258 1170,-1175 1298,-1175 1298,-1258\"/>\n<text text-anchor=\"middle\" x=\"1234\" y=\"-1242.8\" font-family=\"Helvetica,sans-Serif\" font-size=\"14.00\" fill=\"#000000\">GATS2i &lt;= 1.098</text>\n<text text-anchor=\"middle\" x=\"1234\" y=\"-1227.8\" font-family=\"Helvetica,sans-Serif\" font-size=\"14.00\" fill=\"#000000\">gini = 0.444</text>\n<text text-anchor=\"middle\" x=\"1234\" y=\"-1212.8\" font-family=\"Helvetica,sans-Serif\" font-size=\"14.00\" fill=\"#000000\">samples = 3</text>\n<text text-anchor=\"middle\" x=\"1234\" y=\"-1197.8\" font-family=\"Helvetica,sans-Serif\" font-size=\"14.00\" fill=\"#000000\">value = [1, 2]</text>\n<text text-anchor=\"middle\" x=\"1234\" y=\"-1182.8\" font-family=\"Helvetica,sans-Serif\" font-size=\"14.00\" fill=\"#000000\">class = Inactive</text>\n</g>\n<!-- 23&#45;&gt;41 -->\n<g id=\"edge41\" class=\"edge\">\n<title>23&#45;&gt;41</title>\n<path fill=\"none\" stroke=\"#000000\" d=\"M1144.916,-1293.8796C1155.6993,-1284.513 1167.2329,-1274.4948 1178.3039,-1264.8784\"/>\n<polygon fill=\"#000000\" stroke=\"#000000\" points=\"1180.6251,-1267.4982 1185.8795,-1258.2981 1176.0347,-1262.2134 1180.6251,-1267.4982\"/>\n</g>\n<!-- 25 -->\n<g id=\"node26\" class=\"node\">\n<title>25</title>\n<polygon fill=\"#e99355\" stroke=\"#000000\" points=\"1023.5,-1139 880.5,-1139 880.5,-1056 1023.5,-1056 1023.5,-1139\"/>\n<text text-anchor=\"middle\" x=\"952\" y=\"-1123.8\" font-family=\"Helvetica,sans-Serif\" font-size=\"14.00\" fill=\"#000000\">nHeteroRing &lt;= 1.5</text>\n<text text-anchor=\"middle\" x=\"952\" y=\"-1108.8\" font-family=\"Helvetica,sans-Serif\" font-size=\"14.00\" fill=\"#000000\">gini = 0.219</text>\n<text text-anchor=\"middle\" x=\"952\" y=\"-1093.8\" font-family=\"Helvetica,sans-Serif\" font-size=\"14.00\" fill=\"#000000\">samples = 32</text>\n<text text-anchor=\"middle\" x=\"952\" y=\"-1078.8\" font-family=\"Helvetica,sans-Serif\" font-size=\"14.00\" fill=\"#000000\">value = [28, 4]</text>\n<text text-anchor=\"middle\" x=\"952\" y=\"-1063.8\" font-family=\"Helvetica,sans-Serif\" font-size=\"14.00\" fill=\"#000000\">class = Active</text>\n</g>\n<!-- 24&#45;&gt;25 -->\n<g id=\"edge25\" class=\"edge\">\n<title>24&#45;&gt;25</title>\n<path fill=\"none\" stroke=\"#000000\" d=\"M1046.286,-1174.8796C1034.873,-1165.513 1022.6659,-1155.4948 1010.9485,-1145.8784\"/>\n<polygon fill=\"#000000\" stroke=\"#000000\" points=\"1012.8809,-1142.9366 1002.9304,-1139.2981 1008.4401,-1148.3476 1012.8809,-1142.9366\"/>\n</g>\n<!-- 40 -->\n<g id=\"node41\" class=\"node\">\n<title>40</title>\n<polygon fill=\"#399de5\" stroke=\"#000000\" points=\"1158,-1131.5 1042,-1131.5 1042,-1063.5 1158,-1063.5 1158,-1131.5\"/>\n<text text-anchor=\"middle\" x=\"1100\" y=\"-1116.3\" font-family=\"Helvetica,sans-Serif\" font-size=\"14.00\" fill=\"#000000\">gini = 0.0</text>\n<text text-anchor=\"middle\" x=\"1100\" y=\"-1101.3\" font-family=\"Helvetica,sans-Serif\" font-size=\"14.00\" fill=\"#000000\">samples = 1</text>\n<text text-anchor=\"middle\" x=\"1100\" y=\"-1086.3\" font-family=\"Helvetica,sans-Serif\" font-size=\"14.00\" fill=\"#000000\">value = [0, 1]</text>\n<text text-anchor=\"middle\" x=\"1100\" y=\"-1071.3\" font-family=\"Helvetica,sans-Serif\" font-size=\"14.00\" fill=\"#000000\">class = Inactive</text>\n</g>\n<!-- 24&#45;&gt;40 -->\n<g id=\"edge40\" class=\"edge\">\n<title>24&#45;&gt;40</title>\n<path fill=\"none\" stroke=\"#000000\" d=\"M1098.0493,-1174.8796C1098.3182,-1164.2134 1098.6084,-1152.7021 1098.8806,-1141.9015\"/>\n<polygon fill=\"#000000\" stroke=\"#000000\" points=\"1102.3817,-1141.9 1099.1349,-1131.8149 1095.3839,-1141.7235 1102.3817,-1141.9\"/>\n</g>\n<!-- 26 -->\n<g id=\"node27\" class=\"node\">\n<title>26</title>\n<polygon fill=\"#e78b49\" stroke=\"#000000\" points=\"1023.5,-1020 880.5,-1020 880.5,-937 1023.5,-937 1023.5,-1020\"/>\n<text text-anchor=\"middle\" x=\"952\" y=\"-1004.8\" font-family=\"Helvetica,sans-Serif\" font-size=\"14.00\" fill=\"#000000\">AATS5i &lt;= 163.611</text>\n<text text-anchor=\"middle\" x=\"952\" y=\"-989.8\" font-family=\"Helvetica,sans-Serif\" font-size=\"14.00\" fill=\"#000000\">gini = 0.137</text>\n<text text-anchor=\"middle\" x=\"952\" y=\"-974.8\" font-family=\"Helvetica,sans-Serif\" font-size=\"14.00\" fill=\"#000000\">samples = 27</text>\n<text text-anchor=\"middle\" x=\"952\" y=\"-959.8\" font-family=\"Helvetica,sans-Serif\" font-size=\"14.00\" fill=\"#000000\">value = [25, 2]</text>\n<text text-anchor=\"middle\" x=\"952\" y=\"-944.8\" font-family=\"Helvetica,sans-Serif\" font-size=\"14.00\" fill=\"#000000\">class = Active</text>\n</g>\n<!-- 25&#45;&gt;26 -->\n<g id=\"edge26\" class=\"edge\">\n<title>25&#45;&gt;26</title>\n<path fill=\"none\" stroke=\"#000000\" d=\"M952,-1055.8796C952,-1047.6838 952,-1038.9891 952,-1030.5013\"/>\n<polygon fill=\"#000000\" stroke=\"#000000\" points=\"955.5001,-1030.298 952,-1020.2981 948.5001,-1030.2981 955.5001,-1030.298\"/>\n</g>\n<!-- 35 -->\n<g id=\"node36\" class=\"node\">\n<title>35</title>\n<polygon fill=\"#f6d5bd\" stroke=\"#000000\" points=\"1153.5,-1020 1048.5,-1020 1048.5,-937 1153.5,-937 1153.5,-1020\"/>\n<text text-anchor=\"middle\" x=\"1101\" y=\"-1004.8\" font-family=\"Helvetica,sans-Serif\" font-size=\"14.00\" fill=\"#000000\">P1p &lt;= 0.827</text>\n<text text-anchor=\"middle\" x=\"1101\" y=\"-989.8\" font-family=\"Helvetica,sans-Serif\" font-size=\"14.00\" fill=\"#000000\">gini = 0.48</text>\n<text text-anchor=\"middle\" x=\"1101\" y=\"-974.8\" font-family=\"Helvetica,sans-Serif\" font-size=\"14.00\" fill=\"#000000\">samples = 5</text>\n<text text-anchor=\"middle\" x=\"1101\" y=\"-959.8\" font-family=\"Helvetica,sans-Serif\" font-size=\"14.00\" fill=\"#000000\">value = [3, 2]</text>\n<text text-anchor=\"middle\" x=\"1101\" y=\"-944.8\" font-family=\"Helvetica,sans-Serif\" font-size=\"14.00\" fill=\"#000000\">class = Active</text>\n</g>\n<!-- 25&#45;&gt;35 -->\n<g id=\"edge35\" class=\"edge\">\n<title>25&#45;&gt;35</title>\n<path fill=\"none\" stroke=\"#000000\" d=\"M1004.113,-1055.8796C1016.0225,-1046.368 1028.7734,-1036.1843 1040.9844,-1026.432\"/>\n<polygon fill=\"#000000\" stroke=\"#000000\" points=\"1043.2868,-1029.0724 1048.9165,-1020.0969 1038.9184,-1023.6027 1043.2868,-1029.0724\"/>\n</g>\n<!-- 27 -->\n<g id=\"node28\" class=\"node\">\n<title>27</title>\n<polygon fill=\"#e68742\" stroke=\"#000000\" points=\"901.5,-901 794.5,-901 794.5,-818 901.5,-818 901.5,-901\"/>\n<text text-anchor=\"middle\" x=\"848\" y=\"-885.8\" font-family=\"Helvetica,sans-Serif\" font-size=\"14.00\" fill=\"#000000\">E3s &lt;= 0.305</text>\n<text text-anchor=\"middle\" x=\"848\" y=\"-870.8\" font-family=\"Helvetica,sans-Serif\" font-size=\"14.00\" fill=\"#000000\">gini = 0.083</text>\n<text text-anchor=\"middle\" x=\"848\" y=\"-855.8\" font-family=\"Helvetica,sans-Serif\" font-size=\"14.00\" fill=\"#000000\">samples = 23</text>\n<text text-anchor=\"middle\" x=\"848\" y=\"-840.8\" font-family=\"Helvetica,sans-Serif\" font-size=\"14.00\" fill=\"#000000\">value = [22, 1]</text>\n<text text-anchor=\"middle\" x=\"848\" y=\"-825.8\" font-family=\"Helvetica,sans-Serif\" font-size=\"14.00\" fill=\"#000000\">class = Active</text>\n</g>\n<!-- 26&#45;&gt;27 -->\n<g id=\"edge27\" class=\"edge\">\n<title>26&#45;&gt;27</title>\n<path fill=\"none\" stroke=\"#000000\" d=\"M915.6258,-936.8796C907.7548,-927.8733 899.3571,-918.2644 891.2515,-908.9897\"/>\n<polygon fill=\"#000000\" stroke=\"#000000\" points=\"893.7454,-906.5246 884.5294,-901.2981 888.4746,-911.131 893.7454,-906.5246\"/>\n</g>\n<!-- 32 -->\n<g id=\"node33\" class=\"node\">\n<title>32</title>\n<polygon fill=\"#eeab7b\" stroke=\"#000000\" points=\"1024.5,-901 919.5,-901 919.5,-818 1024.5,-818 1024.5,-901\"/>\n<text text-anchor=\"middle\" x=\"972\" y=\"-885.8\" font-family=\"Helvetica,sans-Serif\" font-size=\"14.00\" fill=\"#000000\">P1p &lt;= 0.695</text>\n<text text-anchor=\"middle\" x=\"972\" y=\"-870.8\" font-family=\"Helvetica,sans-Serif\" font-size=\"14.00\" fill=\"#000000\">gini = 0.375</text>\n<text text-anchor=\"middle\" x=\"972\" y=\"-855.8\" font-family=\"Helvetica,sans-Serif\" font-size=\"14.00\" fill=\"#000000\">samples = 4</text>\n<text text-anchor=\"middle\" x=\"972\" y=\"-840.8\" font-family=\"Helvetica,sans-Serif\" font-size=\"14.00\" fill=\"#000000\">value = [3, 1]</text>\n<text text-anchor=\"middle\" x=\"972\" y=\"-825.8\" font-family=\"Helvetica,sans-Serif\" font-size=\"14.00\" fill=\"#000000\">class = Active</text>\n</g>\n<!-- 26&#45;&gt;32 -->\n<g id=\"edge32\" class=\"edge\">\n<title>26&#45;&gt;32</title>\n<path fill=\"none\" stroke=\"#000000\" d=\"M958.995,-936.8796C960.3876,-928.5938 961.8659,-919.798 963.3073,-911.2216\"/>\n<polygon fill=\"#000000\" stroke=\"#000000\" points=\"966.7692,-911.7399 964.9751,-901.2981 959.866,-910.5796 966.7692,-911.7399\"/>\n</g>\n<!-- 28 -->\n<g id=\"node29\" class=\"node\">\n<title>28</title>\n<polygon fill=\"#e9965a\" stroke=\"#000000\" points=\"776.5,-782 671.5,-782 671.5,-699 776.5,-699 776.5,-782\"/>\n<text text-anchor=\"middle\" x=\"724\" y=\"-766.8\" font-family=\"Helvetica,sans-Serif\" font-size=\"14.00\" fill=\"#000000\">P1p &lt;= 0.826</text>\n<text text-anchor=\"middle\" x=\"724\" y=\"-751.8\" font-family=\"Helvetica,sans-Serif\" font-size=\"14.00\" fill=\"#000000\">gini = 0.245</text>\n<text text-anchor=\"middle\" x=\"724\" y=\"-736.8\" font-family=\"Helvetica,sans-Serif\" font-size=\"14.00\" fill=\"#000000\">samples = 7</text>\n<text text-anchor=\"middle\" x=\"724\" y=\"-721.8\" font-family=\"Helvetica,sans-Serif\" font-size=\"14.00\" fill=\"#000000\">value = [6, 1]</text>\n<text text-anchor=\"middle\" x=\"724\" y=\"-706.8\" font-family=\"Helvetica,sans-Serif\" font-size=\"14.00\" fill=\"#000000\">class = Active</text>\n</g>\n<!-- 27&#45;&gt;28 -->\n<g id=\"edge28\" class=\"edge\">\n<title>27&#45;&gt;28</title>\n<path fill=\"none\" stroke=\"#000000\" d=\"M804.6308,-817.8796C795.0584,-808.6931 784.8328,-798.8798 774.9897,-789.4336\"/>\n<polygon fill=\"#000000\" stroke=\"#000000\" points=\"777.1928,-786.6969 767.5543,-782.2981 772.3459,-791.7475 777.1928,-786.6969\"/>\n</g>\n<!-- 31 -->\n<g id=\"node32\" class=\"node\">\n<title>31</title>\n<polygon fill=\"#e58139\" stroke=\"#000000\" points=\"901.5,-774.5 794.5,-774.5 794.5,-706.5 901.5,-706.5 901.5,-774.5\"/>\n<text text-anchor=\"middle\" x=\"848\" y=\"-759.3\" font-family=\"Helvetica,sans-Serif\" font-size=\"14.00\" fill=\"#000000\">gini = 0.0</text>\n<text text-anchor=\"middle\" x=\"848\" y=\"-744.3\" font-family=\"Helvetica,sans-Serif\" font-size=\"14.00\" fill=\"#000000\">samples = 16</text>\n<text text-anchor=\"middle\" x=\"848\" y=\"-729.3\" font-family=\"Helvetica,sans-Serif\" font-size=\"14.00\" fill=\"#000000\">value = [16, 0]</text>\n<text text-anchor=\"middle\" x=\"848\" y=\"-714.3\" font-family=\"Helvetica,sans-Serif\" font-size=\"14.00\" fill=\"#000000\">class = Active</text>\n</g>\n<!-- 27&#45;&gt;31 -->\n<g id=\"edge31\" class=\"edge\">\n<title>27&#45;&gt;31</title>\n<path fill=\"none\" stroke=\"#000000\" d=\"M848,-817.8796C848,-807.2134 848,-795.7021 848,-784.9015\"/>\n<polygon fill=\"#000000\" stroke=\"#000000\" points=\"851.5001,-784.8149 848,-774.8149 844.5001,-784.815 851.5001,-784.8149\"/>\n</g>\n<!-- 29 -->\n<g id=\"node30\" class=\"node\">\n<title>29</title>\n<polygon fill=\"#399de5\" stroke=\"#000000\" points=\"718,-655.5 602,-655.5 602,-587.5 718,-587.5 718,-655.5\"/>\n<text text-anchor=\"middle\" x=\"660\" y=\"-640.3\" font-family=\"Helvetica,sans-Serif\" font-size=\"14.00\" fill=\"#000000\">gini = 0.0</text>\n<text text-anchor=\"middle\" x=\"660\" y=\"-625.3\" font-family=\"Helvetica,sans-Serif\" font-size=\"14.00\" fill=\"#000000\">samples = 1</text>\n<text text-anchor=\"middle\" x=\"660\" y=\"-610.3\" font-family=\"Helvetica,sans-Serif\" font-size=\"14.00\" fill=\"#000000\">value = [0, 1]</text>\n<text text-anchor=\"middle\" x=\"660\" y=\"-595.3\" font-family=\"Helvetica,sans-Serif\" font-size=\"14.00\" fill=\"#000000\">class = Inactive</text>\n</g>\n<!-- 28&#45;&gt;29 -->\n<g id=\"edge29\" class=\"edge\">\n<title>28&#45;&gt;29</title>\n<path fill=\"none\" stroke=\"#000000\" d=\"M701.6159,-698.8796C695.702,-687.8835 689.3051,-675.9893 683.342,-664.9015\"/>\n<polygon fill=\"#000000\" stroke=\"#000000\" points=\"686.2742,-662.9642 678.4551,-655.8149 680.1092,-666.2799 686.2742,-662.9642\"/>\n</g>\n<!-- 30 -->\n<g id=\"node31\" class=\"node\">\n<title>30</title>\n<polygon fill=\"#e58139\" stroke=\"#000000\" points=\"841.5,-655.5 736.5,-655.5 736.5,-587.5 841.5,-587.5 841.5,-655.5\"/>\n<text text-anchor=\"middle\" x=\"789\" y=\"-640.3\" font-family=\"Helvetica,sans-Serif\" font-size=\"14.00\" fill=\"#000000\">gini = 0.0</text>\n<text text-anchor=\"middle\" x=\"789\" y=\"-625.3\" font-family=\"Helvetica,sans-Serif\" font-size=\"14.00\" fill=\"#000000\">samples = 6</text>\n<text text-anchor=\"middle\" x=\"789\" y=\"-610.3\" font-family=\"Helvetica,sans-Serif\" font-size=\"14.00\" fill=\"#000000\">value = [6, 0]</text>\n<text text-anchor=\"middle\" x=\"789\" y=\"-595.3\" font-family=\"Helvetica,sans-Serif\" font-size=\"14.00\" fill=\"#000000\">class = Active</text>\n</g>\n<!-- 28&#45;&gt;30 -->\n<g id=\"edge30\" class=\"edge\">\n<title>28&#45;&gt;30</title>\n<path fill=\"none\" stroke=\"#000000\" d=\"M746.7338,-698.8796C752.7401,-687.8835 759.237,-675.9893 765.2933,-664.9015\"/>\n<polygon fill=\"#000000\" stroke=\"#000000\" points=\"768.5345,-666.2689 770.2565,-655.8149 762.3912,-662.9133 768.5345,-666.2689\"/>\n</g>\n<!-- 33 -->\n<g id=\"node34\" class=\"node\">\n<title>33</title>\n<polygon fill=\"#e58139\" stroke=\"#000000\" points=\"1024.5,-774.5 919.5,-774.5 919.5,-706.5 1024.5,-706.5 1024.5,-774.5\"/>\n<text text-anchor=\"middle\" x=\"972\" y=\"-759.3\" font-family=\"Helvetica,sans-Serif\" font-size=\"14.00\" fill=\"#000000\">gini = 0.0</text>\n<text text-anchor=\"middle\" x=\"972\" y=\"-744.3\" font-family=\"Helvetica,sans-Serif\" font-size=\"14.00\" fill=\"#000000\">samples = 3</text>\n<text text-anchor=\"middle\" x=\"972\" y=\"-729.3\" font-family=\"Helvetica,sans-Serif\" font-size=\"14.00\" fill=\"#000000\">value = [3, 0]</text>\n<text text-anchor=\"middle\" x=\"972\" y=\"-714.3\" font-family=\"Helvetica,sans-Serif\" font-size=\"14.00\" fill=\"#000000\">class = Active</text>\n</g>\n<!-- 32&#45;&gt;33 -->\n<g id=\"edge33\" class=\"edge\">\n<title>32&#45;&gt;33</title>\n<path fill=\"none\" stroke=\"#000000\" d=\"M972,-817.8796C972,-807.2134 972,-795.7021 972,-784.9015\"/>\n<polygon fill=\"#000000\" stroke=\"#000000\" points=\"975.5001,-784.8149 972,-774.8149 968.5001,-784.815 975.5001,-784.8149\"/>\n</g>\n<!-- 34 -->\n<g id=\"node35\" class=\"node\">\n<title>34</title>\n<polygon fill=\"#399de5\" stroke=\"#000000\" points=\"1159,-774.5 1043,-774.5 1043,-706.5 1159,-706.5 1159,-774.5\"/>\n<text text-anchor=\"middle\" x=\"1101\" y=\"-759.3\" font-family=\"Helvetica,sans-Serif\" font-size=\"14.00\" fill=\"#000000\">gini = 0.0</text>\n<text text-anchor=\"middle\" x=\"1101\" y=\"-744.3\" font-family=\"Helvetica,sans-Serif\" font-size=\"14.00\" fill=\"#000000\">samples = 1</text>\n<text text-anchor=\"middle\" x=\"1101\" y=\"-729.3\" font-family=\"Helvetica,sans-Serif\" font-size=\"14.00\" fill=\"#000000\">value = [0, 1]</text>\n<text text-anchor=\"middle\" x=\"1101\" y=\"-714.3\" font-family=\"Helvetica,sans-Serif\" font-size=\"14.00\" fill=\"#000000\">class = Inactive</text>\n</g>\n<!-- 32&#45;&gt;34 -->\n<g id=\"edge34\" class=\"edge\">\n<title>32&#45;&gt;34</title>\n<path fill=\"none\" stroke=\"#000000\" d=\"M1017.1179,-817.8796C1029.7533,-806.2237 1043.4826,-793.5587 1056.105,-781.9148\"/>\n<polygon fill=\"#000000\" stroke=\"#000000\" points=\"1058.8244,-784.168 1063.8015,-774.8149 1054.078,-779.0228 1058.8244,-784.168\"/>\n</g>\n<!-- 36 -->\n<g id=\"node37\" class=\"node\">\n<title>36</title>\n<polygon fill=\"#399de5\" stroke=\"#000000\" points=\"1159,-893.5 1043,-893.5 1043,-825.5 1159,-825.5 1159,-893.5\"/>\n<text text-anchor=\"middle\" x=\"1101\" y=\"-878.3\" font-family=\"Helvetica,sans-Serif\" font-size=\"14.00\" fill=\"#000000\">gini = 0.0</text>\n<text text-anchor=\"middle\" x=\"1101\" y=\"-863.3\" font-family=\"Helvetica,sans-Serif\" font-size=\"14.00\" fill=\"#000000\">samples = 1</text>\n<text text-anchor=\"middle\" x=\"1101\" y=\"-848.3\" font-family=\"Helvetica,sans-Serif\" font-size=\"14.00\" fill=\"#000000\">value = [0, 1]</text>\n<text text-anchor=\"middle\" x=\"1101\" y=\"-833.3\" font-family=\"Helvetica,sans-Serif\" font-size=\"14.00\" fill=\"#000000\">class = Inactive</text>\n</g>\n<!-- 35&#45;&gt;36 -->\n<g id=\"edge36\" class=\"edge\">\n<title>35&#45;&gt;36</title>\n<path fill=\"none\" stroke=\"#000000\" d=\"M1101,-936.8796C1101,-926.2134 1101,-914.7021 1101,-903.9015\"/>\n<polygon fill=\"#000000\" stroke=\"#000000\" points=\"1104.5001,-903.8149 1101,-893.8149 1097.5001,-903.815 1104.5001,-903.8149\"/>\n</g>\n<!-- 37 -->\n<g id=\"node38\" class=\"node\">\n<title>37</title>\n<polygon fill=\"#eeab7b\" stroke=\"#000000\" points=\"1282.5,-901 1177.5,-901 1177.5,-818 1282.5,-818 1282.5,-901\"/>\n<text text-anchor=\"middle\" x=\"1230\" y=\"-885.8\" font-family=\"Helvetica,sans-Serif\" font-size=\"14.00\" fill=\"#000000\">P1p &lt;= 0.859</text>\n<text text-anchor=\"middle\" x=\"1230\" y=\"-870.8\" font-family=\"Helvetica,sans-Serif\" font-size=\"14.00\" fill=\"#000000\">gini = 0.375</text>\n<text text-anchor=\"middle\" x=\"1230\" y=\"-855.8\" font-family=\"Helvetica,sans-Serif\" font-size=\"14.00\" fill=\"#000000\">samples = 4</text>\n<text text-anchor=\"middle\" x=\"1230\" y=\"-840.8\" font-family=\"Helvetica,sans-Serif\" font-size=\"14.00\" fill=\"#000000\">value = [3, 1]</text>\n<text text-anchor=\"middle\" x=\"1230\" y=\"-825.8\" font-family=\"Helvetica,sans-Serif\" font-size=\"14.00\" fill=\"#000000\">class = Active</text>\n</g>\n<!-- 35&#45;&gt;37 -->\n<g id=\"edge37\" class=\"edge\">\n<title>35&#45;&gt;37</title>\n<path fill=\"none\" stroke=\"#000000\" d=\"M1146.1179,-936.8796C1156.174,-927.6031 1166.923,-917.6874 1177.2554,-908.1559\"/>\n<polygon fill=\"#000000\" stroke=\"#000000\" points=\"1179.7124,-910.6511 1184.6895,-901.2981 1174.9661,-905.506 1179.7124,-910.6511\"/>\n</g>\n<!-- 38 -->\n<g id=\"node39\" class=\"node\">\n<title>38</title>\n<polygon fill=\"#e58139\" stroke=\"#000000\" points=\"1282.5,-774.5 1177.5,-774.5 1177.5,-706.5 1282.5,-706.5 1282.5,-774.5\"/>\n<text text-anchor=\"middle\" x=\"1230\" y=\"-759.3\" font-family=\"Helvetica,sans-Serif\" font-size=\"14.00\" fill=\"#000000\">gini = 0.0</text>\n<text text-anchor=\"middle\" x=\"1230\" y=\"-744.3\" font-family=\"Helvetica,sans-Serif\" font-size=\"14.00\" fill=\"#000000\">samples = 2</text>\n<text text-anchor=\"middle\" x=\"1230\" y=\"-729.3\" font-family=\"Helvetica,sans-Serif\" font-size=\"14.00\" fill=\"#000000\">value = [2, 0]</text>\n<text text-anchor=\"middle\" x=\"1230\" y=\"-714.3\" font-family=\"Helvetica,sans-Serif\" font-size=\"14.00\" fill=\"#000000\">class = Active</text>\n</g>\n<!-- 37&#45;&gt;38 -->\n<g id=\"edge38\" class=\"edge\">\n<title>37&#45;&gt;38</title>\n<path fill=\"none\" stroke=\"#000000\" d=\"M1230,-817.8796C1230,-807.2134 1230,-795.7021 1230,-784.9015\"/>\n<polygon fill=\"#000000\" stroke=\"#000000\" points=\"1233.5001,-784.8149 1230,-774.8149 1226.5001,-784.815 1233.5001,-784.8149\"/>\n</g>\n<!-- 39 -->\n<g id=\"node40\" class=\"node\">\n<title>39</title>\n<polygon fill=\"#ffffff\" stroke=\"#000000\" points=\"1405.5,-774.5 1300.5,-774.5 1300.5,-706.5 1405.5,-706.5 1405.5,-774.5\"/>\n<text text-anchor=\"middle\" x=\"1353\" y=\"-759.3\" font-family=\"Helvetica,sans-Serif\" font-size=\"14.00\" fill=\"#000000\">gini = 0.5</text>\n<text text-anchor=\"middle\" x=\"1353\" y=\"-744.3\" font-family=\"Helvetica,sans-Serif\" font-size=\"14.00\" fill=\"#000000\">samples = 2</text>\n<text text-anchor=\"middle\" x=\"1353\" y=\"-729.3\" font-family=\"Helvetica,sans-Serif\" font-size=\"14.00\" fill=\"#000000\">value = [1, 1]</text>\n<text text-anchor=\"middle\" x=\"1353\" y=\"-714.3\" font-family=\"Helvetica,sans-Serif\" font-size=\"14.00\" fill=\"#000000\">class = Active</text>\n</g>\n<!-- 37&#45;&gt;39 -->\n<g id=\"edge39\" class=\"edge\">\n<title>37&#45;&gt;39</title>\n<path fill=\"none\" stroke=\"#000000\" d=\"M1273.0194,-817.8796C1285.0671,-806.2237 1298.1578,-793.5587 1310.1931,-781.9148\"/>\n<polygon fill=\"#000000\" stroke=\"#000000\" points=\"1312.7783,-784.2837 1317.5316,-774.8149 1307.911,-779.2528 1312.7783,-784.2837\"/>\n</g>\n<!-- 42 -->\n<g id=\"node43\" class=\"node\">\n<title>42</title>\n<polygon fill=\"#399de5\" stroke=\"#000000\" points=\"1292,-1131.5 1176,-1131.5 1176,-1063.5 1292,-1063.5 1292,-1131.5\"/>\n<text text-anchor=\"middle\" x=\"1234\" y=\"-1116.3\" font-family=\"Helvetica,sans-Serif\" font-size=\"14.00\" fill=\"#000000\">gini = 0.0</text>\n<text text-anchor=\"middle\" x=\"1234\" y=\"-1101.3\" font-family=\"Helvetica,sans-Serif\" font-size=\"14.00\" fill=\"#000000\">samples = 2</text>\n<text text-anchor=\"middle\" x=\"1234\" y=\"-1086.3\" font-family=\"Helvetica,sans-Serif\" font-size=\"14.00\" fill=\"#000000\">value = [0, 2]</text>\n<text text-anchor=\"middle\" x=\"1234\" y=\"-1071.3\" font-family=\"Helvetica,sans-Serif\" font-size=\"14.00\" fill=\"#000000\">class = Inactive</text>\n</g>\n<!-- 41&#45;&gt;42 -->\n<g id=\"edge42\" class=\"edge\">\n<title>41&#45;&gt;42</title>\n<path fill=\"none\" stroke=\"#000000\" d=\"M1234,-1174.8796C1234,-1164.2134 1234,-1152.7021 1234,-1141.9015\"/>\n<polygon fill=\"#000000\" stroke=\"#000000\" points=\"1237.5001,-1141.8149 1234,-1131.8149 1230.5001,-1141.815 1237.5001,-1141.8149\"/>\n</g>\n<!-- 43 -->\n<g id=\"node44\" class=\"node\">\n<title>43</title>\n<polygon fill=\"#e58139\" stroke=\"#000000\" points=\"1415.5,-1131.5 1310.5,-1131.5 1310.5,-1063.5 1415.5,-1063.5 1415.5,-1131.5\"/>\n<text text-anchor=\"middle\" x=\"1363\" y=\"-1116.3\" font-family=\"Helvetica,sans-Serif\" font-size=\"14.00\" fill=\"#000000\">gini = 0.0</text>\n<text text-anchor=\"middle\" x=\"1363\" y=\"-1101.3\" font-family=\"Helvetica,sans-Serif\" font-size=\"14.00\" fill=\"#000000\">samples = 1</text>\n<text text-anchor=\"middle\" x=\"1363\" y=\"-1086.3\" font-family=\"Helvetica,sans-Serif\" font-size=\"14.00\" fill=\"#000000\">value = [1, 0]</text>\n<text text-anchor=\"middle\" x=\"1363\" y=\"-1071.3\" font-family=\"Helvetica,sans-Serif\" font-size=\"14.00\" fill=\"#000000\">class = Active</text>\n</g>\n<!-- 41&#45;&gt;43 -->\n<g id=\"edge43\" class=\"edge\">\n<title>41&#45;&gt;43</title>\n<path fill=\"none\" stroke=\"#000000\" d=\"M1279.1179,-1174.8796C1291.7533,-1163.2237 1305.4826,-1150.5587 1318.105,-1138.9148\"/>\n<polygon fill=\"#000000\" stroke=\"#000000\" points=\"1320.8244,-1141.168 1325.8015,-1131.8149 1316.078,-1136.0228 1320.8244,-1141.168\"/>\n</g>\n<!-- 45 -->\n<g id=\"node46\" class=\"node\">\n<title>45</title>\n<polygon fill=\"#eeaf81\" stroke=\"#000000\" points=\"1681.5,-1496 1574.5,-1496 1574.5,-1413 1681.5,-1413 1681.5,-1496\"/>\n<text text-anchor=\"middle\" x=\"1628\" y=\"-1480.8\" font-family=\"Helvetica,sans-Serif\" font-size=\"14.00\" fill=\"#000000\">E3s &lt;= 0.252</text>\n<text text-anchor=\"middle\" x=\"1628\" y=\"-1465.8\" font-family=\"Helvetica,sans-Serif\" font-size=\"14.00\" fill=\"#000000\">gini = 0.391</text>\n<text text-anchor=\"middle\" x=\"1628\" y=\"-1450.8\" font-family=\"Helvetica,sans-Serif\" font-size=\"14.00\" fill=\"#000000\">samples = 15</text>\n<text text-anchor=\"middle\" x=\"1628\" y=\"-1435.8\" font-family=\"Helvetica,sans-Serif\" font-size=\"14.00\" fill=\"#000000\">value = [11, 4]</text>\n<text text-anchor=\"middle\" x=\"1628\" y=\"-1420.8\" font-family=\"Helvetica,sans-Serif\" font-size=\"14.00\" fill=\"#000000\">class = Active</text>\n</g>\n<!-- 44&#45;&gt;45 -->\n<g id=\"edge45\" class=\"edge\">\n<title>44&#45;&gt;45</title>\n<path fill=\"none\" stroke=\"#000000\" d=\"M1628,-1531.8796C1628,-1523.6838 1628,-1514.9891 1628,-1506.5013\"/>\n<polygon fill=\"#000000\" stroke=\"#000000\" points=\"1631.5001,-1506.298 1628,-1496.2981 1624.5001,-1506.2981 1631.5001,-1506.298\"/>\n</g>\n<!-- 52 -->\n<g id=\"node53\" class=\"node\">\n<title>52</title>\n<polygon fill=\"#80c0ee\" stroke=\"#000000\" points=\"2115,-1496 1971,-1496 1971,-1413 2115,-1413 2115,-1496\"/>\n<text text-anchor=\"middle\" x=\"2043\" y=\"-1480.8\" font-family=\"Helvetica,sans-Serif\" font-size=\"14.00\" fill=\"#000000\">RDF70m &lt;= 12.216</text>\n<text text-anchor=\"middle\" x=\"2043\" y=\"-1465.8\" font-family=\"Helvetica,sans-Serif\" font-size=\"14.00\" fill=\"#000000\">gini = 0.389</text>\n<text text-anchor=\"middle\" x=\"2043\" y=\"-1450.8\" font-family=\"Helvetica,sans-Serif\" font-size=\"14.00\" fill=\"#000000\">samples = 136</text>\n<text text-anchor=\"middle\" x=\"2043\" y=\"-1435.8\" font-family=\"Helvetica,sans-Serif\" font-size=\"14.00\" fill=\"#000000\">value = [36, 100]</text>\n<text text-anchor=\"middle\" x=\"2043\" y=\"-1420.8\" font-family=\"Helvetica,sans-Serif\" font-size=\"14.00\" fill=\"#000000\">class = Inactive</text>\n</g>\n<!-- 44&#45;&gt;52 -->\n<g id=\"edge52\" class=\"edge\">\n<title>44&#45;&gt;52</title>\n<path fill=\"none\" stroke=\"#000000\" d=\"M1690.1297,-1555.6845C1762.121,-1535.0412 1881.0282,-1500.9449 1960.6647,-1478.1094\"/>\n<polygon fill=\"#000000\" stroke=\"#000000\" points=\"1962.0128,-1481.364 1970.6606,-1475.2431 1960.0833,-1474.6351 1962.0128,-1481.364\"/>\n</g>\n<!-- 46 -->\n<g id=\"node47\" class=\"node\">\n<title>46</title>\n<polygon fill=\"#7bbeee\" stroke=\"#000000\" points=\"1614,-1377 1478,-1377 1478,-1294 1614,-1294 1614,-1377\"/>\n<text text-anchor=\"middle\" x=\"1546\" y=\"-1361.8\" font-family=\"Helvetica,sans-Serif\" font-size=\"14.00\" fill=\"#000000\">RDF70m &lt;= 2.892</text>\n<text text-anchor=\"middle\" x=\"1546\" y=\"-1346.8\" font-family=\"Helvetica,sans-Serif\" font-size=\"14.00\" fill=\"#000000\">gini = 0.375</text>\n<text text-anchor=\"middle\" x=\"1546\" y=\"-1331.8\" font-family=\"Helvetica,sans-Serif\" font-size=\"14.00\" fill=\"#000000\">samples = 4</text>\n<text text-anchor=\"middle\" x=\"1546\" y=\"-1316.8\" font-family=\"Helvetica,sans-Serif\" font-size=\"14.00\" fill=\"#000000\">value = [1, 3]</text>\n<text text-anchor=\"middle\" x=\"1546\" y=\"-1301.8\" font-family=\"Helvetica,sans-Serif\" font-size=\"14.00\" fill=\"#000000\">class = Inactive</text>\n</g>\n<!-- 45&#45;&gt;46 -->\n<g id=\"edge46\" class=\"edge\">\n<title>45&#45;&gt;46</title>\n<path fill=\"none\" stroke=\"#000000\" d=\"M1599.3204,-1412.8796C1593.2385,-1404.0534 1586.7578,-1394.6485 1580.4859,-1385.5466\"/>\n<polygon fill=\"#000000\" stroke=\"#000000\" points=\"1583.3582,-1383.5465 1574.802,-1377.2981 1577.5941,-1387.5184 1583.3582,-1383.5465\"/>\n</g>\n<!-- 49 -->\n<g id=\"node50\" class=\"node\">\n<title>49</title>\n<polygon fill=\"#e88e4d\" stroke=\"#000000\" points=\"1789.5,-1377 1632.5,-1377 1632.5,-1294 1789.5,-1294 1789.5,-1377\"/>\n<text text-anchor=\"middle\" x=\"1711\" y=\"-1361.8\" font-family=\"Helvetica,sans-Serif\" font-size=\"14.00\" fill=\"#000000\">geomShape &lt;= 0.733</text>\n<text text-anchor=\"middle\" x=\"1711\" y=\"-1346.8\" font-family=\"Helvetica,sans-Serif\" font-size=\"14.00\" fill=\"#000000\">gini = 0.165</text>\n<text text-anchor=\"middle\" x=\"1711\" y=\"-1331.8\" font-family=\"Helvetica,sans-Serif\" font-size=\"14.00\" fill=\"#000000\">samples = 11</text>\n<text text-anchor=\"middle\" x=\"1711\" y=\"-1316.8\" font-family=\"Helvetica,sans-Serif\" font-size=\"14.00\" fill=\"#000000\">value = [10, 1]</text>\n<text text-anchor=\"middle\" x=\"1711\" y=\"-1301.8\" font-family=\"Helvetica,sans-Serif\" font-size=\"14.00\" fill=\"#000000\">class = Active</text>\n</g>\n<!-- 45&#45;&gt;49 -->\n<g id=\"edge49\" class=\"edge\">\n<title>45&#45;&gt;49</title>\n<path fill=\"none\" stroke=\"#000000\" d=\"M1657.0294,-1412.8796C1663.1855,-1404.0534 1669.7451,-1394.6485 1676.0936,-1385.5466\"/>\n<polygon fill=\"#000000\" stroke=\"#000000\" points=\"1678.9967,-1387.5024 1681.8467,-1377.2981 1673.2552,-1383.4978 1678.9967,-1387.5024\"/>\n</g>\n<!-- 47 -->\n<g id=\"node48\" class=\"node\">\n<title>47</title>\n<polygon fill=\"#e58139\" stroke=\"#000000\" points=\"1477.5,-1250.5 1372.5,-1250.5 1372.5,-1182.5 1477.5,-1182.5 1477.5,-1250.5\"/>\n<text text-anchor=\"middle\" x=\"1425\" y=\"-1235.3\" font-family=\"Helvetica,sans-Serif\" font-size=\"14.00\" fill=\"#000000\">gini = 0.0</text>\n<text text-anchor=\"middle\" x=\"1425\" y=\"-1220.3\" font-family=\"Helvetica,sans-Serif\" font-size=\"14.00\" fill=\"#000000\">samples = 1</text>\n<text text-anchor=\"middle\" x=\"1425\" y=\"-1205.3\" font-family=\"Helvetica,sans-Serif\" font-size=\"14.00\" fill=\"#000000\">value = [1, 0]</text>\n<text text-anchor=\"middle\" x=\"1425\" y=\"-1190.3\" font-family=\"Helvetica,sans-Serif\" font-size=\"14.00\" fill=\"#000000\">class = Active</text>\n</g>\n<!-- 46&#45;&gt;47 -->\n<g id=\"edge47\" class=\"edge\">\n<title>46&#45;&gt;47</title>\n<path fill=\"none\" stroke=\"#000000\" d=\"M1503.6801,-1293.8796C1491.8283,-1282.2237 1478.9505,-1269.5587 1467.1109,-1257.9148\"/>\n<polygon fill=\"#000000\" stroke=\"#000000\" points=\"1469.4756,-1255.3314 1459.8917,-1250.8149 1464.5673,-1260.3223 1469.4756,-1255.3314\"/>\n</g>\n<!-- 48 -->\n<g id=\"node49\" class=\"node\">\n<title>48</title>\n<polygon fill=\"#399de5\" stroke=\"#000000\" points=\"1612,-1250.5 1496,-1250.5 1496,-1182.5 1612,-1182.5 1612,-1250.5\"/>\n<text text-anchor=\"middle\" x=\"1554\" y=\"-1235.3\" font-family=\"Helvetica,sans-Serif\" font-size=\"14.00\" fill=\"#000000\">gini = 0.0</text>\n<text text-anchor=\"middle\" x=\"1554\" y=\"-1220.3\" font-family=\"Helvetica,sans-Serif\" font-size=\"14.00\" fill=\"#000000\">samples = 3</text>\n<text text-anchor=\"middle\" x=\"1554\" y=\"-1205.3\" font-family=\"Helvetica,sans-Serif\" font-size=\"14.00\" fill=\"#000000\">value = [0, 3]</text>\n<text text-anchor=\"middle\" x=\"1554\" y=\"-1190.3\" font-family=\"Helvetica,sans-Serif\" font-size=\"14.00\" fill=\"#000000\">class = Inactive</text>\n</g>\n<!-- 46&#45;&gt;48 -->\n<g id=\"edge48\" class=\"edge\">\n<title>46&#45;&gt;48</title>\n<path fill=\"none\" stroke=\"#000000\" d=\"M1548.798,-1293.8796C1549.5151,-1283.2134 1550.2889,-1271.7021 1551.015,-1260.9015\"/>\n<polygon fill=\"#000000\" stroke=\"#000000\" points=\"1554.5144,-1261.0272 1551.6931,-1250.8149 1547.5301,-1260.5576 1554.5144,-1261.0272\"/>\n</g>\n<!-- 50 -->\n<g id=\"node51\" class=\"node\">\n<title>50</title>\n<polygon fill=\"#399de5\" stroke=\"#000000\" points=\"1761,-1250.5 1645,-1250.5 1645,-1182.5 1761,-1182.5 1761,-1250.5\"/>\n<text text-anchor=\"middle\" x=\"1703\" y=\"-1235.3\" font-family=\"Helvetica,sans-Serif\" font-size=\"14.00\" fill=\"#000000\">gini = 0.0</text>\n<text text-anchor=\"middle\" x=\"1703\" y=\"-1220.3\" font-family=\"Helvetica,sans-Serif\" font-size=\"14.00\" fill=\"#000000\">samples = 1</text>\n<text text-anchor=\"middle\" x=\"1703\" y=\"-1205.3\" font-family=\"Helvetica,sans-Serif\" font-size=\"14.00\" fill=\"#000000\">value = [0, 1]</text>\n<text text-anchor=\"middle\" x=\"1703\" y=\"-1190.3\" font-family=\"Helvetica,sans-Serif\" font-size=\"14.00\" fill=\"#000000\">class = Inactive</text>\n</g>\n<!-- 49&#45;&gt;50 -->\n<g id=\"edge50\" class=\"edge\">\n<title>49&#45;&gt;50</title>\n<path fill=\"none\" stroke=\"#000000\" d=\"M1708.202,-1293.8796C1707.4849,-1283.2134 1706.7111,-1271.7021 1705.985,-1260.9015\"/>\n<polygon fill=\"#000000\" stroke=\"#000000\" points=\"1709.4699,-1260.5576 1705.3069,-1250.8149 1702.4856,-1261.0272 1709.4699,-1260.5576\"/>\n</g>\n<!-- 51 -->\n<g id=\"node52\" class=\"node\">\n<title>51</title>\n<polygon fill=\"#e58139\" stroke=\"#000000\" points=\"1886.5,-1250.5 1779.5,-1250.5 1779.5,-1182.5 1886.5,-1182.5 1886.5,-1250.5\"/>\n<text text-anchor=\"middle\" x=\"1833\" y=\"-1235.3\" font-family=\"Helvetica,sans-Serif\" font-size=\"14.00\" fill=\"#000000\">gini = 0.0</text>\n<text text-anchor=\"middle\" x=\"1833\" y=\"-1220.3\" font-family=\"Helvetica,sans-Serif\" font-size=\"14.00\" fill=\"#000000\">samples = 10</text>\n<text text-anchor=\"middle\" x=\"1833\" y=\"-1205.3\" font-family=\"Helvetica,sans-Serif\" font-size=\"14.00\" fill=\"#000000\">value = [10, 0]</text>\n<text text-anchor=\"middle\" x=\"1833\" y=\"-1190.3\" font-family=\"Helvetica,sans-Serif\" font-size=\"14.00\" fill=\"#000000\">class = Active</text>\n</g>\n<!-- 49&#45;&gt;51 -->\n<g id=\"edge51\" class=\"edge\">\n<title>49&#45;&gt;51</title>\n<path fill=\"none\" stroke=\"#000000\" d=\"M1753.6697,-1293.8796C1765.6194,-1282.2237 1778.6037,-1269.5587 1790.5411,-1257.9148\"/>\n<polygon fill=\"#000000\" stroke=\"#000000\" points=\"1793.1053,-1260.303 1797.82,-1250.8149 1788.2175,-1255.292 1793.1053,-1260.303\"/>\n</g>\n<!-- 53 -->\n<g id=\"node54\" class=\"node\">\n<title>53</title>\n<polygon fill=\"#79bded\" stroke=\"#000000\" points=\"2107,-1377 1979,-1377 1979,-1294 2107,-1294 2107,-1377\"/>\n<text text-anchor=\"middle\" x=\"2043\" y=\"-1361.8\" font-family=\"Helvetica,sans-Serif\" font-size=\"14.00\" fill=\"#000000\">GATS2i &lt;= 1.147</text>\n<text text-anchor=\"middle\" x=\"2043\" y=\"-1346.8\" font-family=\"Helvetica,sans-Serif\" font-size=\"14.00\" fill=\"#000000\">gini = 0.369</text>\n<text text-anchor=\"middle\" x=\"2043\" y=\"-1331.8\" font-family=\"Helvetica,sans-Serif\" font-size=\"14.00\" fill=\"#000000\">samples = 131</text>\n<text text-anchor=\"middle\" x=\"2043\" y=\"-1316.8\" font-family=\"Helvetica,sans-Serif\" font-size=\"14.00\" fill=\"#000000\">value = [32, 99]</text>\n<text text-anchor=\"middle\" x=\"2043\" y=\"-1301.8\" font-family=\"Helvetica,sans-Serif\" font-size=\"14.00\" fill=\"#000000\">class = Inactive</text>\n</g>\n<!-- 52&#45;&gt;53 -->\n<g id=\"edge53\" class=\"edge\">\n<title>52&#45;&gt;53</title>\n<path fill=\"none\" stroke=\"#000000\" d=\"M2043,-1412.8796C2043,-1404.6838 2043,-1395.9891 2043,-1387.5013\"/>\n<polygon fill=\"#000000\" stroke=\"#000000\" points=\"2046.5001,-1387.298 2043,-1377.2981 2039.5001,-1387.2981 2046.5001,-1387.298\"/>\n</g>\n<!-- 110 -->\n<g id=\"node111\" class=\"node\">\n<title>110</title>\n<polygon fill=\"#eca06a\" stroke=\"#000000\" points=\"2336.5,-1377 2193.5,-1377 2193.5,-1294 2336.5,-1294 2336.5,-1377\"/>\n<text text-anchor=\"middle\" x=\"2265\" y=\"-1361.8\" font-family=\"Helvetica,sans-Serif\" font-size=\"14.00\" fill=\"#000000\">nHeteroRing &lt;= 3.5</text>\n<text text-anchor=\"middle\" x=\"2265\" y=\"-1346.8\" font-family=\"Helvetica,sans-Serif\" font-size=\"14.00\" fill=\"#000000\">gini = 0.32</text>\n<text text-anchor=\"middle\" x=\"2265\" y=\"-1331.8\" font-family=\"Helvetica,sans-Serif\" font-size=\"14.00\" fill=\"#000000\">samples = 5</text>\n<text text-anchor=\"middle\" x=\"2265\" y=\"-1316.8\" font-family=\"Helvetica,sans-Serif\" font-size=\"14.00\" fill=\"#000000\">value = [4, 1]</text>\n<text text-anchor=\"middle\" x=\"2265\" y=\"-1301.8\" font-family=\"Helvetica,sans-Serif\" font-size=\"14.00\" fill=\"#000000\">class = Active</text>\n</g>\n<!-- 52&#45;&gt;110 -->\n<g id=\"edge110\" class=\"edge\">\n<title>52&#45;&gt;110</title>\n<path fill=\"none\" stroke=\"#000000\" d=\"M2115.077,-1415.8641C2137.2075,-1404.0014 2161.7014,-1390.8718 2184.3656,-1378.723\"/>\n<polygon fill=\"#000000\" stroke=\"#000000\" points=\"2186.1245,-1381.7513 2193.2846,-1373.942 2182.8174,-1375.5817 2186.1245,-1381.7513\"/>\n</g>\n<!-- 54 -->\n<g id=\"node55\" class=\"node\">\n<title>54</title>\n<polygon fill=\"#74baed\" stroke=\"#000000\" points=\"2034,-1258 1918,-1258 1918,-1175 2034,-1175 2034,-1258\"/>\n<text text-anchor=\"middle\" x=\"1976\" y=\"-1242.8\" font-family=\"Helvetica,sans-Serif\" font-size=\"14.00\" fill=\"#000000\">P1p &lt;= 0.856</text>\n<text text-anchor=\"middle\" x=\"1976\" y=\"-1227.8\" font-family=\"Helvetica,sans-Serif\" font-size=\"14.00\" fill=\"#000000\">gini = 0.352</text>\n<text text-anchor=\"middle\" x=\"1976\" y=\"-1212.8\" font-family=\"Helvetica,sans-Serif\" font-size=\"14.00\" fill=\"#000000\">samples = 127</text>\n<text text-anchor=\"middle\" x=\"1976\" y=\"-1197.8\" font-family=\"Helvetica,sans-Serif\" font-size=\"14.00\" fill=\"#000000\">value = [29, 98]</text>\n<text text-anchor=\"middle\" x=\"1976\" y=\"-1182.8\" font-family=\"Helvetica,sans-Serif\" font-size=\"14.00\" fill=\"#000000\">class = Inactive</text>\n</g>\n<!-- 53&#45;&gt;54 -->\n<g id=\"edge54\" class=\"edge\">\n<title>53&#45;&gt;54</title>\n<path fill=\"none\" stroke=\"#000000\" d=\"M2019.5667,-1293.8796C2014.6987,-1285.2335 2009.5181,-1276.0322 2004.4914,-1267.1042\"/>\n<polygon fill=\"#000000\" stroke=\"#000000\" points=\"2007.4893,-1265.2947 1999.5334,-1258.2981 2001.3897,-1268.729 2007.4893,-1265.2947\"/>\n</g>\n<!-- 107 -->\n<g id=\"node108\" class=\"node\">\n<title>107</title>\n<polygon fill=\"#eeab7b\" stroke=\"#000000\" points=\"2194.5,-1258 2057.5,-1258 2057.5,-1175 2194.5,-1175 2194.5,-1258\"/>\n<text text-anchor=\"middle\" x=\"2126\" y=\"-1242.8\" font-family=\"Helvetica,sans-Serif\" font-size=\"14.00\" fill=\"#000000\">GATS4m &lt;= 0.964</text>\n<text text-anchor=\"middle\" x=\"2126\" y=\"-1227.8\" font-family=\"Helvetica,sans-Serif\" font-size=\"14.00\" fill=\"#000000\">gini = 0.375</text>\n<text text-anchor=\"middle\" x=\"2126\" y=\"-1212.8\" font-family=\"Helvetica,sans-Serif\" font-size=\"14.00\" fill=\"#000000\">samples = 4</text>\n<text text-anchor=\"middle\" x=\"2126\" y=\"-1197.8\" font-family=\"Helvetica,sans-Serif\" font-size=\"14.00\" fill=\"#000000\">value = [3, 1]</text>\n<text text-anchor=\"middle\" x=\"2126\" y=\"-1182.8\" font-family=\"Helvetica,sans-Serif\" font-size=\"14.00\" fill=\"#000000\">class = Active</text>\n</g>\n<!-- 53&#45;&gt;107 -->\n<g id=\"edge107\" class=\"edge\">\n<title>53&#45;&gt;107</title>\n<path fill=\"none\" stroke=\"#000000\" d=\"M2072.0294,-1293.8796C2078.1855,-1285.0534 2084.7451,-1275.6485 2091.0936,-1266.5466\"/>\n<polygon fill=\"#000000\" stroke=\"#000000\" points=\"2093.9967,-1268.5024 2096.8467,-1258.2981 2088.2552,-1264.4978 2093.9967,-1268.5024\"/>\n</g>\n<!-- 55 -->\n<g id=\"node56\" class=\"node\">\n<title>55</title>\n<polygon fill=\"#97cbf1\" stroke=\"#000000\" points=\"1879,-1139 1763,-1139 1763,-1056 1879,-1056 1879,-1139\"/>\n<text text-anchor=\"middle\" x=\"1821\" y=\"-1123.8\" font-family=\"Helvetica,sans-Serif\" font-size=\"14.00\" fill=\"#000000\">E3s &lt;= 0.404</text>\n<text text-anchor=\"middle\" x=\"1821\" y=\"-1108.8\" font-family=\"Helvetica,sans-Serif\" font-size=\"14.00\" fill=\"#000000\">gini = 0.436</text>\n<text text-anchor=\"middle\" x=\"1821\" y=\"-1093.8\" font-family=\"Helvetica,sans-Serif\" font-size=\"14.00\" fill=\"#000000\">samples = 56</text>\n<text text-anchor=\"middle\" x=\"1821\" y=\"-1078.8\" font-family=\"Helvetica,sans-Serif\" font-size=\"14.00\" fill=\"#000000\">value = [18, 38]</text>\n<text text-anchor=\"middle\" x=\"1821\" y=\"-1063.8\" font-family=\"Helvetica,sans-Serif\" font-size=\"14.00\" fill=\"#000000\">class = Inactive</text>\n</g>\n<!-- 54&#45;&gt;55 -->\n<g id=\"edge55\" class=\"edge\">\n<title>54&#45;&gt;55</title>\n<path fill=\"none\" stroke=\"#000000\" d=\"M1921.7885,-1174.8796C1909.3994,-1165.368 1896.1351,-1155.1843 1883.4324,-1145.432\"/>\n<polygon fill=\"#000000\" stroke=\"#000000\" points=\"1885.2442,-1142.4105 1875.1809,-1139.0969 1880.9814,-1147.9628 1885.2442,-1142.4105\"/>\n</g>\n<!-- 78 -->\n<g id=\"node79\" class=\"node\">\n<title>78</title>\n<polygon fill=\"#5dafea\" stroke=\"#000000\" points=\"2054.5,-1139 1897.5,-1139 1897.5,-1056 2054.5,-1056 2054.5,-1139\"/>\n<text text-anchor=\"middle\" x=\"1976\" y=\"-1123.8\" font-family=\"Helvetica,sans-Serif\" font-size=\"14.00\" fill=\"#000000\">geomShape &lt;= 0.789</text>\n<text text-anchor=\"middle\" x=\"1976\" y=\"-1108.8\" font-family=\"Helvetica,sans-Serif\" font-size=\"14.00\" fill=\"#000000\">gini = 0.262</text>\n<text text-anchor=\"middle\" x=\"1976\" y=\"-1093.8\" font-family=\"Helvetica,sans-Serif\" font-size=\"14.00\" fill=\"#000000\">samples = 71</text>\n<text text-anchor=\"middle\" x=\"1976\" y=\"-1078.8\" font-family=\"Helvetica,sans-Serif\" font-size=\"14.00\" fill=\"#000000\">value = [11, 60]</text>\n<text text-anchor=\"middle\" x=\"1976\" y=\"-1063.8\" font-family=\"Helvetica,sans-Serif\" font-size=\"14.00\" fill=\"#000000\">class = Inactive</text>\n</g>\n<!-- 54&#45;&gt;78 -->\n<g id=\"edge78\" class=\"edge\">\n<title>54&#45;&gt;78</title>\n<path fill=\"none\" stroke=\"#000000\" d=\"M1976,-1174.8796C1976,-1166.6838 1976,-1157.9891 1976,-1149.5013\"/>\n<polygon fill=\"#000000\" stroke=\"#000000\" points=\"1979.5001,-1149.298 1976,-1139.2981 1972.5001,-1149.2981 1979.5001,-1149.298\"/>\n</g>\n<!-- 56 -->\n<g id=\"node57\" class=\"node\">\n<title>56</title>\n<polygon fill=\"#7dbfee\" stroke=\"#000000\" points=\"1766,-1020 1634,-1020 1634,-937 1766,-937 1766,-1020\"/>\n<text text-anchor=\"middle\" x=\"1700\" y=\"-1004.8\" font-family=\"Helvetica,sans-Serif\" font-size=\"14.00\" fill=\"#000000\">ATSC5p &lt;= 0.791</text>\n<text text-anchor=\"middle\" x=\"1700\" y=\"-989.8\" font-family=\"Helvetica,sans-Serif\" font-size=\"14.00\" fill=\"#000000\">gini = 0.38</text>\n<text text-anchor=\"middle\" x=\"1700\" y=\"-974.8\" font-family=\"Helvetica,sans-Serif\" font-size=\"14.00\" fill=\"#000000\">samples = 51</text>\n<text text-anchor=\"middle\" x=\"1700\" y=\"-959.8\" font-family=\"Helvetica,sans-Serif\" font-size=\"14.00\" fill=\"#000000\">value = [13, 38]</text>\n<text text-anchor=\"middle\" x=\"1700\" y=\"-944.8\" font-family=\"Helvetica,sans-Serif\" font-size=\"14.00\" fill=\"#000000\">class = Inactive</text>\n</g>\n<!-- 55&#45;&gt;56 -->\n<g id=\"edge56\" class=\"edge\">\n<title>55&#45;&gt;56</title>\n<path fill=\"none\" stroke=\"#000000\" d=\"M1778.6801,-1055.8796C1769.3392,-1046.6931 1759.361,-1036.8798 1749.756,-1027.4336\"/>\n<polygon fill=\"#000000\" stroke=\"#000000\" points=\"1752.0845,-1024.8146 1742.5006,-1020.2981 1747.1762,-1029.8054 1752.0845,-1024.8146\"/>\n</g>\n<!-- 77 -->\n<g id=\"node78\" class=\"node\">\n<title>77</title>\n<polygon fill=\"#e58139\" stroke=\"#000000\" points=\"1889.5,-1012.5 1784.5,-1012.5 1784.5,-944.5 1889.5,-944.5 1889.5,-1012.5\"/>\n<text text-anchor=\"middle\" x=\"1837\" y=\"-997.3\" font-family=\"Helvetica,sans-Serif\" font-size=\"14.00\" fill=\"#000000\">gini = 0.0</text>\n<text text-anchor=\"middle\" x=\"1837\" y=\"-982.3\" font-family=\"Helvetica,sans-Serif\" font-size=\"14.00\" fill=\"#000000\">samples = 5</text>\n<text text-anchor=\"middle\" x=\"1837\" y=\"-967.3\" font-family=\"Helvetica,sans-Serif\" font-size=\"14.00\" fill=\"#000000\">value = [5, 0]</text>\n<text text-anchor=\"middle\" x=\"1837\" y=\"-952.3\" font-family=\"Helvetica,sans-Serif\" font-size=\"14.00\" fill=\"#000000\">class = Active</text>\n</g>\n<!-- 55&#45;&gt;77 -->\n<g id=\"edge77\" class=\"edge\">\n<title>55&#45;&gt;77</title>\n<path fill=\"none\" stroke=\"#000000\" d=\"M1826.596,-1055.8796C1828.0301,-1045.2134 1829.5779,-1033.7021 1831.03,-1022.9015\"/>\n<polygon fill=\"#000000\" stroke=\"#000000\" points=\"1834.5224,-1023.1922 1832.3862,-1012.8149 1827.5848,-1022.2593 1834.5224,-1023.1922\"/>\n</g>\n<!-- 57 -->\n<g id=\"node58\" class=\"node\">\n<title>57</title>\n<polygon fill=\"#ebf5fc\" stroke=\"#000000\" points=\"1721,-901 1593,-901 1593,-818 1721,-818 1721,-901\"/>\n<text text-anchor=\"middle\" x=\"1657\" y=\"-885.8\" font-family=\"Helvetica,sans-Serif\" font-size=\"14.00\" fill=\"#000000\">GATS2i &lt;= 0.994</text>\n<text text-anchor=\"middle\" x=\"1657\" y=\"-870.8\" font-family=\"Helvetica,sans-Serif\" font-size=\"14.00\" fill=\"#000000\">gini = 0.499</text>\n<text text-anchor=\"middle\" x=\"1657\" y=\"-855.8\" font-family=\"Helvetica,sans-Serif\" font-size=\"14.00\" fill=\"#000000\">samples = 19</text>\n<text text-anchor=\"middle\" x=\"1657\" y=\"-840.8\" font-family=\"Helvetica,sans-Serif\" font-size=\"14.00\" fill=\"#000000\">value = [9, 10]</text>\n<text text-anchor=\"middle\" x=\"1657\" y=\"-825.8\" font-family=\"Helvetica,sans-Serif\" font-size=\"14.00\" fill=\"#000000\">class = Inactive</text>\n</g>\n<!-- 56&#45;&gt;57 -->\n<g id=\"edge57\" class=\"edge\">\n<title>56&#45;&gt;57</title>\n<path fill=\"none\" stroke=\"#000000\" d=\"M1684.9607,-936.8796C1681.9341,-928.5037 1678.7192,-919.6067 1675.5883,-910.942\"/>\n<polygon fill=\"#000000\" stroke=\"#000000\" points=\"1678.7937,-909.5135 1672.1035,-901.2981 1672.2103,-911.8924 1678.7937,-909.5135\"/>\n</g>\n<!-- 68 -->\n<g id=\"node69\" class=\"node\">\n<title>68</title>\n<polygon fill=\"#55abe9\" stroke=\"#000000\" points=\"1871.5,-901 1752.5,-901 1752.5,-818 1871.5,-818 1871.5,-901\"/>\n<text text-anchor=\"middle\" x=\"1812\" y=\"-885.8\" font-family=\"Helvetica,sans-Serif\" font-size=\"14.00\" fill=\"#000000\">GATS2i &lt;= 1.01</text>\n<text text-anchor=\"middle\" x=\"1812\" y=\"-870.8\" font-family=\"Helvetica,sans-Serif\" font-size=\"14.00\" fill=\"#000000\">gini = 0.219</text>\n<text text-anchor=\"middle\" x=\"1812\" y=\"-855.8\" font-family=\"Helvetica,sans-Serif\" font-size=\"14.00\" fill=\"#000000\">samples = 32</text>\n<text text-anchor=\"middle\" x=\"1812\" y=\"-840.8\" font-family=\"Helvetica,sans-Serif\" font-size=\"14.00\" fill=\"#000000\">value = [4, 28]</text>\n<text text-anchor=\"middle\" x=\"1812\" y=\"-825.8\" font-family=\"Helvetica,sans-Serif\" font-size=\"14.00\" fill=\"#000000\">class = Inactive</text>\n</g>\n<!-- 56&#45;&gt;68 -->\n<g id=\"edge68\" class=\"edge\">\n<title>56&#45;&gt;68</title>\n<path fill=\"none\" stroke=\"#000000\" d=\"M1739.1722,-936.8796C1747.7335,-927.7832 1756.8732,-918.0722 1765.6832,-908.7116\"/>\n<polygon fill=\"#000000\" stroke=\"#000000\" points=\"1768.3557,-910.9789 1772.6606,-901.2981 1763.2583,-906.1813 1768.3557,-910.9789\"/>\n</g>\n<!-- 58 -->\n<g id=\"node59\" class=\"node\">\n<title>58</title>\n<polygon fill=\"#e9965a\" stroke=\"#000000\" points=\"1560,-782 1424,-782 1424,-699 1560,-699 1560,-782\"/>\n<text text-anchor=\"middle\" x=\"1492\" y=\"-766.8\" font-family=\"Helvetica,sans-Serif\" font-size=\"14.00\" fill=\"#000000\">RDF70m &lt;= 8.067</text>\n<text text-anchor=\"middle\" x=\"1492\" y=\"-751.8\" font-family=\"Helvetica,sans-Serif\" font-size=\"14.00\" fill=\"#000000\">gini = 0.245</text>\n<text text-anchor=\"middle\" x=\"1492\" y=\"-736.8\" font-family=\"Helvetica,sans-Serif\" font-size=\"14.00\" fill=\"#000000\">samples = 7</text>\n<text text-anchor=\"middle\" x=\"1492\" y=\"-721.8\" font-family=\"Helvetica,sans-Serif\" font-size=\"14.00\" fill=\"#000000\">value = [6, 1]</text>\n<text text-anchor=\"middle\" x=\"1492\" y=\"-706.8\" font-family=\"Helvetica,sans-Serif\" font-size=\"14.00\" fill=\"#000000\">class = Active</text>\n</g>\n<!-- 57&#45;&gt;58 -->\n<g id=\"edge58\" class=\"edge\">\n<title>57&#45;&gt;58</title>\n<path fill=\"none\" stroke=\"#000000\" d=\"M1599.291,-817.8796C1585.977,-808.2774 1571.7134,-797.9903 1558.0741,-788.1534\"/>\n<polygon fill=\"#000000\" stroke=\"#000000\" points=\"1559.8345,-785.1077 1549.6764,-782.0969 1555.7398,-790.7852 1559.8345,-785.1077\"/>\n</g>\n<!-- 63 -->\n<g id=\"node64\" class=\"node\">\n<title>63</title>\n<polygon fill=\"#7bbeee\" stroke=\"#000000\" points=\"1735.5,-782 1578.5,-782 1578.5,-699 1735.5,-699 1735.5,-782\"/>\n<text text-anchor=\"middle\" x=\"1657\" y=\"-766.8\" font-family=\"Helvetica,sans-Serif\" font-size=\"14.00\" fill=\"#000000\">geomShape &lt;= 0.985</text>\n<text text-anchor=\"middle\" x=\"1657\" y=\"-751.8\" font-family=\"Helvetica,sans-Serif\" font-size=\"14.00\" fill=\"#000000\">gini = 0.375</text>\n<text text-anchor=\"middle\" x=\"1657\" y=\"-736.8\" font-family=\"Helvetica,sans-Serif\" font-size=\"14.00\" fill=\"#000000\">samples = 12</text>\n<text text-anchor=\"middle\" x=\"1657\" y=\"-721.8\" font-family=\"Helvetica,sans-Serif\" font-size=\"14.00\" fill=\"#000000\">value = [3, 9]</text>\n<text text-anchor=\"middle\" x=\"1657\" y=\"-706.8\" font-family=\"Helvetica,sans-Serif\" font-size=\"14.00\" fill=\"#000000\">class = Inactive</text>\n</g>\n<!-- 57&#45;&gt;63 -->\n<g id=\"edge63\" class=\"edge\">\n<title>57&#45;&gt;63</title>\n<path fill=\"none\" stroke=\"#000000\" d=\"M1657,-817.8796C1657,-809.6838 1657,-800.9891 1657,-792.5013\"/>\n<polygon fill=\"#000000\" stroke=\"#000000\" points=\"1660.5001,-792.298 1657,-782.2981 1653.5001,-792.2981 1660.5001,-792.298\"/>\n</g>\n<!-- 59 -->\n<g id=\"node60\" class=\"node\">\n<title>59</title>\n<polygon fill=\"#e58139\" stroke=\"#000000\" points=\"1405.5,-655.5 1300.5,-655.5 1300.5,-587.5 1405.5,-587.5 1405.5,-655.5\"/>\n<text text-anchor=\"middle\" x=\"1353\" y=\"-640.3\" font-family=\"Helvetica,sans-Serif\" font-size=\"14.00\" fill=\"#000000\">gini = 0.0</text>\n<text text-anchor=\"middle\" x=\"1353\" y=\"-625.3\" font-family=\"Helvetica,sans-Serif\" font-size=\"14.00\" fill=\"#000000\">samples = 5</text>\n<text text-anchor=\"middle\" x=\"1353\" y=\"-610.3\" font-family=\"Helvetica,sans-Serif\" font-size=\"14.00\" fill=\"#000000\">value = [5, 0]</text>\n<text text-anchor=\"middle\" x=\"1353\" y=\"-595.3\" font-family=\"Helvetica,sans-Serif\" font-size=\"14.00\" fill=\"#000000\">class = Active</text>\n</g>\n<!-- 58&#45;&gt;59 -->\n<g id=\"edge59\" class=\"edge\">\n<title>58&#45;&gt;59</title>\n<path fill=\"none\" stroke=\"#000000\" d=\"M1443.3845,-698.8796C1429.6413,-687.1138 1414.6969,-674.3197 1400.9907,-662.5855\"/>\n<polygon fill=\"#000000\" stroke=\"#000000\" points=\"1402.9548,-659.6596 1393.0822,-655.8149 1398.4024,-664.9771 1402.9548,-659.6596\"/>\n</g>\n<!-- 60 -->\n<g id=\"node61\" class=\"node\">\n<title>60</title>\n<polygon fill=\"#ffffff\" stroke=\"#000000\" points=\"1560.5,-663 1423.5,-663 1423.5,-580 1560.5,-580 1560.5,-663\"/>\n<text text-anchor=\"middle\" x=\"1492\" y=\"-647.8\" font-family=\"Helvetica,sans-Serif\" font-size=\"14.00\" fill=\"#000000\">GATS4m &lt;= 0.886</text>\n<text text-anchor=\"middle\" x=\"1492\" y=\"-632.8\" font-family=\"Helvetica,sans-Serif\" font-size=\"14.00\" fill=\"#000000\">gini = 0.5</text>\n<text text-anchor=\"middle\" x=\"1492\" y=\"-617.8\" font-family=\"Helvetica,sans-Serif\" font-size=\"14.00\" fill=\"#000000\">samples = 2</text>\n<text text-anchor=\"middle\" x=\"1492\" y=\"-602.8\" font-family=\"Helvetica,sans-Serif\" font-size=\"14.00\" fill=\"#000000\">value = [1, 1]</text>\n<text text-anchor=\"middle\" x=\"1492\" y=\"-587.8\" font-family=\"Helvetica,sans-Serif\" font-size=\"14.00\" fill=\"#000000\">class = Active</text>\n</g>\n<!-- 58&#45;&gt;60 -->\n<g id=\"edge60\" class=\"edge\">\n<title>58&#45;&gt;60</title>\n<path fill=\"none\" stroke=\"#000000\" d=\"M1492,-698.8796C1492,-690.6838 1492,-681.9891 1492,-673.5013\"/>\n<polygon fill=\"#000000\" stroke=\"#000000\" points=\"1495.5001,-673.298 1492,-663.2981 1488.5001,-673.2981 1495.5001,-673.298\"/>\n</g>\n<!-- 61 -->\n<g id=\"node62\" class=\"node\">\n<title>61</title>\n<polygon fill=\"#e58139\" stroke=\"#000000\" points=\"1415.5,-536.5 1310.5,-536.5 1310.5,-468.5 1415.5,-468.5 1415.5,-536.5\"/>\n<text text-anchor=\"middle\" x=\"1363\" y=\"-521.3\" font-family=\"Helvetica,sans-Serif\" font-size=\"14.00\" fill=\"#000000\">gini = 0.0</text>\n<text text-anchor=\"middle\" x=\"1363\" y=\"-506.3\" font-family=\"Helvetica,sans-Serif\" font-size=\"14.00\" fill=\"#000000\">samples = 1</text>\n<text text-anchor=\"middle\" x=\"1363\" y=\"-491.3\" font-family=\"Helvetica,sans-Serif\" font-size=\"14.00\" fill=\"#000000\">value = [1, 0]</text>\n<text text-anchor=\"middle\" x=\"1363\" y=\"-476.3\" font-family=\"Helvetica,sans-Serif\" font-size=\"14.00\" fill=\"#000000\">class = Active</text>\n</g>\n<!-- 60&#45;&gt;61 -->\n<g id=\"edge61\" class=\"edge\">\n<title>60&#45;&gt;61</title>\n<path fill=\"none\" stroke=\"#000000\" d=\"M1446.8821,-579.8796C1434.2467,-568.2237 1420.5174,-555.5587 1407.895,-543.9148\"/>\n<polygon fill=\"#000000\" stroke=\"#000000\" points=\"1409.922,-541.0228 1400.1985,-536.8149 1405.1756,-546.168 1409.922,-541.0228\"/>\n</g>\n<!-- 62 -->\n<g id=\"node63\" class=\"node\">\n<title>62</title>\n<polygon fill=\"#399de5\" stroke=\"#000000\" points=\"1550,-536.5 1434,-536.5 1434,-468.5 1550,-468.5 1550,-536.5\"/>\n<text text-anchor=\"middle\" x=\"1492\" y=\"-521.3\" font-family=\"Helvetica,sans-Serif\" font-size=\"14.00\" fill=\"#000000\">gini = 0.0</text>\n<text text-anchor=\"middle\" x=\"1492\" y=\"-506.3\" font-family=\"Helvetica,sans-Serif\" font-size=\"14.00\" fill=\"#000000\">samples = 1</text>\n<text text-anchor=\"middle\" x=\"1492\" y=\"-491.3\" font-family=\"Helvetica,sans-Serif\" font-size=\"14.00\" fill=\"#000000\">value = [0, 1]</text>\n<text text-anchor=\"middle\" x=\"1492\" y=\"-476.3\" font-family=\"Helvetica,sans-Serif\" font-size=\"14.00\" fill=\"#000000\">class = Inactive</text>\n</g>\n<!-- 60&#45;&gt;62 -->\n<g id=\"edge62\" class=\"edge\">\n<title>60&#45;&gt;62</title>\n<path fill=\"none\" stroke=\"#000000\" d=\"M1492,-579.8796C1492,-569.2134 1492,-557.7021 1492,-546.9015\"/>\n<polygon fill=\"#000000\" stroke=\"#000000\" points=\"1495.5001,-546.8149 1492,-536.8149 1488.5001,-546.815 1495.5001,-546.8149\"/>\n</g>\n<!-- 64 -->\n<g id=\"node65\" class=\"node\">\n<title>64</title>\n<polygon fill=\"#4fa8e8\" stroke=\"#000000\" points=\"1724.5,-663 1581.5,-663 1581.5,-580 1724.5,-580 1724.5,-663\"/>\n<text text-anchor=\"middle\" x=\"1653\" y=\"-647.8\" font-family=\"Helvetica,sans-Serif\" font-size=\"14.00\" fill=\"#000000\">AATS5i &lt;= 160.079</text>\n<text text-anchor=\"middle\" x=\"1653\" y=\"-632.8\" font-family=\"Helvetica,sans-Serif\" font-size=\"14.00\" fill=\"#000000\">gini = 0.18</text>\n<text text-anchor=\"middle\" x=\"1653\" y=\"-617.8\" font-family=\"Helvetica,sans-Serif\" font-size=\"14.00\" fill=\"#000000\">samples = 10</text>\n<text text-anchor=\"middle\" x=\"1653\" y=\"-602.8\" font-family=\"Helvetica,sans-Serif\" font-size=\"14.00\" fill=\"#000000\">value = [1, 9]</text>\n<text text-anchor=\"middle\" x=\"1653\" y=\"-587.8\" font-family=\"Helvetica,sans-Serif\" font-size=\"14.00\" fill=\"#000000\">class = Inactive</text>\n</g>\n<!-- 63&#45;&gt;64 -->\n<g id=\"edge64\" class=\"edge\">\n<title>63&#45;&gt;64</title>\n<path fill=\"none\" stroke=\"#000000\" d=\"M1655.601,-698.8796C1655.3255,-690.6838 1655.0332,-681.9891 1654.7479,-673.5013\"/>\n<polygon fill=\"#000000\" stroke=\"#000000\" points=\"1658.239,-673.1748 1654.405,-663.2981 1651.243,-673.41 1658.239,-673.1748\"/>\n</g>\n<!-- 67 -->\n<g id=\"node68\" class=\"node\">\n<title>67</title>\n<polygon fill=\"#e58139\" stroke=\"#000000\" points=\"1847.5,-655.5 1742.5,-655.5 1742.5,-587.5 1847.5,-587.5 1847.5,-655.5\"/>\n<text text-anchor=\"middle\" x=\"1795\" y=\"-640.3\" font-family=\"Helvetica,sans-Serif\" font-size=\"14.00\" fill=\"#000000\">gini = 0.0</text>\n<text text-anchor=\"middle\" x=\"1795\" y=\"-625.3\" font-family=\"Helvetica,sans-Serif\" font-size=\"14.00\" fill=\"#000000\">samples = 2</text>\n<text text-anchor=\"middle\" x=\"1795\" y=\"-610.3\" font-family=\"Helvetica,sans-Serif\" font-size=\"14.00\" fill=\"#000000\">value = [2, 0]</text>\n<text text-anchor=\"middle\" x=\"1795\" y=\"-595.3\" font-family=\"Helvetica,sans-Serif\" font-size=\"14.00\" fill=\"#000000\">class = Active</text>\n</g>\n<!-- 63&#45;&gt;67 -->\n<g id=\"edge67\" class=\"edge\">\n<title>63&#45;&gt;67</title>\n<path fill=\"none\" stroke=\"#000000\" d=\"M1705.2657,-698.8796C1718.9101,-687.1138 1733.7469,-674.3197 1747.3546,-662.5855\"/>\n<polygon fill=\"#000000\" stroke=\"#000000\" points=\"1749.9187,-664.9961 1755.2062,-655.8149 1745.3473,-659.6948 1749.9187,-664.9961\"/>\n</g>\n<!-- 65 -->\n<g id=\"node66\" class=\"node\">\n<title>65</title>\n<polygon fill=\"#399de5\" stroke=\"#000000\" points=\"1684,-536.5 1568,-536.5 1568,-468.5 1684,-468.5 1684,-536.5\"/>\n<text text-anchor=\"middle\" x=\"1626\" y=\"-521.3\" font-family=\"Helvetica,sans-Serif\" font-size=\"14.00\" fill=\"#000000\">gini = 0.0</text>\n<text text-anchor=\"middle\" x=\"1626\" y=\"-506.3\" font-family=\"Helvetica,sans-Serif\" font-size=\"14.00\" fill=\"#000000\">samples = 9</text>\n<text text-anchor=\"middle\" x=\"1626\" y=\"-491.3\" font-family=\"Helvetica,sans-Serif\" font-size=\"14.00\" fill=\"#000000\">value = [0, 9]</text>\n<text text-anchor=\"middle\" x=\"1626\" y=\"-476.3\" font-family=\"Helvetica,sans-Serif\" font-size=\"14.00\" fill=\"#000000\">class = Inactive</text>\n</g>\n<!-- 64&#45;&gt;65 -->\n<g id=\"edge65\" class=\"edge\">\n<title>64&#45;&gt;65</title>\n<path fill=\"none\" stroke=\"#000000\" d=\"M1643.5567,-579.8796C1641.1117,-569.1034 1638.471,-557.4647 1635.9986,-546.5677\"/>\n<polygon fill=\"#000000\" stroke=\"#000000\" points=\"1639.4117,-545.7926 1633.7857,-536.8149 1632.5852,-547.3415 1639.4117,-545.7926\"/>\n</g>\n<!-- 66 -->\n<g id=\"node67\" class=\"node\">\n<title>66</title>\n<polygon fill=\"#e58139\" stroke=\"#000000\" points=\"1807.5,-536.5 1702.5,-536.5 1702.5,-468.5 1807.5,-468.5 1807.5,-536.5\"/>\n<text text-anchor=\"middle\" x=\"1755\" y=\"-521.3\" font-family=\"Helvetica,sans-Serif\" font-size=\"14.00\" fill=\"#000000\">gini = 0.0</text>\n<text text-anchor=\"middle\" x=\"1755\" y=\"-506.3\" font-family=\"Helvetica,sans-Serif\" font-size=\"14.00\" fill=\"#000000\">samples = 1</text>\n<text text-anchor=\"middle\" x=\"1755\" y=\"-491.3\" font-family=\"Helvetica,sans-Serif\" font-size=\"14.00\" fill=\"#000000\">value = [1, 0]</text>\n<text text-anchor=\"middle\" x=\"1755\" y=\"-476.3\" font-family=\"Helvetica,sans-Serif\" font-size=\"14.00\" fill=\"#000000\">class = Active</text>\n</g>\n<!-- 64&#45;&gt;66 -->\n<g id=\"edge66\" class=\"edge\">\n<title>64&#45;&gt;66</title>\n<path fill=\"none\" stroke=\"#000000\" d=\"M1688.6747,-579.8796C1698.4769,-568.4436 1709.1118,-556.0363 1718.9357,-544.575\"/>\n<polygon fill=\"#000000\" stroke=\"#000000\" points=\"1721.7367,-546.6853 1725.5872,-536.8149 1716.4218,-542.1297 1721.7367,-546.6853\"/>\n</g>\n<!-- 69 -->\n<g id=\"node70\" class=\"node\">\n<title>69</title>\n<polygon fill=\"#399de5\" stroke=\"#000000\" points=\"1870,-774.5 1754,-774.5 1754,-706.5 1870,-706.5 1870,-774.5\"/>\n<text text-anchor=\"middle\" x=\"1812\" y=\"-759.3\" font-family=\"Helvetica,sans-Serif\" font-size=\"14.00\" fill=\"#000000\">gini = 0.0</text>\n<text text-anchor=\"middle\" x=\"1812\" y=\"-744.3\" font-family=\"Helvetica,sans-Serif\" font-size=\"14.00\" fill=\"#000000\">samples = 22</text>\n<text text-anchor=\"middle\" x=\"1812\" y=\"-729.3\" font-family=\"Helvetica,sans-Serif\" font-size=\"14.00\" fill=\"#000000\">value = [0, 22]</text>\n<text text-anchor=\"middle\" x=\"1812\" y=\"-714.3\" font-family=\"Helvetica,sans-Serif\" font-size=\"14.00\" fill=\"#000000\">class = Inactive</text>\n</g>\n<!-- 68&#45;&gt;69 -->\n<g id=\"edge69\" class=\"edge\">\n<title>68&#45;&gt;69</title>\n<path fill=\"none\" stroke=\"#000000\" d=\"M1812,-817.8796C1812,-807.2134 1812,-795.7021 1812,-784.9015\"/>\n<polygon fill=\"#000000\" stroke=\"#000000\" points=\"1815.5001,-784.8149 1812,-774.8149 1808.5001,-784.815 1815.5001,-784.8149\"/>\n</g>\n<!-- 70 -->\n<g id=\"node71\" class=\"node\">\n<title>70</title>\n<polygon fill=\"#bddef6\" stroke=\"#000000\" points=\"2037.5,-782 1888.5,-782 1888.5,-699 2037.5,-699 2037.5,-782\"/>\n<text text-anchor=\"middle\" x=\"1963\" y=\"-766.8\" font-family=\"Helvetica,sans-Serif\" font-size=\"14.00\" fill=\"#000000\">geomShape &lt;= 0.97</text>\n<text text-anchor=\"middle\" x=\"1963\" y=\"-751.8\" font-family=\"Helvetica,sans-Serif\" font-size=\"14.00\" fill=\"#000000\">gini = 0.48</text>\n<text text-anchor=\"middle\" x=\"1963\" y=\"-736.8\" font-family=\"Helvetica,sans-Serif\" font-size=\"14.00\" fill=\"#000000\">samples = 10</text>\n<text text-anchor=\"middle\" x=\"1963\" y=\"-721.8\" font-family=\"Helvetica,sans-Serif\" font-size=\"14.00\" fill=\"#000000\">value = [4, 6]</text>\n<text text-anchor=\"middle\" x=\"1963\" y=\"-706.8\" font-family=\"Helvetica,sans-Serif\" font-size=\"14.00\" fill=\"#000000\">class = Inactive</text>\n</g>\n<!-- 68&#45;&gt;70 -->\n<g id=\"edge70\" class=\"edge\">\n<title>68&#45;&gt;70</title>\n<path fill=\"none\" stroke=\"#000000\" d=\"M1864.8125,-817.8796C1876.8818,-808.368 1889.8039,-798.1843 1902.1788,-788.432\"/>\n<polygon fill=\"#000000\" stroke=\"#000000\" points=\"1904.5296,-791.0356 1910.2173,-782.0969 1900.1968,-785.5377 1904.5296,-791.0356\"/>\n</g>\n<!-- 71 -->\n<g id=\"node72\" class=\"node\">\n<title>71</title>\n<polygon fill=\"#7bbeee\" stroke=\"#000000\" points=\"2019.5,-663 1876.5,-663 1876.5,-580 2019.5,-580 2019.5,-663\"/>\n<text text-anchor=\"middle\" x=\"1948\" y=\"-647.8\" font-family=\"Helvetica,sans-Serif\" font-size=\"14.00\" fill=\"#000000\">AATS5i &lt;= 157.522</text>\n<text text-anchor=\"middle\" x=\"1948\" y=\"-632.8\" font-family=\"Helvetica,sans-Serif\" font-size=\"14.00\" fill=\"#000000\">gini = 0.375</text>\n<text text-anchor=\"middle\" x=\"1948\" y=\"-617.8\" font-family=\"Helvetica,sans-Serif\" font-size=\"14.00\" fill=\"#000000\">samples = 8</text>\n<text text-anchor=\"middle\" x=\"1948\" y=\"-602.8\" font-family=\"Helvetica,sans-Serif\" font-size=\"14.00\" fill=\"#000000\">value = [2, 6]</text>\n<text text-anchor=\"middle\" x=\"1948\" y=\"-587.8\" font-family=\"Helvetica,sans-Serif\" font-size=\"14.00\" fill=\"#000000\">class = Inactive</text>\n</g>\n<!-- 70&#45;&gt;71 -->\n<g id=\"edge71\" class=\"edge\">\n<title>70&#45;&gt;71</title>\n<path fill=\"none\" stroke=\"#000000\" d=\"M1957.7537,-698.8796C1956.7093,-690.5938 1955.6006,-681.798 1954.5195,-673.2216\"/>\n<polygon fill=\"#000000\" stroke=\"#000000\" points=\"1957.9919,-672.7818 1953.2687,-663.2981 1951.0468,-673.6573 1957.9919,-672.7818\"/>\n</g>\n<!-- 76 -->\n<g id=\"node77\" class=\"node\">\n<title>76</title>\n<polygon fill=\"#e58139\" stroke=\"#000000\" points=\"2142.5,-655.5 2037.5,-655.5 2037.5,-587.5 2142.5,-587.5 2142.5,-655.5\"/>\n<text text-anchor=\"middle\" x=\"2090\" y=\"-640.3\" font-family=\"Helvetica,sans-Serif\" font-size=\"14.00\" fill=\"#000000\">gini = 0.0</text>\n<text text-anchor=\"middle\" x=\"2090\" y=\"-625.3\" font-family=\"Helvetica,sans-Serif\" font-size=\"14.00\" fill=\"#000000\">samples = 2</text>\n<text text-anchor=\"middle\" x=\"2090\" y=\"-610.3\" font-family=\"Helvetica,sans-Serif\" font-size=\"14.00\" fill=\"#000000\">value = [2, 0]</text>\n<text text-anchor=\"middle\" x=\"2090\" y=\"-595.3\" font-family=\"Helvetica,sans-Serif\" font-size=\"14.00\" fill=\"#000000\">class = Active</text>\n</g>\n<!-- 70&#45;&gt;76 -->\n<g id=\"edge76\" class=\"edge\">\n<title>70&#45;&gt;76</title>\n<path fill=\"none\" stroke=\"#000000\" d=\"M2007.4184,-698.8796C2019.8579,-687.2237 2033.3743,-674.5587 2045.801,-662.9148\"/>\n<polygon fill=\"#000000\" stroke=\"#000000\" points=\"2048.4741,-665.2065 2053.3782,-655.8149 2043.6879,-660.0985 2048.4741,-665.2065\"/>\n</g>\n<!-- 72 -->\n<g id=\"node73\" class=\"node\">\n<title>72</title>\n<polygon fill=\"#f2c09c\" stroke=\"#000000\" points=\"1962.5,-544 1825.5,-544 1825.5,-461 1962.5,-461 1962.5,-544\"/>\n<text text-anchor=\"middle\" x=\"1894\" y=\"-528.8\" font-family=\"Helvetica,sans-Serif\" font-size=\"14.00\" fill=\"#000000\">GATS4m &lt;= 0.971</text>\n<text text-anchor=\"middle\" x=\"1894\" y=\"-513.8\" font-family=\"Helvetica,sans-Serif\" font-size=\"14.00\" fill=\"#000000\">gini = 0.444</text>\n<text text-anchor=\"middle\" x=\"1894\" y=\"-498.8\" font-family=\"Helvetica,sans-Serif\" font-size=\"14.00\" fill=\"#000000\">samples = 3</text>\n<text text-anchor=\"middle\" x=\"1894\" y=\"-483.8\" font-family=\"Helvetica,sans-Serif\" font-size=\"14.00\" fill=\"#000000\">value = [2, 1]</text>\n<text text-anchor=\"middle\" x=\"1894\" y=\"-468.8\" font-family=\"Helvetica,sans-Serif\" font-size=\"14.00\" fill=\"#000000\">class = Active</text>\n</g>\n<!-- 71&#45;&gt;72 -->\n<g id=\"edge72\" class=\"edge\">\n<title>71&#45;&gt;72</title>\n<path fill=\"none\" stroke=\"#000000\" d=\"M1929.1134,-579.8796C1925.2717,-571.4136 1921.1885,-562.4153 1917.2166,-553.6626\"/>\n<polygon fill=\"#000000\" stroke=\"#000000\" points=\"1920.2867,-551.9581 1912.9672,-544.2981 1913.9123,-554.8507 1920.2867,-551.9581\"/>\n</g>\n<!-- 75 -->\n<g id=\"node76\" class=\"node\">\n<title>75</title>\n<polygon fill=\"#399de5\" stroke=\"#000000\" points=\"2097,-536.5 1981,-536.5 1981,-468.5 2097,-468.5 2097,-536.5\"/>\n<text text-anchor=\"middle\" x=\"2039\" y=\"-521.3\" font-family=\"Helvetica,sans-Serif\" font-size=\"14.00\" fill=\"#000000\">gini = 0.0</text>\n<text text-anchor=\"middle\" x=\"2039\" y=\"-506.3\" font-family=\"Helvetica,sans-Serif\" font-size=\"14.00\" fill=\"#000000\">samples = 5</text>\n<text text-anchor=\"middle\" x=\"2039\" y=\"-491.3\" font-family=\"Helvetica,sans-Serif\" font-size=\"14.00\" fill=\"#000000\">value = [0, 5]</text>\n<text text-anchor=\"middle\" x=\"2039\" y=\"-476.3\" font-family=\"Helvetica,sans-Serif\" font-size=\"14.00\" fill=\"#000000\">class = Inactive</text>\n</g>\n<!-- 71&#45;&gt;75 -->\n<g id=\"edge75\" class=\"edge\">\n<title>71&#45;&gt;75</title>\n<path fill=\"none\" stroke=\"#000000\" d=\"M1979.8274,-579.8796C1988.4884,-568.5536 1997.8781,-556.2748 2006.572,-544.9058\"/>\n<polygon fill=\"#000000\" stroke=\"#000000\" points=\"2009.4649,-546.8846 2012.7592,-536.8149 2003.9044,-542.6324 2009.4649,-546.8846\"/>\n</g>\n<!-- 73 -->\n<g id=\"node74\" class=\"node\">\n<title>73</title>\n<polygon fill=\"#e58139\" stroke=\"#000000\" points=\"1822.5,-417.5 1717.5,-417.5 1717.5,-349.5 1822.5,-349.5 1822.5,-417.5\"/>\n<text text-anchor=\"middle\" x=\"1770\" y=\"-402.3\" font-family=\"Helvetica,sans-Serif\" font-size=\"14.00\" fill=\"#000000\">gini = 0.0</text>\n<text text-anchor=\"middle\" x=\"1770\" y=\"-387.3\" font-family=\"Helvetica,sans-Serif\" font-size=\"14.00\" fill=\"#000000\">samples = 2</text>\n<text text-anchor=\"middle\" x=\"1770\" y=\"-372.3\" font-family=\"Helvetica,sans-Serif\" font-size=\"14.00\" fill=\"#000000\">value = [2, 0]</text>\n<text text-anchor=\"middle\" x=\"1770\" y=\"-357.3\" font-family=\"Helvetica,sans-Serif\" font-size=\"14.00\" fill=\"#000000\">class = Active</text>\n</g>\n<!-- 72&#45;&gt;73 -->\n<g id=\"edge73\" class=\"edge\">\n<title>72&#45;&gt;73</title>\n<path fill=\"none\" stroke=\"#000000\" d=\"M1850.6308,-460.8796C1838.4852,-449.2237 1825.2881,-436.5587 1813.1549,-424.9148\"/>\n<polygon fill=\"#000000\" stroke=\"#000000\" points=\"1815.3953,-422.2138 1805.7567,-417.8149 1810.5484,-427.2643 1815.3953,-422.2138\"/>\n</g>\n<!-- 74 -->\n<g id=\"node75\" class=\"node\">\n<title>74</title>\n<polygon fill=\"#399de5\" stroke=\"#000000\" points=\"1957,-417.5 1841,-417.5 1841,-349.5 1957,-349.5 1957,-417.5\"/>\n<text text-anchor=\"middle\" x=\"1899\" y=\"-402.3\" font-family=\"Helvetica,sans-Serif\" font-size=\"14.00\" fill=\"#000000\">gini = 0.0</text>\n<text text-anchor=\"middle\" x=\"1899\" y=\"-387.3\" font-family=\"Helvetica,sans-Serif\" font-size=\"14.00\" fill=\"#000000\">samples = 1</text>\n<text text-anchor=\"middle\" x=\"1899\" y=\"-372.3\" font-family=\"Helvetica,sans-Serif\" font-size=\"14.00\" fill=\"#000000\">value = [0, 1]</text>\n<text text-anchor=\"middle\" x=\"1899\" y=\"-357.3\" font-family=\"Helvetica,sans-Serif\" font-size=\"14.00\" fill=\"#000000\">class = Inactive</text>\n</g>\n<!-- 72&#45;&gt;74 -->\n<g id=\"edge74\" class=\"edge\">\n<title>72&#45;&gt;74</title>\n<path fill=\"none\" stroke=\"#000000\" d=\"M1895.7488,-460.8796C1896.1969,-450.2134 1896.6806,-438.7021 1897.1344,-427.9015\"/>\n<polygon fill=\"#000000\" stroke=\"#000000\" points=\"1900.6352,-427.9531 1897.5582,-417.8149 1893.6414,-427.6592 1900.6352,-427.9531\"/>\n</g>\n<!-- 79 -->\n<g id=\"node80\" class=\"node\">\n<title>79</title>\n<polygon fill=\"#e58139\" stroke=\"#000000\" points=\"2028.5,-1012.5 1923.5,-1012.5 1923.5,-944.5 2028.5,-944.5 2028.5,-1012.5\"/>\n<text text-anchor=\"middle\" x=\"1976\" y=\"-997.3\" font-family=\"Helvetica,sans-Serif\" font-size=\"14.00\" fill=\"#000000\">gini = 0.0</text>\n<text text-anchor=\"middle\" x=\"1976\" y=\"-982.3\" font-family=\"Helvetica,sans-Serif\" font-size=\"14.00\" fill=\"#000000\">samples = 1</text>\n<text text-anchor=\"middle\" x=\"1976\" y=\"-967.3\" font-family=\"Helvetica,sans-Serif\" font-size=\"14.00\" fill=\"#000000\">value = [1, 0]</text>\n<text text-anchor=\"middle\" x=\"1976\" y=\"-952.3\" font-family=\"Helvetica,sans-Serif\" font-size=\"14.00\" fill=\"#000000\">class = Active</text>\n</g>\n<!-- 78&#45;&gt;79 -->\n<g id=\"edge79\" class=\"edge\">\n<title>78&#45;&gt;79</title>\n<path fill=\"none\" stroke=\"#000000\" d=\"M1976,-1055.8796C1976,-1045.2134 1976,-1033.7021 1976,-1022.9015\"/>\n<polygon fill=\"#000000\" stroke=\"#000000\" points=\"1979.5001,-1022.8149 1976,-1012.8149 1972.5001,-1022.815 1979.5001,-1022.8149\"/>\n</g>\n<!-- 80 -->\n<g id=\"node81\" class=\"node\">\n<title>80</title>\n<polygon fill=\"#5aade9\" stroke=\"#000000\" points=\"2206,-1020 2090,-1020 2090,-937 2206,-937 2206,-1020\"/>\n<text text-anchor=\"middle\" x=\"2148\" y=\"-1004.8\" font-family=\"Helvetica,sans-Serif\" font-size=\"14.00\" fill=\"#000000\">E3s &lt;= 0.494</text>\n<text text-anchor=\"middle\" x=\"2148\" y=\"-989.8\" font-family=\"Helvetica,sans-Serif\" font-size=\"14.00\" fill=\"#000000\">gini = 0.245</text>\n<text text-anchor=\"middle\" x=\"2148\" y=\"-974.8\" font-family=\"Helvetica,sans-Serif\" font-size=\"14.00\" fill=\"#000000\">samples = 70</text>\n<text text-anchor=\"middle\" x=\"2148\" y=\"-959.8\" font-family=\"Helvetica,sans-Serif\" font-size=\"14.00\" fill=\"#000000\">value = [10, 60]</text>\n<text text-anchor=\"middle\" x=\"2148\" y=\"-944.8\" font-family=\"Helvetica,sans-Serif\" font-size=\"14.00\" fill=\"#000000\">class = Inactive</text>\n</g>\n<!-- 78&#45;&gt;80 -->\n<g id=\"edge80\" class=\"edge\">\n<title>78&#45;&gt;80</title>\n<path fill=\"none\" stroke=\"#000000\" d=\"M2036.1573,-1055.8796C2050.8701,-1045.7003 2066.6954,-1034.7514 2081.6786,-1024.3852\"/>\n<polygon fill=\"#000000\" stroke=\"#000000\" points=\"2083.6713,-1027.2626 2089.9036,-1018.6946 2079.6885,-1021.506 2083.6713,-1027.2626\"/>\n</g>\n<!-- 81 -->\n<g id=\"node82\" class=\"node\">\n<title>81</title>\n<polygon fill=\"#57ace9\" stroke=\"#000000\" points=\"2214,-901 2082,-901 2082,-818 2214,-818 2214,-901\"/>\n<text text-anchor=\"middle\" x=\"2148\" y=\"-885.8\" font-family=\"Helvetica,sans-Serif\" font-size=\"14.00\" fill=\"#000000\">ATSC5p &lt;= 0.718</text>\n<text text-anchor=\"middle\" x=\"2148\" y=\"-870.8\" font-family=\"Helvetica,sans-Serif\" font-size=\"14.00\" fill=\"#000000\">gini = 0.227</text>\n<text text-anchor=\"middle\" x=\"2148\" y=\"-855.8\" font-family=\"Helvetica,sans-Serif\" font-size=\"14.00\" fill=\"#000000\">samples = 69</text>\n<text text-anchor=\"middle\" x=\"2148\" y=\"-840.8\" font-family=\"Helvetica,sans-Serif\" font-size=\"14.00\" fill=\"#000000\">value = [9, 60]</text>\n<text text-anchor=\"middle\" x=\"2148\" y=\"-825.8\" font-family=\"Helvetica,sans-Serif\" font-size=\"14.00\" fill=\"#000000\">class = Inactive</text>\n</g>\n<!-- 80&#45;&gt;81 -->\n<g id=\"edge81\" class=\"edge\">\n<title>80&#45;&gt;81</title>\n<path fill=\"none\" stroke=\"#000000\" d=\"M2148,-936.8796C2148,-928.6838 2148,-919.9891 2148,-911.5013\"/>\n<polygon fill=\"#000000\" stroke=\"#000000\" points=\"2151.5001,-911.298 2148,-901.2981 2144.5001,-911.2981 2151.5001,-911.298\"/>\n</g>\n<!-- 106 -->\n<g id=\"node107\" class=\"node\">\n<title>106</title>\n<polygon fill=\"#e58139\" stroke=\"#000000\" points=\"2337.5,-893.5 2232.5,-893.5 2232.5,-825.5 2337.5,-825.5 2337.5,-893.5\"/>\n<text text-anchor=\"middle\" x=\"2285\" y=\"-878.3\" font-family=\"Helvetica,sans-Serif\" font-size=\"14.00\" fill=\"#000000\">gini = 0.0</text>\n<text text-anchor=\"middle\" x=\"2285\" y=\"-863.3\" font-family=\"Helvetica,sans-Serif\" font-size=\"14.00\" fill=\"#000000\">samples = 1</text>\n<text text-anchor=\"middle\" x=\"2285\" y=\"-848.3\" font-family=\"Helvetica,sans-Serif\" font-size=\"14.00\" fill=\"#000000\">value = [1, 0]</text>\n<text text-anchor=\"middle\" x=\"2285\" y=\"-833.3\" font-family=\"Helvetica,sans-Serif\" font-size=\"14.00\" fill=\"#000000\">class = Active</text>\n</g>\n<!-- 80&#45;&gt;106 -->\n<g id=\"edge106\" class=\"edge\">\n<title>80&#45;&gt;106</title>\n<path fill=\"none\" stroke=\"#000000\" d=\"M2195.916,-936.8796C2209.4615,-925.1138 2224.1908,-912.3197 2237.6998,-900.5855\"/>\n<polygon fill=\"#000000\" stroke=\"#000000\" points=\"2240.2401,-903.015 2245.4946,-893.8149 2235.6497,-897.7303 2240.2401,-903.015\"/>\n</g>\n<!-- 82 -->\n<g id=\"node83\" class=\"node\">\n<title>82</title>\n<polygon fill=\"#399de5\" stroke=\"#000000\" points=\"2206,-774.5 2090,-774.5 2090,-706.5 2206,-706.5 2206,-774.5\"/>\n<text text-anchor=\"middle\" x=\"2148\" y=\"-759.3\" font-family=\"Helvetica,sans-Serif\" font-size=\"14.00\" fill=\"#000000\">gini = 0.0</text>\n<text text-anchor=\"middle\" x=\"2148\" y=\"-744.3\" font-family=\"Helvetica,sans-Serif\" font-size=\"14.00\" fill=\"#000000\">samples = 18</text>\n<text text-anchor=\"middle\" x=\"2148\" y=\"-729.3\" font-family=\"Helvetica,sans-Serif\" font-size=\"14.00\" fill=\"#000000\">value = [0, 18]</text>\n<text text-anchor=\"middle\" x=\"2148\" y=\"-714.3\" font-family=\"Helvetica,sans-Serif\" font-size=\"14.00\" fill=\"#000000\">class = Inactive</text>\n</g>\n<!-- 81&#45;&gt;82 -->\n<g id=\"edge82\" class=\"edge\">\n<title>81&#45;&gt;82</title>\n<path fill=\"none\" stroke=\"#000000\" d=\"M2148,-817.8796C2148,-807.2134 2148,-795.7021 2148,-784.9015\"/>\n<polygon fill=\"#000000\" stroke=\"#000000\" points=\"2151.5001,-784.8149 2148,-774.8149 2144.5001,-784.815 2151.5001,-784.8149\"/>\n</g>\n<!-- 83 -->\n<g id=\"node84\" class=\"node\">\n<title>83</title>\n<polygon fill=\"#63b2eb\" stroke=\"#000000\" points=\"2357,-782 2241,-782 2241,-699 2357,-699 2357,-782\"/>\n<text text-anchor=\"middle\" x=\"2299\" y=\"-766.8\" font-family=\"Helvetica,sans-Serif\" font-size=\"14.00\" fill=\"#000000\">E3s &lt;= 0.334</text>\n<text text-anchor=\"middle\" x=\"2299\" y=\"-751.8\" font-family=\"Helvetica,sans-Serif\" font-size=\"14.00\" fill=\"#000000\">gini = 0.291</text>\n<text text-anchor=\"middle\" x=\"2299\" y=\"-736.8\" font-family=\"Helvetica,sans-Serif\" font-size=\"14.00\" fill=\"#000000\">samples = 51</text>\n<text text-anchor=\"middle\" x=\"2299\" y=\"-721.8\" font-family=\"Helvetica,sans-Serif\" font-size=\"14.00\" fill=\"#000000\">value = [9, 42]</text>\n<text text-anchor=\"middle\" x=\"2299\" y=\"-706.8\" font-family=\"Helvetica,sans-Serif\" font-size=\"14.00\" fill=\"#000000\">class = Inactive</text>\n</g>\n<!-- 81&#45;&gt;83 -->\n<g id=\"edge83\" class=\"edge\">\n<title>81&#45;&gt;83</title>\n<path fill=\"none\" stroke=\"#000000\" d=\"M2200.8125,-817.8796C2212.8818,-808.368 2225.8039,-798.1843 2238.1788,-788.432\"/>\n<polygon fill=\"#000000\" stroke=\"#000000\" points=\"2240.5296,-791.0356 2246.2173,-782.0969 2236.1968,-785.5377 2240.5296,-791.0356\"/>\n</g>\n<!-- 84 -->\n<g id=\"node85\" class=\"node\">\n<title>84</title>\n<polygon fill=\"#9ccef2\" stroke=\"#000000\" points=\"2377.5,-663 2220.5,-663 2220.5,-580 2377.5,-580 2377.5,-663\"/>\n<text text-anchor=\"middle\" x=\"2299\" y=\"-647.8\" font-family=\"Helvetica,sans-Serif\" font-size=\"14.00\" fill=\"#000000\">geomShape &lt;= 0.962</text>\n<text text-anchor=\"middle\" x=\"2299\" y=\"-632.8\" font-family=\"Helvetica,sans-Serif\" font-size=\"14.00\" fill=\"#000000\">gini = 0.444</text>\n<text text-anchor=\"middle\" x=\"2299\" y=\"-617.8\" font-family=\"Helvetica,sans-Serif\" font-size=\"14.00\" fill=\"#000000\">samples = 21</text>\n<text text-anchor=\"middle\" x=\"2299\" y=\"-602.8\" font-family=\"Helvetica,sans-Serif\" font-size=\"14.00\" fill=\"#000000\">value = [7, 14]</text>\n<text text-anchor=\"middle\" x=\"2299\" y=\"-587.8\" font-family=\"Helvetica,sans-Serif\" font-size=\"14.00\" fill=\"#000000\">class = Inactive</text>\n</g>\n<!-- 83&#45;&gt;84 -->\n<g id=\"edge84\" class=\"edge\">\n<title>83&#45;&gt;84</title>\n<path fill=\"none\" stroke=\"#000000\" d=\"M2299,-698.8796C2299,-690.6838 2299,-681.9891 2299,-673.5013\"/>\n<polygon fill=\"#000000\" stroke=\"#000000\" points=\"2302.5001,-673.298 2299,-663.2981 2295.5001,-673.2981 2302.5001,-673.298\"/>\n</g>\n<!-- 97 -->\n<g id=\"node98\" class=\"node\">\n<title>97</title>\n<polygon fill=\"#47a4e7\" stroke=\"#000000\" points=\"2570.5,-663 2413.5,-663 2413.5,-580 2570.5,-580 2570.5,-663\"/>\n<text text-anchor=\"middle\" x=\"2492\" y=\"-647.8\" font-family=\"Helvetica,sans-Serif\" font-size=\"14.00\" fill=\"#000000\">geomShape &lt;= 0.835</text>\n<text text-anchor=\"middle\" x=\"2492\" y=\"-632.8\" font-family=\"Helvetica,sans-Serif\" font-size=\"14.00\" fill=\"#000000\">gini = 0.124</text>\n<text text-anchor=\"middle\" x=\"2492\" y=\"-617.8\" font-family=\"Helvetica,sans-Serif\" font-size=\"14.00\" fill=\"#000000\">samples = 30</text>\n<text text-anchor=\"middle\" x=\"2492\" y=\"-602.8\" font-family=\"Helvetica,sans-Serif\" font-size=\"14.00\" fill=\"#000000\">value = [2, 28]</text>\n<text text-anchor=\"middle\" x=\"2492\" y=\"-587.8\" font-family=\"Helvetica,sans-Serif\" font-size=\"14.00\" fill=\"#000000\">class = Inactive</text>\n</g>\n<!-- 83&#45;&gt;97 -->\n<g id=\"edge97\" class=\"edge\">\n<title>83&#45;&gt;97</title>\n<path fill=\"none\" stroke=\"#000000\" d=\"M2357.1681,-704.6347C2375.6347,-693.2486 2396.3375,-680.4836 2415.8732,-668.4383\"/>\n<polygon fill=\"#000000\" stroke=\"#000000\" points=\"2417.7831,-671.3725 2424.4583,-663.1449 2414.1093,-665.4141 2417.7831,-671.3725\"/>\n</g>\n<!-- 85 -->\n<g id=\"node86\" class=\"node\">\n<title>85</title>\n<polygon fill=\"#80c0ee\" stroke=\"#000000\" points=\"2272.5,-544 2115.5,-544 2115.5,-461 2272.5,-461 2272.5,-544\"/>\n<text text-anchor=\"middle\" x=\"2194\" y=\"-528.8\" font-family=\"Helvetica,sans-Serif\" font-size=\"14.00\" fill=\"#000000\">geomShape &lt;= 0.933</text>\n<text text-anchor=\"middle\" x=\"2194\" y=\"-513.8\" font-family=\"Helvetica,sans-Serif\" font-size=\"14.00\" fill=\"#000000\">gini = 0.388</text>\n<text text-anchor=\"middle\" x=\"2194\" y=\"-498.8\" font-family=\"Helvetica,sans-Serif\" font-size=\"14.00\" fill=\"#000000\">samples = 19</text>\n<text text-anchor=\"middle\" x=\"2194\" y=\"-483.8\" font-family=\"Helvetica,sans-Serif\" font-size=\"14.00\" fill=\"#000000\">value = [5, 14]</text>\n<text text-anchor=\"middle\" x=\"2194\" y=\"-468.8\" font-family=\"Helvetica,sans-Serif\" font-size=\"14.00\" fill=\"#000000\">class = Inactive</text>\n</g>\n<!-- 84&#45;&gt;85 -->\n<g id=\"edge85\" class=\"edge\">\n<title>84&#45;&gt;85</title>\n<path fill=\"none\" stroke=\"#000000\" d=\"M2262.2761,-579.8796C2254.3293,-570.8733 2245.851,-561.2644 2237.6674,-551.9897\"/>\n<polygon fill=\"#000000\" stroke=\"#000000\" points=\"2240.1213,-549.4808 2230.8807,-544.2981 2234.8725,-554.1122 2240.1213,-549.4808\"/>\n</g>\n<!-- 96 -->\n<g id=\"node97\" class=\"node\">\n<title>96</title>\n<polygon fill=\"#e58139\" stroke=\"#000000\" points=\"2395.5,-536.5 2290.5,-536.5 2290.5,-468.5 2395.5,-468.5 2395.5,-536.5\"/>\n<text text-anchor=\"middle\" x=\"2343\" y=\"-521.3\" font-family=\"Helvetica,sans-Serif\" font-size=\"14.00\" fill=\"#000000\">gini = 0.0</text>\n<text text-anchor=\"middle\" x=\"2343\" y=\"-506.3\" font-family=\"Helvetica,sans-Serif\" font-size=\"14.00\" fill=\"#000000\">samples = 2</text>\n<text text-anchor=\"middle\" x=\"2343\" y=\"-491.3\" font-family=\"Helvetica,sans-Serif\" font-size=\"14.00\" fill=\"#000000\">value = [2, 0]</text>\n<text text-anchor=\"middle\" x=\"2343\" y=\"-476.3\" font-family=\"Helvetica,sans-Serif\" font-size=\"14.00\" fill=\"#000000\">class = Active</text>\n</g>\n<!-- 84&#45;&gt;96 -->\n<g id=\"edge96\" class=\"edge\">\n<title>84&#45;&gt;96</title>\n<path fill=\"none\" stroke=\"#000000\" d=\"M2314.3891,-579.8796C2318.4142,-568.9935 2322.7648,-557.227 2326.8293,-546.2344\"/>\n<polygon fill=\"#000000\" stroke=\"#000000\" points=\"2330.1268,-547.4082 2330.3121,-536.8149 2323.5613,-544.9805 2330.1268,-547.4082\"/>\n</g>\n<!-- 86 -->\n<g id=\"node87\" class=\"node\">\n<title>86</title>\n<polygon fill=\"#b5daf5\" stroke=\"#000000\" points=\"2134.5,-425 1997.5,-425 1997.5,-342 2134.5,-342 2134.5,-425\"/>\n<text text-anchor=\"middle\" x=\"2066\" y=\"-409.8\" font-family=\"Helvetica,sans-Serif\" font-size=\"14.00\" fill=\"#000000\">GATS4m &lt;= 0.987</text>\n<text text-anchor=\"middle\" x=\"2066\" y=\"-394.8\" font-family=\"Helvetica,sans-Serif\" font-size=\"14.00\" fill=\"#000000\">gini = 0.473</text>\n<text text-anchor=\"middle\" x=\"2066\" y=\"-379.8\" font-family=\"Helvetica,sans-Serif\" font-size=\"14.00\" fill=\"#000000\">samples = 13</text>\n<text text-anchor=\"middle\" x=\"2066\" y=\"-364.8\" font-family=\"Helvetica,sans-Serif\" font-size=\"14.00\" fill=\"#000000\">value = [5, 8]</text>\n<text text-anchor=\"middle\" x=\"2066\" y=\"-349.8\" font-family=\"Helvetica,sans-Serif\" font-size=\"14.00\" fill=\"#000000\">class = Inactive</text>\n</g>\n<!-- 85&#45;&gt;86 -->\n<g id=\"edge86\" class=\"edge\">\n<title>85&#45;&gt;86</title>\n<path fill=\"none\" stroke=\"#000000\" d=\"M2149.2318,-460.8796C2139.2537,-451.6031 2128.5881,-441.6874 2118.3358,-432.1559\"/>\n<polygon fill=\"#000000\" stroke=\"#000000\" points=\"2120.6663,-429.5436 2110.9593,-425.2981 2115.9,-434.6704 2120.6663,-429.5436\"/>\n</g>\n<!-- 95 -->\n<g id=\"node96\" class=\"node\">\n<title>95</title>\n<polygon fill=\"#399de5\" stroke=\"#000000\" points=\"2269,-417.5 2153,-417.5 2153,-349.5 2269,-349.5 2269,-417.5\"/>\n<text text-anchor=\"middle\" x=\"2211\" y=\"-402.3\" font-family=\"Helvetica,sans-Serif\" font-size=\"14.00\" fill=\"#000000\">gini = 0.0</text>\n<text text-anchor=\"middle\" x=\"2211\" y=\"-387.3\" font-family=\"Helvetica,sans-Serif\" font-size=\"14.00\" fill=\"#000000\">samples = 6</text>\n<text text-anchor=\"middle\" x=\"2211\" y=\"-372.3\" font-family=\"Helvetica,sans-Serif\" font-size=\"14.00\" fill=\"#000000\">value = [0, 6]</text>\n<text text-anchor=\"middle\" x=\"2211\" y=\"-357.3\" font-family=\"Helvetica,sans-Serif\" font-size=\"14.00\" fill=\"#000000\">class = Inactive</text>\n</g>\n<!-- 85&#45;&gt;95 -->\n<g id=\"edge95\" class=\"edge\">\n<title>85&#45;&gt;95</title>\n<path fill=\"none\" stroke=\"#000000\" d=\"M2199.9458,-460.8796C2201.4695,-450.2134 2203.114,-438.7021 2204.6569,-427.9015\"/>\n<polygon fill=\"#000000\" stroke=\"#000000\" points=\"2208.1484,-428.2094 2206.0979,-417.8149 2201.2187,-427.2194 2208.1484,-428.2094\"/>\n</g>\n<!-- 87 -->\n<g id=\"node88\" class=\"node\">\n<title>87</title>\n<polygon fill=\"#72b9ec\" stroke=\"#000000\" points=\"2062,-306 1902,-306 1902,-223 2062,-223 2062,-306\"/>\n<text text-anchor=\"middle\" x=\"1982\" y=\"-290.8\" font-family=\"Helvetica,sans-Serif\" font-size=\"14.00\" fill=\"#000000\">nT5HeteroRing &lt;= 3.5</text>\n<text text-anchor=\"middle\" x=\"1982\" y=\"-275.8\" font-family=\"Helvetica,sans-Serif\" font-size=\"14.00\" fill=\"#000000\">gini = 0.346</text>\n<text text-anchor=\"middle\" x=\"1982\" y=\"-260.8\" font-family=\"Helvetica,sans-Serif\" font-size=\"14.00\" fill=\"#000000\">samples = 9</text>\n<text text-anchor=\"middle\" x=\"1982\" y=\"-245.8\" font-family=\"Helvetica,sans-Serif\" font-size=\"14.00\" fill=\"#000000\">value = [2, 7]</text>\n<text text-anchor=\"middle\" x=\"1982\" y=\"-230.8\" font-family=\"Helvetica,sans-Serif\" font-size=\"14.00\" fill=\"#000000\">class = Inactive</text>\n</g>\n<!-- 86&#45;&gt;87 -->\n<g id=\"edge87\" class=\"edge\">\n<title>86&#45;&gt;87</title>\n<path fill=\"none\" stroke=\"#000000\" d=\"M2036.6209,-341.8796C2030.3906,-333.0534 2023.7519,-323.6485 2017.327,-314.5466\"/>\n<polygon fill=\"#000000\" stroke=\"#000000\" points=\"2020.1308,-312.4494 2011.5045,-306.2981 2014.412,-316.4862 2020.1308,-312.4494\"/>\n</g>\n<!-- 92 -->\n<g id=\"node93\" class=\"node\">\n<title>92</title>\n<polygon fill=\"#eeab7b\" stroke=\"#000000\" points=\"2217.5,-306 2080.5,-306 2080.5,-223 2217.5,-223 2217.5,-306\"/>\n<text text-anchor=\"middle\" x=\"2149\" y=\"-290.8\" font-family=\"Helvetica,sans-Serif\" font-size=\"14.00\" fill=\"#000000\">GATS4m &lt;= 1.018</text>\n<text text-anchor=\"middle\" x=\"2149\" y=\"-275.8\" font-family=\"Helvetica,sans-Serif\" font-size=\"14.00\" fill=\"#000000\">gini = 0.375</text>\n<text text-anchor=\"middle\" x=\"2149\" y=\"-260.8\" font-family=\"Helvetica,sans-Serif\" font-size=\"14.00\" fill=\"#000000\">samples = 4</text>\n<text text-anchor=\"middle\" x=\"2149\" y=\"-245.8\" font-family=\"Helvetica,sans-Serif\" font-size=\"14.00\" fill=\"#000000\">value = [3, 1]</text>\n<text text-anchor=\"middle\" x=\"2149\" y=\"-230.8\" font-family=\"Helvetica,sans-Serif\" font-size=\"14.00\" fill=\"#000000\">class = Active</text>\n</g>\n<!-- 86&#45;&gt;92 -->\n<g id=\"edge92\" class=\"edge\">\n<title>86&#45;&gt;92</title>\n<path fill=\"none\" stroke=\"#000000\" d=\"M2095.0294,-341.8796C2101.1855,-333.0534 2107.7451,-323.6485 2114.0936,-314.5466\"/>\n<polygon fill=\"#000000\" stroke=\"#000000\" points=\"2116.9967,-316.5024 2119.8467,-306.2981 2111.2552,-312.4978 2116.9967,-316.5024\"/>\n</g>\n<!-- 88 -->\n<g id=\"node89\" class=\"node\">\n<title>88</title>\n<polygon fill=\"#55abe9\" stroke=\"#000000\" points=\"1922,-187 1790,-187 1790,-104 1922,-104 1922,-187\"/>\n<text text-anchor=\"middle\" x=\"1856\" y=\"-171.8\" font-family=\"Helvetica,sans-Serif\" font-size=\"14.00\" fill=\"#000000\">ATSC5p &lt;= 0.763</text>\n<text text-anchor=\"middle\" x=\"1856\" y=\"-156.8\" font-family=\"Helvetica,sans-Serif\" font-size=\"14.00\" fill=\"#000000\">gini = 0.219</text>\n<text text-anchor=\"middle\" x=\"1856\" y=\"-141.8\" font-family=\"Helvetica,sans-Serif\" font-size=\"14.00\" fill=\"#000000\">samples = 8</text>\n<text text-anchor=\"middle\" x=\"1856\" y=\"-126.8\" font-family=\"Helvetica,sans-Serif\" font-size=\"14.00\" fill=\"#000000\">value = [1, 7]</text>\n<text text-anchor=\"middle\" x=\"1856\" y=\"-111.8\" font-family=\"Helvetica,sans-Serif\" font-size=\"14.00\" fill=\"#000000\">class = Inactive</text>\n</g>\n<!-- 87&#45;&gt;88 -->\n<g id=\"edge88\" class=\"edge\">\n<title>87&#45;&gt;88</title>\n<path fill=\"none\" stroke=\"#000000\" d=\"M1937.9313,-222.8796C1928.2045,-213.6931 1917.8139,-203.8798 1907.8121,-194.4336\"/>\n<polygon fill=\"#000000\" stroke=\"#000000\" points=\"1909.9301,-191.6198 1900.2568,-187.2981 1905.1237,-196.7089 1909.9301,-191.6198\"/>\n</g>\n<!-- 91 -->\n<g id=\"node92\" class=\"node\">\n<title>91</title>\n<polygon fill=\"#e58139\" stroke=\"#000000\" points=\"2045.5,-179.5 1940.5,-179.5 1940.5,-111.5 2045.5,-111.5 2045.5,-179.5\"/>\n<text text-anchor=\"middle\" x=\"1993\" y=\"-164.3\" font-family=\"Helvetica,sans-Serif\" font-size=\"14.00\" fill=\"#000000\">gini = 0.0</text>\n<text text-anchor=\"middle\" x=\"1993\" y=\"-149.3\" font-family=\"Helvetica,sans-Serif\" font-size=\"14.00\" fill=\"#000000\">samples = 1</text>\n<text text-anchor=\"middle\" x=\"1993\" y=\"-134.3\" font-family=\"Helvetica,sans-Serif\" font-size=\"14.00\" fill=\"#000000\">value = [1, 0]</text>\n<text text-anchor=\"middle\" x=\"1993\" y=\"-119.3\" font-family=\"Helvetica,sans-Serif\" font-size=\"14.00\" fill=\"#000000\">class = Active</text>\n</g>\n<!-- 87&#45;&gt;91 -->\n<g id=\"edge91\" class=\"edge\">\n<title>87&#45;&gt;91</title>\n<path fill=\"none\" stroke=\"#000000\" d=\"M1985.8473,-222.8796C1986.8332,-212.2134 1987.8973,-200.7021 1988.8957,-189.9015\"/>\n<polygon fill=\"#000000\" stroke=\"#000000\" points=\"1992.3926,-190.0947 1989.828,-179.8149 1985.4224,-189.4503 1992.3926,-190.0947\"/>\n</g>\n<!-- 89 -->\n<g id=\"node90\" class=\"node\">\n<title>89</title>\n<polygon fill=\"#ffffff\" stroke=\"#000000\" points=\"1844.5,-68 1739.5,-68 1739.5,0 1844.5,0 1844.5,-68\"/>\n<text text-anchor=\"middle\" x=\"1792\" y=\"-52.8\" font-family=\"Helvetica,sans-Serif\" font-size=\"14.00\" fill=\"#000000\">gini = 0.5</text>\n<text text-anchor=\"middle\" x=\"1792\" y=\"-37.8\" font-family=\"Helvetica,sans-Serif\" font-size=\"14.00\" fill=\"#000000\">samples = 2</text>\n<text text-anchor=\"middle\" x=\"1792\" y=\"-22.8\" font-family=\"Helvetica,sans-Serif\" font-size=\"14.00\" fill=\"#000000\">value = [1, 1]</text>\n<text text-anchor=\"middle\" x=\"1792\" y=\"-7.8\" font-family=\"Helvetica,sans-Serif\" font-size=\"14.00\" fill=\"#000000\">class = Active</text>\n</g>\n<!-- 88&#45;&gt;89 -->\n<g id=\"edge89\" class=\"edge\">\n<title>88&#45;&gt;89</title>\n<path fill=\"none\" stroke=\"#000000\" d=\"M1832.1688,-103.9815C1827.1044,-95.1585 1821.7475,-85.8258 1816.6532,-76.9506\"/>\n<polygon fill=\"#000000\" stroke=\"#000000\" points=\"1819.6807,-75.1942 1811.667,-68.2637 1813.6097,-78.6789 1819.6807,-75.1942\"/>\n</g>\n<!-- 90 -->\n<g id=\"node91\" class=\"node\">\n<title>90</title>\n<polygon fill=\"#399de5\" stroke=\"#000000\" points=\"1979,-68 1863,-68 1863,0 1979,0 1979,-68\"/>\n<text text-anchor=\"middle\" x=\"1921\" y=\"-52.8\" font-family=\"Helvetica,sans-Serif\" font-size=\"14.00\" fill=\"#000000\">gini = 0.0</text>\n<text text-anchor=\"middle\" x=\"1921\" y=\"-37.8\" font-family=\"Helvetica,sans-Serif\" font-size=\"14.00\" fill=\"#000000\">samples = 6</text>\n<text text-anchor=\"middle\" x=\"1921\" y=\"-22.8\" font-family=\"Helvetica,sans-Serif\" font-size=\"14.00\" fill=\"#000000\">value = [0, 6]</text>\n<text text-anchor=\"middle\" x=\"1921\" y=\"-7.8\" font-family=\"Helvetica,sans-Serif\" font-size=\"14.00\" fill=\"#000000\">class = Inactive</text>\n</g>\n<!-- 88&#45;&gt;90 -->\n<g id=\"edge90\" class=\"edge\">\n<title>88&#45;&gt;90</title>\n<path fill=\"none\" stroke=\"#000000\" d=\"M1880.2036,-103.9815C1885.3471,-95.1585 1890.7877,-85.8258 1895.9616,-76.9506\"/>\n<polygon fill=\"#000000\" stroke=\"#000000\" points=\"1899.013,-78.6656 1901.0257,-68.2637 1892.9656,-75.1402 1899.013,-78.6656\"/>\n</g>\n<!-- 93 -->\n<g id=\"node94\" class=\"node\">\n<title>93</title>\n<polygon fill=\"#e58139\" stroke=\"#000000\" points=\"2190.5,-179.5 2085.5,-179.5 2085.5,-111.5 2190.5,-111.5 2190.5,-179.5\"/>\n<text text-anchor=\"middle\" x=\"2138\" y=\"-164.3\" font-family=\"Helvetica,sans-Serif\" font-size=\"14.00\" fill=\"#000000\">gini = 0.0</text>\n<text text-anchor=\"middle\" x=\"2138\" y=\"-149.3\" font-family=\"Helvetica,sans-Serif\" font-size=\"14.00\" fill=\"#000000\">samples = 3</text>\n<text text-anchor=\"middle\" x=\"2138\" y=\"-134.3\" font-family=\"Helvetica,sans-Serif\" font-size=\"14.00\" fill=\"#000000\">value = [3, 0]</text>\n<text text-anchor=\"middle\" x=\"2138\" y=\"-119.3\" font-family=\"Helvetica,sans-Serif\" font-size=\"14.00\" fill=\"#000000\">class = Active</text>\n</g>\n<!-- 92&#45;&gt;93 -->\n<g id=\"edge93\" class=\"edge\">\n<title>92&#45;&gt;93</title>\n<path fill=\"none\" stroke=\"#000000\" d=\"M2145.1527,-222.8796C2144.1668,-212.2134 2143.1027,-200.7021 2142.1043,-189.9015\"/>\n<polygon fill=\"#000000\" stroke=\"#000000\" points=\"2145.5776,-189.4503 2141.172,-179.8149 2138.6074,-190.0947 2145.5776,-189.4503\"/>\n</g>\n<!-- 94 -->\n<g id=\"node95\" class=\"node\">\n<title>94</title>\n<polygon fill=\"#399de5\" stroke=\"#000000\" points=\"2325,-179.5 2209,-179.5 2209,-111.5 2325,-111.5 2325,-179.5\"/>\n<text text-anchor=\"middle\" x=\"2267\" y=\"-164.3\" font-family=\"Helvetica,sans-Serif\" font-size=\"14.00\" fill=\"#000000\">gini = 0.0</text>\n<text text-anchor=\"middle\" x=\"2267\" y=\"-149.3\" font-family=\"Helvetica,sans-Serif\" font-size=\"14.00\" fill=\"#000000\">samples = 1</text>\n<text text-anchor=\"middle\" x=\"2267\" y=\"-134.3\" font-family=\"Helvetica,sans-Serif\" font-size=\"14.00\" fill=\"#000000\">value = [0, 1]</text>\n<text text-anchor=\"middle\" x=\"2267\" y=\"-119.3\" font-family=\"Helvetica,sans-Serif\" font-size=\"14.00\" fill=\"#000000\">class = Inactive</text>\n</g>\n<!-- 92&#45;&gt;94 -->\n<g id=\"edge94\" class=\"edge\">\n<title>92&#45;&gt;94</title>\n<path fill=\"none\" stroke=\"#000000\" d=\"M2190.2707,-222.8796C2201.7195,-211.3337 2214.1503,-198.7976 2225.6062,-187.2446\"/>\n<polygon fill=\"#000000\" stroke=\"#000000\" points=\"2228.4175,-189.3802 2232.9734,-179.8149 2223.4469,-184.4514 2228.4175,-189.3802\"/>\n</g>\n<!-- 98 -->\n<g id=\"node99\" class=\"node\">\n<title>98</title>\n<polygon fill=\"#ffffff\" stroke=\"#000000\" points=\"2570.5,-544 2413.5,-544 2413.5,-461 2570.5,-461 2570.5,-544\"/>\n<text text-anchor=\"middle\" x=\"2492\" y=\"-528.8\" font-family=\"Helvetica,sans-Serif\" font-size=\"14.00\" fill=\"#000000\">geomShape &lt;= 0.815</text>\n<text text-anchor=\"middle\" x=\"2492\" y=\"-513.8\" font-family=\"Helvetica,sans-Serif\" font-size=\"14.00\" fill=\"#000000\">gini = 0.5</text>\n<text text-anchor=\"middle\" x=\"2492\" y=\"-498.8\" font-family=\"Helvetica,sans-Serif\" font-size=\"14.00\" fill=\"#000000\">samples = 2</text>\n<text text-anchor=\"middle\" x=\"2492\" y=\"-483.8\" font-family=\"Helvetica,sans-Serif\" font-size=\"14.00\" fill=\"#000000\">value = [1, 1]</text>\n<text text-anchor=\"middle\" x=\"2492\" y=\"-468.8\" font-family=\"Helvetica,sans-Serif\" font-size=\"14.00\" fill=\"#000000\">class = Active</text>\n</g>\n<!-- 97&#45;&gt;98 -->\n<g id=\"edge98\" class=\"edge\">\n<title>97&#45;&gt;98</title>\n<path fill=\"none\" stroke=\"#000000\" d=\"M2492,-579.8796C2492,-571.6838 2492,-562.9891 2492,-554.5013\"/>\n<polygon fill=\"#000000\" stroke=\"#000000\" points=\"2495.5001,-554.298 2492,-544.2981 2488.5001,-554.2981 2495.5001,-554.298\"/>\n</g>\n<!-- 101 -->\n<g id=\"node102\" class=\"node\">\n<title>101</title>\n<polygon fill=\"#40a1e6\" stroke=\"#000000\" points=\"2725.5,-544 2588.5,-544 2588.5,-461 2725.5,-461 2725.5,-544\"/>\n<text text-anchor=\"middle\" x=\"2657\" y=\"-528.8\" font-family=\"Helvetica,sans-Serif\" font-size=\"14.00\" fill=\"#000000\">GATS4m &lt;= 1.016</text>\n<text text-anchor=\"middle\" x=\"2657\" y=\"-513.8\" font-family=\"Helvetica,sans-Serif\" font-size=\"14.00\" fill=\"#000000\">gini = 0.069</text>\n<text text-anchor=\"middle\" x=\"2657\" y=\"-498.8\" font-family=\"Helvetica,sans-Serif\" font-size=\"14.00\" fill=\"#000000\">samples = 28</text>\n<text text-anchor=\"middle\" x=\"2657\" y=\"-483.8\" font-family=\"Helvetica,sans-Serif\" font-size=\"14.00\" fill=\"#000000\">value = [1, 27]</text>\n<text text-anchor=\"middle\" x=\"2657\" y=\"-468.8\" font-family=\"Helvetica,sans-Serif\" font-size=\"14.00\" fill=\"#000000\">class = Inactive</text>\n</g>\n<!-- 97&#45;&gt;101 -->\n<g id=\"edge101\" class=\"edge\">\n<title>97&#45;&gt;101</title>\n<path fill=\"none\" stroke=\"#000000\" d=\"M2549.709,-579.8796C2563.023,-570.2774 2577.2866,-559.9903 2590.9259,-550.1534\"/>\n<polygon fill=\"#000000\" stroke=\"#000000\" points=\"2593.2602,-552.7852 2599.3236,-544.0969 2589.1655,-547.1077 2593.2602,-552.7852\"/>\n</g>\n<!-- 99 -->\n<g id=\"node100\" class=\"node\">\n<title>99</title>\n<polygon fill=\"#399de5\" stroke=\"#000000\" points=\"2430,-417.5 2314,-417.5 2314,-349.5 2430,-349.5 2430,-417.5\"/>\n<text text-anchor=\"middle\" x=\"2372\" y=\"-402.3\" font-family=\"Helvetica,sans-Serif\" font-size=\"14.00\" fill=\"#000000\">gini = 0.0</text>\n<text text-anchor=\"middle\" x=\"2372\" y=\"-387.3\" font-family=\"Helvetica,sans-Serif\" font-size=\"14.00\" fill=\"#000000\">samples = 1</text>\n<text text-anchor=\"middle\" x=\"2372\" y=\"-372.3\" font-family=\"Helvetica,sans-Serif\" font-size=\"14.00\" fill=\"#000000\">value = [0, 1]</text>\n<text text-anchor=\"middle\" x=\"2372\" y=\"-357.3\" font-family=\"Helvetica,sans-Serif\" font-size=\"14.00\" fill=\"#000000\">class = Inactive</text>\n</g>\n<!-- 98&#45;&gt;99 -->\n<g id=\"edge99\" class=\"edge\">\n<title>98&#45;&gt;99</title>\n<path fill=\"none\" stroke=\"#000000\" d=\"M2450.0298,-460.8796C2438.276,-449.2237 2425.5046,-436.5587 2413.7628,-424.9148\"/>\n<polygon fill=\"#000000\" stroke=\"#000000\" points=\"2416.1684,-422.3712 2406.6033,-417.8149 2411.2394,-427.3416 2416.1684,-422.3712\"/>\n</g>\n<!-- 100 -->\n<g id=\"node101\" class=\"node\">\n<title>100</title>\n<polygon fill=\"#e58139\" stroke=\"#000000\" points=\"2553.5,-417.5 2448.5,-417.5 2448.5,-349.5 2553.5,-349.5 2553.5,-417.5\"/>\n<text text-anchor=\"middle\" x=\"2501\" y=\"-402.3\" font-family=\"Helvetica,sans-Serif\" font-size=\"14.00\" fill=\"#000000\">gini = 0.0</text>\n<text text-anchor=\"middle\" x=\"2501\" y=\"-387.3\" font-family=\"Helvetica,sans-Serif\" font-size=\"14.00\" fill=\"#000000\">samples = 1</text>\n<text text-anchor=\"middle\" x=\"2501\" y=\"-372.3\" font-family=\"Helvetica,sans-Serif\" font-size=\"14.00\" fill=\"#000000\">value = [1, 0]</text>\n<text text-anchor=\"middle\" x=\"2501\" y=\"-357.3\" font-family=\"Helvetica,sans-Serif\" font-size=\"14.00\" fill=\"#000000\">class = Active</text>\n</g>\n<!-- 98&#45;&gt;100 -->\n<g id=\"edge100\" class=\"edge\">\n<title>98&#45;&gt;100</title>\n<path fill=\"none\" stroke=\"#000000\" d=\"M2495.1478,-460.8796C2495.9545,-450.2134 2496.8251,-438.7021 2497.6419,-427.9015\"/>\n<polygon fill=\"#000000\" stroke=\"#000000\" points=\"2501.1405,-428.0504 2498.4048,-417.8149 2494.1605,-427.5225 2501.1405,-428.0504\"/>\n</g>\n<!-- 102 -->\n<g id=\"node103\" class=\"node\">\n<title>102</title>\n<polygon fill=\"#399de5\" stroke=\"#000000\" points=\"2706,-417.5 2590,-417.5 2590,-349.5 2706,-349.5 2706,-417.5\"/>\n<text text-anchor=\"middle\" x=\"2648\" y=\"-402.3\" font-family=\"Helvetica,sans-Serif\" font-size=\"14.00\" fill=\"#000000\">gini = 0.0</text>\n<text text-anchor=\"middle\" x=\"2648\" y=\"-387.3\" font-family=\"Helvetica,sans-Serif\" font-size=\"14.00\" fill=\"#000000\">samples = 24</text>\n<text text-anchor=\"middle\" x=\"2648\" y=\"-372.3\" font-family=\"Helvetica,sans-Serif\" font-size=\"14.00\" fill=\"#000000\">value = [0, 24]</text>\n<text text-anchor=\"middle\" x=\"2648\" y=\"-357.3\" font-family=\"Helvetica,sans-Serif\" font-size=\"14.00\" fill=\"#000000\">class = Inactive</text>\n</g>\n<!-- 101&#45;&gt;102 -->\n<g id=\"edge102\" class=\"edge\">\n<title>101&#45;&gt;102</title>\n<path fill=\"none\" stroke=\"#000000\" d=\"M2653.8522,-460.8796C2653.0455,-450.2134 2652.1749,-438.7021 2651.3581,-427.9015\"/>\n<polygon fill=\"#000000\" stroke=\"#000000\" points=\"2654.8395,-427.5225 2650.5952,-417.8149 2647.8595,-428.0504 2654.8395,-427.5225\"/>\n</g>\n<!-- 103 -->\n<g id=\"node104\" class=\"node\">\n<title>103</title>\n<polygon fill=\"#7bbeee\" stroke=\"#000000\" points=\"2852,-425 2724,-425 2724,-342 2852,-342 2852,-425\"/>\n<text text-anchor=\"middle\" x=\"2788\" y=\"-409.8\" font-family=\"Helvetica,sans-Serif\" font-size=\"14.00\" fill=\"#000000\">GATS2i &lt;= 1.038</text>\n<text text-anchor=\"middle\" x=\"2788\" y=\"-394.8\" font-family=\"Helvetica,sans-Serif\" font-size=\"14.00\" fill=\"#000000\">gini = 0.375</text>\n<text text-anchor=\"middle\" x=\"2788\" y=\"-379.8\" font-family=\"Helvetica,sans-Serif\" font-size=\"14.00\" fill=\"#000000\">samples = 4</text>\n<text text-anchor=\"middle\" x=\"2788\" y=\"-364.8\" font-family=\"Helvetica,sans-Serif\" font-size=\"14.00\" fill=\"#000000\">value = [1, 3]</text>\n<text text-anchor=\"middle\" x=\"2788\" y=\"-349.8\" font-family=\"Helvetica,sans-Serif\" font-size=\"14.00\" fill=\"#000000\">class = Inactive</text>\n</g>\n<!-- 101&#45;&gt;103 -->\n<g id=\"edge103\" class=\"edge\">\n<title>101&#45;&gt;103</title>\n<path fill=\"none\" stroke=\"#000000\" d=\"M2702.8174,-460.8796C2713.0294,-451.6031 2723.945,-441.6874 2734.4376,-432.1559\"/>\n<polygon fill=\"#000000\" stroke=\"#000000\" points=\"2736.9384,-434.6127 2741.987,-425.2981 2732.2316,-429.4313 2736.9384,-434.6127\"/>\n</g>\n<!-- 104 -->\n<g id=\"node105\" class=\"node\">\n<title>104</title>\n<polygon fill=\"#399de5\" stroke=\"#000000\" points=\"2781,-298.5 2665,-298.5 2665,-230.5 2781,-230.5 2781,-298.5\"/>\n<text text-anchor=\"middle\" x=\"2723\" y=\"-283.3\" font-family=\"Helvetica,sans-Serif\" font-size=\"14.00\" fill=\"#000000\">gini = 0.0</text>\n<text text-anchor=\"middle\" x=\"2723\" y=\"-268.3\" font-family=\"Helvetica,sans-Serif\" font-size=\"14.00\" fill=\"#000000\">samples = 3</text>\n<text text-anchor=\"middle\" x=\"2723\" y=\"-253.3\" font-family=\"Helvetica,sans-Serif\" font-size=\"14.00\" fill=\"#000000\">value = [0, 3]</text>\n<text text-anchor=\"middle\" x=\"2723\" y=\"-238.3\" font-family=\"Helvetica,sans-Serif\" font-size=\"14.00\" fill=\"#000000\">class = Inactive</text>\n</g>\n<!-- 103&#45;&gt;104 -->\n<g id=\"edge104\" class=\"edge\">\n<title>103&#45;&gt;104</title>\n<path fill=\"none\" stroke=\"#000000\" d=\"M2765.2662,-341.8796C2759.2599,-330.8835 2752.763,-318.9893 2746.7067,-307.9015\"/>\n<polygon fill=\"#000000\" stroke=\"#000000\" points=\"2749.6088,-305.9133 2741.7435,-298.8149 2743.4655,-309.2689 2749.6088,-305.9133\"/>\n</g>\n<!-- 105 -->\n<g id=\"node106\" class=\"node\">\n<title>105</title>\n<polygon fill=\"#e58139\" stroke=\"#000000\" points=\"2904.5,-298.5 2799.5,-298.5 2799.5,-230.5 2904.5,-230.5 2904.5,-298.5\"/>\n<text text-anchor=\"middle\" x=\"2852\" y=\"-283.3\" font-family=\"Helvetica,sans-Serif\" font-size=\"14.00\" fill=\"#000000\">gini = 0.0</text>\n<text text-anchor=\"middle\" x=\"2852\" y=\"-268.3\" font-family=\"Helvetica,sans-Serif\" font-size=\"14.00\" fill=\"#000000\">samples = 1</text>\n<text text-anchor=\"middle\" x=\"2852\" y=\"-253.3\" font-family=\"Helvetica,sans-Serif\" font-size=\"14.00\" fill=\"#000000\">value = [1, 0]</text>\n<text text-anchor=\"middle\" x=\"2852\" y=\"-238.3\" font-family=\"Helvetica,sans-Serif\" font-size=\"14.00\" fill=\"#000000\">class = Active</text>\n</g>\n<!-- 103&#45;&gt;105 -->\n<g id=\"edge105\" class=\"edge\">\n<title>103&#45;&gt;105</title>\n<path fill=\"none\" stroke=\"#000000\" d=\"M2810.3841,-341.8796C2816.298,-330.8835 2822.6949,-318.9893 2828.658,-307.9015\"/>\n<polygon fill=\"#000000\" stroke=\"#000000\" points=\"2831.8908,-309.2799 2833.5449,-298.8149 2825.7258,-305.9642 2831.8908,-309.2799\"/>\n</g>\n<!-- 108 -->\n<g id=\"node109\" class=\"node\">\n<title>108</title>\n<polygon fill=\"#399de5\" stroke=\"#000000\" points=\"2189,-1131.5 2073,-1131.5 2073,-1063.5 2189,-1063.5 2189,-1131.5\"/>\n<text text-anchor=\"middle\" x=\"2131\" y=\"-1116.3\" font-family=\"Helvetica,sans-Serif\" font-size=\"14.00\" fill=\"#000000\">gini = 0.0</text>\n<text text-anchor=\"middle\" x=\"2131\" y=\"-1101.3\" font-family=\"Helvetica,sans-Serif\" font-size=\"14.00\" fill=\"#000000\">samples = 1</text>\n<text text-anchor=\"middle\" x=\"2131\" y=\"-1086.3\" font-family=\"Helvetica,sans-Serif\" font-size=\"14.00\" fill=\"#000000\">value = [0, 1]</text>\n<text text-anchor=\"middle\" x=\"2131\" y=\"-1071.3\" font-family=\"Helvetica,sans-Serif\" font-size=\"14.00\" fill=\"#000000\">class = Inactive</text>\n</g>\n<!-- 107&#45;&gt;108 -->\n<g id=\"edge108\" class=\"edge\">\n<title>107&#45;&gt;108</title>\n<path fill=\"none\" stroke=\"#000000\" d=\"M2127.7488,-1174.8796C2128.1969,-1164.2134 2128.6806,-1152.7021 2129.1344,-1141.9015\"/>\n<polygon fill=\"#000000\" stroke=\"#000000\" points=\"2132.6352,-1141.9531 2129.5582,-1131.8149 2125.6414,-1141.6592 2132.6352,-1141.9531\"/>\n</g>\n<!-- 109 -->\n<g id=\"node110\" class=\"node\">\n<title>109</title>\n<polygon fill=\"#e58139\" stroke=\"#000000\" points=\"2312.5,-1131.5 2207.5,-1131.5 2207.5,-1063.5 2312.5,-1063.5 2312.5,-1131.5\"/>\n<text text-anchor=\"middle\" x=\"2260\" y=\"-1116.3\" font-family=\"Helvetica,sans-Serif\" font-size=\"14.00\" fill=\"#000000\">gini = 0.0</text>\n<text text-anchor=\"middle\" x=\"2260\" y=\"-1101.3\" font-family=\"Helvetica,sans-Serif\" font-size=\"14.00\" fill=\"#000000\">samples = 3</text>\n<text text-anchor=\"middle\" x=\"2260\" y=\"-1086.3\" font-family=\"Helvetica,sans-Serif\" font-size=\"14.00\" fill=\"#000000\">value = [3, 0]</text>\n<text text-anchor=\"middle\" x=\"2260\" y=\"-1071.3\" font-family=\"Helvetica,sans-Serif\" font-size=\"14.00\" fill=\"#000000\">class = Active</text>\n</g>\n<!-- 107&#45;&gt;109 -->\n<g id=\"edge109\" class=\"edge\">\n<title>107&#45;&gt;109</title>\n<path fill=\"none\" stroke=\"#000000\" d=\"M2172.8667,-1174.8796C2186.1156,-1163.1138 2200.5224,-1150.3197 2213.7356,-1138.5855\"/>\n<polygon fill=\"#000000\" stroke=\"#000000\" points=\"2216.2065,-1141.0722 2221.3597,-1131.8149 2211.5584,-1135.8381 2216.2065,-1141.0722\"/>\n</g>\n<!-- 111 -->\n<g id=\"node112\" class=\"node\">\n<title>111</title>\n<polygon fill=\"#e58139\" stroke=\"#000000\" points=\"2317.5,-1250.5 2212.5,-1250.5 2212.5,-1182.5 2317.5,-1182.5 2317.5,-1250.5\"/>\n<text text-anchor=\"middle\" x=\"2265\" y=\"-1235.3\" font-family=\"Helvetica,sans-Serif\" font-size=\"14.00\" fill=\"#000000\">gini = 0.0</text>\n<text text-anchor=\"middle\" x=\"2265\" y=\"-1220.3\" font-family=\"Helvetica,sans-Serif\" font-size=\"14.00\" fill=\"#000000\">samples = 4</text>\n<text text-anchor=\"middle\" x=\"2265\" y=\"-1205.3\" font-family=\"Helvetica,sans-Serif\" font-size=\"14.00\" fill=\"#000000\">value = [4, 0]</text>\n<text text-anchor=\"middle\" x=\"2265\" y=\"-1190.3\" font-family=\"Helvetica,sans-Serif\" font-size=\"14.00\" fill=\"#000000\">class = Active</text>\n</g>\n<!-- 110&#45;&gt;111 -->\n<g id=\"edge111\" class=\"edge\">\n<title>110&#45;&gt;111</title>\n<path fill=\"none\" stroke=\"#000000\" d=\"M2265,-1293.8796C2265,-1283.2134 2265,-1271.7021 2265,-1260.9015\"/>\n<polygon fill=\"#000000\" stroke=\"#000000\" points=\"2268.5001,-1260.8149 2265,-1250.8149 2261.5001,-1260.815 2268.5001,-1260.8149\"/>\n</g>\n<!-- 112 -->\n<g id=\"node113\" class=\"node\">\n<title>112</title>\n<polygon fill=\"#399de5\" stroke=\"#000000\" points=\"2452,-1250.5 2336,-1250.5 2336,-1182.5 2452,-1182.5 2452,-1250.5\"/>\n<text text-anchor=\"middle\" x=\"2394\" y=\"-1235.3\" font-family=\"Helvetica,sans-Serif\" font-size=\"14.00\" fill=\"#000000\">gini = 0.0</text>\n<text text-anchor=\"middle\" x=\"2394\" y=\"-1220.3\" font-family=\"Helvetica,sans-Serif\" font-size=\"14.00\" fill=\"#000000\">samples = 1</text>\n<text text-anchor=\"middle\" x=\"2394\" y=\"-1205.3\" font-family=\"Helvetica,sans-Serif\" font-size=\"14.00\" fill=\"#000000\">value = [0, 1]</text>\n<text text-anchor=\"middle\" x=\"2394\" y=\"-1190.3\" font-family=\"Helvetica,sans-Serif\" font-size=\"14.00\" fill=\"#000000\">class = Inactive</text>\n</g>\n<!-- 110&#45;&gt;112 -->\n<g id=\"edge112\" class=\"edge\">\n<title>110&#45;&gt;112</title>\n<path fill=\"none\" stroke=\"#000000\" d=\"M2310.1179,-1293.8796C2322.7533,-1282.2237 2336.4826,-1269.5587 2349.105,-1257.9148\"/>\n<polygon fill=\"#000000\" stroke=\"#000000\" points=\"2351.8244,-1260.168 2356.8015,-1250.8149 2347.078,-1255.0228 2351.8244,-1260.168\"/>\n</g>\n</g>\n</svg>\n"
          },
          "metadata": {},
          "execution_count": 46
        }
      ],
      "source": [
        "dot_data = tree.export_graphviz(model, out_file=None, \n",
        "                                feature_names=['AATS5i', 'ATSC5p', 'GATS4m', 'GATS2i', 'nHBint6', 'nHeteroRing', 'n5HeteroRing', 'nF9HeteroRing', 'nT5HeteroRing', 'geomShape', 'RDF70m', 'P1p','E3s'], ##I think this should be X1 \n",
        "                                class_names=['Active','Inactive'], ## I think this should be y1 or y but it gives a key value error\n",
        "                                filled=True)\n",
        "\n",
        "# Draw graph\n",
        "graph = graphviz.Source(dot_data, format=\"png\") \n",
        "graph"
      ]
    },
    {
      "cell_type": "code",
      "execution_count": null,
      "metadata": {
        "id": "gYi64V3uNGmx",
        "outputId": "89498527-3906-45b4-959d-117126aee10f",
        "colab": {
          "base_uri": "https://localhost:8080/",
          "height": 778
        }
      },
      "outputs": [
        {
          "output_type": "execute_result",
          "data": {
            "text/plain": [
              "<graphviz.files.Source at 0x7f3419b18b50>"
            ],
            "image/svg+xml": "<?xml version=\"1.0\" encoding=\"UTF-8\" standalone=\"no\"?>\n<!DOCTYPE svg PUBLIC \"-//W3C//DTD SVG 1.1//EN\"\n \"http://www.w3.org/Graphics/SVG/1.1/DTD/svg11.dtd\">\n<!-- Generated by graphviz version 2.40.1 (20161225.0304)\n -->\n<!-- Title: Tree Pages: 1 -->\n<svg width=\"1312pt\" height=\"552pt\"\n viewBox=\"0.00 0.00 1312.00 552.00\" xmlns=\"http://www.w3.org/2000/svg\" xmlns:xlink=\"http://www.w3.org/1999/xlink\">\n<g id=\"graph0\" class=\"graph\" transform=\"scale(1 1) rotate(0) translate(4 548)\">\n<title>Tree</title>\n<polygon fill=\"#ffffff\" stroke=\"transparent\" points=\"-4,4 -4,-548 1308,-548 1308,4 -4,4\"/>\n<!-- 0 -->\n<g id=\"node1\" class=\"node\">\n<title>0</title>\n<polygon fill=\"#c1e0f7\" stroke=\"#000000\" points=\"629,-544 469,-544 469,-461 629,-461 629,-544\"/>\n<text text-anchor=\"middle\" x=\"549\" y=\"-528.8\" font-family=\"Helvetica,sans-Serif\" font-size=\"14.00\" fill=\"#000000\">nF9HeteroRing &lt;= 0.5</text>\n<text text-anchor=\"middle\" x=\"549\" y=\"-513.8\" font-family=\"Helvetica,sans-Serif\" font-size=\"14.00\" fill=\"#000000\">gini = 0.482</text>\n<text text-anchor=\"middle\" x=\"549\" y=\"-498.8\" font-family=\"Helvetica,sans-Serif\" font-size=\"14.00\" fill=\"#000000\">samples = 219</text>\n<text text-anchor=\"middle\" x=\"549\" y=\"-483.8\" font-family=\"Helvetica,sans-Serif\" font-size=\"14.00\" fill=\"#000000\">value = [89, 130]</text>\n<text text-anchor=\"middle\" x=\"549\" y=\"-468.8\" font-family=\"Helvetica,sans-Serif\" font-size=\"14.00\" fill=\"#000000\">class = Inactive</text>\n</g>\n<!-- 1 -->\n<g id=\"node2\" class=\"node\">\n<title>1</title>\n<polygon fill=\"#eda673\" stroke=\"#000000\" points=\"445,-425 309,-425 309,-342 445,-342 445,-425\"/>\n<text text-anchor=\"middle\" x=\"377\" y=\"-409.8\" font-family=\"Helvetica,sans-Serif\" font-size=\"14.00\" fill=\"#000000\">RDF70m &lt;= 6.748</text>\n<text text-anchor=\"middle\" x=\"377\" y=\"-394.8\" font-family=\"Helvetica,sans-Serif\" font-size=\"14.00\" fill=\"#000000\">gini = 0.351</text>\n<text text-anchor=\"middle\" x=\"377\" y=\"-379.8\" font-family=\"Helvetica,sans-Serif\" font-size=\"14.00\" fill=\"#000000\">samples = 22</text>\n<text text-anchor=\"middle\" x=\"377\" y=\"-364.8\" font-family=\"Helvetica,sans-Serif\" font-size=\"14.00\" fill=\"#000000\">value = [17, 5]</text>\n<text text-anchor=\"middle\" x=\"377\" y=\"-349.8\" font-family=\"Helvetica,sans-Serif\" font-size=\"14.00\" fill=\"#000000\">class = Active</text>\n</g>\n<!-- 0&#45;&gt;1 -->\n<g id=\"edge1\" class=\"edge\">\n<title>0&#45;&gt;1</title>\n<path fill=\"none\" stroke=\"#000000\" d=\"M488.8427,-460.8796C474.833,-451.1868 459.8146,-440.7961 445.475,-430.8752\"/>\n<polygon fill=\"#000000\" stroke=\"#000000\" points=\"447.3383,-427.9083 437.1233,-425.0969 443.3556,-433.6649 447.3383,-427.9083\"/>\n<text text-anchor=\"middle\" x=\"441.6029\" y=\"-445.9923\" font-family=\"Helvetica,sans-Serif\" font-size=\"14.00\" fill=\"#000000\">True</text>\n</g>\n<!-- 12 -->\n<g id=\"node13\" class=\"node\">\n<title>12</title>\n<polygon fill=\"#abd5f4\" stroke=\"#000000\" points=\"843,-425 683,-425 683,-342 843,-342 843,-425\"/>\n<text text-anchor=\"middle\" x=\"763\" y=\"-409.8\" font-family=\"Helvetica,sans-Serif\" font-size=\"14.00\" fill=\"#000000\">nF9HeteroRing &lt;= 1.5</text>\n<text text-anchor=\"middle\" x=\"763\" y=\"-394.8\" font-family=\"Helvetica,sans-Serif\" font-size=\"14.00\" fill=\"#000000\">gini = 0.464</text>\n<text text-anchor=\"middle\" x=\"763\" y=\"-379.8\" font-family=\"Helvetica,sans-Serif\" font-size=\"14.00\" fill=\"#000000\">samples = 197</text>\n<text text-anchor=\"middle\" x=\"763\" y=\"-364.8\" font-family=\"Helvetica,sans-Serif\" font-size=\"14.00\" fill=\"#000000\">value = [72, 125]</text>\n<text text-anchor=\"middle\" x=\"763\" y=\"-349.8\" font-family=\"Helvetica,sans-Serif\" font-size=\"14.00\" fill=\"#000000\">class = Inactive</text>\n</g>\n<!-- 0&#45;&gt;12 -->\n<g id=\"edge12\" class=\"edge\">\n<title>0&#45;&gt;12</title>\n<path fill=\"none\" stroke=\"#000000\" d=\"M623.8468,-460.8796C641.7663,-450.915 661.012,-440.2129 679.303,-430.0418\"/>\n<polygon fill=\"#000000\" stroke=\"#000000\" points=\"681.1568,-433.0158 688.1954,-425.0969 677.7548,-426.898 681.1568,-433.0158\"/>\n<text text-anchor=\"middle\" x=\"681.337\" y=\"-445.4377\" font-family=\"Helvetica,sans-Serif\" font-size=\"14.00\" fill=\"#000000\">False</text>\n</g>\n<!-- 2 -->\n<g id=\"node3\" class=\"node\">\n<title>2</title>\n<polygon fill=\"#9ccef2\" stroke=\"#000000\" points=\"265.5,-306 108.5,-306 108.5,-223 265.5,-223 265.5,-306\"/>\n<text text-anchor=\"middle\" x=\"187\" y=\"-290.8\" font-family=\"Helvetica,sans-Serif\" font-size=\"14.00\" fill=\"#000000\">geomShape &lt;= 0.842</text>\n<text text-anchor=\"middle\" x=\"187\" y=\"-275.8\" font-family=\"Helvetica,sans-Serif\" font-size=\"14.00\" fill=\"#000000\">gini = 0.444</text>\n<text text-anchor=\"middle\" x=\"187\" y=\"-260.8\" font-family=\"Helvetica,sans-Serif\" font-size=\"14.00\" fill=\"#000000\">samples = 3</text>\n<text text-anchor=\"middle\" x=\"187\" y=\"-245.8\" font-family=\"Helvetica,sans-Serif\" font-size=\"14.00\" fill=\"#000000\">value = [1, 2]</text>\n<text text-anchor=\"middle\" x=\"187\" y=\"-230.8\" font-family=\"Helvetica,sans-Serif\" font-size=\"14.00\" fill=\"#000000\">class = Inactive</text>\n</g>\n<!-- 1&#45;&gt;2 -->\n<g id=\"edge2\" class=\"edge\">\n<title>1&#45;&gt;2</title>\n<path fill=\"none\" stroke=\"#000000\" d=\"M310.5472,-341.8796C294.9267,-332.0962 278.171,-321.6019 262.1971,-311.5971\"/>\n<polygon fill=\"#000000\" stroke=\"#000000\" points=\"263.7481,-308.4387 253.4153,-306.0969 260.0324,-314.3712 263.7481,-308.4387\"/>\n</g>\n<!-- 7 -->\n<g id=\"node8\" class=\"node\">\n<title>7</title>\n<polygon fill=\"#ea995e\" stroke=\"#000000\" points=\"430.5,-306 323.5,-306 323.5,-223 430.5,-223 430.5,-306\"/>\n<text text-anchor=\"middle\" x=\"377\" y=\"-290.8\" font-family=\"Helvetica,sans-Serif\" font-size=\"14.00\" fill=\"#000000\">E3s &lt;= 0.489</text>\n<text text-anchor=\"middle\" x=\"377\" y=\"-275.8\" font-family=\"Helvetica,sans-Serif\" font-size=\"14.00\" fill=\"#000000\">gini = 0.266</text>\n<text text-anchor=\"middle\" x=\"377\" y=\"-260.8\" font-family=\"Helvetica,sans-Serif\" font-size=\"14.00\" fill=\"#000000\">samples = 19</text>\n<text text-anchor=\"middle\" x=\"377\" y=\"-245.8\" font-family=\"Helvetica,sans-Serif\" font-size=\"14.00\" fill=\"#000000\">value = [16, 3]</text>\n<text text-anchor=\"middle\" x=\"377\" y=\"-230.8\" font-family=\"Helvetica,sans-Serif\" font-size=\"14.00\" fill=\"#000000\">class = Active</text>\n</g>\n<!-- 1&#45;&gt;7 -->\n<g id=\"edge7\" class=\"edge\">\n<title>1&#45;&gt;7</title>\n<path fill=\"none\" stroke=\"#000000\" d=\"M377,-341.8796C377,-333.6838 377,-324.9891 377,-316.5013\"/>\n<polygon fill=\"#000000\" stroke=\"#000000\" points=\"380.5001,-316.298 377,-306.2981 373.5001,-316.2981 380.5001,-316.298\"/>\n</g>\n<!-- 3 -->\n<g id=\"node4\" class=\"node\">\n<title>3</title>\n<polygon fill=\"#399de5\" stroke=\"#000000\" points=\"116,-179.5 0,-179.5 0,-111.5 116,-111.5 116,-179.5\"/>\n<text text-anchor=\"middle\" x=\"58\" y=\"-164.3\" font-family=\"Helvetica,sans-Serif\" font-size=\"14.00\" fill=\"#000000\">gini = 0.0</text>\n<text text-anchor=\"middle\" x=\"58\" y=\"-149.3\" font-family=\"Helvetica,sans-Serif\" font-size=\"14.00\" fill=\"#000000\">samples = 1</text>\n<text text-anchor=\"middle\" x=\"58\" y=\"-134.3\" font-family=\"Helvetica,sans-Serif\" font-size=\"14.00\" fill=\"#000000\">value = [0, 1]</text>\n<text text-anchor=\"middle\" x=\"58\" y=\"-119.3\" font-family=\"Helvetica,sans-Serif\" font-size=\"14.00\" fill=\"#000000\">class = Inactive</text>\n</g>\n<!-- 2&#45;&gt;3 -->\n<g id=\"edge3\" class=\"edge\">\n<title>2&#45;&gt;3</title>\n<path fill=\"none\" stroke=\"#000000\" d=\"M141.8821,-222.8796C129.2467,-211.2237 115.5174,-198.5587 102.895,-186.9148\"/>\n<polygon fill=\"#000000\" stroke=\"#000000\" points=\"104.922,-184.0228 95.1985,-179.8149 100.1756,-189.168 104.922,-184.0228\"/>\n</g>\n<!-- 4 -->\n<g id=\"node5\" class=\"node\">\n<title>4</title>\n<polygon fill=\"#ffffff\" stroke=\"#000000\" points=\"239.5,-187 134.5,-187 134.5,-104 239.5,-104 239.5,-187\"/>\n<text text-anchor=\"middle\" x=\"187\" y=\"-171.8\" font-family=\"Helvetica,sans-Serif\" font-size=\"14.00\" fill=\"#000000\">P1p &lt;= 0.841</text>\n<text text-anchor=\"middle\" x=\"187\" y=\"-156.8\" font-family=\"Helvetica,sans-Serif\" font-size=\"14.00\" fill=\"#000000\">gini = 0.5</text>\n<text text-anchor=\"middle\" x=\"187\" y=\"-141.8\" font-family=\"Helvetica,sans-Serif\" font-size=\"14.00\" fill=\"#000000\">samples = 2</text>\n<text text-anchor=\"middle\" x=\"187\" y=\"-126.8\" font-family=\"Helvetica,sans-Serif\" font-size=\"14.00\" fill=\"#000000\">value = [1, 1]</text>\n<text text-anchor=\"middle\" x=\"187\" y=\"-111.8\" font-family=\"Helvetica,sans-Serif\" font-size=\"14.00\" fill=\"#000000\">class = Active</text>\n</g>\n<!-- 2&#45;&gt;4 -->\n<g id=\"edge4\" class=\"edge\">\n<title>2&#45;&gt;4</title>\n<path fill=\"none\" stroke=\"#000000\" d=\"M187,-222.8796C187,-214.6838 187,-205.9891 187,-197.5013\"/>\n<polygon fill=\"#000000\" stroke=\"#000000\" points=\"190.5001,-197.298 187,-187.2981 183.5001,-197.2981 190.5001,-197.298\"/>\n</g>\n<!-- 5 -->\n<g id=\"node6\" class=\"node\">\n<title>5</title>\n<polygon fill=\"#399de5\" stroke=\"#000000\" points=\"116,-68 0,-68 0,0 116,0 116,-68\"/>\n<text text-anchor=\"middle\" x=\"58\" y=\"-52.8\" font-family=\"Helvetica,sans-Serif\" font-size=\"14.00\" fill=\"#000000\">gini = 0.0</text>\n<text text-anchor=\"middle\" x=\"58\" y=\"-37.8\" font-family=\"Helvetica,sans-Serif\" font-size=\"14.00\" fill=\"#000000\">samples = 1</text>\n<text text-anchor=\"middle\" x=\"58\" y=\"-22.8\" font-family=\"Helvetica,sans-Serif\" font-size=\"14.00\" fill=\"#000000\">value = [0, 1]</text>\n<text text-anchor=\"middle\" x=\"58\" y=\"-7.8\" font-family=\"Helvetica,sans-Serif\" font-size=\"14.00\" fill=\"#000000\">class = Inactive</text>\n</g>\n<!-- 4&#45;&gt;5 -->\n<g id=\"edge5\" class=\"edge\">\n<title>4&#45;&gt;5</title>\n<path fill=\"none\" stroke=\"#000000\" d=\"M138.9652,-103.9815C128.013,-94.5151 116.3821,-84.462 105.4544,-75.0168\"/>\n<polygon fill=\"#000000\" stroke=\"#000000\" points=\"107.4957,-72.155 97.6414,-68.2637 102.9182,-77.4509 107.4957,-72.155\"/>\n</g>\n<!-- 6 -->\n<g id=\"node7\" class=\"node\">\n<title>6</title>\n<polygon fill=\"#e58139\" stroke=\"#000000\" points=\"239.5,-68 134.5,-68 134.5,0 239.5,0 239.5,-68\"/>\n<text text-anchor=\"middle\" x=\"187\" y=\"-52.8\" font-family=\"Helvetica,sans-Serif\" font-size=\"14.00\" fill=\"#000000\">gini = 0.0</text>\n<text text-anchor=\"middle\" x=\"187\" y=\"-37.8\" font-family=\"Helvetica,sans-Serif\" font-size=\"14.00\" fill=\"#000000\">samples = 1</text>\n<text text-anchor=\"middle\" x=\"187\" y=\"-22.8\" font-family=\"Helvetica,sans-Serif\" font-size=\"14.00\" fill=\"#000000\">value = [1, 0]</text>\n<text text-anchor=\"middle\" x=\"187\" y=\"-7.8\" font-family=\"Helvetica,sans-Serif\" font-size=\"14.00\" fill=\"#000000\">class = Active</text>\n</g>\n<!-- 4&#45;&gt;6 -->\n<g id=\"edge6\" class=\"edge\">\n<title>4&#45;&gt;6</title>\n<path fill=\"none\" stroke=\"#000000\" d=\"M187,-103.9815C187,-95.618 187,-86.7965 187,-78.3409\"/>\n<polygon fill=\"#000000\" stroke=\"#000000\" points=\"190.5001,-78.2636 187,-68.2637 183.5001,-78.2637 190.5001,-78.2636\"/>\n</g>\n<!-- 8 -->\n<g id=\"node9\" class=\"node\">\n<title>8</title>\n<polygon fill=\"#e89152\" stroke=\"#000000\" points=\"417.5,-187 310.5,-187 310.5,-104 417.5,-104 417.5,-187\"/>\n<text text-anchor=\"middle\" x=\"364\" y=\"-171.8\" font-family=\"Helvetica,sans-Serif\" font-size=\"14.00\" fill=\"#000000\">E3s &lt;= 0.446</text>\n<text text-anchor=\"middle\" x=\"364\" y=\"-156.8\" font-family=\"Helvetica,sans-Serif\" font-size=\"14.00\" fill=\"#000000\">gini = 0.198</text>\n<text text-anchor=\"middle\" x=\"364\" y=\"-141.8\" font-family=\"Helvetica,sans-Serif\" font-size=\"14.00\" fill=\"#000000\">samples = 18</text>\n<text text-anchor=\"middle\" x=\"364\" y=\"-126.8\" font-family=\"Helvetica,sans-Serif\" font-size=\"14.00\" fill=\"#000000\">value = [16, 2]</text>\n<text text-anchor=\"middle\" x=\"364\" y=\"-111.8\" font-family=\"Helvetica,sans-Serif\" font-size=\"14.00\" fill=\"#000000\">class = Active</text>\n</g>\n<!-- 7&#45;&gt;8 -->\n<g id=\"edge8\" class=\"edge\">\n<title>7&#45;&gt;8</title>\n<path fill=\"none\" stroke=\"#000000\" d=\"M372.4532,-222.8796C371.5579,-214.6838 370.6081,-205.9891 369.6808,-197.5013\"/>\n<polygon fill=\"#000000\" stroke=\"#000000\" points=\"373.1315,-196.8588 368.5662,-187.2981 366.1729,-197.6191 373.1315,-196.8588\"/>\n</g>\n<!-- 11 -->\n<g id=\"node12\" class=\"node\">\n<title>11</title>\n<polygon fill=\"#399de5\" stroke=\"#000000\" points=\"552,-179.5 436,-179.5 436,-111.5 552,-111.5 552,-179.5\"/>\n<text text-anchor=\"middle\" x=\"494\" y=\"-164.3\" font-family=\"Helvetica,sans-Serif\" font-size=\"14.00\" fill=\"#000000\">gini = 0.0</text>\n<text text-anchor=\"middle\" x=\"494\" y=\"-149.3\" font-family=\"Helvetica,sans-Serif\" font-size=\"14.00\" fill=\"#000000\">samples = 1</text>\n<text text-anchor=\"middle\" x=\"494\" y=\"-134.3\" font-family=\"Helvetica,sans-Serif\" font-size=\"14.00\" fill=\"#000000\">value = [0, 1]</text>\n<text text-anchor=\"middle\" x=\"494\" y=\"-119.3\" font-family=\"Helvetica,sans-Serif\" font-size=\"14.00\" fill=\"#000000\">class = Inactive</text>\n</g>\n<!-- 7&#45;&gt;11 -->\n<g id=\"edge11\" class=\"edge\">\n<title>7&#45;&gt;11</title>\n<path fill=\"none\" stroke=\"#000000\" d=\"M417.9209,-222.8796C429.2728,-211.3337 441.5982,-198.7976 452.957,-187.2446\"/>\n<polygon fill=\"#000000\" stroke=\"#000000\" points=\"455.7466,-189.3995 460.2618,-179.8149 450.7551,-184.4919 455.7466,-189.3995\"/>\n</g>\n<!-- 9 -->\n<g id=\"node10\" class=\"node\">\n<title>9</title>\n<polygon fill=\"#e58139\" stroke=\"#000000\" points=\"362.5,-68 257.5,-68 257.5,0 362.5,0 362.5,-68\"/>\n<text text-anchor=\"middle\" x=\"310\" y=\"-52.8\" font-family=\"Helvetica,sans-Serif\" font-size=\"14.00\" fill=\"#000000\">gini = 0.0</text>\n<text text-anchor=\"middle\" x=\"310\" y=\"-37.8\" font-family=\"Helvetica,sans-Serif\" font-size=\"14.00\" fill=\"#000000\">samples = 9</text>\n<text text-anchor=\"middle\" x=\"310\" y=\"-22.8\" font-family=\"Helvetica,sans-Serif\" font-size=\"14.00\" fill=\"#000000\">value = [9, 0]</text>\n<text text-anchor=\"middle\" x=\"310\" y=\"-7.8\" font-family=\"Helvetica,sans-Serif\" font-size=\"14.00\" fill=\"#000000\">class = Active</text>\n</g>\n<!-- 8&#45;&gt;9 -->\n<g id=\"edge9\" class=\"edge\">\n<title>8&#45;&gt;9</title>\n<path fill=\"none\" stroke=\"#000000\" d=\"M343.8924,-103.9815C339.7084,-95.3423 335.2877,-86.2144 331.0701,-77.5059\"/>\n<polygon fill=\"#000000\" stroke=\"#000000\" points=\"334.1029,-75.7382 326.5941,-68.2637 327.8029,-78.7893 334.1029,-75.7382\"/>\n</g>\n<!-- 10 -->\n<g id=\"node11\" class=\"node\">\n<title>10</title>\n<polygon fill=\"#eca572\" stroke=\"#000000\" points=\"485.5,-68 380.5,-68 380.5,0 485.5,0 485.5,-68\"/>\n<text text-anchor=\"middle\" x=\"433\" y=\"-52.8\" font-family=\"Helvetica,sans-Serif\" font-size=\"14.00\" fill=\"#000000\">gini = 0.346</text>\n<text text-anchor=\"middle\" x=\"433\" y=\"-37.8\" font-family=\"Helvetica,sans-Serif\" font-size=\"14.00\" fill=\"#000000\">samples = 9</text>\n<text text-anchor=\"middle\" x=\"433\" y=\"-22.8\" font-family=\"Helvetica,sans-Serif\" font-size=\"14.00\" fill=\"#000000\">value = [7, 2]</text>\n<text text-anchor=\"middle\" x=\"433\" y=\"-7.8\" font-family=\"Helvetica,sans-Serif\" font-size=\"14.00\" fill=\"#000000\">class = Active</text>\n</g>\n<!-- 8&#45;&gt;10 -->\n<g id=\"edge10\" class=\"edge\">\n<title>8&#45;&gt;10</title>\n<path fill=\"none\" stroke=\"#000000\" d=\"M389.6931,-103.9815C395.1531,-95.1585 400.9284,-85.8258 406.4207,-76.9506\"/>\n<polygon fill=\"#000000\" stroke=\"#000000\" points=\"409.5104,-78.609 411.7965,-68.2637 403.558,-74.9254 409.5104,-78.609\"/>\n</g>\n<!-- 13 -->\n<g id=\"node14\" class=\"node\">\n<title>13</title>\n<polygon fill=\"#add7f4\" stroke=\"#000000\" points=\"843,-306 683,-306 683,-223 843,-223 843,-306\"/>\n<text text-anchor=\"middle\" x=\"763\" y=\"-290.8\" font-family=\"Helvetica,sans-Serif\" font-size=\"14.00\" fill=\"#000000\">nT5HeteroRing &lt;= 2.5</text>\n<text text-anchor=\"middle\" x=\"763\" y=\"-275.8\" font-family=\"Helvetica,sans-Serif\" font-size=\"14.00\" fill=\"#000000\">gini = 0.466</text>\n<text text-anchor=\"middle\" x=\"763\" y=\"-260.8\" font-family=\"Helvetica,sans-Serif\" font-size=\"14.00\" fill=\"#000000\">samples = 192</text>\n<text text-anchor=\"middle\" x=\"763\" y=\"-245.8\" font-family=\"Helvetica,sans-Serif\" font-size=\"14.00\" fill=\"#000000\">value = [71, 121]</text>\n<text text-anchor=\"middle\" x=\"763\" y=\"-230.8\" font-family=\"Helvetica,sans-Serif\" font-size=\"14.00\" fill=\"#000000\">class = Inactive</text>\n</g>\n<!-- 12&#45;&gt;13 -->\n<g id=\"edge13\" class=\"edge\">\n<title>12&#45;&gt;13</title>\n<path fill=\"none\" stroke=\"#000000\" d=\"M763,-341.8796C763,-333.6838 763,-324.9891 763,-316.5013\"/>\n<polygon fill=\"#000000\" stroke=\"#000000\" points=\"766.5001,-316.298 763,-306.2981 759.5001,-316.2981 766.5001,-316.298\"/>\n</g>\n<!-- 20 -->\n<g id=\"node21\" class=\"node\">\n<title>20</title>\n<polygon fill=\"#6ab6ec\" stroke=\"#000000\" points=\"1178,-306 1018,-306 1018,-223 1178,-223 1178,-306\"/>\n<text text-anchor=\"middle\" x=\"1098\" y=\"-290.8\" font-family=\"Helvetica,sans-Serif\" font-size=\"14.00\" fill=\"#000000\">nT5HeteroRing &lt;= 2.5</text>\n<text text-anchor=\"middle\" x=\"1098\" y=\"-275.8\" font-family=\"Helvetica,sans-Serif\" font-size=\"14.00\" fill=\"#000000\">gini = 0.32</text>\n<text text-anchor=\"middle\" x=\"1098\" y=\"-260.8\" font-family=\"Helvetica,sans-Serif\" font-size=\"14.00\" fill=\"#000000\">samples = 5</text>\n<text text-anchor=\"middle\" x=\"1098\" y=\"-245.8\" font-family=\"Helvetica,sans-Serif\" font-size=\"14.00\" fill=\"#000000\">value = [1, 4]</text>\n<text text-anchor=\"middle\" x=\"1098\" y=\"-230.8\" font-family=\"Helvetica,sans-Serif\" font-size=\"14.00\" fill=\"#000000\">class = Inactive</text>\n</g>\n<!-- 12&#45;&gt;20 -->\n<g id=\"edge20\" class=\"edge\">\n<title>12&#45;&gt;20</title>\n<path fill=\"none\" stroke=\"#000000\" d=\"M843.2408,-354.9965C892.9886,-337.325 956.9838,-314.5923 1008.3884,-296.3322\"/>\n<polygon fill=\"#000000\" stroke=\"#000000\" points=\"1009.5825,-299.6224 1017.834,-292.9769 1007.2393,-293.0262 1009.5825,-299.6224\"/>\n</g>\n<!-- 14 -->\n<g id=\"node15\" class=\"node\">\n<title>14</title>\n<polygon fill=\"#baddf6\" stroke=\"#000000\" points=\"760.5,-187 617.5,-187 617.5,-104 760.5,-104 760.5,-187\"/>\n<text text-anchor=\"middle\" x=\"689\" y=\"-171.8\" font-family=\"Helvetica,sans-Serif\" font-size=\"14.00\" fill=\"#000000\">AATS5i &lt;= 162.571</text>\n<text text-anchor=\"middle\" x=\"689\" y=\"-156.8\" font-family=\"Helvetica,sans-Serif\" font-size=\"14.00\" fill=\"#000000\">gini = 0.478</text>\n<text text-anchor=\"middle\" x=\"689\" y=\"-141.8\" font-family=\"Helvetica,sans-Serif\" font-size=\"14.00\" fill=\"#000000\">samples = 172</text>\n<text text-anchor=\"middle\" x=\"689\" y=\"-126.8\" font-family=\"Helvetica,sans-Serif\" font-size=\"14.00\" fill=\"#000000\">value = [68, 104]</text>\n<text text-anchor=\"middle\" x=\"689\" y=\"-111.8\" font-family=\"Helvetica,sans-Serif\" font-size=\"14.00\" fill=\"#000000\">class = Inactive</text>\n</g>\n<!-- 13&#45;&gt;14 -->\n<g id=\"edge14\" class=\"edge\">\n<title>13&#45;&gt;14</title>\n<path fill=\"none\" stroke=\"#000000\" d=\"M737.1184,-222.8796C731.6858,-214.1434 725.9008,-204.8404 720.2947,-195.8253\"/>\n<polygon fill=\"#000000\" stroke=\"#000000\" points=\"723.2451,-193.9418 714.9921,-187.2981 717.3007,-197.6383 723.2451,-193.9418\"/>\n</g>\n<!-- 17 -->\n<g id=\"node18\" class=\"node\">\n<title>17</title>\n<polygon fill=\"#5caeea\" stroke=\"#000000\" points=\"895,-187 779,-187 779,-104 895,-104 895,-187\"/>\n<text text-anchor=\"middle\" x=\"837\" y=\"-171.8\" font-family=\"Helvetica,sans-Serif\" font-size=\"14.00\" fill=\"#000000\">P1p &lt;= 0.937</text>\n<text text-anchor=\"middle\" x=\"837\" y=\"-156.8\" font-family=\"Helvetica,sans-Serif\" font-size=\"14.00\" fill=\"#000000\">gini = 0.255</text>\n<text text-anchor=\"middle\" x=\"837\" y=\"-141.8\" font-family=\"Helvetica,sans-Serif\" font-size=\"14.00\" fill=\"#000000\">samples = 20</text>\n<text text-anchor=\"middle\" x=\"837\" y=\"-126.8\" font-family=\"Helvetica,sans-Serif\" font-size=\"14.00\" fill=\"#000000\">value = [3, 17]</text>\n<text text-anchor=\"middle\" x=\"837\" y=\"-111.8\" font-family=\"Helvetica,sans-Serif\" font-size=\"14.00\" fill=\"#000000\">class = Inactive</text>\n</g>\n<!-- 13&#45;&gt;17 -->\n<g id=\"edge17\" class=\"edge\">\n<title>13&#45;&gt;17</title>\n<path fill=\"none\" stroke=\"#000000\" d=\"M788.8816,-222.8796C794.3142,-214.1434 800.0992,-204.8404 805.7053,-195.8253\"/>\n<polygon fill=\"#000000\" stroke=\"#000000\" points=\"808.6993,-197.6383 811.0079,-187.2981 802.7549,-193.9418 808.6993,-197.6383\"/>\n</g>\n<!-- 15 -->\n<g id=\"node16\" class=\"node\">\n<title>15</title>\n<polygon fill=\"#ddeefb\" stroke=\"#000000\" points=\"620,-68 504,-68 504,0 620,0 620,-68\"/>\n<text text-anchor=\"middle\" x=\"562\" y=\"-52.8\" font-family=\"Helvetica,sans-Serif\" font-size=\"14.00\" fill=\"#000000\">gini = 0.496</text>\n<text text-anchor=\"middle\" x=\"562\" y=\"-37.8\" font-family=\"Helvetica,sans-Serif\" font-size=\"14.00\" fill=\"#000000\">samples = 139</text>\n<text text-anchor=\"middle\" x=\"562\" y=\"-22.8\" font-family=\"Helvetica,sans-Serif\" font-size=\"14.00\" fill=\"#000000\">value = [63, 76]</text>\n<text text-anchor=\"middle\" x=\"562\" y=\"-7.8\" font-family=\"Helvetica,sans-Serif\" font-size=\"14.00\" fill=\"#000000\">class = Inactive</text>\n</g>\n<!-- 14&#45;&gt;15 -->\n<g id=\"edge15\" class=\"edge\">\n<title>14&#45;&gt;15</title>\n<path fill=\"none\" stroke=\"#000000\" d=\"M641.7099,-103.9815C630.9275,-94.5151 619.477,-84.462 608.7187,-75.0168\"/>\n<polygon fill=\"#000000\" stroke=\"#000000\" points=\"610.8507,-72.2311 601.0268,-68.2637 606.2324,-77.4915 610.8507,-72.2311\"/>\n</g>\n<!-- 16 -->\n<g id=\"node17\" class=\"node\">\n<title>16</title>\n<polygon fill=\"#5caeea\" stroke=\"#000000\" points=\"754,-68 638,-68 638,0 754,0 754,-68\"/>\n<text text-anchor=\"middle\" x=\"696\" y=\"-52.8\" font-family=\"Helvetica,sans-Serif\" font-size=\"14.00\" fill=\"#000000\">gini = 0.257</text>\n<text text-anchor=\"middle\" x=\"696\" y=\"-37.8\" font-family=\"Helvetica,sans-Serif\" font-size=\"14.00\" fill=\"#000000\">samples = 33</text>\n<text text-anchor=\"middle\" x=\"696\" y=\"-22.8\" font-family=\"Helvetica,sans-Serif\" font-size=\"14.00\" fill=\"#000000\">value = [5, 28]</text>\n<text text-anchor=\"middle\" x=\"696\" y=\"-7.8\" font-family=\"Helvetica,sans-Serif\" font-size=\"14.00\" fill=\"#000000\">class = Inactive</text>\n</g>\n<!-- 14&#45;&gt;16 -->\n<g id=\"edge16\" class=\"edge\">\n<title>14&#45;&gt;16</title>\n<path fill=\"none\" stroke=\"#000000\" d=\"M691.6065,-103.9815C692.1316,-95.618 692.6854,-86.7965 693.2163,-78.3409\"/>\n<polygon fill=\"#000000\" stroke=\"#000000\" points=\"696.7154,-78.4634 693.8489,-68.2637 689.7291,-78.0247 696.7154,-78.4634\"/>\n</g>\n<!-- 18 -->\n<g id=\"node19\" class=\"node\">\n<title>18</title>\n<polygon fill=\"#8ec7f0\" stroke=\"#000000\" points=\"888,-68 772,-68 772,0 888,0 888,-68\"/>\n<text text-anchor=\"middle\" x=\"830\" y=\"-52.8\" font-family=\"Helvetica,sans-Serif\" font-size=\"14.00\" fill=\"#000000\">gini = 0.42</text>\n<text text-anchor=\"middle\" x=\"830\" y=\"-37.8\" font-family=\"Helvetica,sans-Serif\" font-size=\"14.00\" fill=\"#000000\">samples = 10</text>\n<text text-anchor=\"middle\" x=\"830\" y=\"-22.8\" font-family=\"Helvetica,sans-Serif\" font-size=\"14.00\" fill=\"#000000\">value = [3, 7]</text>\n<text text-anchor=\"middle\" x=\"830\" y=\"-7.8\" font-family=\"Helvetica,sans-Serif\" font-size=\"14.00\" fill=\"#000000\">class = Inactive</text>\n</g>\n<!-- 17&#45;&gt;18 -->\n<g id=\"edge18\" class=\"edge\">\n<title>17&#45;&gt;18</title>\n<path fill=\"none\" stroke=\"#000000\" d=\"M834.3935,-103.9815C833.8684,-95.618 833.3146,-86.7965 832.7837,-78.3409\"/>\n<polygon fill=\"#000000\" stroke=\"#000000\" points=\"836.2709,-78.0247 832.1511,-68.2637 829.2846,-78.4634 836.2709,-78.0247\"/>\n</g>\n<!-- 19 -->\n<g id=\"node20\" class=\"node\">\n<title>19</title>\n<polygon fill=\"#399de5\" stroke=\"#000000\" points=\"1022,-68 906,-68 906,0 1022,0 1022,-68\"/>\n<text text-anchor=\"middle\" x=\"964\" y=\"-52.8\" font-family=\"Helvetica,sans-Serif\" font-size=\"14.00\" fill=\"#000000\">gini = 0.0</text>\n<text text-anchor=\"middle\" x=\"964\" y=\"-37.8\" font-family=\"Helvetica,sans-Serif\" font-size=\"14.00\" fill=\"#000000\">samples = 10</text>\n<text text-anchor=\"middle\" x=\"964\" y=\"-22.8\" font-family=\"Helvetica,sans-Serif\" font-size=\"14.00\" fill=\"#000000\">value = [0, 10]</text>\n<text text-anchor=\"middle\" x=\"964\" y=\"-7.8\" font-family=\"Helvetica,sans-Serif\" font-size=\"14.00\" fill=\"#000000\">class = Inactive</text>\n</g>\n<!-- 17&#45;&gt;19 -->\n<g id=\"edge19\" class=\"edge\">\n<title>17&#45;&gt;19</title>\n<path fill=\"none\" stroke=\"#000000\" d=\"M884.2901,-103.9815C895.0725,-94.5151 906.523,-84.462 917.2813,-75.0168\"/>\n<polygon fill=\"#000000\" stroke=\"#000000\" points=\"919.7676,-77.4915 924.9732,-68.2637 915.1493,-72.2311 919.7676,-77.4915\"/>\n</g>\n<!-- 21 -->\n<g id=\"node22\" class=\"node\">\n<title>21</title>\n<polygon fill=\"#7bbeee\" stroke=\"#000000\" points=\"1169.5,-187 1026.5,-187 1026.5,-104 1169.5,-104 1169.5,-187\"/>\n<text text-anchor=\"middle\" x=\"1098\" y=\"-171.8\" font-family=\"Helvetica,sans-Serif\" font-size=\"14.00\" fill=\"#000000\">nHeteroRing &lt;= 3.5</text>\n<text text-anchor=\"middle\" x=\"1098\" y=\"-156.8\" font-family=\"Helvetica,sans-Serif\" font-size=\"14.00\" fill=\"#000000\">gini = 0.375</text>\n<text text-anchor=\"middle\" x=\"1098\" y=\"-141.8\" font-family=\"Helvetica,sans-Serif\" font-size=\"14.00\" fill=\"#000000\">samples = 4</text>\n<text text-anchor=\"middle\" x=\"1098\" y=\"-126.8\" font-family=\"Helvetica,sans-Serif\" font-size=\"14.00\" fill=\"#000000\">value = [1, 3]</text>\n<text text-anchor=\"middle\" x=\"1098\" y=\"-111.8\" font-family=\"Helvetica,sans-Serif\" font-size=\"14.00\" fill=\"#000000\">class = Inactive</text>\n</g>\n<!-- 20&#45;&gt;21 -->\n<g id=\"edge21\" class=\"edge\">\n<title>20&#45;&gt;21</title>\n<path fill=\"none\" stroke=\"#000000\" d=\"M1098,-222.8796C1098,-214.6838 1098,-205.9891 1098,-197.5013\"/>\n<polygon fill=\"#000000\" stroke=\"#000000\" points=\"1101.5001,-197.298 1098,-187.2981 1094.5001,-197.2981 1101.5001,-197.298\"/>\n</g>\n<!-- 24 -->\n<g id=\"node25\" class=\"node\">\n<title>24</title>\n<polygon fill=\"#399de5\" stroke=\"#000000\" points=\"1304,-179.5 1188,-179.5 1188,-111.5 1304,-111.5 1304,-179.5\"/>\n<text text-anchor=\"middle\" x=\"1246\" y=\"-164.3\" font-family=\"Helvetica,sans-Serif\" font-size=\"14.00\" fill=\"#000000\">gini = 0.0</text>\n<text text-anchor=\"middle\" x=\"1246\" y=\"-149.3\" font-family=\"Helvetica,sans-Serif\" font-size=\"14.00\" fill=\"#000000\">samples = 1</text>\n<text text-anchor=\"middle\" x=\"1246\" y=\"-134.3\" font-family=\"Helvetica,sans-Serif\" font-size=\"14.00\" fill=\"#000000\">value = [0, 1]</text>\n<text text-anchor=\"middle\" x=\"1246\" y=\"-119.3\" font-family=\"Helvetica,sans-Serif\" font-size=\"14.00\" fill=\"#000000\">class = Inactive</text>\n</g>\n<!-- 20&#45;&gt;24 -->\n<g id=\"edge24\" class=\"edge\">\n<title>20&#45;&gt;24</title>\n<path fill=\"none\" stroke=\"#000000\" d=\"M1149.7632,-222.8796C1164.5331,-211.0038 1180.6059,-198.0804 1195.3108,-186.2568\"/>\n<polygon fill=\"#000000\" stroke=\"#000000\" points=\"1197.7225,-188.8088 1203.3226,-179.8149 1193.3361,-183.3535 1197.7225,-188.8088\"/>\n</g>\n<!-- 22 -->\n<g id=\"node23\" class=\"node\">\n<title>22</title>\n<polygon fill=\"#9ccef2\" stroke=\"#000000\" points=\"1156,-68 1040,-68 1040,0 1156,0 1156,-68\"/>\n<text text-anchor=\"middle\" x=\"1098\" y=\"-52.8\" font-family=\"Helvetica,sans-Serif\" font-size=\"14.00\" fill=\"#000000\">gini = 0.444</text>\n<text text-anchor=\"middle\" x=\"1098\" y=\"-37.8\" font-family=\"Helvetica,sans-Serif\" font-size=\"14.00\" fill=\"#000000\">samples = 3</text>\n<text text-anchor=\"middle\" x=\"1098\" y=\"-22.8\" font-family=\"Helvetica,sans-Serif\" font-size=\"14.00\" fill=\"#000000\">value = [1, 2]</text>\n<text text-anchor=\"middle\" x=\"1098\" y=\"-7.8\" font-family=\"Helvetica,sans-Serif\" font-size=\"14.00\" fill=\"#000000\">class = Inactive</text>\n</g>\n<!-- 21&#45;&gt;22 -->\n<g id=\"edge22\" class=\"edge\">\n<title>21&#45;&gt;22</title>\n<path fill=\"none\" stroke=\"#000000\" d=\"M1098,-103.9815C1098,-95.618 1098,-86.7965 1098,-78.3409\"/>\n<polygon fill=\"#000000\" stroke=\"#000000\" points=\"1101.5001,-78.2636 1098,-68.2637 1094.5001,-78.2637 1101.5001,-78.2636\"/>\n</g>\n<!-- 23 -->\n<g id=\"node24\" class=\"node\">\n<title>23</title>\n<polygon fill=\"#399de5\" stroke=\"#000000\" points=\"1290,-68 1174,-68 1174,0 1290,0 1290,-68\"/>\n<text text-anchor=\"middle\" x=\"1232\" y=\"-52.8\" font-family=\"Helvetica,sans-Serif\" font-size=\"14.00\" fill=\"#000000\">gini = 0.0</text>\n<text text-anchor=\"middle\" x=\"1232\" y=\"-37.8\" font-family=\"Helvetica,sans-Serif\" font-size=\"14.00\" fill=\"#000000\">samples = 1</text>\n<text text-anchor=\"middle\" x=\"1232\" y=\"-22.8\" font-family=\"Helvetica,sans-Serif\" font-size=\"14.00\" fill=\"#000000\">value = [0, 1]</text>\n<text text-anchor=\"middle\" x=\"1232\" y=\"-7.8\" font-family=\"Helvetica,sans-Serif\" font-size=\"14.00\" fill=\"#000000\">class = Inactive</text>\n</g>\n<!-- 21&#45;&gt;23 -->\n<g id=\"edge23\" class=\"edge\">\n<title>21&#45;&gt;23</title>\n<path fill=\"none\" stroke=\"#000000\" d=\"M1147.8967,-103.9815C1159.3838,-94.4232 1171.5897,-84.2668 1183.0367,-74.7419\"/>\n<polygon fill=\"#000000\" stroke=\"#000000\" points=\"1185.3739,-77.3503 1190.8221,-68.2637 1180.8965,-71.9695 1185.3739,-77.3503\"/>\n</g>\n</g>\n</svg>\n"
          },
          "metadata": {},
          "execution_count": 47
        }
      ],
      "source": [
        "graph_data2 = tree.export_graphviz(model2, out_file=None, \n",
        "                                feature_names=['AATS5i', 'ATSC5p', 'GATS4m', 'GATS2i', 'nHBint6', 'nHeteroRing', 'n5HeteroRing', 'nF9HeteroRing', 'nT5HeteroRing', 'geomShape', 'RDF70m', 'P1p','E3s'], ##I think this should be X1 \n",
        "                                class_names=['Active','Inactive'], ## I think this should be y1 or y but it gives a key value error\n",
        "                                filled=True)\n",
        "\n",
        "# Draw graph\n",
        "graph2 = graphviz.Source(graph_data2, format=\"png\") \n",
        "graph2"
      ]
    },
    {
      "cell_type": "code",
      "execution_count": null,
      "metadata": {
        "colab": {
          "base_uri": "https://localhost:8080/"
        },
        "id": "Tc2M-CBU81ix",
        "outputId": "4fca32dd-6612-42ad-afb3-8d32e5f6641a"
      },
      "outputs": [
        {
          "output_type": "stream",
          "name": "stdout",
          "text": [
            "Target on train data [0 1 0 0 1 1 1 0 1 0 0 0 1 1 0 1 0 1 1 0 0 1 1 0 0 1 1 1 1 0 1 0 1 1 0 0 1\n",
            " 1 1 1 1 0 1 1 1 0 1 0 1 1 0 1 1 0 1 1 0 1 1 0 1 0 0 1 1 1 1 1 0 1 1 0 0 0\n",
            " 1 1 1 1 1 1 0 1 0 1 1 1 1 1 1 0 0 0 0 0 1 0 1 1 1 1 1 1 1 1 1 1 0 0 0 1 1\n",
            " 0 0 0 0 0 1 1 1 1 0 0 0 0 1 0 1 1 0 0 1 0 0 0 0 0 0 1 1 1 1 1 0 0 1 1 1 0\n",
            " 0 0 1 0 1 1 0 1 1 1 1 0 1 0 0 0 1 1 0 0 1 1 0 1 0 1 1 1 0 0 1 1 1 1 0 1 0\n",
            " 1 1 1 0 0 0 1 1 1 1 0 1 1 1 1 1 0 1 1 1 1 1 1 0 0 0 0 0 0 0 1 0 0 1]\n"
          ]
        }
      ],
      "source": [
        "# predict the target on the train dataset with the full tree\n",
        "predict_train = model.predict(X_train)\n",
        "print('Target on train data',predict_train) "
      ]
    },
    {
      "cell_type": "code",
      "execution_count": null,
      "metadata": {
        "id": "zKuns32TNGmy",
        "outputId": "e607628b-93be-42a5-a989-d350831a020b",
        "colab": {
          "base_uri": "https://localhost:8080/"
        }
      },
      "outputs": [
        {
          "output_type": "stream",
          "name": "stdout",
          "text": [
            "Target on train data with Model2 [1 1 1 0 0 1 1 1 1 1 1 1 1 1 0 1 1 1 1 1 1 1 1 1 0 1 1 1 1 1 1 1 1 1 0 0 1\n",
            " 1 1 1 1 1 1 1 1 1 1 1 1 1 1 1 1 1 1 1 1 1 1 1 1 0 1 1 1 1 1 1 1 1 1 1 1 1\n",
            " 1 1 1 1 1 1 1 1 1 1 1 1 1 1 1 1 0 1 1 1 1 1 1 1 1 1 1 1 1 1 1 1 1 0 1 1 1\n",
            " 1 1 1 0 1 1 1 1 1 1 1 0 1 1 1 1 1 1 1 1 1 1 1 1 0 1 1 1 1 1 1 0 0 1 1 1 1\n",
            " 0 1 1 1 1 1 1 1 1 1 0 1 1 1 0 1 1 1 1 1 1 1 1 1 1 1 1 1 1 1 1 1 1 1 1 1 1\n",
            " 1 1 1 1 0 1 1 1 1 1 1 1 1 1 1 1 1 1 1 1 1 1 1 1 1 1 1 0 1 1 1 1 1 1]\n"
          ]
        }
      ],
      "source": [
        "predict_train2 = model2.predict(X_train)# Prediction on optimized tree\n",
        "print('Target on train data with Model2',predict_train2) "
      ]
    },
    {
      "cell_type": "code",
      "execution_count": null,
      "metadata": {
        "colab": {
          "base_uri": "https://localhost:8080/"
        },
        "id": "3dp18Dg_8_Nb",
        "outputId": "cfb177df-f0a0-45bf-dc63-dc7c54f7ee72"
      },
      "outputs": [
        {
          "output_type": "stream",
          "name": "stdout",
          "text": [
            "accuracy_score on train dataset :  0.9863013698630136\n"
          ]
        }
      ],
      "source": [
        "# Accuray Score on train dataset with full tree\n",
        "accuracy_train = accuracy_score(y_train,predict_train)\n",
        "print('accuracy_score on train dataset : ', accuracy_train)"
      ]
    },
    {
      "cell_type": "code",
      "execution_count": null,
      "metadata": {
        "id": "ENCjLN_wNGmy",
        "outputId": "c52e0aec-429e-44f2-b84c-8ab2f9194ea4",
        "colab": {
          "base_uri": "https://localhost:8080/"
        }
      },
      "outputs": [
        {
          "output_type": "stream",
          "name": "stdout",
          "text": [
            "accuracy_score on train dataset :  0.6621004566210046\n"
          ]
        }
      ],
      "source": [
        "# Accuray Score on train dataset on optimized tree\n",
        "accuracy_train2 = accuracy_score(y_train,predict_train2)\n",
        "print('accuracy_score on train dataset : ', accuracy_train2)"
      ]
    },
    {
      "cell_type": "code",
      "execution_count": null,
      "metadata": {
        "colab": {
          "base_uri": "https://localhost:8080/"
        },
        "id": "GPrbsPUb9IjP",
        "outputId": "2ae1f89a-648a-459e-c4e5-f8566968af86"
      },
      "outputs": [
        {
          "output_type": "stream",
          "name": "stdout",
          "text": [
            "Target on test data [1 0 0 1 0 0 1 1 1 1 1 0 1 0 1 1 1 1 0 1 1 1 0 1 1 0 0 0 1 1 1 1 0 1 1 1 1\n",
            " 1 1 1 1 1 0 1 1 1 0 1 0 0 0 0 1 0 1 1 1 1 0 0 0 1 1 0 0 1 1 0 0 0 1 1 1]\n"
          ]
        }
      ],
      "source": [
        "# predict the target on the test dataset\n",
        "predict_test = model.predict(X_test)\n",
        "print('Target on test data',predict_test)"
      ]
    },
    {
      "cell_type": "code",
      "execution_count": null,
      "metadata": {
        "id": "RZRrYDN3NGmy"
      },
      "outputs": [],
      "source": [
        "# predict the target on the test dataset 2\n",
        "predict_test2 = model2.predict(X_test)"
      ]
    },
    {
      "cell_type": "code",
      "execution_count": null,
      "metadata": {
        "colab": {
          "base_uri": "https://localhost:8080/"
        },
        "id": "3NS3Y4P99Pac",
        "outputId": "9553330c-a0f5-4583-8f88-a2d61cd71678"
      },
      "outputs": [
        {
          "output_type": "stream",
          "name": "stdout",
          "text": [
            "accuracy_score on test dataset :  0.4383561643835616\n"
          ]
        }
      ],
      "source": [
        "# Accuracy Score on test dataset with unoptimized tree\n",
        "accuracy_test = accuracy_score(y_test,predict_test)\n",
        "print('accuracy_score on test dataset : ', accuracy_test)"
      ]
    },
    {
      "cell_type": "code",
      "execution_count": null,
      "metadata": {
        "id": "f1VvWoK7NGmz",
        "outputId": "6515f4de-8973-4c7d-e710-950873fa336f",
        "colab": {
          "base_uri": "https://localhost:8080/"
        }
      },
      "outputs": [
        {
          "output_type": "stream",
          "name": "stdout",
          "text": [
            "accuracy_score on test dataset :  0.5616438356164384\n"
          ]
        }
      ],
      "source": [
        "# Accuracy Score on test dataset with optimized tree\n",
        "accuracy_test2 = accuracy_score(y_test,predict_test2)\n",
        "print('accuracy_score on test dataset : ', accuracy_test2)"
      ]
    },
    {
      "cell_type": "code",
      "execution_count": null,
      "metadata": {
        "id": "Oc_HHWj7NGmz"
      },
      "outputs": [],
      "source": [
        "parameters1 = {'max_features':range(1,14)}#Parameters for optimizing Random forests with number of features"
      ]
    },
    {
      "cell_type": "markdown",
      "metadata": {
        "id": "OR9pksDnQZfX"
      },
      "source": [
        "RANDOM FOREST"
      ]
    },
    {
      "cell_type": "code",
      "execution_count": null,
      "metadata": {
        "id": "bjmt09yHNGmz",
        "outputId": "d4e9aba5-38b0-43f0-8b45-41414e668adb",
        "colab": {
          "base_uri": "https://localhost:8080/"
        }
      },
      "outputs": [
        {
          "output_type": "stream",
          "name": "stdout",
          "text": [
            "0.6441860465116279 {'max_features': 3}\n"
          ]
        },
        {
          "output_type": "stream",
          "name": "stderr",
          "text": [
            "/usr/local/lib/python3.7/dist-packages/sklearn/model_selection/_search.py:926: DataConversionWarning: A column-vector y was passed when a 1d array was expected. Please change the shape of y to (n_samples,), for example using ravel().\n",
            "  self.best_estimator_.fit(X, y, **fit_params)\n"
          ]
        }
      ],
      "source": [
        "clf1 = GridSearchCV(RandomForestClassifier(), parameters1, n_jobs=-1)\n",
        "clf1.fit(X_train, y_train)\n",
        "best_subset_model1 = clf1.best_estimator_\n",
        "print (clf1.best_score_, clf1.best_params_) "
      ]
    },
    {
      "cell_type": "code",
      "execution_count": null,
      "metadata": {
        "colab": {
          "base_uri": "https://localhost:8080/"
        },
        "id": "An-l_0oCNxai",
        "outputId": "208c4f1c-350f-409c-d742-8fe3caeb4fa8"
      },
      "outputs": [
        {
          "output_type": "stream",
          "name": "stderr",
          "text": [
            "/usr/local/lib/python3.7/dist-packages/ipykernel_launcher.py:2: DataConversionWarning: A column-vector y was passed when a 1d array was expected. Please change the shape of y to (n_samples,), for example using ravel().\n",
            "  \n"
          ]
        },
        {
          "output_type": "execute_result",
          "data": {
            "text/plain": [
              "RandomForestClassifier(max_features=3, random_state=42)"
            ]
          },
          "metadata": {},
          "execution_count": 59
        }
      ],
      "source": [
        "rf_features_rf_1 = RandomForestClassifier(max_features =3, random_state = 42)\n",
        "rf_features_rf_1.fit(X_train,y_train)"
      ]
    },
    {
      "cell_type": "code",
      "execution_count": null,
      "metadata": {
        "colab": {
          "base_uri": "https://localhost:8080/"
        },
        "id": "PKr_9CrwNxdm",
        "outputId": "a1a2ccb8-bb37-45e9-bc70-3f952c4a1ca5"
      },
      "outputs": [
        {
          "output_type": "execute_result",
          "data": {
            "text/plain": [
              "<tf.Tensor: shape=(73,), dtype=int64, numpy=\n",
              "array([1, 0, 0, 1, 1, 1, 1, 1, 1, 0, 1, 0, 1, 0, 1, 1, 1, 1, 1, 1, 1, 1,\n",
              "       0, 0, 1, 0, 0, 1, 1, 1, 1, 1, 0, 1, 1, 1, 0, 1, 1, 1, 0, 0, 0, 1,\n",
              "       1, 0, 0, 0, 0, 1, 1, 0, 0, 1, 1, 0, 1, 1, 1, 1, 1, 1, 1, 0, 0, 1,\n",
              "       1, 0, 0, 1, 0, 0, 1])>"
            ]
          },
          "metadata": {},
          "execution_count": 60
        }
      ],
      "source": [
        "pred4 = rf_features_rf_1.predict(X_test)\n",
        "mean_squared_error(y_test, pred4)\n",
        "pd.DataFrame(pred4)\n",
        "pred4 = tf.math.round(pred4)\n",
        "pred4"
      ]
    },
    {
      "cell_type": "code",
      "execution_count": null,
      "metadata": {
        "colab": {
          "base_uri": "https://localhost:8080/"
        },
        "id": "NCbsAH1YNxgh",
        "outputId": "74282f08-f334-4ea9-c1ff-72fd1576f9fd"
      },
      "outputs": [
        {
          "output_type": "execute_result",
          "data": {
            "text/plain": [
              "0.9863013698630136"
            ]
          },
          "metadata": {},
          "execution_count": 61
        }
      ],
      "source": [
        "rf_features_rf_1.score(X_train, y_train)"
      ]
    },
    {
      "cell_type": "code",
      "execution_count": null,
      "metadata": {
        "id": "le_Aa_OtNGm0"
      },
      "outputs": [],
      "source": [
        "predict_test4 = rf_features_rf_1.predict(X_test)"
      ]
    },
    {
      "cell_type": "code",
      "execution_count": null,
      "metadata": {
        "id": "PABC1gdWNGm0",
        "outputId": "23fbd00d-aa94-4004-b817-b33c7b0de2ad",
        "colab": {
          "base_uri": "https://localhost:8080/"
        }
      },
      "outputs": [
        {
          "output_type": "stream",
          "name": "stdout",
          "text": [
            "accuracy_score on test dataset :  0.5205479452054794\n"
          ]
        }
      ],
      "source": [
        "# Accuracy Score on Random Forests on test dataset\n",
        "accuracy_test4 = accuracy_score(y_test,predict_test4)\n",
        "print('accuracy_score on test dataset : ', accuracy_test4)"
      ]
    },
    {
      "cell_type": "code",
      "execution_count": null,
      "metadata": {
        "colab": {
          "base_uri": "https://localhost:8080/"
        },
        "id": "uOnFsK9DNxjw",
        "outputId": "a07fc834-3048-4335-c6a8-3da9ef7d6639"
      },
      "outputs": [
        {
          "output_type": "stream",
          "name": "stdout",
          "text": [
            "              precision    recall  f1-score   support\n",
            "\n",
            "           0      0.481     0.382     0.426        34\n",
            "           1      0.543     0.641     0.588        39\n",
            "\n",
            "    accuracy                          0.521        73\n",
            "   macro avg      0.512     0.512     0.507        73\n",
            "weighted avg      0.515     0.521     0.513        73\n",
            "\n",
            "Average precision score: 0.540\n",
            "Cohen kappa score:  0.023691249522353797\n",
            "Confusion matrix: \n",
            "[[13 21]\n",
            " [14 25]]\n"
          ]
        }
      ],
      "source": [
        "print(classification_report(y_test, pred4, digits=3))\n",
        "print(f\"Average precision score: {average_precision_score(y_test, pred4):.3f}\")\n",
        "print(\"Cohen kappa score: \", cohen_kappa_score(y_test, pred4))\n",
        "print(\"Confusion matrix: \")\n",
        "print(confusion_matrix(y_test, pred4))"
      ]
    },
    {
      "cell_type": "markdown",
      "metadata": {
        "id": "aiUnXNvgR8Dp"
      },
      "source": [
        "AUC curves"
      ]
    },
    {
      "cell_type": "code",
      "execution_count": null,
      "metadata": {
        "colab": {
          "base_uri": "https://localhost:8080/",
          "height": 455
        },
        "id": "nIP629eqZALz",
        "outputId": "65c52aff-d2b2-4b9c-9619-788ce31f81d7"
      },
      "outputs": [
        {
          "output_type": "stream",
          "name": "stderr",
          "text": [
            "/usr/local/lib/python3.7/dist-packages/sklearn/utils/deprecation.py:87: FutureWarning: Function plot_roc_curve is deprecated; Function `plot_roc_curve` is deprecated in 1.0 and will be removed in 1.2. Use one of the class methods: RocCurveDisplay.from_predictions or RocCurveDisplay.from_estimator.\n",
            "  warnings.warn(msg, category=FutureWarning)\n",
            "/usr/local/lib/python3.7/dist-packages/sklearn/utils/deprecation.py:87: FutureWarning: Function plot_roc_curve is deprecated; Function `plot_roc_curve` is deprecated in 1.0 and will be removed in 1.2. Use one of the class methods: RocCurveDisplay.from_predictions or RocCurveDisplay.from_estimator.\n",
            "  warnings.warn(msg, category=FutureWarning)\n",
            "/usr/local/lib/python3.7/dist-packages/sklearn/utils/deprecation.py:87: FutureWarning: Function plot_roc_curve is deprecated; Function `plot_roc_curve` is deprecated in 1.0 and will be removed in 1.2. Use one of the class methods: RocCurveDisplay.from_predictions or RocCurveDisplay.from_estimator.\n",
            "  warnings.warn(msg, category=FutureWarning)\n",
            "/usr/local/lib/python3.7/dist-packages/sklearn/utils/deprecation.py:87: FutureWarning: Function plot_roc_curve is deprecated; Function `plot_roc_curve` is deprecated in 1.0 and will be removed in 1.2. Use one of the class methods: RocCurveDisplay.from_predictions or RocCurveDisplay.from_estimator.\n",
            "  warnings.warn(msg, category=FutureWarning)\n"
          ]
        },
        {
          "output_type": "execute_result",
          "data": {
            "text/plain": [
              "<sklearn.metrics._plot.roc_curve.RocCurveDisplay at 0x7f3420b62290>"
            ]
          },
          "metadata": {},
          "execution_count": 80
        },
        {
          "output_type": "display_data",
          "data": {
            "image/png": "[encoded data removed]",
            "text/plain": [
              "<Figure size 432x288 with 1 Axes>"
            ]
          },
          "metadata": {
            "needs_background": "light"
          }
        }
      ],
      "source": [
        "disp= plot_roc_curve(rf_features_rf_1,X_test, y_test)#Random Forests\n",
        "plot_roc_curve(rf_features_1,X_test, y_test, ax=disp.ax_);#Bagging\n",
        "plot_roc_curve(model,X_test, y_test, ax=disp.ax_);#Unoptimized tree \n",
        "plot_roc_curve(model2,X_test, y_test, ax=disp.ax_)#Optimized tree"
      ]
    }
  ],
  "metadata": {
    "colab": {
      "collapsed_sections": [],
      "name": "Final_Balanced_RF_Provisional_Final2.ipynb",
      "provenance": []
    },
    "kernelspec": {
      "display_name": "Python 3 (ipykernel)",
      "language": "python",
      "name": "python3"
    },
    "language_info": {
      "codemirror_mode": {
        "name": "ipython",
        "version": 3
      },
      "file_extension": ".py",
      "mimetype": "text/x-python",
      "name": "python",
      "nbconvert_exporter": "python",
      "pygments_lexer": "ipython3",
      "version": "3.9.7"
    }
  },
  "nbformat": 4,
  "nbformat_minor": 0
}