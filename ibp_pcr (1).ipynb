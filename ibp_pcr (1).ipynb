{
 "cells": [
  {
   "cell_type": "code",
   "execution_count": 1,
   "id": "7c95347c-54d6-4514-aa59-e25b0b359f18",
   "metadata": {},
   "outputs": [],
   "source": [
    "%matplotlib inline\n",
    "\n",
    "import pandas as pd\n",
    "import numpy as np\n",
    "import matplotlib.pyplot as plt\n",
    "\n",
    "from sklearn.preprocessing import scale \n",
    "from sklearn import model_selection\n",
    "from sklearn.decomposition import PCA\n",
    "from sklearn.linear_model import LinearRegression\n",
    "from sklearn.cross_decomposition import PLSRegression, PLSSVD\n",
    "from sklearn.metrics import mean_squared_error\n",
    "from sklearn.metrics import cohen_kappa_score"
   ]
  },
  {
   "cell_type": "markdown",
   "id": "4ecc585f-0714-4c4b-b14a-440092a02f80",
   "metadata": {
    "tags": []
   },
   "source": [
    "# The PCR for alpha1&2 (balanced)"
   ]
  },
  {
   "cell_type": "code",
   "execution_count": 2,
   "id": "b1a2bbad-fae0-4776-840c-8ab31527445f",
   "metadata": {},
   "outputs": [],
   "source": [
    "# EC50 data balanced\n",
    "descriptorsSet=pd.read_csv('balanced.csv')"
   ]
  },
  {
   "cell_type": "code",
   "execution_count": 3,
   "id": "85f48467-af50-4dc6-8fcc-d1d8c631d1d1",
   "metadata": {},
   "outputs": [
    {
     "data": {
      "text/plain": [
       "Index(['cid', 'acvalue', 'smiles', 'Activity', 'nAcid', 'ALogP', 'ALogp2',\n",
       "       'AMR', 'apol', 'naAromAtom',\n",
       "       ...\n",
       "       'P1s', 'P2s', 'E1s', 'E2s', 'E3s', 'Ts', 'As', 'Vs', 'Ks', 'Ds'],\n",
       "      dtype='object', length=1879)"
      ]
     },
     "execution_count": 3,
     "metadata": {},
     "output_type": "execute_result"
    }
   ],
   "source": [
    "descriptorsSet.columns"
   ]
  },
  {
   "cell_type": "code",
   "execution_count": 4,
   "id": "3c8d4eae-7507-44d0-bbc5-8b4eefcecdc9",
   "metadata": {},
   "outputs": [],
   "source": [
    "#performing PCA (with unormalized data, scale them during the PCA)\n",
    "X = descriptorsSet.drop([ \"acvalue\",'smiles','Activity'], axis = 1)\n",
    "y = descriptorsSet['acvalue']\n",
    "\n",
    "# Split data into training and test sets\n",
    "X_train, X_test , y_train, y_test = model_selection.train_test_split(X, y, test_size=0.25, random_state=1)\n",
    "#Replace with name of the standardised table"
   ]
  },
  {
   "cell_type": "code",
   "execution_count": 5,
   "id": "b43a37c2-1f1d-423e-9be8-af19c9a9f171",
   "metadata": {},
   "outputs": [
    {
     "data": {
      "text/plain": [
       "[19.896874278818593,\n",
       " 19.771704165463298,\n",
       " 19.67790763746186,\n",
       " 19.661773586192513,\n",
       " 19.640797142790742,\n",
       " 19.526984336073433,\n",
       " 19.690536954182342,\n",
       " 19.83335789649843,\n",
       " 20.40410932385843,\n",
       " 19.993769854468237,\n",
       " 20.08384438967735]"
      ]
     },
     "execution_count": 5,
     "metadata": {},
     "output_type": "execute_result"
    }
   ],
   "source": [
    "#scale predictor variables\n",
    "pca1 = PCA()\n",
    "\n",
    "X_reduced_train = pca1.fit_transform(scale(X_train))\n",
    "n = len(X_reduced_train)\n",
    "kf_10 = model_selection.KFold( n_splits=10, shuffle=True, random_state=1)\n",
    "\n",
    "#define cross validation method\n",
    "\n",
    "cv = model_selection.RepeatedKFold(n_splits=10, n_repeats=3, random_state=1)\n",
    "regr = LinearRegression()\n",
    "mse = []\n",
    "\n",
    "# Calculate MSE with only the intercept (no principal components in regression)\n",
    "score = -1*model_selection.cross_val_score(regr, np.ones((n,1)), y_train.ravel(), cv=kf_10, scoring='neg_mean_squared_error').mean()    \n",
    "mse.append(score)\n",
    "\n",
    "# Calculate MSE using cross-validation, adding one component at a time\n",
    "for i in np.arange(1, 11):\n",
    "    score = -1*model_selection.cross_val_score(regr,\n",
    "               X_reduced_train[:,:i], y_train, cv=cv, scoring='neg_mean_squared_error').mean()\n",
    "    mse.append(score)\n",
    "\n",
    "mse"
   ]
  },
  {
   "cell_type": "code",
   "execution_count": 6,
   "id": "f2a35b9a-ec39-446b-ad51-254df92a3a7e",
   "metadata": {},
   "outputs": [
    {
     "data": {
      "text/plain": [
       "Text(0.5, 1.0, 'Principle Component Analysis')"
      ]
     },
     "execution_count": 6,
     "metadata": {},
     "output_type": "execute_result"
    },
    {
     "data": {
      "image/png": "[encoded data removed]",
      "text/plain": [
       "<Figure size 432x288 with 1 Axes>"
      ]
     },
     "metadata": {
      "needs_background": "light"
     },
     "output_type": "display_data"
    }
   ],
   "source": [
    "# Plot cross-validation results    \n",
    "cum_explained_var = np.cumsum(np.round(pca1.explained_variance_ratio_, decimals=4)*100)\n",
    "\n",
    "plt.plot(cum_explained_var)\n",
    "plt.xlabel('Number of Principal Components')\n",
    "plt.ylabel('Cumulated variance (%)')\n",
    "plt.axhline(y=80, linestyle='--')\n",
    "plt.axvline(x = 14, linestyle='--')\n",
    "plt.title('Principle Component Analysis')"
   ]
  },
  {
   "cell_type": "code",
   "execution_count": 7,
   "id": "0f57d561-5ea9-4803-805c-604dabedb732",
   "metadata": {},
   "outputs": [
    {
     "data": {
      "text/plain": [
       "array([37.29, 51.89, 56.63, 61.04, 64.31, 67.35, 69.97, 71.77, 73.41,\n",
       "       74.93, 76.35, 77.69, 78.86, 79.94, 80.92, 81.87, 82.69, 83.46,\n",
       "       84.2 , 84.88, 85.54, 86.15, 86.73, 87.29, 87.83, 88.35, 88.84,\n",
       "       89.3 , 89.74, 90.16, 90.56, 90.94, 91.31, 91.66, 91.98, 92.29,\n",
       "       92.57, 92.84, 93.1 , 93.35, 93.6 , 93.84, 94.07, 94.28, 94.48,\n",
       "       94.67, 94.85, 95.02, 95.19, 95.36, 95.52, 95.67, 95.82, 95.96,\n",
       "       96.09, 96.22, 96.34, 96.46, 96.57, 96.68, 96.78, 96.88, 96.98,\n",
       "       97.08, 97.18, 97.27, 97.36, 97.45, 97.53, 97.61, 97.69, 97.77,\n",
       "       97.84, 97.91, 97.98, 98.05, 98.12, 98.18, 98.24, 98.3 , 98.36,\n",
       "       98.41, 98.46, 98.51, 98.56, 98.61, 98.66, 98.7 , 98.74, 98.78,\n",
       "       98.82, 98.86, 98.9 , 98.94, 98.97, 99.  , 99.03, 99.06, 99.09,\n",
       "       99.12, 99.15, 99.18, 99.21, 99.24, 99.27, 99.29, 99.31, 99.33,\n",
       "       99.35, 99.37, 99.39, 99.41, 99.43, 99.45, 99.47, 99.49, 99.51,\n",
       "       99.53, 99.55, 99.57, 99.59, 99.6 , 99.61, 99.62, 99.63, 99.64,\n",
       "       99.65, 99.66, 99.67, 99.68, 99.69, 99.7 , 99.71, 99.72, 99.73,\n",
       "       99.74, 99.75, 99.76, 99.77, 99.78, 99.79, 99.8 , 99.81, 99.82,\n",
       "       99.83, 99.84, 99.85, 99.86, 99.87, 99.88, 99.89, 99.9 , 99.91,\n",
       "       99.92, 99.93, 99.93, 99.93, 99.93, 99.93, 99.93, 99.93, 99.93,\n",
       "       99.93, 99.93, 99.93, 99.93, 99.93, 99.93, 99.93, 99.93, 99.93,\n",
       "       99.93, 99.93, 99.93, 99.93, 99.93, 99.93, 99.93, 99.93, 99.93,\n",
       "       99.93, 99.93, 99.93, 99.93, 99.93, 99.93, 99.93, 99.93, 99.93,\n",
       "       99.93, 99.93, 99.93, 99.93, 99.93, 99.93, 99.93, 99.93, 99.93,\n",
       "       99.93, 99.93, 99.93, 99.93, 99.93, 99.93, 99.93, 99.93, 99.93,\n",
       "       99.93, 99.93, 99.93, 99.93, 99.93, 99.93, 99.93, 99.93, 99.93,\n",
       "       99.93, 99.93, 99.93])"
      ]
     },
     "execution_count": 7,
     "metadata": {},
     "output_type": "execute_result"
    }
   ],
   "source": [
    "np.cumsum(np.round(pca1.explained_variance_ratio_, decimals=4)*100)"
   ]
  },
  {
   "cell_type": "markdown",
   "id": "c7a3b435-3f6e-48e9-b207-0f52e3b74108",
   "metadata": {},
   "source": [
    "M = 14, 80%"
   ]
  },
  {
   "cell_type": "code",
   "execution_count": 8,
   "id": "d190f43f-7c39-426e-ba28-4b930e26d754",
   "metadata": {},
   "outputs": [
    {
     "data": {
      "text/plain": [
       "3.10390319488288"
      ]
     },
     "execution_count": 8,
     "metadata": {},
     "output_type": "execute_result"
    }
   ],
   "source": [
    "X_reduced_test = pca1.transform(scale(X_test))[:,:15]\n",
    "\n",
    "# Train regression model on training data \n",
    "regr = LinearRegression()\n",
    "regr.fit(X_reduced_train[:,:15], y_train)\n",
    "\n",
    "# Prediction with test data\n",
    "pred = regr.predict(X_reduced_test)\n",
    "mean_squared_error(y_test, pred)"
   ]
  },
  {
   "cell_type": "code",
   "execution_count": null,
   "id": "d82e0db7-a577-4dd1-abaf-d51ed1aa1599",
   "metadata": {},
   "outputs": [],
   "source": []
  },
  {
   "cell_type": "code",
   "execution_count": 10,
   "id": "a74da47b-f7d3-4184-9656-2ee5fae1f80f",
   "metadata": {},
   "outputs": [
    {
     "name": "stdout",
     "output_type": "stream",
     "text": [
      "[ 0.01591001 -0.02455154  0.06729357 -0.03000589  0.09861157  0.00471207\n",
      "  0.01383662 -0.03674347  0.16949713  0.00819094 -0.09596095  0.13702796\n",
      " -0.02657516 -0.05640026 -0.05224305]\n",
      "1.166646119583586\n"
     ]
    }
   ],
   "source": [
    "print(regr.coef_) # regression coefficient\n",
    "print(regr.intercept_)  # error W0 ?"
   ]
  },
  {
   "cell_type": "code",
   "execution_count": 11,
   "id": "3c04485f-0366-4a55-b2f7-e064ba952b66",
   "metadata": {},
   "outputs": [
    {
     "name": "stdout",
     "output_type": "stream",
     "text": [
      "-1.7397306803570576\n"
     ]
    }
   ],
   "source": [
    "# R squared, coefficient of determination\n",
    "# the percentatge of the dependent variable variation that a linear model explains\n",
    "\n",
    "print(regr.score(X_reduced_test,y_test)) "
   ]
  },
  {
   "cell_type": "markdown",
   "id": "5e8d94b8-bc2f-4fb7-9ab3-ea12ea9c628f",
   "metadata": {},
   "source": [
    "A negative R-squared indicates that PCR performs worse than a regressor that would simply predict the mean of the target.\n",
    "\n",
    "coefficient of determination\n",
    "the percentage of the dependent variable variation that a linear model explains."
   ]
  },
  {
   "cell_type": "markdown",
   "id": "c14c6b52-f081-48db-9476-d8471fb7c05f",
   "metadata": {},
   "source": [
    "# pcr for alpha 1 & 2 (unbalanced)"
   ]
  },
  {
   "cell_type": "code",
   "execution_count": 12,
   "id": "668b9ee8-5d68-4b58-960e-ae8d01aaf798",
   "metadata": {},
   "outputs": [],
   "source": [
    "#unbalanced\n",
    "descriptorsSet=pd.read_csv('unbalancedFinal.csv')"
   ]
  },
  {
   "cell_type": "code",
   "execution_count": 13,
   "id": "f6516448-64a9-4bd0-bee8-b2d1065bd765",
   "metadata": {},
   "outputs": [],
   "source": [
    "#performing PCA (with unormalized data, scale them during the PCA)\n",
    "X = descriptorsSet.drop([\"id\", \"standard_value\",'canonical_smiles','Activity'], axis = 1)\n",
    "y = descriptorsSet['standard_value']\n",
    "\n",
    "# Split data into training and test sets\n",
    "X_train, X_test , y_train, y_test = model_selection.train_test_split(X, y, test_size=0.25, random_state=1)\n",
    "#Replace with name of the standardised table"
   ]
  },
  {
   "cell_type": "code",
   "execution_count": 14,
   "id": "8f6d26ec-8c37-407e-bd76-b1cb8774860f",
   "metadata": {},
   "outputs": [
    {
     "data": {
      "text/plain": [
       "[158476352.1176521,\n",
       " 158591145.31875813,\n",
       " 157512781.41828287,\n",
       " 158874247.27797756,\n",
       " 158666929.29492572,\n",
       " 159545966.54332945,\n",
       " 160696465.67637032,\n",
       " 160907342.2376982,\n",
       " 162610985.77789447,\n",
       " 163989516.7108356,\n",
       " 165502905.6281882]"
      ]
     },
     "execution_count": 14,
     "metadata": {},
     "output_type": "execute_result"
    }
   ],
   "source": [
    "#scale predictor variables\n",
    "pca2 = PCA()\n",
    "\n",
    "X_reduced_train = pca2.fit_transform(scale(X_train))\n",
    "n = len(X_reduced_train)\n",
    "kf_10 = model_selection.KFold( n_splits=10, shuffle=True, random_state=1)\n",
    "\n",
    "#define cross validation method\n",
    "cv = model_selection.RepeatedKFold(n_splits=10, n_repeats=3, random_state=1)\n",
    "regr = LinearRegression()\n",
    "mse = []\n",
    "\n",
    "# Calculate MSE with only the intercept (no principal components in regression)\n",
    "score = -1*model_selection.cross_val_score(regr, np.ones((n,1)), y_train.ravel(), cv=kf_10, scoring='neg_mean_squared_error').mean()    \n",
    "mse.append(score)\n",
    "\n",
    "# Calculate MSE using cross-validation, adding one component at a time\n",
    "for i in np.arange(1, 11):\n",
    "    score = -1*model_selection.cross_val_score(regr,\n",
    "               X_reduced_train[:,:i], y_train, cv=cv, scoring='neg_mean_squared_error').mean()\n",
    "    mse.append(score)\n",
    "\n",
    "mse"
   ]
  },
  {
   "cell_type": "code",
   "execution_count": 21,
   "id": "f293e5c6-26b2-4e59-9e37-d0b566a1cbb6",
   "metadata": {},
   "outputs": [
    {
     "data": {
      "text/plain": [
       "Text(0.5, 1.0, 'Principle Component Analysis')"
      ]
     },
     "execution_count": 21,
     "metadata": {},
     "output_type": "execute_result"
    },
    {
     "data": {
      "image/png": "[encoded data removed]",
      "text/plain": [
       "<Figure size 432x288 with 1 Axes>"
      ]
     },
     "metadata": {
      "needs_background": "light"
     },
     "output_type": "display_data"
    }
   ],
   "source": [
    "# Plot cross-validation results    \n",
    "cum_explained_var = np.cumsum(np.round(pca2.explained_variance_ratio_, decimals=4)*100)\n",
    "\n",
    "plt.plot(cum_explained_var)\n",
    "plt.xlabel('Number of Principal Components')\n",
    "plt.ylabel('Cumulated variance (%)')\n",
    "plt.axhline(y=80, linestyle='--')\n",
    "plt.axvline(x = 27, linestyle='--')\n",
    "plt.title('Principle Component Analysis')"
   ]
  },
  {
   "cell_type": "code",
   "execution_count": 22,
   "id": "05fe0b47-1647-4e71-8697-b1fa6088f994",
   "metadata": {},
   "outputs": [
    {
     "data": {
      "text/plain": [
       "168850783.16378593"
      ]
     },
     "execution_count": 22,
     "metadata": {},
     "output_type": "execute_result"
    }
   ],
   "source": [
    "X_reduced_test = pca2.transform(scale(X_test))[:,:28]\n",
    "\n",
    "# Train regression model on training data \n",
    "regr = LinearRegression()\n",
    "regr.fit(X_reduced_train[:,:28], y_train)\n",
    "\n",
    "# Prediction with test data\n",
    "pred = regr.predict(X_reduced_test)\n",
    "mean_squared_error(y_test, pred)"
   ]
  },
  {
   "cell_type": "code",
   "execution_count": 23,
   "id": "9027e4a7-0b1d-4ff5-b31a-6a5543b4f50a",
   "metadata": {},
   "outputs": [
    {
     "data": {
      "text/plain": [
       "array([ 25.96,  34.57,  41.7 ,  47.14,  50.42,  53.29,  55.77,  58.  ,\n",
       "        59.97,  61.89,  63.53,  65.15,  66.66,  68.06,  69.38,  70.6 ,\n",
       "        71.76,  72.87,  73.86,  74.83,  75.74,  76.62,  77.46,  78.25,\n",
       "        78.99,  79.67,  80.31,  80.92,  81.52,  82.1 ,  82.68,  83.22,\n",
       "        83.74,  84.23,  84.71,  85.17,  85.62,  86.05,  86.46,  86.85,\n",
       "        87.24,  87.61,  87.96,  88.31,  88.64,  88.96,  89.27,  89.56,\n",
       "        89.85,  90.14,  90.42,  90.69,  90.95,  91.2 ,  91.44,  91.67,\n",
       "        91.9 ,  92.12,  92.33,  92.54,  92.75,  92.96,  93.16,  93.35,\n",
       "        93.54,  93.73,  93.91,  94.08,  94.25,  94.41,  94.57,  94.72,\n",
       "        94.87,  95.02,  95.16,  95.3 ,  95.44,  95.57,  95.7 ,  95.82,\n",
       "        95.94,  96.06,  96.18,  96.29,  96.4 ,  96.51,  96.61,  96.71,\n",
       "        96.81,  96.91,  97.01,  97.1 ,  97.19,  97.28,  97.36,  97.44,\n",
       "        97.52,  97.6 ,  97.68,  97.75,  97.82,  97.89,  97.96,  98.03,\n",
       "        98.09,  98.15,  98.21,  98.27,  98.33,  98.39,  98.45,  98.5 ,\n",
       "        98.55,  98.6 ,  98.65,  98.7 ,  98.75,  98.8 ,  98.85,  98.9 ,\n",
       "        98.95,  98.99,  99.03,  99.07,  99.11,  99.15,  99.19,  99.23,\n",
       "        99.27,  99.3 ,  99.33,  99.36,  99.39,  99.42,  99.45,  99.48,\n",
       "        99.51,  99.54,  99.57,  99.6 ,  99.62,  99.64,  99.66,  99.68,\n",
       "        99.7 ,  99.72,  99.74,  99.76,  99.78,  99.8 ,  99.82,  99.84,\n",
       "        99.86,  99.88,  99.89,  99.9 ,  99.91,  99.92,  99.93,  99.94,\n",
       "        99.95,  99.96,  99.97,  99.98,  99.99, 100.  , 100.01, 100.02,\n",
       "       100.03, 100.04, 100.04, 100.04, 100.04, 100.04, 100.04, 100.04,\n",
       "       100.04, 100.04, 100.04, 100.04, 100.04])"
      ]
     },
     "execution_count": 23,
     "metadata": {},
     "output_type": "execute_result"
    }
   ],
   "source": [
    "np.cumsum(np.round(pca2.explained_variance_ratio_, decimals=4)*100)"
   ]
  },
  {
   "cell_type": "markdown",
   "id": "a4ab834b-9c7a-47e9-9f87-b92778158ea7",
   "metadata": {},
   "source": [
    "M=27, >80%"
   ]
  },
  {
   "cell_type": "code",
   "execution_count": 24,
   "id": "c6b6a7fa-9787-4657-a12b-d0a66ec6083c",
   "metadata": {},
   "outputs": [
    {
     "name": "stdout",
     "output_type": "stream",
     "text": [
      "-0.024879816106848862\n"
     ]
    }
   ],
   "source": [
    "# R squared, coefficient of determination\n",
    "# the percentatge of the dependent variable variation that a linear model explains\n",
    "\n",
    "print(regr.score(X_reduced_test,y_test)) # acc"
   ]
  },
  {
   "cell_type": "code",
   "execution_count": null,
   "id": "c47efc15-b929-49e5-bdd2-11c78ae5a729",
   "metadata": {},
   "outputs": [],
   "source": []
  },
  {
   "cell_type": "code",
   "execution_count": 184,
   "id": "6356a4eb-d2a6-4d06-94df-a06d2e5d1feb",
   "metadata": {},
   "outputs": [],
   "source": [
    "#kappa - range:[-1,1], the larger, the better - when the dataset is unbalanced\n",
    "# kappa_value = cohen_kappa_score(y_true, y_pred)\n",
    "# print(\"kappa value is %f\" % kappa_value)"
   ]
  },
  {
   "cell_type": "markdown",
   "id": "db07f80f-46c2-4ccb-be09-5c6c3941815d",
   "metadata": {
    "tags": []
   },
   "source": [
    "# pcr for only alpha1"
   ]
  },
  {
   "cell_type": "markdown",
   "id": "d0f9f35c-c835-4f14-9575-8a699f8e09d2",
   "metadata": {},
   "source": [
    "(tired with old )"
   ]
  },
  {
   "cell_type": "code",
   "execution_count": 15,
   "id": "118d586f-55a0-4714-94bf-2c2fcbce7e60",
   "metadata": {},
   "outputs": [],
   "source": [
    "descriptorsSet=pd.read_csv('alpha1.csv')"
   ]
  },
  {
   "cell_type": "code",
   "execution_count": 16,
   "id": "ac5679a1-3dcc-4753-947a-e4f4c1937bc1",
   "metadata": {},
   "outputs": [],
   "source": [
    "#performing PCA (with unormalized data, scale them during the PCA)\n",
    "X = descriptorsSet.drop([\"id\", \"standard_value\",'canonical_smiles','bioactivity_class'], axis = 1)\n",
    "y = descriptorsSet['standard_value']\n",
    "\n",
    "# Split data into training and test sets\n",
    "X_train, X_test , y_train, y_test = model_selection.train_test_split(X, y, test_size=0.25, random_state=1)\n",
    "#Replace with name of the standardised table"
   ]
  },
  {
   "cell_type": "code",
   "execution_count": 17,
   "id": "a2228ec6-ac2b-4c95-b41a-a87571faf269",
   "metadata": {},
   "outputs": [
    {
     "data": {
      "text/plain": [
       "[149445570.93025467,\n",
       " 149052173.26156074,\n",
       " 149378737.5069442,\n",
       " 148718420.95886895,\n",
       " 151119681.24152473,\n",
       " 147488872.26527134,\n",
       " 134224132.70180798,\n",
       " 127343325.69502304,\n",
       " 127223737.91058363,\n",
       " 112422628.4114602,\n",
       " 114237685.27783506]"
      ]
     },
     "execution_count": 17,
     "metadata": {},
     "output_type": "execute_result"
    }
   ],
   "source": [
    "#scale predictor variables\n",
    "pca4 = PCA()\n",
    "\n",
    "X_reduced_train = pca4.fit_transform(scale(X_train))\n",
    "n = len(X_reduced_train)\n",
    "kf_10 = model_selection.KFold( n_splits=10, shuffle=True, random_state=1)\n",
    "\n",
    "#define cross validation method\n",
    "cv = model_selection.RepeatedKFold(n_splits=10, n_repeats=3, random_state=1)\n",
    "regr = LinearRegression()\n",
    "mse = []\n",
    "\n",
    "# Calculate MSE with only the intercept (no principal components in regression)\n",
    "score = -1*model_selection.cross_val_score(regr, np.ones((n,1)), y_train.ravel(), cv=kf_10, scoring='neg_mean_squared_error').mean()    \n",
    "mse.append(score)\n",
    "\n",
    "# Calculate MSE using cross-validation, adding one component at a time\n",
    "for i in np.arange(1, 11):\n",
    "    score = -1*model_selection.cross_val_score(regr,\n",
    "               X_reduced_train[:,:i], y_train, cv=cv, scoring='neg_mean_squared_error').mean()\n",
    "    mse.append(score)\n",
    "\n",
    "mse"
   ]
  },
  {
   "cell_type": "code",
   "execution_count": 18,
   "id": "62f08aa2-325d-4ef0-ba46-a3278c8cec60",
   "metadata": {},
   "outputs": [
    {
     "data": {
      "text/plain": [
       "Text(0.5, 1.0, 'Principle Component Analysis')"
      ]
     },
     "execution_count": 18,
     "metadata": {},
     "output_type": "execute_result"
    },
    {
     "data": {
      "image/png": "[encoded data removed]",
      "text/plain": [
       "<Figure size 432x288 with 1 Axes>"
      ]
     },
     "metadata": {
      "needs_background": "light"
     },
     "output_type": "display_data"
    }
   ],
   "source": [
    "# Plot cross-validation results    \n",
    "cum_explained_var = np.cumsum(np.round(pca4.explained_variance_ratio_, decimals=4)*100)\n",
    "\n",
    "plt.plot(cum_explained_var)\n",
    "plt.xlabel('Number of Principal Components')\n",
    "plt.ylabel('Cumulated variance (%)')\n",
    "plt.axhline(y=80, linestyle='--')\n",
    "plt.axvline(x = 27, linestyle='--')\n",
    "plt.title('Principle Component Analysis')"
   ]
  },
  {
   "cell_type": "code",
   "execution_count": 19,
   "id": "af0741be-5c49-49be-828a-0748b416bb4f",
   "metadata": {},
   "outputs": [
    {
     "data": {
      "text/plain": [
       "array([25.59, 35.04, 42.57, 47.8 , 50.94, 53.74, 55.97, 58.05, 60.13,\n",
       "       61.92, 63.62, 65.19, 66.62, 68.04, 69.34, 70.58, 71.75, 72.84,\n",
       "       73.88, 74.83, 75.74, 76.61, 77.46, 78.25, 79.02, 79.74, 80.44,\n",
       "       81.11, 81.74, 82.35, 82.91, 83.45, 83.97, 84.49, 84.99, 85.47,\n",
       "       85.93, 86.39, 86.82, 87.23, 87.63, 88.01, 88.38, 88.73, 89.07,\n",
       "       89.38, 89.69, 89.99, 90.28, 90.56, 90.84, 91.11, 91.36, 91.61,\n",
       "       91.85, 92.08, 92.31, 92.53, 92.74, 92.94, 93.14, 93.34, 93.53,\n",
       "       93.72, 93.9 , 94.07, 94.24, 94.4 , 94.56, 94.72, 94.87, 95.02,\n",
       "       95.16, 95.3 , 95.44, 95.58, 95.71, 95.84, 95.96, 96.08, 96.2 ,\n",
       "       96.31, 96.42, 96.52, 96.62, 96.72, 96.82, 96.92, 97.01, 97.1 ,\n",
       "       97.19, 97.28, 97.36, 97.44, 97.52, 97.6 , 97.68, 97.75, 97.82,\n",
       "       97.89, 97.96, 98.03, 98.1 , 98.17, 98.23, 98.29, 98.35, 98.41,\n",
       "       98.47, 98.53, 98.58, 98.63, 98.68, 98.73, 98.78, 98.83, 98.88,\n",
       "       98.92, 98.96, 99.  , 99.04, 99.08, 99.12, 99.16, 99.2 , 99.24,\n",
       "       99.28, 99.31, 99.34, 99.37, 99.4 , 99.43, 99.46, 99.49, 99.52,\n",
       "       99.55, 99.58, 99.6 , 99.62, 99.64, 99.66, 99.68, 99.7 , 99.72,\n",
       "       99.74, 99.76, 99.78, 99.8 , 99.82, 99.84, 99.85, 99.86, 99.87,\n",
       "       99.88, 99.89, 99.9 , 99.91, 99.92, 99.93, 99.94, 99.95, 99.95,\n",
       "       99.95, 99.95, 99.95, 99.95, 99.95, 99.95, 99.95])"
      ]
     },
     "execution_count": 19,
     "metadata": {},
     "output_type": "execute_result"
    }
   ],
   "source": [
    "np.cumsum(np.round(pca4.explained_variance_ratio_, decimals=4)*100)"
   ]
  },
  {
   "cell_type": "code",
   "execution_count": 20,
   "id": "0a085e52-aafb-4953-afad-544baf202062",
   "metadata": {},
   "outputs": [
    {
     "data": {
      "text/plain": [
       "152923441.18624598"
      ]
     },
     "execution_count": 20,
     "metadata": {},
     "output_type": "execute_result"
    }
   ],
   "source": [
    "X_reduced_test = pca4.transform(scale(X_test))[:,:28]\n",
    "\n",
    "# Train regression model on training data \n",
    "regr = LinearRegression()\n",
    "regr.fit(X_reduced_train[:,:28], y_train)\n",
    "\n",
    "# Prediction with test data\n",
    "pred = regr.predict(X_reduced_test)\n",
    "mean_squared_error(y_test, pred)"
   ]
  },
  {
   "cell_type": "code",
   "execution_count": 21,
   "id": "e72ecb8d-c522-42b7-a97e-99a1a7d38298",
   "metadata": {},
   "outputs": [
    {
     "name": "stdout",
     "output_type": "stream",
     "text": [
      "0.13357480127057886\n"
     ]
    }
   ],
   "source": [
    "# R squared, coefficient of determination\n",
    "# the percentatge of the dependent variable variation that a linear model explains\n",
    "\n",
    "print(regr.score(X_reduced_test,y_test)) # acc"
   ]
  },
  {
   "cell_type": "code",
   "execution_count": null,
   "id": "016a0cf1-f49e-48bc-a495-176e28ab3461",
   "metadata": {},
   "outputs": [],
   "source": []
  },
  {
   "cell_type": "code",
   "execution_count": null,
   "id": "e9b86582-7d17-4cdd-baca-34d3ab08a1b9",
   "metadata": {},
   "outputs": [],
   "source": []
  },
  {
   "cell_type": "code",
   "execution_count": null,
   "id": "9ea1be37-d23a-40f3-a168-4ac782b4fe01",
   "metadata": {},
   "outputs": [],
   "source": []
  },
  {
   "cell_type": "code",
   "execution_count": null,
   "id": "094bbcd3-23d2-438c-beb9-838c67c2892b",
   "metadata": {},
   "outputs": [],
   "source": []
  },
  {
   "cell_type": "code",
   "execution_count": null,
   "id": "218fdfed-7342-48eb-a740-2e138f784e9c",
   "metadata": {},
   "outputs": [],
   "source": []
  },
  {
   "cell_type": "code",
   "execution_count": null,
   "id": "6204e01d-4d48-4a6f-84c6-621575aa57f4",
   "metadata": {},
   "outputs": [],
   "source": []
  },
  {
   "cell_type": "code",
   "execution_count": null,
   "id": "45a618d8-49b3-43c5-9f79-f6e11b025cf2",
   "metadata": {},
   "outputs": [],
   "source": []
  }
 ],
 "metadata": {
  "kernelspec": {
   "display_name": "Python 3 (ipykernel)",
   "language": "python",
   "name": "python3"
  },
  "language_info": {
   "codemirror_mode": {
    "name": "ipython",
    "version": 3
   },
   "file_extension": ".py",
   "mimetype": "text/x-python",
   "name": "python",
   "nbconvert_exporter": "python",
   "pygments_lexer": "ipython3",
   "version": "3.7.11"
  }
 },
 "nbformat": 4,
 "nbformat_minor": 5
}
